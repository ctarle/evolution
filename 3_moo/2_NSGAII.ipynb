{
 "cells": [
  {
   "cell_type": "markdown",
   "metadata": {
    "slideshow": {
     "slide_type": "slide"
    }
   },
   "source": [
    "<img src=\"../imgs/logo.png\" width=\"20%\" align=\"right\" style=\"margin:0px 20px\">\n",
    "\n",
    "\n",
    "# Evolutionary Computation\n",
    "\n",
    "## 3.2 NSGA-II\n",
    "\n",
    "<a rel=\"license\" href=\"http://creativecommons.org/licenses/by-sa/4.0/\"><img alt=\"Creative Commons License\" align=\"left\" src=\"https://i.creativecommons.org/l/by-sa/4.0/80x15.png\" /></a>&nbsp;| Dennis G. Wilson | <a href=\"https://d9w.github.io/evolution/\">https://d9w.github.io/evolution/</a>"
   ]
  },
  {
   "cell_type": "markdown",
   "metadata": {
    "slideshow": {
     "slide_type": "slide"
    }
   },
   "source": [
    "## Outline\n",
    "\n",
    "1. [The Knapsack Problem](#knapsack)\n",
    "2. [Evolution](#evolution)\n",
    "3. [Visualization](#visualization)"
   ]
  },
  {
   "cell_type": "code",
   "execution_count": 1,
   "metadata": {
    "slideshow": {
     "slide_type": "slide"
    }
   },
   "outputs": [],
   "source": [
    "using NSGAII\n",
    "using JuMP, Cbc\n",
    "using Plots\n",
    "default(show=:ijulia)"
   ]
  },
  {
   "cell_type": "markdown",
   "metadata": {
    "slideshow": {
     "slide_type": "fragment"
    }
   },
   "source": [
    "To experiment with NSGAII we'll be using a rather new implementation of it from Github: https://github.com/gsoleilhac/NSGAII.jl/.\n",
    "\n",
    "This implementation isn't so complicated and if we look at the code, we can see that much of it resembles our [notebook code](https://github.com/d9w/evolution/blob/master/2_ga/1_GAs.ipynb) on Genetic Algorithms. Let's look at the [functions](https://github.com/gsoleilhac/NSGAII.jl/blob/master/src/functions.jl) code which contains the main Genetic Algorithm loop, as well as the [NSGA-II](http://repository.ias.ac.in/83498/1/2-a.pdf) Fast Non-Dominated Sort and Crowding Distance Algorithm."
   ]
  },
  {
   "cell_type": "markdown",
   "metadata": {
    "slideshow": {
     "slide_type": "slide"
    }
   },
   "source": [
    "## <a id=\"knapsack\"></a>The Knapsack Problem"
   ]
  },
  {
   "cell_type": "markdown",
   "metadata": {
    "slideshow": {
     "slide_type": "fragment"
    }
   },
   "source": [
    "<img src=\"https://imgs.xkcd.com/comics/np_complete.png\">\n",
    "<div style=\"text-align:center\"><a href=\"https://xkcd.com/287/\">XKCD on the Knapsack Problem</a></div>\n"
   ]
  },
  {
   "cell_type": "markdown",
   "metadata": {
    "slideshow": {
     "slide_type": "slide"
    }
   },
   "source": [
    "Imagine we're travelling and our bag has a maximum weight limit. We want to fill this bag with items of different value and maximize the total value in our bag, as long as it stays in the weight limit. This is known as the \"knapsack problem\".\n",
    "<img src=\"../imgs/knapsack.png\" width=\"30%\" height=\"auto\">\n",
    "Instead of a bag with items, you could imagine a scenario like the comic. You want to order different appetizers, but you only want to spend a fixed maximum amount. How can you get the best appetizers?"
   ]
  },
  {
   "cell_type": "markdown",
   "metadata": {
    "slideshow": {
     "slide_type": "slide"
    }
   },
   "source": [
    "Let's look at an example, specifically using the version of the Knapsack problem known as the \"0-1 knapsack problem\" where we can have at most 1 copy of each item. We'll use 5 items and randomly geneate values for them."
   ]
  },
  {
   "cell_type": "code",
   "execution_count": 2,
   "metadata": {
    "slideshow": {
     "slide_type": "fragment"
    }
   },
   "outputs": [
    {
     "name": "stdout",
     "output_type": "stream",
     "text": [
      "[71, 66, 80, 77, 69] total value: 363\n"
     ]
    }
   ],
   "source": [
    "n = 5\n",
    "values = rand(0:100, n)\n",
    "println(values, \" total value: \", sum(values))"
   ]
  },
  {
   "cell_type": "code",
   "execution_count": 3,
   "metadata": {
    "slideshow": {
     "slide_type": "fragment"
    }
   },
   "outputs": [
    {
     "name": "stdout",
     "output_type": "stream",
     "text": [
      "[14, 19, 13, 17, 14] total weight: 77\n"
     ]
    }
   ],
   "source": [
    "weights = rand(10:20, n)\n",
    "max_weight = 55\n",
    "println(weights, \" total weight: \", sum(weights))"
   ]
  },
  {
   "cell_type": "markdown",
   "metadata": {
    "slideshow": {
     "slide_type": "fragment"
    }
   },
   "source": [
    "We won't be able to take all items because of the maximum weight of 55. We'll express our choice of items using a binary string, 1 if we take the item and 0 otherwise."
   ]
  },
  {
   "cell_type": "code",
   "execution_count": 4,
   "metadata": {
    "slideshow": {
     "slide_type": "fragment"
    }
   },
   "outputs": [
    {
     "name": "stdout",
     "output_type": "stream",
     "text": [
      "Bool[false, true, false, true, true]\n"
     ]
    }
   ],
   "source": [
    "using Random: bitrand\n",
    "choices = bitrand(n)\n",
    "println(choices)"
   ]
  },
  {
   "cell_type": "markdown",
   "metadata": {
    "slideshow": {
     "slide_type": "slide"
    }
   },
   "source": [
    "The total value of our knapsack is therefore the sum of the element-wise multiplication of our choices and the individual item values."
   ]
  },
  {
   "cell_type": "code",
   "execution_count": 5,
   "metadata": {
    "slideshow": {
     "slide_type": "fragment"
    }
   },
   "outputs": [
    {
     "data": {
      "text/plain": [
       "212"
      ]
     },
     "execution_count": 5,
     "metadata": {},
     "output_type": "execute_result"
    }
   ],
   "source": [
    "sum(choices .* values)"
   ]
  },
  {
   "cell_type": "markdown",
   "metadata": {
    "slideshow": {
     "slide_type": "fragment"
    }
   },
   "source": [
    "In other words, the dot product of the two vectors."
   ]
  },
  {
   "cell_type": "code",
   "execution_count": 6,
   "metadata": {
    "slideshow": {
     "slide_type": "fragment"
    }
   },
   "outputs": [
    {
     "data": {
      "text/plain": [
       "212"
      ]
     },
     "execution_count": 6,
     "metadata": {},
     "output_type": "execute_result"
    }
   ],
   "source": [
    "using LinearAlgebra: dot\n",
    "dot(choices, values)"
   ]
  },
  {
   "cell_type": "markdown",
   "metadata": {
    "slideshow": {
     "slide_type": "fragment"
    }
   },
   "source": [
    "We can also use the dot product to check if our choices fall under the weight limit"
   ]
  },
  {
   "cell_type": "code",
   "execution_count": 7,
   "metadata": {
    "slideshow": {
     "slide_type": "fragment"
    }
   },
   "outputs": [
    {
     "data": {
      "text/plain": [
       "(50, 55)"
      ]
     },
     "execution_count": 7,
     "metadata": {},
     "output_type": "execute_result"
    }
   ],
   "source": [
    "dot(choices, weights), max_weight"
   ]
  },
  {
   "cell_type": "markdown",
   "metadata": {
    "slideshow": {
     "slide_type": "slide"
    }
   },
   "source": [
    "Let's say you and a friend are travelling together and to make it cheaper, you're sharing a bag. You and your friend assign different values to each item based on what you want to bring on the trip. Your preferences are in `values` and your friends preferences are:"
   ]
  },
  {
   "cell_type": "code",
   "execution_count": 8,
   "metadata": {
    "slideshow": {
     "slide_type": "fragment"
    }
   },
   "outputs": [
    {
     "name": "stdout",
     "output_type": "stream",
     "text": [
      "You:\t[71, 66, 80, 77, 69] total value: 363\n",
      "Friend:\t[29, 36, 57, 58, 14] total value: 194\n"
     ]
    }
   ],
   "source": [
    "values2 = rand(0:100, n)\n",
    "println(\"You:\\t\", values, \" total value: \", sum(values))\n",
    "println(\"Friend:\\t\", values2, \" total value: \", sum(values2))"
   ]
  },
  {
   "cell_type": "markdown",
   "metadata": {
    "slideshow": {
     "slide_type": "fragment"
    }
   },
   "source": [
    "Let's see who is happier with the choices we made"
   ]
  },
  {
   "cell_type": "code",
   "execution_count": 9,
   "metadata": {
    "slideshow": {
     "slide_type": "fragment"
    }
   },
   "outputs": [
    {
     "name": "stdout",
     "output_type": "stream",
     "text": [
      "Bool[false, false, true, false, true]\n",
      "weight: 27\n",
      "You: 149 Friend: 71\n"
     ]
    }
   ],
   "source": [
    "choices = bitrand(n)\n",
    "println(choices)\n",
    "println(\"weight: \", dot(choices, weights))\n",
    "println(\"You: \", dot(choices, values), \" Friend: \", dot(choices, values2))"
   ]
  },
  {
   "cell_type": "markdown",
   "metadata": {
    "slideshow": {
     "slide_type": "fragment"
    }
   },
   "source": [
    "This is the multi-objective version of the Knapsack problem where we use $K$ different value vectors for $K$ objectives."
   ]
  },
  {
   "cell_type": "markdown",
   "metadata": {
    "slideshow": {
     "slide_type": "slide"
    }
   },
   "source": [
    "[The Knapsack problem](https://en.wikipedia.org/wiki/Knapsack_problem) has been thoroughly studied in theoretical computer science and evolutionary computation is not the only choice for solving it; dynamic programming and mixed integer programming are what [JuMP](https://github.com/JuliaOpt/JuMP.jl), an optimization library, uses."
   ]
  },
  {
   "cell_type": "code",
   "execution_count": 10,
   "metadata": {
    "slideshow": {
     "slide_type": "fragment"
    }
   },
   "outputs": [
    {
     "name": "stderr",
     "output_type": "stream",
     "text": [
      "┌ Info: Recompiling stale cache file C:\\Users\\33675\\.julia\\compiled\\v1.0\\GLPK\\r6CoY.ji for GLPK [60bf3e95-4087-53dc-ae20-288a0d20c6a6]\n",
      "└ @ Base loading.jl:1190\n"
     ]
    }
   ],
   "source": [
    "# Note that this uses JuMP 0.18.6 format, different in JuMP 0.19\n",
    "\"\"\"m = Model(solver=CbcSolver())\n",
    "@variable(m, x[1:n], Bin)\n",
    "# Objective: maximize profit\n",
    "@objective(m, Max, dot(values, x))\n",
    "@objective(m, Max, dot(values2, x))\n",
    "# Constraint: can carry all\n",
    "@constraint(m, dot(weights, x) <= max_weight)\n",
    "# Solve problem using MIP solver\n",
    "status = solve(m);\"\"\"\n",
    "\n",
    "using JuMP, GLPK\n",
    "m = Model(GLPK.Optimizer)\n",
    "@variable(m, x[1:n], Bin)\n",
    "# Objective: maximize profit\n",
    "@objective(m, Max, dot(values, x))\n",
    "@objective(m, Max, dot(values2, x))\n",
    "# Constraint: can carry all\n",
    "@constraint(m, dot(weights, x) <= max_weight)\n",
    "# Solve problem using MIP solver\n",
    "JuMP.optimize!(m);"
   ]
  },
  {
   "cell_type": "code",
   "execution_count": 11,
   "metadata": {
    "slideshow": {
     "slide_type": "fragment"
    }
   },
   "outputs": [
    {
     "name": "stdout",
     "output_type": "stream",
     "text": [
      "Objective is: 151.0\n",
      "Solution is:\n",
      "x[1] = 0.0, p[1]/w[1] = 5.071428571428571\n",
      "x[2] = 1.0, p[2]/w[2] = 3.473684210526316\n",
      "x[3] = 1.0, p[3]/w[3] = 6.153846153846154\n",
      "x[4] = 1.0, p[4]/w[4] = 4.529411764705882\n",
      "x[5] = 0.0, p[5]/w[5] = 4.928571428571429\n"
     ]
    }
   ],
   "source": [
    "\"\"\"println(\"Objective is: \", getobjectivevalue(m))\n",
    "println(\"Solution is:\")\n",
    "for i = 1:5\n",
    "    print(\"x[i] = \", getvalue(x[i]))\n",
    "    print(\", p[i]/w[i] = \", values[i]/weights[i])\n",
    "    println(\", p[i]/w[i] = \", values2[i]/weights[i])\n",
    "end\"\"\"\n",
    "\n",
    "#ajouter des dollars aux i des membres de gauche des print\n",
    "\n",
    "println(\"Objective is: \", JuMP.objective_value(m))\n",
    "println(\"Solution is:\")\n",
    "\n",
    "for i in 1:n\n",
    "    \n",
    "    print(\"x[$i] = \", JuMP.value(x[i]))\n",
    "    println(\", p[$i]/w[$i] = \", values[i] / weights[i])\n",
    "end"
   ]
  },
  {
   "cell_type": "markdown",
   "metadata": {
    "slideshow": {
     "slide_type": "slide"
    }
   },
   "source": [
    "## <a id=\"evolution\"></a>Evolution"
   ]
  },
  {
   "cell_type": "markdown",
   "metadata": {
    "slideshow": {
     "slide_type": "fragment"
    }
   },
   "source": [
    "To apply NSGA-II to this problem, let's scale up the number of items to 100. "
   ]
  },
  {
   "cell_type": "code",
   "execution_count": 100,
   "metadata": {
    "slideshow": {
     "slide_type": "fragment"
    }
   },
   "outputs": [
    {
     "data": {
      "text/plain": [
       "100×3 Array{Float64,2}:\n",
       " 0.526765    0.514615   0.81291 \n",
       " 0.0489545   0.0312025  0.177336\n",
       " 0.840985    0.401924   0.52988 \n",
       " 0.636115    0.738371   0.982329\n",
       " 0.597577    0.84254    0.636414\n",
       " 0.00890535  0.212278   0.497981\n",
       " 0.774483    0.330819   0.405184\n",
       " 0.799505    0.472261   0.786579\n",
       " 0.47955     0.332414   0.62983 \n",
       " 0.0615204   0.63727    0.45336 \n",
       " 0.426569    0.972      0.386326\n",
       " 0.246524    0.667923   0.297803\n",
       " 0.582452    0.548796   0.723578\n",
       " ⋮                              \n",
       " 0.504128    0.549684   0.465815\n",
       " 0.146883    0.535067   0.543559\n",
       " 0.841107    0.813428   0.552988\n",
       " 0.449713    0.656796   0.48252 \n",
       " 0.30247     0.285475   0.647653\n",
       " 0.0534943   0.767754   0.945478\n",
       " 0.932896    0.0293013  0.771064\n",
       " 0.330473    0.800299   0.682531\n",
       " 0.276166    0.0117706  0.848786\n",
       " 0.681563    0.261886   0.505501\n",
       " 0.501847    0.175339   0.95625 \n",
       " 0.550439    0.622013   0.49833 "
      ]
     },
     "execution_count": 100,
     "metadata": {},
     "output_type": "execute_result"
    }
   ],
   "source": [
    "n = 100\n",
    "n_objectives = 3\n",
    "values = rand(n, n_objectives)"
   ]
  },
  {
   "cell_type": "markdown",
   "metadata": {
    "slideshow": {
     "slide_type": "slide"
    }
   },
   "source": [
    "Let's normalize our fitness values by their sum, so that the total maximum value is 1.0 which will help with plotting later."
   ]
  },
  {
   "cell_type": "code",
   "execution_count": 101,
   "metadata": {
    "slideshow": {
     "slide_type": "fragment"
    }
   },
   "outputs": [
    {
     "data": {
      "text/plain": [
       "1×3 Array{Float64,2}:\n",
       " 1.0  1.0  1.0"
      ]
     },
     "execution_count": 101,
     "metadata": {},
     "output_type": "execute_result"
    }
   ],
   "source": [
    "values = values ./ sum(values, dims=1);\n",
    "sum(values, dims=1)"
   ]
  },
  {
   "cell_type": "markdown",
   "metadata": {
    "slideshow": {
     "slide_type": "slide"
    }
   },
   "source": [
    "Similarly, let's normalize the weights to sum to 1 and set a maximum weight of 0.5, meaning we can keep only half the items on average. This will let us change the number of items more easily later on but doesn't impact the problem in any way."
   ]
  },
  {
   "cell_type": "code",
   "execution_count": 102,
   "metadata": {
    "slideshow": {
     "slide_type": "fragment"
    }
   },
   "outputs": [
    {
     "data": {
      "text/plain": [
       "0.5"
      ]
     },
     "execution_count": 102,
     "metadata": {},
     "output_type": "execute_result"
    }
   ],
   "source": [
    "weights = rand(n)\n",
    "weights = weights ./ sum(weights)\n",
    "max_weight = 0.5"
   ]
  },
  {
   "cell_type": "markdown",
   "metadata": {
    "slideshow": {
     "slide_type": "slide"
    }
   },
   "source": [
    "Let's write our objective function which will compute the value of our knapsack using each different column of profit values."
   ]
  },
  {
   "cell_type": "code",
   "execution_count": 103,
   "metadata": {
    "slideshow": {
     "slide_type": "fragment"
    }
   },
   "outputs": [
    {
     "data": {
      "text/plain": [
       "objective (generic function with 1 method)"
      ]
     },
     "execution_count": 103,
     "metadata": {},
     "output_type": "execute_result"
    }
   ],
   "source": [
    "function objective(genes::AbstractArray)\n",
    "    fits = zeros(n_objectives)\n",
    "    for i in 1:n_objectives\n",
    "        fits[i] = dot(genes, values[:, i])\n",
    "    end\n",
    "    tuple(fits...)\n",
    "end"
   ]
  },
  {
   "cell_type": "markdown",
   "metadata": {
    "slideshow": {
     "slide_type": "slide"
    }
   },
   "source": [
    "We'll add in our weight constraint separately. This is used in the evaluation of individuals and is considered a part of our objective function, but is handled separately. Our lecture on evolution with constraints will go into more detail on that. For this NSGA-II implementation, we return 0 if the condition passes and the distance from meeting the condition otherwise."
   ]
  },
  {
   "cell_type": "code",
   "execution_count": 104,
   "metadata": {
    "slideshow": {
     "slide_type": "fragment"
    }
   },
   "outputs": [
    {
     "data": {
      "text/plain": [
       "constraint (generic function with 1 method)"
      ]
     },
     "execution_count": 104,
     "metadata": {},
     "output_type": "execute_result"
    }
   ],
   "source": [
    "function constraint(genes::AbstractArray)\n",
    "    sum_weights = dot(genes, weights)\n",
    "    return sum_weights <= max_weight ? 0 : sum_weights - max_weight\n",
    "end"
   ]
  },
  {
   "cell_type": "markdown",
   "metadata": {
    "slideshow": {
     "slide_type": "slide"
    }
   },
   "source": [
    "That's all, so now we're ready to run NSGA-II. Let's run it for 100 generations on a population of 100. The function returns the set of non-dominated individuals at the end"
   ]
  },
  {
   "cell_type": "code",
   "execution_count": 105,
   "metadata": {
    "slideshow": {
     "slide_type": "fragment"
    }
   },
   "outputs": [
    {
     "data": {
      "text/plain": [
       "indiv([101110111101110...111011111110111] : (0.7495980816969784, 0.6597754336310325, 0.7063722308268138) | rank : 1)"
      ]
     },
     "execution_count": 105,
     "metadata": {},
     "output_type": "execute_result"
    }
   ],
   "source": [
    "popsize = 100\n",
    "nbgen = 100\n",
    "init() = bitrand(n)\n",
    "non_dominated =  nsga_max(popsize, nbgen, objective, init, fCV=constraint)\n",
    "non_dominated[1]"
   ]
  },
  {
   "cell_type": "markdown",
   "metadata": {
    "slideshow": {
     "slide_type": "slide"
    }
   },
   "source": [
    "Let's see what type of total profit values we have from our two objectives."
   ]
  },
  {
   "cell_type": "code",
   "execution_count": 106,
   "metadata": {
    "slideshow": {
     "slide_type": "fragment"
    }
   },
   "outputs": [
    {
     "data": {
      "text/plain": [
       "40-element Array{Array{Float64,1},1}:\n",
       " [0.749598, 0.659775, 0.706372]\n",
       " [0.691625, 0.694056, 0.751366]\n",
       " [0.743288, 0.675037, 0.677552]\n",
       " [0.705008, 0.724894, 0.716773]\n",
       " [0.694604, 0.711447, 0.747022]\n",
       " [0.704423, 0.72069, 0.73618]  \n",
       " [0.736199, 0.685498, 0.710745]\n",
       " [0.748314, 0.660708, 0.689801]\n",
       " [0.728122, 0.710679, 0.685978]\n",
       " [0.748071, 0.668551, 0.706352]\n",
       " [0.728598, 0.704247, 0.711694]\n",
       " [0.719082, 0.692214, 0.736921]\n",
       " [0.737707, 0.697694, 0.694687]\n",
       " ⋮                             \n",
       " [0.70773, 0.722412, 0.718468] \n",
       " [0.731632, 0.701837, 0.717501]\n",
       " [0.739421, 0.683575, 0.701146]\n",
       " [0.728134, 0.70739, 0.705272] \n",
       " [0.730221, 0.705345, 0.702431]\n",
       " [0.724033, 0.718659, 0.72294] \n",
       " [0.709604, 0.698451, 0.750424]\n",
       " [0.725221, 0.705972, 0.733108]\n",
       " [0.73806, 0.684851, 0.70253]  \n",
       " [0.706408, 0.704783, 0.734239]\n",
       " [0.725909, 0.70822, 0.725756] \n",
       " [0.73316, 0.693061, 0.717521] "
      ]
     },
     "execution_count": 106,
     "metadata": {},
     "output_type": "execute_result"
    }
   ],
   "source": [
    "unique([collect(i.y) for i in non_dominated])"
   ]
  },
  {
   "cell_type": "markdown",
   "metadata": {
    "slideshow": {
     "slide_type": "slide"
    }
   },
   "source": [
    "Finally, we can compare this value to a value obtained by JuMP"
   ]
  },
  {
   "cell_type": "code",
   "execution_count": 107,
   "metadata": {
    "slideshow": {
     "slide_type": "fragment"
    }
   },
   "outputs": [
    {
     "name": "stdout",
     "output_type": "stream",
     "text": [
      "JuMP: [0.646485, 0.583485, 0.801616]\n"
     ]
    }
   ],
   "source": [
    "m = Model(GLPK.Optimizer)\n",
    "@variable(m, x[1:n], Bin)\n",
    "# Objective: maximize profit\n",
    "for i in 1:n_objectives\n",
    "    @objective(m, Max, dot(values[:,i], x))\n",
    "end   \n",
    "# Constraint: can carry all\n",
    "@constraint(m, dot(weights, x) <= max_weight)\n",
    "# Solve problem using MIP solver\n",
    "JuMP.optimize!(m);\n",
    "best_solution = [JuMP.value(x[i]) for i in 1:n]\n",
    "println(\"JuMP: \", [dot(values[:, i], best_solution) for i in 1:n_objectives])"
   ]
  },
  {
   "cell_type": "markdown",
   "metadata": {
    "slideshow": {
     "slide_type": "slide"
    }
   },
   "source": [
    "<div class=\"alert alert-success\">\n",
    "    <b>Exercise 2</b>\n",
    "    <br/>\n",
    "    Increase the problem difficulty by increasing the number of items and reducing the weight limit. How does NSGA-II do?\n",
    "    <br/>\n",
    "</div>"
   ]
  },
  {
   "cell_type": "markdown",
   "metadata": {},
   "source": [
    "JuMP seems to work better when reducing the weight limit and increasing the number of items compared to NSGA-II. However, when increasing the number of objectives, NSGA-II in its design outperforms JuMP. Example here is given for $n_{objectives}=15$ and $max_{weight}=0.2$."
   ]
  },
  {
   "cell_type": "markdown",
   "metadata": {
    "slideshow": {
     "slide_type": "slide"
    }
   },
   "source": [
    "## <a id=\"visualization\"></a>Visualization"
   ]
  },
  {
   "cell_type": "markdown",
   "metadata": {
    "slideshow": {
     "slide_type": "fragment"
    }
   },
   "source": [
    "To better understand NSGA-II's evolution, let's observe the population over time."
   ]
  },
  {
   "cell_type": "code",
   "execution_count": 108,
   "metadata": {
    "slideshow": {
     "slide_type": "slide"
    }
   },
   "outputs": [
    {
     "data": {
      "image/svg+xml": [
       "<?xml version=\"1.0\" encoding=\"utf-8\"?>\n",
       "<svg xmlns=\"http://www.w3.org/2000/svg\" xmlns:xlink=\"http://www.w3.org/1999/xlink\" width=\"600\" height=\"400\" viewBox=\"0 0 2400 1600\">\n",
       "<defs>\n",
       "  <clipPath id=\"clip6500\">\n",
       "    <rect x=\"0\" y=\"0\" width=\"2400\" height=\"1600\"/>\n",
       "  </clipPath>\n",
       "</defs>\n",
       "<path clip-path=\"url(#clip6500)\" d=\"\n",
       "M0 1600 L2400 1600 L2400 0 L0 0  Z\n",
       "  \" fill=\"#ffffff\" fill-rule=\"evenodd\" fill-opacity=\"1\"/>\n",
       "<defs>\n",
       "  <clipPath id=\"clip6501\">\n",
       "    <rect x=\"480\" y=\"0\" width=\"1681\" height=\"1600\"/>\n",
       "  </clipPath>\n",
       "</defs>\n",
       "<defs>\n",
       "  <clipPath id=\"clip6502\">\n",
       "    <rect x=\"148\" y=\"47\" width=\"2205\" height=\"1440\"/>\n",
       "  </clipPath>\n",
       "</defs>\n",
       "<path clip-path=\"url(#clip6502)\" d=\"\n",
       "M148.334 1401.43 L148.334 302.298 L955.209 47.2441 L2352.76 132.262 L2352.76 1231.39 L1545.88 1486.45 L148.334 1401.43  Z\n",
       "  \" fill=\"#ffffff\" fill-rule=\"evenodd\" fill-opacity=\"1\"/>\n",
       "<polyline clip-path=\"url(#clip6502)\" style=\"stroke:#000000; stroke-width:2; stroke-opacity:0.1; fill:none\" points=\"\n",
       "  148.334,1401.43 955.209,1146.38 \n",
       "  \"/>\n",
       "<polyline clip-path=\"url(#clip6502)\" style=\"stroke:#000000; stroke-width:2; stroke-opacity:0.1; fill:none\" points=\"\n",
       "  955.209,1146.38 955.209,47.2441 \n",
       "  \"/>\n",
       "<polyline clip-path=\"url(#clip6502)\" style=\"stroke:#000000; stroke-width:2; stroke-opacity:0.1; fill:none\" points=\"\n",
       "  427.844,1418.43 1234.72,1163.38 \n",
       "  \"/>\n",
       "<polyline clip-path=\"url(#clip6502)\" style=\"stroke:#000000; stroke-width:2; stroke-opacity:0.1; fill:none\" points=\"\n",
       "  1234.72,1163.38 1234.72,64.2477 \n",
       "  \"/>\n",
       "<polyline clip-path=\"url(#clip6502)\" style=\"stroke:#000000; stroke-width:2; stroke-opacity:0.1; fill:none\" points=\"\n",
       "  707.353,1435.44 1514.23,1180.38 \n",
       "  \"/>\n",
       "<polyline clip-path=\"url(#clip6502)\" style=\"stroke:#000000; stroke-width:2; stroke-opacity:0.1; fill:none\" points=\"\n",
       "  1514.23,1180.38 1514.23,81.2513 \n",
       "  \"/>\n",
       "<polyline clip-path=\"url(#clip6502)\" style=\"stroke:#000000; stroke-width:2; stroke-opacity:0.1; fill:none\" points=\"\n",
       "  986.863,1452.44 1793.74,1197.39 \n",
       "  \"/>\n",
       "<polyline clip-path=\"url(#clip6502)\" style=\"stroke:#000000; stroke-width:2; stroke-opacity:0.1; fill:none\" points=\"\n",
       "  1793.74,1197.39 1793.74,98.255 \n",
       "  \"/>\n",
       "<polyline clip-path=\"url(#clip6502)\" style=\"stroke:#000000; stroke-width:2; stroke-opacity:0.1; fill:none\" points=\"\n",
       "  1266.37,1469.44 2073.25,1214.39 \n",
       "  \"/>\n",
       "<polyline clip-path=\"url(#clip6502)\" style=\"stroke:#000000; stroke-width:2; stroke-opacity:0.1; fill:none\" points=\"\n",
       "  2073.25,1214.39 2073.25,115.259 \n",
       "  \"/>\n",
       "<polyline clip-path=\"url(#clip6502)\" style=\"stroke:#000000; stroke-width:2; stroke-opacity:0.1; fill:none\" points=\"\n",
       "  1545.88,1486.45 2352.76,1231.39 \n",
       "  \"/>\n",
       "<polyline clip-path=\"url(#clip6502)\" style=\"stroke:#000000; stroke-width:2; stroke-opacity:0.1; fill:none\" points=\"\n",
       "  2352.76,1231.39 2352.76,132.262 \n",
       "  \"/>\n",
       "<polyline clip-path=\"url(#clip6502)\" style=\"stroke:#000000; stroke-width:2; stroke-opacity:0.1; fill:none\" points=\"\n",
       "  1545.88,1486.45 148.334,1401.43 \n",
       "  \"/>\n",
       "<polyline clip-path=\"url(#clip6502)\" style=\"stroke:#000000; stroke-width:2; stroke-opacity:0.1; fill:none\" points=\"\n",
       "  148.334,1401.43 148.334,302.298 \n",
       "  \"/>\n",
       "<polyline clip-path=\"url(#clip6502)\" style=\"stroke:#000000; stroke-width:2; stroke-opacity:0.1; fill:none\" points=\"\n",
       "  1707.26,1435.44 309.709,1350.42 \n",
       "  \"/>\n",
       "<polyline clip-path=\"url(#clip6502)\" style=\"stroke:#000000; stroke-width:2; stroke-opacity:0.1; fill:none\" points=\"\n",
       "  309.709,1350.42 309.709,251.288 \n",
       "  \"/>\n",
       "<polyline clip-path=\"url(#clip6502)\" style=\"stroke:#000000; stroke-width:2; stroke-opacity:0.1; fill:none\" points=\"\n",
       "  1868.63,1384.43 471.084,1299.41 \n",
       "  \"/>\n",
       "<polyline clip-path=\"url(#clip6502)\" style=\"stroke:#000000; stroke-width:2; stroke-opacity:0.1; fill:none\" points=\"\n",
       "  471.084,1299.41 471.084,200.277 \n",
       "  \"/>\n",
       "<polyline clip-path=\"url(#clip6502)\" style=\"stroke:#000000; stroke-width:2; stroke-opacity:0.1; fill:none\" points=\"\n",
       "  2030.01,1333.42 632.459,1248.4 \n",
       "  \"/>\n",
       "<polyline clip-path=\"url(#clip6502)\" style=\"stroke:#000000; stroke-width:2; stroke-opacity:0.1; fill:none\" points=\"\n",
       "  632.459,1248.4 632.459,149.266 \n",
       "  \"/>\n",
       "<polyline clip-path=\"url(#clip6502)\" style=\"stroke:#000000; stroke-width:2; stroke-opacity:0.1; fill:none\" points=\"\n",
       "  2191.38,1282.4 793.834,1197.39 \n",
       "  \"/>\n",
       "<polyline clip-path=\"url(#clip6502)\" style=\"stroke:#000000; stroke-width:2; stroke-opacity:0.1; fill:none\" points=\"\n",
       "  793.834,1197.39 793.834,98.255 \n",
       "  \"/>\n",
       "<polyline clip-path=\"url(#clip6502)\" style=\"stroke:#000000; stroke-width:2; stroke-opacity:0.1; fill:none\" points=\"\n",
       "  2352.76,1231.39 955.209,1146.38 \n",
       "  \"/>\n",
       "<polyline clip-path=\"url(#clip6502)\" style=\"stroke:#000000; stroke-width:2; stroke-opacity:0.1; fill:none\" points=\"\n",
       "  955.209,1146.38 955.209,47.2441 \n",
       "  \"/>\n",
       "<polyline clip-path=\"url(#clip6502)\" style=\"stroke:#000000; stroke-width:2; stroke-opacity:0.1; fill:none\" points=\"\n",
       "  148.334,1401.43 955.209,1146.38 \n",
       "  \"/>\n",
       "<polyline clip-path=\"url(#clip6502)\" style=\"stroke:#000000; stroke-width:2; stroke-opacity:0.1; fill:none\" points=\"\n",
       "  955.209,1146.38 2352.76,1231.39 \n",
       "  \"/>\n",
       "<polyline clip-path=\"url(#clip6502)\" style=\"stroke:#000000; stroke-width:2; stroke-opacity:0.1; fill:none\" points=\"\n",
       "  148.334,1181.6 955.209,926.549 \n",
       "  \"/>\n",
       "<polyline clip-path=\"url(#clip6502)\" style=\"stroke:#000000; stroke-width:2; stroke-opacity:0.1; fill:none\" points=\"\n",
       "  955.209,926.549 2352.76,1011.57 \n",
       "  \"/>\n",
       "<polyline clip-path=\"url(#clip6502)\" style=\"stroke:#000000; stroke-width:2; stroke-opacity:0.1; fill:none\" points=\"\n",
       "  148.334,961.777 955.209,706.723 \n",
       "  \"/>\n",
       "<polyline clip-path=\"url(#clip6502)\" style=\"stroke:#000000; stroke-width:2; stroke-opacity:0.1; fill:none\" points=\"\n",
       "  955.209,706.723 2352.76,791.741 \n",
       "  \"/>\n",
       "<polyline clip-path=\"url(#clip6502)\" style=\"stroke:#000000; stroke-width:2; stroke-opacity:0.1; fill:none\" points=\"\n",
       "  148.334,741.951 955.209,486.897 \n",
       "  \"/>\n",
       "<polyline clip-path=\"url(#clip6502)\" style=\"stroke:#000000; stroke-width:2; stroke-opacity:0.1; fill:none\" points=\"\n",
       "  955.209,486.897 2352.76,571.915 \n",
       "  \"/>\n",
       "<polyline clip-path=\"url(#clip6502)\" style=\"stroke:#000000; stroke-width:2; stroke-opacity:0.1; fill:none\" points=\"\n",
       "  148.334,522.125 955.209,267.07 \n",
       "  \"/>\n",
       "<polyline clip-path=\"url(#clip6502)\" style=\"stroke:#000000; stroke-width:2; stroke-opacity:0.1; fill:none\" points=\"\n",
       "  955.209,267.07 2352.76,352.088 \n",
       "  \"/>\n",
       "<polyline clip-path=\"url(#clip6502)\" style=\"stroke:#000000; stroke-width:2; stroke-opacity:0.1; fill:none\" points=\"\n",
       "  148.334,302.298 955.209,47.2441 \n",
       "  \"/>\n",
       "<polyline clip-path=\"url(#clip6502)\" style=\"stroke:#000000; stroke-width:2; stroke-opacity:0.1; fill:none\" points=\"\n",
       "  955.209,47.2441 2352.76,132.262 \n",
       "  \"/>\n",
       "<polyline clip-path=\"url(#clip6500)\" style=\"stroke:#000000; stroke-width:4; stroke-opacity:1; fill:none\" points=\"\n",
       "  148.334,1401.43 1545.88,1486.45 \n",
       "  \"/>\n",
       "<polyline clip-path=\"url(#clip6500)\" style=\"stroke:#000000; stroke-width:4; stroke-opacity:1; fill:none\" points=\"\n",
       "  1545.88,1486.45 2352.76,1231.39 \n",
       "  \"/>\n",
       "<polyline clip-path=\"url(#clip6500)\" style=\"stroke:#000000; stroke-width:4; stroke-opacity:1; fill:none\" points=\"\n",
       "  148.334,1401.43 148.334,302.298 \n",
       "  \"/>\n",
       "<polyline clip-path=\"url(#clip6500)\" style=\"stroke:#000000; stroke-width:4; stroke-opacity:1; fill:none\" points=\"\n",
       "  148.334,1401.43 158.017,1398.37 \n",
       "  \"/>\n",
       "<polyline clip-path=\"url(#clip6500)\" style=\"stroke:#000000; stroke-width:4; stroke-opacity:1; fill:none\" points=\"\n",
       "  427.844,1418.43 437.526,1415.37 \n",
       "  \"/>\n",
       "<polyline clip-path=\"url(#clip6500)\" style=\"stroke:#000000; stroke-width:4; stroke-opacity:1; fill:none\" points=\"\n",
       "  707.353,1435.44 717.036,1432.38 \n",
       "  \"/>\n",
       "<polyline clip-path=\"url(#clip6500)\" style=\"stroke:#000000; stroke-width:4; stroke-opacity:1; fill:none\" points=\"\n",
       "  986.863,1452.44 996.545,1449.38 \n",
       "  \"/>\n",
       "<polyline clip-path=\"url(#clip6500)\" style=\"stroke:#000000; stroke-width:4; stroke-opacity:1; fill:none\" points=\"\n",
       "  1266.37,1469.44 1276.05,1466.38 \n",
       "  \"/>\n",
       "<polyline clip-path=\"url(#clip6500)\" style=\"stroke:#000000; stroke-width:4; stroke-opacity:1; fill:none\" points=\"\n",
       "  1545.88,1486.45 1555.56,1483.39 \n",
       "  \"/>\n",
       "<polyline clip-path=\"url(#clip6500)\" style=\"stroke:#000000; stroke-width:4; stroke-opacity:1; fill:none\" points=\"\n",
       "  1545.88,1486.45 1529.11,1485.43 \n",
       "  \"/>\n",
       "<polyline clip-path=\"url(#clip6500)\" style=\"stroke:#000000; stroke-width:4; stroke-opacity:1; fill:none\" points=\"\n",
       "  1707.26,1435.44 1690.49,1434.42 \n",
       "  \"/>\n",
       "<polyline clip-path=\"url(#clip6500)\" style=\"stroke:#000000; stroke-width:4; stroke-opacity:1; fill:none\" points=\"\n",
       "  1868.63,1384.43 1851.86,1383.41 \n",
       "  \"/>\n",
       "<polyline clip-path=\"url(#clip6500)\" style=\"stroke:#000000; stroke-width:4; stroke-opacity:1; fill:none\" points=\"\n",
       "  2030.01,1333.42 2013.24,1332.4 \n",
       "  \"/>\n",
       "<polyline clip-path=\"url(#clip6500)\" style=\"stroke:#000000; stroke-width:4; stroke-opacity:1; fill:none\" points=\"\n",
       "  2191.38,1282.4 2174.61,1281.38 \n",
       "  \"/>\n",
       "<polyline clip-path=\"url(#clip6500)\" style=\"stroke:#000000; stroke-width:4; stroke-opacity:1; fill:none\" points=\"\n",
       "  2352.76,1231.39 2335.99,1230.37 \n",
       "  \"/>\n",
       "<polyline clip-path=\"url(#clip6500)\" style=\"stroke:#000000; stroke-width:4; stroke-opacity:1; fill:none\" points=\"\n",
       "  148.334,1401.43 158.017,1398.37 \n",
       "  \"/>\n",
       "<polyline clip-path=\"url(#clip6500)\" style=\"stroke:#000000; stroke-width:4; stroke-opacity:1; fill:none\" points=\"\n",
       "  148.334,1181.6 158.017,1178.54 \n",
       "  \"/>\n",
       "<polyline clip-path=\"url(#clip6500)\" style=\"stroke:#000000; stroke-width:4; stroke-opacity:1; fill:none\" points=\"\n",
       "  148.334,961.777 158.017,958.717 \n",
       "  \"/>\n",
       "<polyline clip-path=\"url(#clip6500)\" style=\"stroke:#000000; stroke-width:4; stroke-opacity:1; fill:none\" points=\"\n",
       "  148.334,741.951 158.017,738.89 \n",
       "  \"/>\n",
       "<polyline clip-path=\"url(#clip6500)\" style=\"stroke:#000000; stroke-width:4; stroke-opacity:1; fill:none\" points=\"\n",
       "  148.334,522.125 158.017,519.064 \n",
       "  \"/>\n",
       "<polyline clip-path=\"url(#clip6500)\" style=\"stroke:#000000; stroke-width:4; stroke-opacity:1; fill:none\" points=\"\n",
       "  148.334,302.298 158.017,299.238 \n",
       "  \"/>\n",
       "<path clip-path=\"url(#clip6500)\" d=\"M 0 0 M105.851 1423.42 Q102.24 1423.42 100.411 1426.99 Q98.6054 1430.53 98.6054 1437.66 Q98.6054 1444.76 100.411 1448.33 Q102.24 1451.87 105.851 1451.87 Q109.485 1451.87 111.29 1448.33 Q113.119 1444.76 113.119 1437.66 Q113.119 1430.53 111.29 1426.99 Q109.485 1423.42 105.851 1423.42 M105.851 1419.72 Q111.661 1419.72 114.716 1424.32 Q117.795 1428.91 117.795 1437.66 Q117.795 1446.38 114.716 1450.99 Q111.661 1455.57 105.851 1455.57 Q100.041 1455.57 96.9619 1450.99 Q93.9063 1446.38 93.9063 1437.66 Q93.9063 1428.91 96.9619 1424.32 Q100.041 1419.72 105.851 1419.72 Z\" fill=\"#000000\" fill-rule=\"evenodd\" fill-opacity=\"1\" /><path clip-path=\"url(#clip6500)\" d=\"M 0 0 M122.864 1449.02 L127.749 1449.02 L127.749 1454.9 L122.864 1454.9 L122.864 1449.02 Z\" fill=\"#000000\" fill-rule=\"evenodd\" fill-opacity=\"1\" /><path clip-path=\"url(#clip6500)\" d=\"M 0 0 M142.818 1423.42 Q139.207 1423.42 137.378 1426.99 Q135.573 1430.53 135.573 1437.66 Q135.573 1444.76 137.378 1448.33 Q139.207 1451.87 142.818 1451.87 Q146.452 1451.87 148.258 1448.33 Q150.087 1444.76 150.087 1437.66 Q150.087 1430.53 148.258 1426.99 Q146.452 1423.42 142.818 1423.42 M142.818 1419.72 Q148.628 1419.72 151.684 1424.32 Q154.762 1428.91 154.762 1437.66 Q154.762 1446.38 151.684 1450.99 Q148.628 1455.57 142.818 1455.57 Q137.008 1455.57 133.929 1450.99 Q130.874 1446.38 130.874 1437.66 Q130.874 1428.91 133.929 1424.32 Q137.008 1419.72 142.818 1419.72 Z\" fill=\"#000000\" fill-rule=\"evenodd\" fill-opacity=\"1\" /><path clip-path=\"url(#clip6500)\" d=\"M 0 0 M386.159 1440.42 Q382.548 1440.42 380.719 1443.99 Q378.913 1447.53 378.913 1454.66 Q378.913 1461.77 380.719 1465.33 Q382.548 1468.87 386.159 1468.87 Q389.793 1468.87 391.599 1465.33 Q393.427 1461.77 393.427 1454.66 Q393.427 1447.53 391.599 1443.99 Q389.793 1440.42 386.159 1440.42 M386.159 1436.72 Q391.969 1436.72 395.024 1441.33 Q398.103 1445.91 398.103 1454.66 Q398.103 1463.39 395.024 1467.99 Q391.969 1472.58 386.159 1472.58 Q380.349 1472.58 377.27 1467.99 Q374.214 1463.39 374.214 1454.66 Q374.214 1445.91 377.27 1441.33 Q380.349 1436.72 386.159 1436.72 Z\" fill=\"#000000\" fill-rule=\"evenodd\" fill-opacity=\"1\" /><path clip-path=\"url(#clip6500)\" d=\"M 0 0 M403.173 1466.03 L408.057 1466.03 L408.057 1471.91 L403.173 1471.91 L403.173 1466.03 Z\" fill=\"#000000\" fill-rule=\"evenodd\" fill-opacity=\"1\" /><path clip-path=\"url(#clip6500)\" d=\"M 0 0 M417.154 1467.97 L433.473 1467.97 L433.473 1471.91 L411.529 1471.91 L411.529 1467.97 Q414.191 1465.22 418.774 1460.59 Q423.381 1455.93 424.561 1454.59 Q426.807 1452.07 427.686 1450.33 Q428.589 1448.57 428.589 1446.88 Q428.589 1444.13 426.645 1442.39 Q424.723 1440.66 421.622 1440.66 Q419.422 1440.66 416.969 1441.42 Q414.538 1442.18 411.76 1443.73 L411.76 1439.01 Q414.585 1437.88 417.038 1437.3 Q419.492 1436.72 421.529 1436.72 Q426.899 1436.72 430.094 1439.41 Q433.288 1442.09 433.288 1446.58 Q433.288 1448.71 432.478 1450.63 Q431.691 1452.53 429.584 1455.12 Q429.006 1455.79 425.904 1459.01 Q422.802 1462.21 417.154 1467.97 Z\" fill=\"#000000\" fill-rule=\"evenodd\" fill-opacity=\"1\" /><path clip-path=\"url(#clip6500)\" d=\"M 0 0 M664.627 1457.43 Q661.015 1457.43 659.187 1460.99 Q657.381 1464.53 657.381 1471.66 Q657.381 1478.77 659.187 1482.33 Q661.015 1485.88 664.627 1485.88 Q668.261 1485.88 670.066 1482.33 Q671.895 1478.77 671.895 1471.66 Q671.895 1464.53 670.066 1460.99 Q668.261 1457.43 664.627 1457.43 M664.627 1453.72 Q670.437 1453.72 673.492 1458.33 Q676.571 1462.91 676.571 1471.66 Q676.571 1480.39 673.492 1485 Q670.437 1489.58 664.627 1489.58 Q658.816 1489.58 655.738 1485 Q652.682 1480.39 652.682 1471.66 Q652.682 1462.91 655.738 1458.33 Q658.816 1453.72 664.627 1453.72 Z\" fill=\"#000000\" fill-rule=\"evenodd\" fill-opacity=\"1\" /><path clip-path=\"url(#clip6500)\" d=\"M 0 0 M681.64 1483.03 L686.525 1483.03 L686.525 1488.91 L681.64 1488.91 L681.64 1483.03 Z\" fill=\"#000000\" fill-rule=\"evenodd\" fill-opacity=\"1\" /><path clip-path=\"url(#clip6500)\" d=\"M 0 0 M704.441 1458.42 L692.636 1476.87 L704.441 1476.87 L704.441 1458.42 M703.214 1454.35 L709.094 1454.35 L709.094 1476.87 L714.024 1476.87 L714.024 1480.76 L709.094 1480.76 L709.094 1488.91 L704.441 1488.91 L704.441 1480.76 L688.839 1480.76 L688.839 1476.25 L703.214 1454.35 Z\" fill=\"#000000\" fill-rule=\"evenodd\" fill-opacity=\"1\" /><path clip-path=\"url(#clip6500)\" d=\"M 0 0 M944.298 1474.43 Q940.687 1474.43 938.858 1478 Q937.053 1481.54 937.053 1488.67 Q937.053 1495.77 938.858 1499.34 Q940.687 1502.88 944.298 1502.88 Q947.932 1502.88 949.738 1499.34 Q951.566 1495.77 951.566 1488.67 Q951.566 1481.54 949.738 1478 Q947.932 1474.43 944.298 1474.43 M944.298 1470.73 Q950.108 1470.73 953.164 1475.33 Q956.242 1479.92 956.242 1488.67 Q956.242 1497.39 953.164 1502 Q950.108 1506.58 944.298 1506.58 Q938.488 1506.58 935.409 1502 Q932.354 1497.39 932.354 1488.67 Q932.354 1479.92 935.409 1475.33 Q938.488 1470.73 944.298 1470.73 Z\" fill=\"#000000\" fill-rule=\"evenodd\" fill-opacity=\"1\" /><path clip-path=\"url(#clip6500)\" d=\"M 0 0 M961.312 1500.03 L966.196 1500.03 L966.196 1505.91 L961.312 1505.91 L961.312 1500.03 Z\" fill=\"#000000\" fill-rule=\"evenodd\" fill-opacity=\"1\" /><path clip-path=\"url(#clip6500)\" d=\"M 0 0 M981.844 1486.77 Q978.696 1486.77 976.844 1488.92 Q975.015 1491.07 975.015 1494.82 Q975.015 1498.55 976.844 1500.73 Q978.696 1502.88 981.844 1502.88 Q984.992 1502.88 986.821 1500.73 Q988.673 1498.55 988.673 1494.82 Q988.673 1491.07 986.821 1488.92 Q984.992 1486.77 981.844 1486.77 M991.126 1472.12 L991.126 1476.38 Q989.367 1475.54 987.562 1475.1 Q985.779 1474.66 984.02 1474.66 Q979.39 1474.66 976.937 1477.79 Q974.506 1480.91 974.159 1487.23 Q975.525 1485.22 977.585 1484.15 Q979.645 1483.07 982.122 1483.07 Q987.33 1483.07 990.339 1486.24 Q993.372 1489.38 993.372 1494.82 Q993.372 1500.15 990.224 1503.37 Q987.076 1506.58 981.844 1506.58 Q975.849 1506.58 972.677 1502 Q969.506 1497.39 969.506 1488.67 Q969.506 1480.47 973.395 1475.61 Q977.284 1470.73 983.835 1470.73 Q985.594 1470.73 987.376 1471.07 Q989.182 1471.42 991.126 1472.12 Z\" fill=\"#000000\" fill-rule=\"evenodd\" fill-opacity=\"1\" /><path clip-path=\"url(#clip6500)\" d=\"M 0 0 M1223.93 1491.43 Q1220.32 1491.43 1218.49 1495 Q1216.69 1498.54 1216.69 1505.67 Q1216.69 1512.78 1218.49 1516.34 Q1220.32 1519.88 1223.93 1519.88 Q1227.57 1519.88 1229.37 1516.34 Q1231.2 1512.78 1231.2 1505.67 Q1231.2 1498.54 1229.37 1495 Q1227.57 1491.43 1223.93 1491.43 M1223.93 1487.73 Q1229.74 1487.73 1232.8 1492.34 Q1235.88 1496.92 1235.88 1505.67 Q1235.88 1514.4 1232.8 1519 Q1229.74 1523.59 1223.93 1523.59 Q1218.12 1523.59 1215.05 1519 Q1211.99 1514.4 1211.99 1505.67 Q1211.99 1496.92 1215.05 1492.34 Q1218.12 1487.73 1223.93 1487.73 Z\" fill=\"#000000\" fill-rule=\"evenodd\" fill-opacity=\"1\" /><path clip-path=\"url(#clip6500)\" d=\"M 0 0 M1240.95 1517.04 L1245.83 1517.04 L1245.83 1522.92 L1240.95 1522.92 L1240.95 1517.04 Z\" fill=\"#000000\" fill-rule=\"evenodd\" fill-opacity=\"1\" /><path clip-path=\"url(#clip6500)\" d=\"M 0 0 M1260.9 1506.5 Q1257.57 1506.5 1255.65 1508.29 Q1253.75 1510.07 1253.75 1513.19 Q1253.75 1516.32 1255.65 1518.1 Q1257.57 1519.88 1260.9 1519.88 Q1264.24 1519.88 1266.16 1518.1 Q1268.08 1516.3 1268.08 1513.19 Q1268.08 1510.07 1266.16 1508.29 Q1264.26 1506.5 1260.9 1506.5 M1256.23 1504.51 Q1253.22 1503.77 1251.53 1501.71 Q1249.86 1499.65 1249.86 1496.69 Q1249.86 1492.55 1252.8 1490.14 Q1255.76 1487.73 1260.9 1487.73 Q1266.06 1487.73 1269 1490.14 Q1271.94 1492.55 1271.94 1496.69 Q1271.94 1499.65 1270.25 1501.71 Q1268.59 1503.77 1265.6 1504.51 Q1268.98 1505.3 1270.86 1507.59 Q1272.75 1509.88 1272.75 1513.19 Q1272.75 1518.22 1269.68 1520.9 Q1266.62 1523.59 1260.9 1523.59 Q1255.18 1523.59 1252.11 1520.9 Q1249.05 1518.22 1249.05 1513.19 Q1249.05 1509.88 1250.95 1507.59 Q1252.85 1505.3 1256.23 1504.51 M1254.51 1497.13 Q1254.51 1499.81 1256.18 1501.32 Q1257.87 1502.82 1260.9 1502.82 Q1263.91 1502.82 1265.6 1501.32 Q1267.31 1499.81 1267.31 1497.13 Q1267.31 1494.44 1265.6 1492.94 Q1263.91 1491.43 1260.9 1491.43 Q1257.87 1491.43 1256.18 1492.94 Q1254.51 1494.44 1254.51 1497.13 Z\" fill=\"#000000\" fill-rule=\"evenodd\" fill-opacity=\"1\" /><path clip-path=\"url(#clip6500)\" d=\"M 0 0 M1493.78 1535.98 L1501.42 1535.98 L1501.42 1509.62 L1493.11 1511.29 L1493.11 1507.03 L1501.37 1505.36 L1506.05 1505.36 L1506.05 1535.98 L1513.69 1535.98 L1513.69 1539.92 L1493.78 1539.92 L1493.78 1535.98 Z\" fill=\"#000000\" fill-rule=\"evenodd\" fill-opacity=\"1\" /><path clip-path=\"url(#clip6500)\" d=\"M 0 0 M1518.76 1534.04 L1523.64 1534.04 L1523.64 1539.92 L1518.76 1539.92 L1518.76 1534.04 Z\" fill=\"#000000\" fill-rule=\"evenodd\" fill-opacity=\"1\" /><path clip-path=\"url(#clip6500)\" d=\"M 0 0 M1538.71 1508.44 Q1535.1 1508.44 1533.27 1512 Q1531.46 1515.55 1531.46 1522.67 Q1531.46 1529.78 1533.27 1533.35 Q1535.1 1536.89 1538.71 1536.89 Q1542.34 1536.89 1544.15 1533.35 Q1545.98 1529.78 1545.98 1522.67 Q1545.98 1515.55 1544.15 1512 Q1542.34 1508.44 1538.71 1508.44 M1538.71 1504.73 Q1544.52 1504.73 1547.58 1509.34 Q1550.65 1513.92 1550.65 1522.67 Q1550.65 1531.4 1547.58 1536.01 Q1544.52 1540.59 1538.71 1540.59 Q1532.9 1540.59 1529.82 1536.01 Q1526.77 1531.4 1526.77 1522.67 Q1526.77 1513.92 1529.82 1509.34 Q1532.9 1504.73 1538.71 1504.73 Z\" fill=\"#000000\" fill-rule=\"evenodd\" fill-opacity=\"1\" /><path clip-path=\"url(#clip6500)\" d=\"M 0 0 M1551.4 1508.44 Q1547.79 1508.44 1545.96 1512 Q1544.15 1515.55 1544.15 1522.67 Q1544.15 1529.78 1545.96 1533.35 Q1547.79 1536.89 1551.4 1536.89 Q1555.03 1536.89 1556.84 1533.35 Q1558.67 1529.78 1558.67 1522.67 Q1558.67 1515.55 1556.84 1512 Q1555.03 1508.44 1551.4 1508.44 M1551.4 1504.73 Q1557.21 1504.73 1560.26 1509.34 Q1563.34 1513.92 1563.34 1522.67 Q1563.34 1531.4 1560.26 1536.01 Q1557.21 1540.59 1551.4 1540.59 Q1545.59 1540.59 1542.51 1536.01 Q1539.45 1531.4 1539.45 1522.67 Q1539.45 1513.92 1542.51 1509.34 Q1545.59 1504.73 1551.4 1504.73 Z\" fill=\"#000000\" fill-rule=\"evenodd\" fill-opacity=\"1\" /><path clip-path=\"url(#clip6500)\" d=\"M 0 0 M1568.41 1534.04 L1573.3 1534.04 L1573.3 1539.92 L1568.41 1539.92 L1568.41 1534.04 Z\" fill=\"#000000\" fill-rule=\"evenodd\" fill-opacity=\"1\" /><path clip-path=\"url(#clip6500)\" d=\"M 0 0 M1588.37 1508.44 Q1584.75 1508.44 1582.93 1512 Q1581.12 1515.55 1581.12 1522.67 Q1581.12 1529.78 1582.93 1533.35 Q1584.75 1536.89 1588.37 1536.89 Q1592 1536.89 1593.81 1533.35 Q1595.63 1529.78 1595.63 1522.67 Q1595.63 1515.55 1593.81 1512 Q1592 1508.44 1588.37 1508.44 M1588.37 1504.73 Q1594.18 1504.73 1597.23 1509.34 Q1600.31 1513.92 1600.31 1522.67 Q1600.31 1531.4 1597.23 1536.01 Q1594.18 1540.59 1588.37 1540.59 Q1582.56 1540.59 1579.48 1536.01 Q1576.42 1531.4 1576.42 1522.67 Q1576.42 1513.92 1579.48 1509.34 Q1582.56 1504.73 1588.37 1504.73 Z\" fill=\"#000000\" fill-rule=\"evenodd\" fill-opacity=\"1\" /><path clip-path=\"url(#clip6500)\" d=\"M 0 0 M1713.57 1457.43 Q1709.96 1457.43 1708.13 1460.99 Q1706.33 1464.53 1706.33 1471.66 Q1706.33 1478.77 1708.13 1482.33 Q1709.96 1485.88 1713.57 1485.88 Q1717.21 1485.88 1719.01 1482.33 Q1720.84 1478.77 1720.84 1471.66 Q1720.84 1464.53 1719.01 1460.99 Q1717.21 1457.43 1713.57 1457.43 M1713.57 1453.72 Q1719.38 1453.72 1722.44 1458.33 Q1725.52 1462.91 1725.52 1471.66 Q1725.52 1480.39 1722.44 1485 Q1719.38 1489.58 1713.57 1489.58 Q1707.76 1489.58 1704.68 1485 Q1701.63 1480.39 1701.63 1471.66 Q1701.63 1462.91 1704.68 1458.33 Q1707.76 1453.72 1713.57 1453.72 Z\" fill=\"#000000\" fill-rule=\"evenodd\" fill-opacity=\"1\" /><path clip-path=\"url(#clip6500)\" d=\"M 0 0 M1730.59 1483.03 L1735.47 1483.03 L1735.47 1488.91 L1730.59 1488.91 L1730.59 1483.03 Z\" fill=\"#000000\" fill-rule=\"evenodd\" fill-opacity=\"1\" /><path clip-path=\"url(#clip6500)\" d=\"M 0 0 M1744.57 1484.97 L1760.89 1484.97 L1760.89 1488.91 L1738.94 1488.91 L1738.94 1484.97 Q1741.6 1482.22 1746.19 1477.59 Q1750.79 1472.94 1751.97 1471.59 Q1754.22 1469.07 1755.1 1467.34 Q1756 1465.58 1756 1463.89 Q1756 1461.13 1754.06 1459.4 Q1752.14 1457.66 1749.03 1457.66 Q1746.84 1457.66 1744.38 1458.42 Q1741.95 1459.19 1739.17 1460.74 L1739.17 1456.02 Q1742 1454.88 1744.45 1454.3 Q1746.9 1453.72 1748.94 1453.72 Q1754.31 1453.72 1757.51 1456.41 Q1760.7 1459.09 1760.7 1463.59 Q1760.7 1465.71 1759.89 1467.64 Q1759.1 1469.53 1757 1472.13 Q1756.42 1472.8 1753.32 1476.02 Q1750.21 1479.21 1744.57 1484.97 Z\" fill=\"#000000\" fill-rule=\"evenodd\" fill-opacity=\"1\" /><path clip-path=\"url(#clip6500)\" d=\"M 0 0 M1873.9 1406.42 Q1870.29 1406.42 1868.46 1409.98 Q1866.66 1413.52 1866.66 1420.65 Q1866.66 1427.76 1868.46 1431.32 Q1870.29 1434.87 1873.9 1434.87 Q1877.54 1434.87 1879.34 1431.32 Q1881.17 1427.76 1881.17 1420.65 Q1881.17 1413.52 1879.34 1409.98 Q1877.54 1406.42 1873.9 1406.42 M1873.9 1402.71 Q1879.71 1402.71 1882.77 1407.32 Q1885.85 1411.9 1885.85 1420.65 Q1885.85 1429.38 1882.77 1433.99 Q1879.71 1438.57 1873.9 1438.57 Q1868.09 1438.57 1865.02 1433.99 Q1861.96 1429.38 1861.96 1420.65 Q1861.96 1411.9 1865.02 1407.32 Q1868.09 1402.71 1873.9 1402.71 Z\" fill=\"#000000\" fill-rule=\"evenodd\" fill-opacity=\"1\" /><path clip-path=\"url(#clip6500)\" d=\"M 0 0 M1890.92 1432.02 L1895.8 1432.02 L1895.8 1437.9 L1890.92 1437.9 L1890.92 1432.02 Z\" fill=\"#000000\" fill-rule=\"evenodd\" fill-opacity=\"1\" /><path clip-path=\"url(#clip6500)\" d=\"M 0 0 M1913.72 1407.41 L1901.91 1425.86 L1913.72 1425.86 L1913.72 1407.41 M1912.49 1403.34 L1918.37 1403.34 L1918.37 1425.86 L1923.3 1425.86 L1923.3 1429.75 L1918.37 1429.75 L1918.37 1437.9 L1913.72 1437.9 L1913.72 1429.75 L1898.12 1429.75 L1898.12 1425.24 L1912.49 1403.34 Z\" fill=\"#000000\" fill-rule=\"evenodd\" fill-opacity=\"1\" /><path clip-path=\"url(#clip6500)\" d=\"M 0 0 M2035.44 1355.41 Q2031.83 1355.41 2030 1358.97 Q2028.2 1362.51 2028.2 1369.64 Q2028.2 1376.75 2030 1380.31 Q2031.83 1383.85 2035.44 1383.85 Q2039.08 1383.85 2040.88 1380.31 Q2042.71 1376.75 2042.71 1369.64 Q2042.71 1362.51 2040.88 1358.97 Q2039.08 1355.41 2035.44 1355.41 M2035.44 1351.7 Q2041.25 1351.7 2044.31 1356.31 Q2047.39 1360.89 2047.39 1369.64 Q2047.39 1378.37 2044.31 1382.98 Q2041.25 1387.56 2035.44 1387.56 Q2029.63 1387.56 2026.55 1382.98 Q2023.5 1378.37 2023.5 1369.64 Q2023.5 1360.89 2026.55 1356.31 Q2029.63 1351.7 2035.44 1351.7 Z\" fill=\"#000000\" fill-rule=\"evenodd\" fill-opacity=\"1\" /><path clip-path=\"url(#clip6500)\" d=\"M 0 0 M2052.46 1381.01 L2057.34 1381.01 L2057.34 1386.89 L2052.46 1386.89 L2052.46 1381.01 Z\" fill=\"#000000\" fill-rule=\"evenodd\" fill-opacity=\"1\" /><path clip-path=\"url(#clip6500)\" d=\"M 0 0 M2072.99 1367.74 Q2069.84 1367.74 2067.99 1369.9 Q2066.16 1372.05 2066.16 1375.8 Q2066.16 1379.53 2067.99 1381.7 Q2069.84 1383.85 2072.99 1383.85 Q2076.14 1383.85 2077.96 1381.7 Q2079.82 1379.53 2079.82 1375.8 Q2079.82 1372.05 2077.96 1369.9 Q2076.14 1367.74 2072.99 1367.74 M2082.27 1353.09 L2082.27 1357.35 Q2080.51 1356.52 2078.71 1356.08 Q2076.92 1355.64 2075.16 1355.64 Q2070.53 1355.64 2068.08 1358.76 Q2065.65 1361.89 2065.3 1368.21 Q2066.67 1366.19 2068.73 1365.13 Q2070.79 1364.04 2073.27 1364.04 Q2078.47 1364.04 2081.48 1367.21 Q2084.52 1370.36 2084.52 1375.8 Q2084.52 1381.12 2081.37 1384.34 Q2078.22 1387.56 2072.99 1387.56 Q2066.99 1387.56 2063.82 1382.98 Q2060.65 1378.37 2060.65 1369.64 Q2060.65 1361.45 2064.54 1356.59 Q2068.43 1351.7 2074.98 1351.7 Q2076.74 1351.7 2078.52 1352.05 Q2080.33 1352.4 2082.27 1353.09 Z\" fill=\"#000000\" fill-rule=\"evenodd\" fill-opacity=\"1\" /><path clip-path=\"url(#clip6500)\" d=\"M 0 0 M2196.94 1304.4 Q2193.33 1304.4 2191.5 1307.96 Q2189.7 1311.5 2189.7 1318.63 Q2189.7 1325.74 2191.5 1329.3 Q2193.33 1332.84 2196.94 1332.84 Q2200.58 1332.84 2202.38 1329.3 Q2204.21 1325.74 2204.21 1318.63 Q2204.21 1311.5 2202.38 1307.96 Q2200.58 1304.4 2196.94 1304.4 M2196.94 1300.69 Q2202.75 1300.69 2205.81 1305.3 Q2208.89 1309.88 2208.89 1318.63 Q2208.89 1327.36 2205.81 1331.96 Q2202.75 1336.55 2196.94 1336.55 Q2191.13 1336.55 2188.05 1331.96 Q2185 1327.36 2185 1318.63 Q2185 1309.88 2188.05 1305.3 Q2191.13 1300.69 2196.94 1300.69 Z\" fill=\"#000000\" fill-rule=\"evenodd\" fill-opacity=\"1\" /><path clip-path=\"url(#clip6500)\" d=\"M 0 0 M2213.96 1330 L2218.84 1330 L2218.84 1335.88 L2213.96 1335.88 L2213.96 1330 Z\" fill=\"#000000\" fill-rule=\"evenodd\" fill-opacity=\"1\" /><path clip-path=\"url(#clip6500)\" d=\"M 0 0 M2233.91 1319.46 Q2230.58 1319.46 2228.66 1321.25 Q2226.76 1323.03 2226.76 1326.15 Q2226.76 1329.28 2228.66 1331.06 Q2230.58 1332.84 2233.91 1332.84 Q2237.24 1332.84 2239.17 1331.06 Q2241.09 1329.26 2241.09 1326.15 Q2241.09 1323.03 2239.17 1321.25 Q2237.27 1319.46 2233.91 1319.46 M2229.24 1317.47 Q2226.23 1316.73 2224.54 1314.67 Q2222.87 1312.61 2222.87 1309.65 Q2222.87 1305.51 2225.81 1303.1 Q2228.77 1300.69 2233.91 1300.69 Q2239.07 1300.69 2242.01 1303.1 Q2244.95 1305.51 2244.95 1309.65 Q2244.95 1312.61 2243.26 1314.67 Q2241.6 1316.73 2238.61 1317.47 Q2241.99 1318.26 2243.86 1320.55 Q2245.76 1322.84 2245.76 1326.15 Q2245.76 1331.18 2242.68 1333.86 Q2239.63 1336.55 2233.91 1336.55 Q2228.19 1336.55 2225.11 1333.86 Q2222.06 1331.18 2222.06 1326.15 Q2222.06 1322.84 2223.96 1320.55 Q2225.86 1318.26 2229.24 1317.47 M2227.52 1310.09 Q2227.52 1312.77 2229.19 1314.28 Q2230.88 1315.78 2233.91 1315.78 Q2236.92 1315.78 2238.61 1314.28 Q2240.32 1312.77 2240.32 1310.09 Q2240.32 1307.4 2238.61 1305.9 Q2236.92 1304.4 2233.91 1304.4 Q2230.88 1304.4 2229.19 1305.9 Q2227.52 1307.4 2227.52 1310.09 Z\" fill=\"#000000\" fill-rule=\"evenodd\" fill-opacity=\"1\" /><path clip-path=\"url(#clip6500)\" d=\"M 0 0 M2348.65 1280.93 L2356.29 1280.93 L2356.29 1254.56 L2347.98 1256.23 L2347.98 1251.97 L2356.25 1250.31 L2360.92 1250.31 L2360.92 1280.93 L2368.56 1280.93 L2368.56 1284.87 L2348.65 1284.87 L2348.65 1280.93 Z\" fill=\"#000000\" fill-rule=\"evenodd\" fill-opacity=\"1\" /><path clip-path=\"url(#clip6500)\" d=\"M 0 0 M2373.63 1278.99 L2378.52 1278.99 L2378.52 1284.87 L2373.63 1284.87 L2373.63 1278.99 Z\" fill=\"#000000\" fill-rule=\"evenodd\" fill-opacity=\"1\" /><path clip-path=\"url(#clip6500)\" d=\"M 0 0 M2393.58 1253.38 Q2389.97 1253.38 2388.14 1256.95 Q2386.34 1260.49 2386.34 1267.62 Q2386.34 1274.73 2388.14 1278.29 Q2389.97 1281.83 2393.58 1281.83 Q2397.22 1281.83 2399.02 1278.29 Q2400.85 1274.73 2400.85 1267.62 Q2400.85 1260.49 2399.02 1256.95 Q2397.22 1253.38 2393.58 1253.38 M2393.58 1249.68 Q2399.39 1249.68 2402.45 1254.29 Q2405.53 1258.87 2405.53 1267.62 Q2405.53 1276.35 2402.45 1280.95 Q2399.39 1285.54 2393.58 1285.54 Q2387.77 1285.54 2384.7 1280.95 Q2381.64 1276.35 2381.64 1267.62 Q2381.64 1258.87 2384.7 1254.29 Q2387.77 1249.68 2393.58 1249.68 Z\" fill=\"#000000\" fill-rule=\"evenodd\" fill-opacity=\"1\" /><path clip-path=\"url(#clip6500)\" d=\"M 0 0 M75.4226 1387.23 Q71.8115 1387.23 69.9828 1390.79 Q68.1773 1394.33 68.1773 1401.46 Q68.1773 1408.57 69.9828 1412.14 Q71.8115 1415.68 75.4226 1415.68 Q79.0569 1415.68 80.8624 1412.14 Q82.6911 1408.57 82.6911 1401.46 Q82.6911 1394.33 80.8624 1390.79 Q79.0569 1387.23 75.4226 1387.23 M75.4226 1383.52 Q81.2328 1383.52 84.2883 1388.13 Q87.367 1392.71 87.367 1401.46 Q87.367 1410.19 84.2883 1414.8 Q81.2328 1419.38 75.4226 1419.38 Q69.6125 1419.38 66.5338 1414.8 Q63.4782 1410.19 63.4782 1401.46 Q63.4782 1392.71 66.5338 1388.13 Q69.6125 1383.52 75.4226 1383.52 Z\" fill=\"#000000\" fill-rule=\"evenodd\" fill-opacity=\"1\" /><path clip-path=\"url(#clip6500)\" d=\"M 0 0 M92.4364 1412.83 L97.3206 1412.83 L97.3206 1418.71 L92.4364 1418.71 L92.4364 1412.83 Z\" fill=\"#000000\" fill-rule=\"evenodd\" fill-opacity=\"1\" /><path clip-path=\"url(#clip6500)\" d=\"M 0 0 M112.39 1387.23 Q108.779 1387.23 106.95 1390.79 Q105.145 1394.33 105.145 1401.46 Q105.145 1408.57 106.95 1412.14 Q108.779 1415.68 112.39 1415.68 Q116.024 1415.68 117.83 1412.14 Q119.658 1408.57 119.658 1401.46 Q119.658 1394.33 117.83 1390.79 Q116.024 1387.23 112.39 1387.23 M112.39 1383.52 Q118.2 1383.52 121.256 1388.13 Q124.334 1392.71 124.334 1401.46 Q124.334 1410.19 121.256 1414.8 Q118.2 1419.38 112.39 1419.38 Q106.58 1419.38 103.501 1414.8 Q100.446 1410.19 100.446 1401.46 Q100.446 1392.71 103.501 1388.13 Q106.58 1383.52 112.39 1383.52 Z\" fill=\"#000000\" fill-rule=\"evenodd\" fill-opacity=\"1\" /><path clip-path=\"url(#clip6500)\" d=\"M 0 0 M77.0198 1167.4 Q73.4087 1167.4 71.58 1170.97 Q69.7745 1174.51 69.7745 1181.64 Q69.7745 1188.74 71.58 1192.31 Q73.4087 1195.85 77.0198 1195.85 Q80.6541 1195.85 82.4596 1192.31 Q84.2883 1188.74 84.2883 1181.64 Q84.2883 1174.51 82.4596 1170.97 Q80.6541 1167.4 77.0198 1167.4 M77.0198 1163.7 Q82.83 1163.7 85.8855 1168.3 Q88.9642 1172.89 88.9642 1181.64 Q88.9642 1190.37 85.8855 1194.97 Q82.83 1199.55 77.0198 1199.55 Q71.2097 1199.55 68.131 1194.97 Q65.0754 1190.37 65.0754 1181.64 Q65.0754 1172.89 68.131 1168.3 Q71.2097 1163.7 77.0198 1163.7 Z\" fill=\"#000000\" fill-rule=\"evenodd\" fill-opacity=\"1\" /><path clip-path=\"url(#clip6500)\" d=\"M 0 0 M94.0336 1193 L98.9179 1193 L98.9179 1198.88 L94.0336 1198.88 L94.0336 1193 Z\" fill=\"#000000\" fill-rule=\"evenodd\" fill-opacity=\"1\" /><path clip-path=\"url(#clip6500)\" d=\"M 0 0 M108.015 1194.95 L124.334 1194.95 L124.334 1198.88 L102.39 1198.88 L102.39 1194.95 Q105.052 1192.19 109.635 1187.56 Q114.242 1182.91 115.422 1181.57 Q117.668 1179.05 118.547 1177.31 Q119.45 1175.55 119.45 1173.86 Q119.45 1171.11 117.506 1169.37 Q115.584 1167.63 112.483 1167.63 Q110.284 1167.63 107.83 1168.4 Q105.399 1169.16 102.622 1170.71 L102.622 1165.99 Q105.446 1164.86 107.899 1164.28 Q110.353 1163.7 112.39 1163.7 Q117.76 1163.7 120.955 1166.38 Q124.149 1169.07 124.149 1173.56 Q124.149 1175.69 123.339 1177.61 Q122.552 1179.51 120.446 1182.1 Q119.867 1182.77 116.765 1185.99 Q113.663 1189.18 108.015 1194.95 Z\" fill=\"#000000\" fill-rule=\"evenodd\" fill-opacity=\"1\" /><path clip-path=\"url(#clip6500)\" d=\"M 0 0 M74.9365 947.576 Q71.3254 947.576 69.4967 951.141 Q67.6912 954.682 67.6912 961.812 Q67.6912 968.918 69.4967 972.483 Q71.3254 976.025 74.9365 976.025 Q78.5707 976.025 80.3763 972.483 Q82.205 968.918 82.205 961.812 Q82.205 954.682 80.3763 951.141 Q78.5707 947.576 74.9365 947.576 M74.9365 943.872 Q80.7467 943.872 83.8022 948.479 Q86.8809 953.062 86.8809 961.812 Q86.8809 970.539 83.8022 975.145 Q80.7467 979.729 74.9365 979.729 Q69.1264 979.729 66.0477 975.145 Q62.9921 970.539 62.9921 961.812 Q62.9921 953.062 66.0477 948.479 Q69.1264 943.872 74.9365 943.872 Z\" fill=\"#000000\" fill-rule=\"evenodd\" fill-opacity=\"1\" /><path clip-path=\"url(#clip6500)\" d=\"M 0 0 M91.9503 973.178 L96.8345 973.178 L96.8345 979.057 L91.9503 979.057 L91.9503 973.178 Z\" fill=\"#000000\" fill-rule=\"evenodd\" fill-opacity=\"1\" /><path clip-path=\"url(#clip6500)\" d=\"M 0 0 M114.751 948.571 L102.946 967.02 L114.751 967.02 L114.751 948.571 M113.524 944.497 L119.404 944.497 L119.404 967.02 L124.334 967.02 L124.334 970.909 L119.404 970.909 L119.404 979.057 L114.751 979.057 L114.751 970.909 L99.1493 970.909 L99.1493 966.395 L113.524 944.497 Z\" fill=\"#000000\" fill-rule=\"evenodd\" fill-opacity=\"1\" /><path clip-path=\"url(#clip6500)\" d=\"M 0 0 M75.2606 727.75 Q71.6495 727.75 69.8208 731.314 Q68.0152 734.856 68.0152 741.986 Q68.0152 749.092 69.8208 752.657 Q71.6495 756.199 75.2606 756.199 Q78.8948 756.199 80.7004 752.657 Q82.5291 749.092 82.5291 741.986 Q82.5291 734.856 80.7004 731.314 Q78.8948 727.75 75.2606 727.75 M75.2606 724.046 Q81.0707 724.046 84.1263 728.652 Q87.205 733.236 87.205 741.986 Q87.205 750.712 84.1263 755.319 Q81.0707 759.902 75.2606 759.902 Q69.4504 759.902 66.3717 755.319 Q63.3162 750.712 63.3162 741.986 Q63.3162 733.236 66.3717 728.652 Q69.4504 724.046 75.2606 724.046 Z\" fill=\"#000000\" fill-rule=\"evenodd\" fill-opacity=\"1\" /><path clip-path=\"url(#clip6500)\" d=\"M 0 0 M92.2744 753.351 L97.1586 753.351 L97.1586 759.231 L92.2744 759.231 L92.2744 753.351 Z\" fill=\"#000000\" fill-rule=\"evenodd\" fill-opacity=\"1\" /><path clip-path=\"url(#clip6500)\" d=\"M 0 0 M112.807 740.088 Q109.659 740.088 107.807 742.24 Q105.978 744.393 105.978 748.143 Q105.978 751.87 107.807 754.046 Q109.659 756.199 112.807 756.199 Q115.955 756.199 117.783 754.046 Q119.635 751.87 119.635 748.143 Q119.635 744.393 117.783 742.24 Q115.955 740.088 112.807 740.088 M122.089 725.435 L122.089 729.694 Q120.33 728.861 118.524 728.421 Q116.742 727.981 114.983 727.981 Q110.353 727.981 107.899 731.106 Q105.469 734.231 105.122 740.55 Q106.487 738.537 108.547 737.472 Q110.608 736.384 113.084 736.384 Q118.293 736.384 121.302 739.555 Q124.334 742.703 124.334 748.143 Q124.334 753.467 121.186 756.685 Q118.038 759.902 112.807 759.902 Q106.811 759.902 103.64 755.319 Q100.469 750.712 100.469 741.986 Q100.469 733.791 104.358 728.93 Q108.247 724.046 114.797 724.046 Q116.557 724.046 118.339 724.393 Q120.145 724.74 122.089 725.435 Z\" fill=\"#000000\" fill-rule=\"evenodd\" fill-opacity=\"1\" /><path clip-path=\"url(#clip6500)\" d=\"M 0 0 M75.5152 507.923 Q71.9041 507.923 70.0754 511.488 Q68.2699 515.03 68.2699 522.159 Q68.2699 529.266 70.0754 532.831 Q71.9041 536.372 75.5152 536.372 Q79.1494 536.372 80.955 532.831 Q82.7837 529.266 82.7837 522.159 Q82.7837 515.03 80.955 511.488 Q79.1494 507.923 75.5152 507.923 M75.5152 504.22 Q81.3254 504.22 84.3809 508.826 Q87.4596 513.409 87.4596 522.159 Q87.4596 530.886 84.3809 535.493 Q81.3254 540.076 75.5152 540.076 Q69.7051 540.076 66.6264 535.493 Q63.5708 530.886 63.5708 522.159 Q63.5708 513.409 66.6264 508.826 Q69.7051 504.22 75.5152 504.22 Z\" fill=\"#000000\" fill-rule=\"evenodd\" fill-opacity=\"1\" /><path clip-path=\"url(#clip6500)\" d=\"M 0 0 M92.529 533.525 L97.4132 533.525 L97.4132 539.405 L92.529 539.405 L92.529 533.525 Z\" fill=\"#000000\" fill-rule=\"evenodd\" fill-opacity=\"1\" /><path clip-path=\"url(#clip6500)\" d=\"M 0 0 M112.483 522.993 Q109.149 522.993 107.228 524.775 Q105.33 526.558 105.33 529.683 Q105.33 532.807 107.228 534.59 Q109.149 536.372 112.483 536.372 Q115.816 536.372 117.737 534.59 Q119.658 532.784 119.658 529.683 Q119.658 526.558 117.737 524.775 Q115.839 522.993 112.483 522.993 M107.807 521.002 Q104.797 520.261 103.108 518.201 Q101.441 516.141 101.441 513.178 Q101.441 509.034 104.381 506.627 Q107.344 504.22 112.483 504.22 Q117.645 504.22 120.584 506.627 Q123.524 509.034 123.524 513.178 Q123.524 516.141 121.834 518.201 Q120.168 520.261 117.182 521.002 Q120.561 521.789 122.436 524.081 Q124.334 526.372 124.334 529.683 Q124.334 534.706 121.256 537.391 Q118.2 540.076 112.483 540.076 Q106.765 540.076 103.686 537.391 Q100.631 534.706 100.631 529.683 Q100.631 526.372 102.529 524.081 Q104.427 521.789 107.807 521.002 M106.094 513.618 Q106.094 516.303 107.76 517.808 Q109.45 519.312 112.483 519.312 Q115.492 519.312 117.182 517.808 Q118.895 516.303 118.895 513.618 Q118.895 510.933 117.182 509.428 Q115.492 507.923 112.483 507.923 Q109.45 507.923 107.76 509.428 Q106.094 510.933 106.094 513.618 Z\" fill=\"#000000\" fill-rule=\"evenodd\" fill-opacity=\"1\" /><path clip-path=\"url(#clip6500)\" d=\"M 0 0 M67.4597 315.643 L75.0985 315.643 L75.0985 289.278 L66.7884 290.944 L66.7884 286.685 L75.0522 285.018 L79.7281 285.018 L79.7281 315.643 L87.367 315.643 L87.367 319.578 L67.4597 319.578 L67.4597 315.643 Z\" fill=\"#000000\" fill-rule=\"evenodd\" fill-opacity=\"1\" /><path clip-path=\"url(#clip6500)\" d=\"M 0 0 M92.4364 313.699 L97.3206 313.699 L97.3206 319.578 L92.4364 319.578 L92.4364 313.699 Z\" fill=\"#000000\" fill-rule=\"evenodd\" fill-opacity=\"1\" /><path clip-path=\"url(#clip6500)\" d=\"M 0 0 M112.39 288.097 Q108.779 288.097 106.95 291.662 Q105.145 295.204 105.145 302.333 Q105.145 309.44 106.95 313.004 Q108.779 316.546 112.39 316.546 Q116.024 316.546 117.83 313.004 Q119.658 309.44 119.658 302.333 Q119.658 295.204 117.83 291.662 Q116.024 288.097 112.39 288.097 M112.39 284.393 Q118.2 284.393 121.256 289 Q124.334 293.583 124.334 302.333 Q124.334 311.06 121.256 315.666 Q118.2 320.25 112.39 320.25 Q106.58 320.25 103.501 315.666 Q100.446 311.06 100.446 302.333 Q100.446 293.583 103.501 289 Q106.58 284.393 112.39 284.393 Z\" fill=\"#000000\" fill-rule=\"evenodd\" fill-opacity=\"1\" /><circle clip-path=\"url(#clip6502)\" cx=\"1786.95\" cy=\"513.975\" r=\"14\" fill=\"#009af9\" fill-rule=\"evenodd\" fill-opacity=\"1\" stroke=\"#000000\" stroke-opacity=\"1\" stroke-width=\"3.2\"/>\n",
       "<circle clip-path=\"url(#clip6502)\" cx=\"1791.08\" cy=\"550.944\" r=\"14\" fill=\"#009af9\" fill-rule=\"evenodd\" fill-opacity=\"1\" stroke=\"#000000\" stroke-opacity=\"1\" stroke-width=\"3.2\"/>\n",
       "<circle clip-path=\"url(#clip6502)\" cx=\"1706.97\" cy=\"465.547\" r=\"14\" fill=\"#009af9\" fill-rule=\"evenodd\" fill-opacity=\"1\" stroke=\"#000000\" stroke-opacity=\"1\" stroke-width=\"3.2\"/>\n",
       "<circle clip-path=\"url(#clip6502)\" cx=\"1752.63\" cy=\"482.746\" r=\"14\" fill=\"#009af9\" fill-rule=\"evenodd\" fill-opacity=\"1\" stroke=\"#000000\" stroke-opacity=\"1\" stroke-width=\"3.2\"/>\n",
       "<circle clip-path=\"url(#clip6502)\" cx=\"1775.85\" cy=\"481.836\" r=\"14\" fill=\"#009af9\" fill-rule=\"evenodd\" fill-opacity=\"1\" stroke=\"#000000\" stroke-opacity=\"1\" stroke-width=\"3.2\"/>\n",
       "<circle clip-path=\"url(#clip6502)\" cx=\"1706.97\" cy=\"465.547\" r=\"14\" fill=\"#009af9\" fill-rule=\"evenodd\" fill-opacity=\"1\" stroke=\"#000000\" stroke-opacity=\"1\" stroke-width=\"3.2\"/>\n",
       "<circle clip-path=\"url(#clip6502)\" cx=\"1786.95\" cy=\"513.975\" r=\"14\" fill=\"#009af9\" fill-rule=\"evenodd\" fill-opacity=\"1\" stroke=\"#000000\" stroke-opacity=\"1\" stroke-width=\"3.2\"/>\n",
       "<circle clip-path=\"url(#clip6502)\" cx=\"1769.98\" cy=\"513.032\" r=\"14\" fill=\"#009af9\" fill-rule=\"evenodd\" fill-opacity=\"1\" stroke=\"#000000\" stroke-opacity=\"1\" stroke-width=\"3.2\"/>\n",
       "<circle clip-path=\"url(#clip6502)\" cx=\"1791.08\" cy=\"550.944\" r=\"14\" fill=\"#009af9\" fill-rule=\"evenodd\" fill-opacity=\"1\" stroke=\"#000000\" stroke-opacity=\"1\" stroke-width=\"3.2\"/>\n",
       "<circle clip-path=\"url(#clip6502)\" cx=\"1734.09\" cy=\"474.582\" r=\"14\" fill=\"#009af9\" fill-rule=\"evenodd\" fill-opacity=\"1\" stroke=\"#000000\" stroke-opacity=\"1\" stroke-width=\"3.2\"/>\n",
       "<circle clip-path=\"url(#clip6502)\" cx=\"1775.85\" cy=\"481.836\" r=\"14\" fill=\"#009af9\" fill-rule=\"evenodd\" fill-opacity=\"1\" stroke=\"#000000\" stroke-opacity=\"1\" stroke-width=\"3.2\"/>\n",
       "<circle clip-path=\"url(#clip6502)\" cx=\"1773.91\" cy=\"478.278\" r=\"14\" fill=\"#009af9\" fill-rule=\"evenodd\" fill-opacity=\"1\" stroke=\"#000000\" stroke-opacity=\"1\" stroke-width=\"3.2\"/>\n",
       "<circle clip-path=\"url(#clip6502)\" cx=\"1746.6\" cy=\"482.017\" r=\"14\" fill=\"#009af9\" fill-rule=\"evenodd\" fill-opacity=\"1\" stroke=\"#000000\" stroke-opacity=\"1\" stroke-width=\"3.2\"/>\n",
       "<circle clip-path=\"url(#clip6502)\" cx=\"1761.28\" cy=\"480.443\" r=\"14\" fill=\"#009af9\" fill-rule=\"evenodd\" fill-opacity=\"1\" stroke=\"#000000\" stroke-opacity=\"1\" stroke-width=\"3.2\"/>\n",
       "<circle clip-path=\"url(#clip6502)\" cx=\"1765.89\" cy=\"483.741\" r=\"14\" fill=\"#009af9\" fill-rule=\"evenodd\" fill-opacity=\"1\" stroke=\"#000000\" stroke-opacity=\"1\" stroke-width=\"3.2\"/>\n",
       "<circle clip-path=\"url(#clip6502)\" cx=\"1746.6\" cy=\"482.017\" r=\"14\" fill=\"#009af9\" fill-rule=\"evenodd\" fill-opacity=\"1\" stroke=\"#000000\" stroke-opacity=\"1\" stroke-width=\"3.2\"/>\n",
       "<circle clip-path=\"url(#clip6502)\" cx=\"1762.63\" cy=\"466.647\" r=\"14\" fill=\"#009af9\" fill-rule=\"evenodd\" fill-opacity=\"1\" stroke=\"#000000\" stroke-opacity=\"1\" stroke-width=\"3.2\"/>\n",
       "<circle clip-path=\"url(#clip6502)\" cx=\"1752.63\" cy=\"482.746\" r=\"14\" fill=\"#009af9\" fill-rule=\"evenodd\" fill-opacity=\"1\" stroke=\"#000000\" stroke-opacity=\"1\" stroke-width=\"3.2\"/>\n",
       "<circle clip-path=\"url(#clip6502)\" cx=\"1748.92\" cy=\"482.798\" r=\"14\" fill=\"#009af9\" fill-rule=\"evenodd\" fill-opacity=\"1\" stroke=\"#000000\" stroke-opacity=\"1\" stroke-width=\"3.2\"/>\n",
       "<circle clip-path=\"url(#clip6502)\" cx=\"1785.55\" cy=\"485.936\" r=\"14\" fill=\"#009af9\" fill-rule=\"evenodd\" fill-opacity=\"1\" stroke=\"#000000\" stroke-opacity=\"1\" stroke-width=\"3.2\"/>\n",
       "<circle clip-path=\"url(#clip6502)\" cx=\"1764.23\" cy=\"465.582\" r=\"14\" fill=\"#009af9\" fill-rule=\"evenodd\" fill-opacity=\"1\" stroke=\"#000000\" stroke-opacity=\"1\" stroke-width=\"3.2\"/>\n",
       "<circle clip-path=\"url(#clip6502)\" cx=\"1773.91\" cy=\"478.278\" r=\"14\" fill=\"#009af9\" fill-rule=\"evenodd\" fill-opacity=\"1\" stroke=\"#000000\" stroke-opacity=\"1\" stroke-width=\"3.2\"/>\n",
       "<circle clip-path=\"url(#clip6502)\" cx=\"1765.89\" cy=\"483.741\" r=\"14\" fill=\"#009af9\" fill-rule=\"evenodd\" fill-opacity=\"1\" stroke=\"#000000\" stroke-opacity=\"1\" stroke-width=\"3.2\"/>\n",
       "<circle clip-path=\"url(#clip6502)\" cx=\"1766.53\" cy=\"485.187\" r=\"14\" fill=\"#009af9\" fill-rule=\"evenodd\" fill-opacity=\"1\" stroke=\"#000000\" stroke-opacity=\"1\" stroke-width=\"3.2\"/>\n",
       "<circle clip-path=\"url(#clip6502)\" cx=\"1785.55\" cy=\"485.936\" r=\"14\" fill=\"#009af9\" fill-rule=\"evenodd\" fill-opacity=\"1\" stroke=\"#000000\" stroke-opacity=\"1\" stroke-width=\"3.2\"/>\n",
       "<circle clip-path=\"url(#clip6502)\" cx=\"1761.28\" cy=\"480.443\" r=\"14\" fill=\"#009af9\" fill-rule=\"evenodd\" fill-opacity=\"1\" stroke=\"#000000\" stroke-opacity=\"1\" stroke-width=\"3.2\"/>\n",
       "<circle clip-path=\"url(#clip6502)\" cx=\"1734.09\" cy=\"474.582\" r=\"14\" fill=\"#009af9\" fill-rule=\"evenodd\" fill-opacity=\"1\" stroke=\"#000000\" stroke-opacity=\"1\" stroke-width=\"3.2\"/>\n",
       "<circle clip-path=\"url(#clip6502)\" cx=\"1765.61\" cy=\"482.766\" r=\"14\" fill=\"#009af9\" fill-rule=\"evenodd\" fill-opacity=\"1\" stroke=\"#000000\" stroke-opacity=\"1\" stroke-width=\"3.2\"/>\n",
       "<circle clip-path=\"url(#clip6502)\" cx=\"1764.23\" cy=\"465.582\" r=\"14\" fill=\"#009af9\" fill-rule=\"evenodd\" fill-opacity=\"1\" stroke=\"#000000\" stroke-opacity=\"1\" stroke-width=\"3.2\"/>\n",
       "<circle clip-path=\"url(#clip6502)\" cx=\"1769.98\" cy=\"513.032\" r=\"14\" fill=\"#009af9\" fill-rule=\"evenodd\" fill-opacity=\"1\" stroke=\"#000000\" stroke-opacity=\"1\" stroke-width=\"3.2\"/>\n",
       "<circle clip-path=\"url(#clip6502)\" cx=\"1765.61\" cy=\"482.766\" r=\"14\" fill=\"#009af9\" fill-rule=\"evenodd\" fill-opacity=\"1\" stroke=\"#000000\" stroke-opacity=\"1\" stroke-width=\"3.2\"/>\n",
       "<circle clip-path=\"url(#clip6502)\" cx=\"1766.53\" cy=\"485.187\" r=\"14\" fill=\"#009af9\" fill-rule=\"evenodd\" fill-opacity=\"1\" stroke=\"#000000\" stroke-opacity=\"1\" stroke-width=\"3.2\"/>\n",
       "<circle clip-path=\"url(#clip6502)\" cx=\"1706.97\" cy=\"465.547\" r=\"14\" fill=\"#009af9\" fill-rule=\"evenodd\" fill-opacity=\"1\" stroke=\"#000000\" stroke-opacity=\"1\" stroke-width=\"3.2\"/>\n",
       "<circle clip-path=\"url(#clip6502)\" cx=\"1706.97\" cy=\"465.547\" r=\"14\" fill=\"#009af9\" fill-rule=\"evenodd\" fill-opacity=\"1\" stroke=\"#000000\" stroke-opacity=\"1\" stroke-width=\"3.2\"/>\n",
       "<circle clip-path=\"url(#clip6502)\" cx=\"1706.97\" cy=\"465.547\" r=\"14\" fill=\"#009af9\" fill-rule=\"evenodd\" fill-opacity=\"1\" stroke=\"#000000\" stroke-opacity=\"1\" stroke-width=\"3.2\"/>\n",
       "<circle clip-path=\"url(#clip6502)\" cx=\"1706.97\" cy=\"465.547\" r=\"14\" fill=\"#009af9\" fill-rule=\"evenodd\" fill-opacity=\"1\" stroke=\"#000000\" stroke-opacity=\"1\" stroke-width=\"3.2\"/>\n",
       "<circle clip-path=\"url(#clip6502)\" cx=\"1706.97\" cy=\"465.547\" r=\"14\" fill=\"#009af9\" fill-rule=\"evenodd\" fill-opacity=\"1\" stroke=\"#000000\" stroke-opacity=\"1\" stroke-width=\"3.2\"/>\n",
       "<circle clip-path=\"url(#clip6502)\" cx=\"1706.97\" cy=\"465.547\" r=\"14\" fill=\"#009af9\" fill-rule=\"evenodd\" fill-opacity=\"1\" stroke=\"#000000\" stroke-opacity=\"1\" stroke-width=\"3.2\"/>\n",
       "<circle clip-path=\"url(#clip6502)\" cx=\"1706.97\" cy=\"465.547\" r=\"14\" fill=\"#009af9\" fill-rule=\"evenodd\" fill-opacity=\"1\" stroke=\"#000000\" stroke-opacity=\"1\" stroke-width=\"3.2\"/>\n",
       "<circle clip-path=\"url(#clip6502)\" cx=\"1706.97\" cy=\"465.547\" r=\"14\" fill=\"#009af9\" fill-rule=\"evenodd\" fill-opacity=\"1\" stroke=\"#000000\" stroke-opacity=\"1\" stroke-width=\"3.2\"/>\n",
       "<circle clip-path=\"url(#clip6502)\" cx=\"1706.97\" cy=\"465.547\" r=\"14\" fill=\"#009af9\" fill-rule=\"evenodd\" fill-opacity=\"1\" stroke=\"#000000\" stroke-opacity=\"1\" stroke-width=\"3.2\"/>\n",
       "<circle clip-path=\"url(#clip6502)\" cx=\"1706.97\" cy=\"465.547\" r=\"14\" fill=\"#009af9\" fill-rule=\"evenodd\" fill-opacity=\"1\" stroke=\"#000000\" stroke-opacity=\"1\" stroke-width=\"3.2\"/>\n",
       "<circle clip-path=\"url(#clip6502)\" cx=\"1706.97\" cy=\"465.547\" r=\"14\" fill=\"#009af9\" fill-rule=\"evenodd\" fill-opacity=\"1\" stroke=\"#000000\" stroke-opacity=\"1\" stroke-width=\"3.2\"/>\n",
       "<circle clip-path=\"url(#clip6502)\" cx=\"1706.97\" cy=\"465.547\" r=\"14\" fill=\"#009af9\" fill-rule=\"evenodd\" fill-opacity=\"1\" stroke=\"#000000\" stroke-opacity=\"1\" stroke-width=\"3.2\"/>\n",
       "<circle clip-path=\"url(#clip6502)\" cx=\"1706.97\" cy=\"465.547\" r=\"14\" fill=\"#009af9\" fill-rule=\"evenodd\" fill-opacity=\"1\" stroke=\"#000000\" stroke-opacity=\"1\" stroke-width=\"3.2\"/>\n",
       "<circle clip-path=\"url(#clip6502)\" cx=\"1706.97\" cy=\"465.547\" r=\"14\" fill=\"#009af9\" fill-rule=\"evenodd\" fill-opacity=\"1\" stroke=\"#000000\" stroke-opacity=\"1\" stroke-width=\"3.2\"/>\n",
       "<circle clip-path=\"url(#clip6502)\" cx=\"1706.97\" cy=\"465.547\" r=\"14\" fill=\"#009af9\" fill-rule=\"evenodd\" fill-opacity=\"1\" stroke=\"#000000\" stroke-opacity=\"1\" stroke-width=\"3.2\"/>\n",
       "<circle clip-path=\"url(#clip6502)\" cx=\"1706.97\" cy=\"465.547\" r=\"14\" fill=\"#009af9\" fill-rule=\"evenodd\" fill-opacity=\"1\" stroke=\"#000000\" stroke-opacity=\"1\" stroke-width=\"3.2\"/>\n",
       "<circle clip-path=\"url(#clip6502)\" cx=\"1706.97\" cy=\"465.547\" r=\"14\" fill=\"#009af9\" fill-rule=\"evenodd\" fill-opacity=\"1\" stroke=\"#000000\" stroke-opacity=\"1\" stroke-width=\"3.2\"/>\n",
       "<circle clip-path=\"url(#clip6502)\" cx=\"1706.97\" cy=\"465.547\" r=\"14\" fill=\"#009af9\" fill-rule=\"evenodd\" fill-opacity=\"1\" stroke=\"#000000\" stroke-opacity=\"1\" stroke-width=\"3.2\"/>\n",
       "<circle clip-path=\"url(#clip6502)\" cx=\"1706.97\" cy=\"465.547\" r=\"14\" fill=\"#009af9\" fill-rule=\"evenodd\" fill-opacity=\"1\" stroke=\"#000000\" stroke-opacity=\"1\" stroke-width=\"3.2\"/>\n",
       "<circle clip-path=\"url(#clip6502)\" cx=\"1706.97\" cy=\"465.547\" r=\"14\" fill=\"#009af9\" fill-rule=\"evenodd\" fill-opacity=\"1\" stroke=\"#000000\" stroke-opacity=\"1\" stroke-width=\"3.2\"/>\n",
       "<circle clip-path=\"url(#clip6502)\" cx=\"1706.97\" cy=\"465.547\" r=\"14\" fill=\"#009af9\" fill-rule=\"evenodd\" fill-opacity=\"1\" stroke=\"#000000\" stroke-opacity=\"1\" stroke-width=\"3.2\"/>\n",
       "<circle clip-path=\"url(#clip6502)\" cx=\"1706.97\" cy=\"465.547\" r=\"14\" fill=\"#009af9\" fill-rule=\"evenodd\" fill-opacity=\"1\" stroke=\"#000000\" stroke-opacity=\"1\" stroke-width=\"3.2\"/>\n",
       "<circle clip-path=\"url(#clip6502)\" cx=\"1706.97\" cy=\"465.547\" r=\"14\" fill=\"#009af9\" fill-rule=\"evenodd\" fill-opacity=\"1\" stroke=\"#000000\" stroke-opacity=\"1\" stroke-width=\"3.2\"/>\n",
       "<circle clip-path=\"url(#clip6502)\" cx=\"1706.97\" cy=\"465.547\" r=\"14\" fill=\"#009af9\" fill-rule=\"evenodd\" fill-opacity=\"1\" stroke=\"#000000\" stroke-opacity=\"1\" stroke-width=\"3.2\"/>\n",
       "<circle clip-path=\"url(#clip6502)\" cx=\"1706.97\" cy=\"465.547\" r=\"14\" fill=\"#009af9\" fill-rule=\"evenodd\" fill-opacity=\"1\" stroke=\"#000000\" stroke-opacity=\"1\" stroke-width=\"3.2\"/>\n",
       "<circle clip-path=\"url(#clip6502)\" cx=\"1706.97\" cy=\"465.547\" r=\"14\" fill=\"#009af9\" fill-rule=\"evenodd\" fill-opacity=\"1\" stroke=\"#000000\" stroke-opacity=\"1\" stroke-width=\"3.2\"/>\n",
       "<circle clip-path=\"url(#clip6502)\" cx=\"1706.97\" cy=\"465.547\" r=\"14\" fill=\"#009af9\" fill-rule=\"evenodd\" fill-opacity=\"1\" stroke=\"#000000\" stroke-opacity=\"1\" stroke-width=\"3.2\"/>\n",
       "<circle clip-path=\"url(#clip6502)\" cx=\"1706.97\" cy=\"465.547\" r=\"14\" fill=\"#009af9\" fill-rule=\"evenodd\" fill-opacity=\"1\" stroke=\"#000000\" stroke-opacity=\"1\" stroke-width=\"3.2\"/>\n",
       "<circle clip-path=\"url(#clip6502)\" cx=\"1706.97\" cy=\"465.547\" r=\"14\" fill=\"#009af9\" fill-rule=\"evenodd\" fill-opacity=\"1\" stroke=\"#000000\" stroke-opacity=\"1\" stroke-width=\"3.2\"/>\n",
       "<circle clip-path=\"url(#clip6502)\" cx=\"1706.97\" cy=\"465.547\" r=\"14\" fill=\"#009af9\" fill-rule=\"evenodd\" fill-opacity=\"1\" stroke=\"#000000\" stroke-opacity=\"1\" stroke-width=\"3.2\"/>\n",
       "<circle clip-path=\"url(#clip6502)\" cx=\"1706.97\" cy=\"465.547\" r=\"14\" fill=\"#009af9\" fill-rule=\"evenodd\" fill-opacity=\"1\" stroke=\"#000000\" stroke-opacity=\"1\" stroke-width=\"3.2\"/>\n",
       "<circle clip-path=\"url(#clip6502)\" cx=\"1706.97\" cy=\"465.547\" r=\"14\" fill=\"#009af9\" fill-rule=\"evenodd\" fill-opacity=\"1\" stroke=\"#000000\" stroke-opacity=\"1\" stroke-width=\"3.2\"/>\n",
       "<circle clip-path=\"url(#clip6502)\" cx=\"1706.97\" cy=\"465.547\" r=\"14\" fill=\"#009af9\" fill-rule=\"evenodd\" fill-opacity=\"1\" stroke=\"#000000\" stroke-opacity=\"1\" stroke-width=\"3.2\"/>\n",
       "<circle clip-path=\"url(#clip6502)\" cx=\"1706.97\" cy=\"465.547\" r=\"14\" fill=\"#009af9\" fill-rule=\"evenodd\" fill-opacity=\"1\" stroke=\"#000000\" stroke-opacity=\"1\" stroke-width=\"3.2\"/>\n",
       "<circle clip-path=\"url(#clip6502)\" cx=\"1706.97\" cy=\"465.547\" r=\"14\" fill=\"#009af9\" fill-rule=\"evenodd\" fill-opacity=\"1\" stroke=\"#000000\" stroke-opacity=\"1\" stroke-width=\"3.2\"/>\n",
       "<circle clip-path=\"url(#clip6502)\" cx=\"1706.97\" cy=\"465.547\" r=\"14\" fill=\"#009af9\" fill-rule=\"evenodd\" fill-opacity=\"1\" stroke=\"#000000\" stroke-opacity=\"1\" stroke-width=\"3.2\"/>\n",
       "<circle clip-path=\"url(#clip6502)\" cx=\"1706.97\" cy=\"465.547\" r=\"14\" fill=\"#009af9\" fill-rule=\"evenodd\" fill-opacity=\"1\" stroke=\"#000000\" stroke-opacity=\"1\" stroke-width=\"3.2\"/>\n",
       "<circle clip-path=\"url(#clip6502)\" cx=\"1706.97\" cy=\"465.547\" r=\"14\" fill=\"#009af9\" fill-rule=\"evenodd\" fill-opacity=\"1\" stroke=\"#000000\" stroke-opacity=\"1\" stroke-width=\"3.2\"/>\n",
       "<circle clip-path=\"url(#clip6502)\" cx=\"1706.97\" cy=\"465.547\" r=\"14\" fill=\"#009af9\" fill-rule=\"evenodd\" fill-opacity=\"1\" stroke=\"#000000\" stroke-opacity=\"1\" stroke-width=\"3.2\"/>\n",
       "<circle clip-path=\"url(#clip6502)\" cx=\"1706.97\" cy=\"465.547\" r=\"14\" fill=\"#009af9\" fill-rule=\"evenodd\" fill-opacity=\"1\" stroke=\"#000000\" stroke-opacity=\"1\" stroke-width=\"3.2\"/>\n",
       "<circle clip-path=\"url(#clip6502)\" cx=\"1706.97\" cy=\"465.547\" r=\"14\" fill=\"#009af9\" fill-rule=\"evenodd\" fill-opacity=\"1\" stroke=\"#000000\" stroke-opacity=\"1\" stroke-width=\"3.2\"/>\n",
       "<circle clip-path=\"url(#clip6502)\" cx=\"1706.97\" cy=\"465.547\" r=\"14\" fill=\"#009af9\" fill-rule=\"evenodd\" fill-opacity=\"1\" stroke=\"#000000\" stroke-opacity=\"1\" stroke-width=\"3.2\"/>\n",
       "<circle clip-path=\"url(#clip6502)\" cx=\"1706.97\" cy=\"465.547\" r=\"14\" fill=\"#009af9\" fill-rule=\"evenodd\" fill-opacity=\"1\" stroke=\"#000000\" stroke-opacity=\"1\" stroke-width=\"3.2\"/>\n",
       "<circle clip-path=\"url(#clip6502)\" cx=\"1706.97\" cy=\"465.547\" r=\"14\" fill=\"#009af9\" fill-rule=\"evenodd\" fill-opacity=\"1\" stroke=\"#000000\" stroke-opacity=\"1\" stroke-width=\"3.2\"/>\n",
       "<circle clip-path=\"url(#clip6502)\" cx=\"1706.97\" cy=\"465.547\" r=\"14\" fill=\"#009af9\" fill-rule=\"evenodd\" fill-opacity=\"1\" stroke=\"#000000\" stroke-opacity=\"1\" stroke-width=\"3.2\"/>\n",
       "<circle clip-path=\"url(#clip6502)\" cx=\"1706.97\" cy=\"465.547\" r=\"14\" fill=\"#009af9\" fill-rule=\"evenodd\" fill-opacity=\"1\" stroke=\"#000000\" stroke-opacity=\"1\" stroke-width=\"3.2\"/>\n",
       "<circle clip-path=\"url(#clip6502)\" cx=\"1706.97\" cy=\"465.547\" r=\"14\" fill=\"#009af9\" fill-rule=\"evenodd\" fill-opacity=\"1\" stroke=\"#000000\" stroke-opacity=\"1\" stroke-width=\"3.2\"/>\n",
       "<circle clip-path=\"url(#clip6502)\" cx=\"1706.97\" cy=\"465.547\" r=\"14\" fill=\"#009af9\" fill-rule=\"evenodd\" fill-opacity=\"1\" stroke=\"#000000\" stroke-opacity=\"1\" stroke-width=\"3.2\"/>\n",
       "<circle clip-path=\"url(#clip6502)\" cx=\"1706.97\" cy=\"465.547\" r=\"14\" fill=\"#009af9\" fill-rule=\"evenodd\" fill-opacity=\"1\" stroke=\"#000000\" stroke-opacity=\"1\" stroke-width=\"3.2\"/>\n",
       "<circle clip-path=\"url(#clip6502)\" cx=\"1706.97\" cy=\"465.547\" r=\"14\" fill=\"#009af9\" fill-rule=\"evenodd\" fill-opacity=\"1\" stroke=\"#000000\" stroke-opacity=\"1\" stroke-width=\"3.2\"/>\n",
       "<circle clip-path=\"url(#clip6502)\" cx=\"1706.97\" cy=\"465.547\" r=\"14\" fill=\"#009af9\" fill-rule=\"evenodd\" fill-opacity=\"1\" stroke=\"#000000\" stroke-opacity=\"1\" stroke-width=\"3.2\"/>\n",
       "<circle clip-path=\"url(#clip6502)\" cx=\"1706.97\" cy=\"465.547\" r=\"14\" fill=\"#009af9\" fill-rule=\"evenodd\" fill-opacity=\"1\" stroke=\"#000000\" stroke-opacity=\"1\" stroke-width=\"3.2\"/>\n",
       "<circle clip-path=\"url(#clip6502)\" cx=\"1706.97\" cy=\"465.547\" r=\"14\" fill=\"#009af9\" fill-rule=\"evenodd\" fill-opacity=\"1\" stroke=\"#000000\" stroke-opacity=\"1\" stroke-width=\"3.2\"/>\n",
       "<circle clip-path=\"url(#clip6502)\" cx=\"1706.97\" cy=\"465.547\" r=\"14\" fill=\"#009af9\" fill-rule=\"evenodd\" fill-opacity=\"1\" stroke=\"#000000\" stroke-opacity=\"1\" stroke-width=\"3.2\"/>\n",
       "<circle clip-path=\"url(#clip6502)\" cx=\"1706.97\" cy=\"465.547\" r=\"14\" fill=\"#009af9\" fill-rule=\"evenodd\" fill-opacity=\"1\" stroke=\"#000000\" stroke-opacity=\"1\" stroke-width=\"3.2\"/>\n",
       "<circle clip-path=\"url(#clip6502)\" cx=\"1706.97\" cy=\"465.547\" r=\"14\" fill=\"#009af9\" fill-rule=\"evenodd\" fill-opacity=\"1\" stroke=\"#000000\" stroke-opacity=\"1\" stroke-width=\"3.2\"/>\n",
       "<circle clip-path=\"url(#clip6502)\" cx=\"1706.97\" cy=\"465.547\" r=\"14\" fill=\"#009af9\" fill-rule=\"evenodd\" fill-opacity=\"1\" stroke=\"#000000\" stroke-opacity=\"1\" stroke-width=\"3.2\"/>\n",
       "<circle clip-path=\"url(#clip6502)\" cx=\"1706.97\" cy=\"465.547\" r=\"14\" fill=\"#009af9\" fill-rule=\"evenodd\" fill-opacity=\"1\" stroke=\"#000000\" stroke-opacity=\"1\" stroke-width=\"3.2\"/>\n",
       "<circle clip-path=\"url(#clip6502)\" cx=\"1706.97\" cy=\"465.547\" r=\"14\" fill=\"#009af9\" fill-rule=\"evenodd\" fill-opacity=\"1\" stroke=\"#000000\" stroke-opacity=\"1\" stroke-width=\"3.2\"/>\n",
       "<circle clip-path=\"url(#clip6502)\" cx=\"1706.97\" cy=\"465.547\" r=\"14\" fill=\"#009af9\" fill-rule=\"evenodd\" fill-opacity=\"1\" stroke=\"#000000\" stroke-opacity=\"1\" stroke-width=\"3.2\"/>\n",
       "<circle clip-path=\"url(#clip6502)\" cx=\"1706.97\" cy=\"465.547\" r=\"14\" fill=\"#009af9\" fill-rule=\"evenodd\" fill-opacity=\"1\" stroke=\"#000000\" stroke-opacity=\"1\" stroke-width=\"3.2\"/>\n",
       "<circle clip-path=\"url(#clip6502)\" cx=\"1706.97\" cy=\"465.547\" r=\"14\" fill=\"#009af9\" fill-rule=\"evenodd\" fill-opacity=\"1\" stroke=\"#000000\" stroke-opacity=\"1\" stroke-width=\"3.2\"/>\n",
       "<circle clip-path=\"url(#clip6502)\" cx=\"1706.97\" cy=\"465.547\" r=\"14\" fill=\"#009af9\" fill-rule=\"evenodd\" fill-opacity=\"1\" stroke=\"#000000\" stroke-opacity=\"1\" stroke-width=\"3.2\"/>\n",
       "<circle clip-path=\"url(#clip6502)\" cx=\"1773.91\" cy=\"478.278\" r=\"14\" fill=\"#009af9\" fill-rule=\"evenodd\" fill-opacity=\"1\" stroke=\"#000000\" stroke-opacity=\"1\" stroke-width=\"3.2\"/>\n",
       "<circle clip-path=\"url(#clip6502)\" cx=\"1764.23\" cy=\"465.582\" r=\"14\" fill=\"#009af9\" fill-rule=\"evenodd\" fill-opacity=\"1\" stroke=\"#000000\" stroke-opacity=\"1\" stroke-width=\"3.2\"/>\n",
       "<circle clip-path=\"url(#clip6502)\" cx=\"1764.23\" cy=\"465.582\" r=\"14\" fill=\"#009af9\" fill-rule=\"evenodd\" fill-opacity=\"1\" stroke=\"#000000\" stroke-opacity=\"1\" stroke-width=\"3.2\"/>\n",
       "<circle clip-path=\"url(#clip6502)\" cx=\"1764.23\" cy=\"465.582\" r=\"14\" fill=\"#009af9\" fill-rule=\"evenodd\" fill-opacity=\"1\" stroke=\"#000000\" stroke-opacity=\"1\" stroke-width=\"3.2\"/>\n",
       "<circle clip-path=\"url(#clip6502)\" cx=\"1764.23\" cy=\"465.582\" r=\"14\" fill=\"#009af9\" fill-rule=\"evenodd\" fill-opacity=\"1\" stroke=\"#000000\" stroke-opacity=\"1\" stroke-width=\"3.2\"/>\n",
       "<circle clip-path=\"url(#clip6502)\" cx=\"1764.23\" cy=\"465.582\" r=\"14\" fill=\"#009af9\" fill-rule=\"evenodd\" fill-opacity=\"1\" stroke=\"#000000\" stroke-opacity=\"1\" stroke-width=\"3.2\"/>\n",
       "<circle clip-path=\"url(#clip6502)\" cx=\"1764.23\" cy=\"465.582\" r=\"14\" fill=\"#009af9\" fill-rule=\"evenodd\" fill-opacity=\"1\" stroke=\"#000000\" stroke-opacity=\"1\" stroke-width=\"3.2\"/>\n",
       "<circle clip-path=\"url(#clip6502)\" cx=\"1764.23\" cy=\"465.582\" r=\"14\" fill=\"#009af9\" fill-rule=\"evenodd\" fill-opacity=\"1\" stroke=\"#000000\" stroke-opacity=\"1\" stroke-width=\"3.2\"/>\n",
       "<circle clip-path=\"url(#clip6502)\" cx=\"1764.23\" cy=\"465.582\" r=\"14\" fill=\"#009af9\" fill-rule=\"evenodd\" fill-opacity=\"1\" stroke=\"#000000\" stroke-opacity=\"1\" stroke-width=\"3.2\"/>\n",
       "<circle clip-path=\"url(#clip6502)\" cx=\"1764.23\" cy=\"465.582\" r=\"14\" fill=\"#009af9\" fill-rule=\"evenodd\" fill-opacity=\"1\" stroke=\"#000000\" stroke-opacity=\"1\" stroke-width=\"3.2\"/>\n",
       "<circle clip-path=\"url(#clip6502)\" cx=\"1764.23\" cy=\"465.582\" r=\"14\" fill=\"#009af9\" fill-rule=\"evenodd\" fill-opacity=\"1\" stroke=\"#000000\" stroke-opacity=\"1\" stroke-width=\"3.2\"/>\n",
       "<circle clip-path=\"url(#clip6502)\" cx=\"1752.63\" cy=\"482.746\" r=\"14\" fill=\"#009af9\" fill-rule=\"evenodd\" fill-opacity=\"1\" stroke=\"#000000\" stroke-opacity=\"1\" stroke-width=\"3.2\"/>\n",
       "<circle clip-path=\"url(#clip6502)\" cx=\"1786.95\" cy=\"513.975\" r=\"14\" fill=\"#009af9\" fill-rule=\"evenodd\" fill-opacity=\"1\" stroke=\"#000000\" stroke-opacity=\"1\" stroke-width=\"3.2\"/>\n",
       "<circle clip-path=\"url(#clip6502)\" cx=\"1773.91\" cy=\"478.278\" r=\"14\" fill=\"#009af9\" fill-rule=\"evenodd\" fill-opacity=\"1\" stroke=\"#000000\" stroke-opacity=\"1\" stroke-width=\"3.2\"/>\n",
       "<circle clip-path=\"url(#clip6502)\" cx=\"1773.91\" cy=\"478.278\" r=\"14\" fill=\"#009af9\" fill-rule=\"evenodd\" fill-opacity=\"1\" stroke=\"#000000\" stroke-opacity=\"1\" stroke-width=\"3.2\"/>\n",
       "<circle clip-path=\"url(#clip6502)\" cx=\"1764.23\" cy=\"465.582\" r=\"14\" fill=\"#009af9\" fill-rule=\"evenodd\" fill-opacity=\"1\" stroke=\"#000000\" stroke-opacity=\"1\" stroke-width=\"3.2\"/>\n",
       "<circle clip-path=\"url(#clip6502)\" cx=\"1773.91\" cy=\"478.278\" r=\"14\" fill=\"#009af9\" fill-rule=\"evenodd\" fill-opacity=\"1\" stroke=\"#000000\" stroke-opacity=\"1\" stroke-width=\"3.2\"/>\n",
       "<circle clip-path=\"url(#clip6502)\" cx=\"1773.91\" cy=\"478.278\" r=\"14\" fill=\"#009af9\" fill-rule=\"evenodd\" fill-opacity=\"1\" stroke=\"#000000\" stroke-opacity=\"1\" stroke-width=\"3.2\"/>\n",
       "<circle clip-path=\"url(#clip6502)\" cx=\"1765.61\" cy=\"482.766\" r=\"14\" fill=\"#009af9\" fill-rule=\"evenodd\" fill-opacity=\"1\" stroke=\"#000000\" stroke-opacity=\"1\" stroke-width=\"3.2\"/>\n",
       "<circle clip-path=\"url(#clip6502)\" cx=\"1765.61\" cy=\"482.766\" r=\"14\" fill=\"#009af9\" fill-rule=\"evenodd\" fill-opacity=\"1\" stroke=\"#000000\" stroke-opacity=\"1\" stroke-width=\"3.2\"/>\n",
       "<circle clip-path=\"url(#clip6502)\" cx=\"1746.6\" cy=\"482.017\" r=\"14\" fill=\"#009af9\" fill-rule=\"evenodd\" fill-opacity=\"1\" stroke=\"#000000\" stroke-opacity=\"1\" stroke-width=\"3.2\"/>\n",
       "<circle clip-path=\"url(#clip6502)\" cx=\"1746.6\" cy=\"482.017\" r=\"14\" fill=\"#009af9\" fill-rule=\"evenodd\" fill-opacity=\"1\" stroke=\"#000000\" stroke-opacity=\"1\" stroke-width=\"3.2\"/>\n",
       "<circle clip-path=\"url(#clip6502)\" cx=\"1746.6\" cy=\"482.017\" r=\"14\" fill=\"#009af9\" fill-rule=\"evenodd\" fill-opacity=\"1\" stroke=\"#000000\" stroke-opacity=\"1\" stroke-width=\"3.2\"/>\n",
       "<circle clip-path=\"url(#clip6502)\" cx=\"1766.53\" cy=\"485.187\" r=\"14\" fill=\"#009af9\" fill-rule=\"evenodd\" fill-opacity=\"1\" stroke=\"#000000\" stroke-opacity=\"1\" stroke-width=\"3.2\"/>\n",
       "<circle clip-path=\"url(#clip6502)\" cx=\"1786.95\" cy=\"513.975\" r=\"14\" fill=\"#009af9\" fill-rule=\"evenodd\" fill-opacity=\"1\" stroke=\"#000000\" stroke-opacity=\"1\" stroke-width=\"3.2\"/>\n",
       "<circle clip-path=\"url(#clip6502)\" cx=\"1775.85\" cy=\"481.836\" r=\"14\" fill=\"#009af9\" fill-rule=\"evenodd\" fill-opacity=\"1\" stroke=\"#000000\" stroke-opacity=\"1\" stroke-width=\"3.2\"/>\n",
       "<circle clip-path=\"url(#clip6502)\" cx=\"1775.85\" cy=\"481.836\" r=\"14\" fill=\"#009af9\" fill-rule=\"evenodd\" fill-opacity=\"1\" stroke=\"#000000\" stroke-opacity=\"1\" stroke-width=\"3.2\"/>\n",
       "<circle clip-path=\"url(#clip6502)\" cx=\"1769.98\" cy=\"513.032\" r=\"14\" fill=\"#009af9\" fill-rule=\"evenodd\" fill-opacity=\"1\" stroke=\"#000000\" stroke-opacity=\"1\" stroke-width=\"3.2\"/>\n",
       "<circle clip-path=\"url(#clip6502)\" cx=\"1769.98\" cy=\"513.032\" r=\"14\" fill=\"#009af9\" fill-rule=\"evenodd\" fill-opacity=\"1\" stroke=\"#000000\" stroke-opacity=\"1\" stroke-width=\"3.2\"/>\n",
       "<circle clip-path=\"url(#clip6502)\" cx=\"1764.23\" cy=\"465.582\" r=\"14\" fill=\"#009af9\" fill-rule=\"evenodd\" fill-opacity=\"1\" stroke=\"#000000\" stroke-opacity=\"1\" stroke-width=\"3.2\"/>\n",
       "<circle clip-path=\"url(#clip6502)\" cx=\"1764.23\" cy=\"465.582\" r=\"14\" fill=\"#009af9\" fill-rule=\"evenodd\" fill-opacity=\"1\" stroke=\"#000000\" stroke-opacity=\"1\" stroke-width=\"3.2\"/>\n",
       "<circle clip-path=\"url(#clip6502)\" cx=\"1706.97\" cy=\"465.547\" r=\"14\" fill=\"#009af9\" fill-rule=\"evenodd\" fill-opacity=\"1\" stroke=\"#000000\" stroke-opacity=\"1\" stroke-width=\"3.2\"/>\n",
       "<circle clip-path=\"url(#clip6502)\" cx=\"1764.23\" cy=\"465.582\" r=\"14\" fill=\"#009af9\" fill-rule=\"evenodd\" fill-opacity=\"1\" stroke=\"#000000\" stroke-opacity=\"1\" stroke-width=\"3.2\"/>\n",
       "<circle clip-path=\"url(#clip6502)\" cx=\"1764.23\" cy=\"465.582\" r=\"14\" fill=\"#009af9\" fill-rule=\"evenodd\" fill-opacity=\"1\" stroke=\"#000000\" stroke-opacity=\"1\" stroke-width=\"3.2\"/>\n",
       "<circle clip-path=\"url(#clip6502)\" cx=\"1764.23\" cy=\"465.582\" r=\"14\" fill=\"#009af9\" fill-rule=\"evenodd\" fill-opacity=\"1\" stroke=\"#000000\" stroke-opacity=\"1\" stroke-width=\"3.2\"/>\n",
       "<circle clip-path=\"url(#clip6502)\" cx=\"1764.23\" cy=\"465.582\" r=\"14\" fill=\"#009af9\" fill-rule=\"evenodd\" fill-opacity=\"1\" stroke=\"#000000\" stroke-opacity=\"1\" stroke-width=\"3.2\"/>\n",
       "<circle clip-path=\"url(#clip6502)\" cx=\"1764.23\" cy=\"465.582\" r=\"14\" fill=\"#009af9\" fill-rule=\"evenodd\" fill-opacity=\"1\" stroke=\"#000000\" stroke-opacity=\"1\" stroke-width=\"3.2\"/>\n",
       "<circle clip-path=\"url(#clip6502)\" cx=\"1764.23\" cy=\"465.582\" r=\"14\" fill=\"#009af9\" fill-rule=\"evenodd\" fill-opacity=\"1\" stroke=\"#000000\" stroke-opacity=\"1\" stroke-width=\"3.2\"/>\n",
       "<circle clip-path=\"url(#clip6502)\" cx=\"1764.23\" cy=\"465.582\" r=\"14\" fill=\"#009af9\" fill-rule=\"evenodd\" fill-opacity=\"1\" stroke=\"#000000\" stroke-opacity=\"1\" stroke-width=\"3.2\"/>\n",
       "<circle clip-path=\"url(#clip6502)\" cx=\"1706.97\" cy=\"465.547\" r=\"14\" fill=\"#009af9\" fill-rule=\"evenodd\" fill-opacity=\"1\" stroke=\"#000000\" stroke-opacity=\"1\" stroke-width=\"3.2\"/>\n",
       "<circle clip-path=\"url(#clip6502)\" cx=\"1706.97\" cy=\"465.547\" r=\"14\" fill=\"#009af9\" fill-rule=\"evenodd\" fill-opacity=\"1\" stroke=\"#000000\" stroke-opacity=\"1\" stroke-width=\"3.2\"/>\n",
       "<circle clip-path=\"url(#clip6502)\" cx=\"1706.97\" cy=\"465.547\" r=\"14\" fill=\"#009af9\" fill-rule=\"evenodd\" fill-opacity=\"1\" stroke=\"#000000\" stroke-opacity=\"1\" stroke-width=\"3.2\"/>\n",
       "<circle clip-path=\"url(#clip6502)\" cx=\"1706.97\" cy=\"465.547\" r=\"14\" fill=\"#009af9\" fill-rule=\"evenodd\" fill-opacity=\"1\" stroke=\"#000000\" stroke-opacity=\"1\" stroke-width=\"3.2\"/>\n",
       "<circle clip-path=\"url(#clip6502)\" cx=\"1706.97\" cy=\"465.547\" r=\"14\" fill=\"#009af9\" fill-rule=\"evenodd\" fill-opacity=\"1\" stroke=\"#000000\" stroke-opacity=\"1\" stroke-width=\"3.2\"/>\n",
       "<circle clip-path=\"url(#clip6502)\" cx=\"1706.97\" cy=\"465.547\" r=\"14\" fill=\"#009af9\" fill-rule=\"evenodd\" fill-opacity=\"1\" stroke=\"#000000\" stroke-opacity=\"1\" stroke-width=\"3.2\"/>\n",
       "<circle clip-path=\"url(#clip6502)\" cx=\"1706.97\" cy=\"465.547\" r=\"14\" fill=\"#009af9\" fill-rule=\"evenodd\" fill-opacity=\"1\" stroke=\"#000000\" stroke-opacity=\"1\" stroke-width=\"3.2\"/>\n",
       "<circle clip-path=\"url(#clip6502)\" cx=\"1706.97\" cy=\"465.547\" r=\"14\" fill=\"#009af9\" fill-rule=\"evenodd\" fill-opacity=\"1\" stroke=\"#000000\" stroke-opacity=\"1\" stroke-width=\"3.2\"/>\n",
       "<circle clip-path=\"url(#clip6502)\" cx=\"1706.97\" cy=\"465.547\" r=\"14\" fill=\"#009af9\" fill-rule=\"evenodd\" fill-opacity=\"1\" stroke=\"#000000\" stroke-opacity=\"1\" stroke-width=\"3.2\"/>\n",
       "<circle clip-path=\"url(#clip6502)\" cx=\"1706.97\" cy=\"465.547\" r=\"14\" fill=\"#009af9\" fill-rule=\"evenodd\" fill-opacity=\"1\" stroke=\"#000000\" stroke-opacity=\"1\" stroke-width=\"3.2\"/>\n",
       "<circle clip-path=\"url(#clip6502)\" cx=\"1706.97\" cy=\"465.547\" r=\"14\" fill=\"#009af9\" fill-rule=\"evenodd\" fill-opacity=\"1\" stroke=\"#000000\" stroke-opacity=\"1\" stroke-width=\"3.2\"/>\n",
       "<circle clip-path=\"url(#clip6502)\" cx=\"1706.97\" cy=\"465.547\" r=\"14\" fill=\"#009af9\" fill-rule=\"evenodd\" fill-opacity=\"1\" stroke=\"#000000\" stroke-opacity=\"1\" stroke-width=\"3.2\"/>\n",
       "<circle clip-path=\"url(#clip6502)\" cx=\"1706.97\" cy=\"465.547\" r=\"14\" fill=\"#009af9\" fill-rule=\"evenodd\" fill-opacity=\"1\" stroke=\"#000000\" stroke-opacity=\"1\" stroke-width=\"3.2\"/>\n",
       "<circle clip-path=\"url(#clip6502)\" cx=\"1706.97\" cy=\"465.547\" r=\"14\" fill=\"#009af9\" fill-rule=\"evenodd\" fill-opacity=\"1\" stroke=\"#000000\" stroke-opacity=\"1\" stroke-width=\"3.2\"/>\n",
       "<circle clip-path=\"url(#clip6502)\" cx=\"1706.97\" cy=\"465.547\" r=\"14\" fill=\"#009af9\" fill-rule=\"evenodd\" fill-opacity=\"1\" stroke=\"#000000\" stroke-opacity=\"1\" stroke-width=\"3.2\"/>\n",
       "<circle clip-path=\"url(#clip6502)\" cx=\"1706.97\" cy=\"465.547\" r=\"14\" fill=\"#009af9\" fill-rule=\"evenodd\" fill-opacity=\"1\" stroke=\"#000000\" stroke-opacity=\"1\" stroke-width=\"3.2\"/>\n",
       "<circle clip-path=\"url(#clip6502)\" cx=\"1706.97\" cy=\"465.547\" r=\"14\" fill=\"#009af9\" fill-rule=\"evenodd\" fill-opacity=\"1\" stroke=\"#000000\" stroke-opacity=\"1\" stroke-width=\"3.2\"/>\n",
       "<circle clip-path=\"url(#clip6502)\" cx=\"1706.97\" cy=\"465.547\" r=\"14\" fill=\"#009af9\" fill-rule=\"evenodd\" fill-opacity=\"1\" stroke=\"#000000\" stroke-opacity=\"1\" stroke-width=\"3.2\"/>\n",
       "<circle clip-path=\"url(#clip6502)\" cx=\"1706.97\" cy=\"465.547\" r=\"14\" fill=\"#009af9\" fill-rule=\"evenodd\" fill-opacity=\"1\" stroke=\"#000000\" stroke-opacity=\"1\" stroke-width=\"3.2\"/>\n",
       "<circle clip-path=\"url(#clip6502)\" cx=\"1706.97\" cy=\"465.547\" r=\"14\" fill=\"#009af9\" fill-rule=\"evenodd\" fill-opacity=\"1\" stroke=\"#000000\" stroke-opacity=\"1\" stroke-width=\"3.2\"/>\n",
       "<circle clip-path=\"url(#clip6502)\" cx=\"1706.97\" cy=\"465.547\" r=\"14\" fill=\"#009af9\" fill-rule=\"evenodd\" fill-opacity=\"1\" stroke=\"#000000\" stroke-opacity=\"1\" stroke-width=\"3.2\"/>\n",
       "<circle clip-path=\"url(#clip6502)\" cx=\"1706.97\" cy=\"465.547\" r=\"14\" fill=\"#009af9\" fill-rule=\"evenodd\" fill-opacity=\"1\" stroke=\"#000000\" stroke-opacity=\"1\" stroke-width=\"3.2\"/>\n",
       "<circle clip-path=\"url(#clip6502)\" cx=\"1706.97\" cy=\"465.547\" r=\"14\" fill=\"#009af9\" fill-rule=\"evenodd\" fill-opacity=\"1\" stroke=\"#000000\" stroke-opacity=\"1\" stroke-width=\"3.2\"/>\n",
       "<circle clip-path=\"url(#clip6502)\" cx=\"1743.78\" cy=\"487.277\" r=\"14\" fill=\"#009af9\" fill-rule=\"evenodd\" fill-opacity=\"1\" stroke=\"#000000\" stroke-opacity=\"1\" stroke-width=\"3.2\"/>\n",
       "<circle clip-path=\"url(#clip6502)\" cx=\"1725.24\" cy=\"491.062\" r=\"14\" fill=\"#009af9\" fill-rule=\"evenodd\" fill-opacity=\"1\" stroke=\"#000000\" stroke-opacity=\"1\" stroke-width=\"3.2\"/>\n",
       "<circle clip-path=\"url(#clip6502)\" cx=\"1696.72\" cy=\"475.072\" r=\"14\" fill=\"#009af9\" fill-rule=\"evenodd\" fill-opacity=\"1\" stroke=\"#000000\" stroke-opacity=\"1\" stroke-width=\"3.2\"/>\n",
       "<circle clip-path=\"url(#clip6502)\" cx=\"1725.97\" cy=\"474.891\" r=\"14\" fill=\"#009af9\" fill-rule=\"evenodd\" fill-opacity=\"1\" stroke=\"#000000\" stroke-opacity=\"1\" stroke-width=\"3.2\"/>\n",
       "<circle clip-path=\"url(#clip6502)\" cx=\"1745.96\" cy=\"480.571\" r=\"14\" fill=\"#009af9\" fill-rule=\"evenodd\" fill-opacity=\"1\" stroke=\"#000000\" stroke-opacity=\"1\" stroke-width=\"3.2\"/>\n",
       "<circle clip-path=\"url(#clip6502)\" cx=\"1714.25\" cy=\"476.254\" r=\"14\" fill=\"#009af9\" fill-rule=\"evenodd\" fill-opacity=\"1\" stroke=\"#000000\" stroke-opacity=\"1\" stroke-width=\"3.2\"/>\n",
       "<circle clip-path=\"url(#clip6502)\" cx=\"1696.72\" cy=\"475.072\" r=\"14\" fill=\"#009af9\" fill-rule=\"evenodd\" fill-opacity=\"1\" stroke=\"#000000\" stroke-opacity=\"1\" stroke-width=\"3.2\"/>\n",
       "<circle clip-path=\"url(#clip6502)\" cx=\"1716.65\" cy=\"478.242\" r=\"14\" fill=\"#009af9\" fill-rule=\"evenodd\" fill-opacity=\"1\" stroke=\"#000000\" stroke-opacity=\"1\" stroke-width=\"3.2\"/>\n",
       "<circle clip-path=\"url(#clip6502)\" cx=\"1725.97\" cy=\"474.891\" r=\"14\" fill=\"#009af9\" fill-rule=\"evenodd\" fill-opacity=\"1\" stroke=\"#000000\" stroke-opacity=\"1\" stroke-width=\"3.2\"/>\n",
       "<circle clip-path=\"url(#clip6502)\" cx=\"1696.72\" cy=\"475.072\" r=\"14\" fill=\"#009af9\" fill-rule=\"evenodd\" fill-opacity=\"1\" stroke=\"#000000\" stroke-opacity=\"1\" stroke-width=\"3.2\"/>\n",
       "<circle clip-path=\"url(#clip6502)\" cx=\"1757.4\" cy=\"500.692\" r=\"14\" fill=\"#009af9\" fill-rule=\"evenodd\" fill-opacity=\"1\" stroke=\"#000000\" stroke-opacity=\"1\" stroke-width=\"3.2\"/>\n",
       "<circle clip-path=\"url(#clip6502)\" cx=\"1775.3\" cy=\"495.461\" r=\"14\" fill=\"#009af9\" fill-rule=\"evenodd\" fill-opacity=\"1\" stroke=\"#000000\" stroke-opacity=\"1\" stroke-width=\"3.2\"/>\n",
       "<circle clip-path=\"url(#clip6502)\" cx=\"1724.48\" cy=\"497.502\" r=\"14\" fill=\"#009af9\" fill-rule=\"evenodd\" fill-opacity=\"1\" stroke=\"#000000\" stroke-opacity=\"1\" stroke-width=\"3.2\"/>\n",
       "<circle clip-path=\"url(#clip6502)\" cx=\"1744.41\" cy=\"500.672\" r=\"14\" fill=\"#009af9\" fill-rule=\"evenodd\" fill-opacity=\"1\" stroke=\"#000000\" stroke-opacity=\"1\" stroke-width=\"3.2\"/>\n",
       "<circle clip-path=\"url(#clip6502)\" cx=\"1698.75\" cy=\"483.473\" r=\"14\" fill=\"#009af9\" fill-rule=\"evenodd\" fill-opacity=\"1\" stroke=\"#000000\" stroke-opacity=\"1\" stroke-width=\"3.2\"/>\n",
       "<circle clip-path=\"url(#clip6502)\" cx=\"1698.75\" cy=\"483.473\" r=\"14\" fill=\"#009af9\" fill-rule=\"evenodd\" fill-opacity=\"1\" stroke=\"#000000\" stroke-opacity=\"1\" stroke-width=\"3.2\"/>\n",
       "<circle clip-path=\"url(#clip6502)\" cx=\"1750.97\" cy=\"505.091\" r=\"14\" fill=\"#009af9\" fill-rule=\"evenodd\" fill-opacity=\"1\" stroke=\"#000000\" stroke-opacity=\"1\" stroke-width=\"3.2\"/>\n",
       "<circle clip-path=\"url(#clip6502)\" cx=\"1698.75\" cy=\"483.473\" r=\"14\" fill=\"#009af9\" fill-rule=\"evenodd\" fill-opacity=\"1\" stroke=\"#000000\" stroke-opacity=\"1\" stroke-width=\"3.2\"/>\n",
       "<circle clip-path=\"url(#clip6502)\" cx=\"1741.82\" cy=\"527.788\" r=\"14\" fill=\"#009af9\" fill-rule=\"evenodd\" fill-opacity=\"1\" stroke=\"#000000\" stroke-opacity=\"1\" stroke-width=\"3.2\"/>\n",
       "<circle clip-path=\"url(#clip6502)\" cx=\"1684.8\" cy=\"507.741\" r=\"14\" fill=\"#009af9\" fill-rule=\"evenodd\" fill-opacity=\"1\" stroke=\"#000000\" stroke-opacity=\"1\" stroke-width=\"3.2\"/>\n",
       "<circle clip-path=\"url(#clip6502)\" cx=\"1717.68\" cy=\"512.694\" r=\"14\" fill=\"#009af9\" fill-rule=\"evenodd\" fill-opacity=\"1\" stroke=\"#000000\" stroke-opacity=\"1\" stroke-width=\"3.2\"/>\n",
       "<circle clip-path=\"url(#clip6502)\" cx=\"1706.97\" cy=\"465.547\" r=\"14\" fill=\"#009af9\" fill-rule=\"evenodd\" fill-opacity=\"1\" stroke=\"#000000\" stroke-opacity=\"1\" stroke-width=\"3.2\"/>\n",
       "<circle clip-path=\"url(#clip6502)\" cx=\"1716.65\" cy=\"478.242\" r=\"14\" fill=\"#009af9\" fill-rule=\"evenodd\" fill-opacity=\"1\" stroke=\"#000000\" stroke-opacity=\"1\" stroke-width=\"3.2\"/>\n",
       "<circle clip-path=\"url(#clip6502)\" cx=\"1706.97\" cy=\"465.547\" r=\"14\" fill=\"#009af9\" fill-rule=\"evenodd\" fill-opacity=\"1\" stroke=\"#000000\" stroke-opacity=\"1\" stroke-width=\"3.2\"/>\n",
       "<circle clip-path=\"url(#clip6502)\" cx=\"1706.97\" cy=\"465.547\" r=\"14\" fill=\"#009af9\" fill-rule=\"evenodd\" fill-opacity=\"1\" stroke=\"#000000\" stroke-opacity=\"1\" stroke-width=\"3.2\"/>\n",
       "<circle clip-path=\"url(#clip6502)\" cx=\"1706.97\" cy=\"465.547\" r=\"14\" fill=\"#009af9\" fill-rule=\"evenodd\" fill-opacity=\"1\" stroke=\"#000000\" stroke-opacity=\"1\" stroke-width=\"3.2\"/>\n",
       "<circle clip-path=\"url(#clip6502)\" cx=\"1791.08\" cy=\"550.944\" r=\"14\" fill=\"#009af9\" fill-rule=\"evenodd\" fill-opacity=\"1\" stroke=\"#000000\" stroke-opacity=\"1\" stroke-width=\"3.2\"/>\n",
       "<circle clip-path=\"url(#clip6502)\" cx=\"1758.32\" cy=\"494.518\" r=\"14\" fill=\"#009af9\" fill-rule=\"evenodd\" fill-opacity=\"1\" stroke=\"#000000\" stroke-opacity=\"1\" stroke-width=\"3.2\"/>\n",
       "<circle clip-path=\"url(#clip6502)\" cx=\"1765.61\" cy=\"482.766\" r=\"14\" fill=\"#009af9\" fill-rule=\"evenodd\" fill-opacity=\"1\" stroke=\"#000000\" stroke-opacity=\"1\" stroke-width=\"3.2\"/>\n",
       "<circle clip-path=\"url(#clip6502)\" cx=\"1716.8\" cy=\"562.946\" r=\"14\" fill=\"#009af9\" fill-rule=\"evenodd\" fill-opacity=\"1\" stroke=\"#000000\" stroke-opacity=\"1\" stroke-width=\"3.2\"/>\n",
       "<circle clip-path=\"url(#clip6502)\" cx=\"1698.75\" cy=\"483.473\" r=\"14\" fill=\"#009af9\" fill-rule=\"evenodd\" fill-opacity=\"1\" stroke=\"#000000\" stroke-opacity=\"1\" stroke-width=\"3.2\"/>\n",
       "<circle clip-path=\"url(#clip6502)\" cx=\"1706.97\" cy=\"465.547\" r=\"14\" fill=\"#009af9\" fill-rule=\"evenodd\" fill-opacity=\"1\" stroke=\"#000000\" stroke-opacity=\"1\" stroke-width=\"3.2\"/>\n",
       "<circle clip-path=\"url(#clip6502)\" cx=\"1791.08\" cy=\"550.944\" r=\"14\" fill=\"#009af9\" fill-rule=\"evenodd\" fill-opacity=\"1\" stroke=\"#000000\" stroke-opacity=\"1\" stroke-width=\"3.2\"/>\n",
       "<circle clip-path=\"url(#clip6502)\" cx=\"1706.97\" cy=\"465.547\" r=\"14\" fill=\"#009af9\" fill-rule=\"evenodd\" fill-opacity=\"1\" stroke=\"#000000\" stroke-opacity=\"1\" stroke-width=\"3.2\"/>\n",
       "<circle clip-path=\"url(#clip6502)\" cx=\"1724.48\" cy=\"497.502\" r=\"14\" fill=\"#009af9\" fill-rule=\"evenodd\" fill-opacity=\"1\" stroke=\"#000000\" stroke-opacity=\"1\" stroke-width=\"3.2\"/>\n",
       "<circle clip-path=\"url(#clip6502)\" cx=\"1762.79\" cy=\"488.026\" r=\"14\" fill=\"#009af9\" fill-rule=\"evenodd\" fill-opacity=\"1\" stroke=\"#000000\" stroke-opacity=\"1\" stroke-width=\"3.2\"/>\n",
       "<circle clip-path=\"url(#clip6502)\" cx=\"1715.4\" cy=\"562.212\" r=\"14\" fill=\"#009af9\" fill-rule=\"evenodd\" fill-opacity=\"1\" stroke=\"#000000\" stroke-opacity=\"1\" stroke-width=\"3.2\"/>\n",
       "<circle clip-path=\"url(#clip6502)\" cx=\"1764.23\" cy=\"465.582\" r=\"14\" fill=\"#009af9\" fill-rule=\"evenodd\" fill-opacity=\"1\" stroke=\"#000000\" stroke-opacity=\"1\" stroke-width=\"3.2\"/>\n",
       "<circle clip-path=\"url(#clip6502)\" cx=\"1773.91\" cy=\"478.278\" r=\"14\" fill=\"#009af9\" fill-rule=\"evenodd\" fill-opacity=\"1\" stroke=\"#000000\" stroke-opacity=\"1\" stroke-width=\"3.2\"/>\n",
       "<circle clip-path=\"url(#clip6502)\" cx=\"1743.68\" cy=\"516.843\" r=\"14\" fill=\"#009af9\" fill-rule=\"evenodd\" fill-opacity=\"1\" stroke=\"#000000\" stroke-opacity=\"1\" stroke-width=\"3.2\"/>\n",
       "<circle clip-path=\"url(#clip6502)\" cx=\"1728.03\" cy=\"495.781\" r=\"14\" fill=\"#009af9\" fill-rule=\"evenodd\" fill-opacity=\"1\" stroke=\"#000000\" stroke-opacity=\"1\" stroke-width=\"3.2\"/>\n",
       "<circle clip-path=\"url(#clip6502)\" cx=\"1728.98\" cy=\"479.627\" r=\"14\" fill=\"#009af9\" fill-rule=\"evenodd\" fill-opacity=\"1\" stroke=\"#000000\" stroke-opacity=\"1\" stroke-width=\"3.2\"/>\n",
       "<circle clip-path=\"url(#clip6502)\" cx=\"1786.95\" cy=\"513.975\" r=\"14\" fill=\"#009af9\" fill-rule=\"evenodd\" fill-opacity=\"1\" stroke=\"#000000\" stroke-opacity=\"1\" stroke-width=\"3.2\"/>\n",
       "<circle clip-path=\"url(#clip6502)\" cx=\"1786.95\" cy=\"513.975\" r=\"14\" fill=\"#e26f46\" fill-rule=\"evenodd\" fill-opacity=\"1\" stroke=\"#000000\" stroke-opacity=\"1\" stroke-width=\"3.2\"/>\n",
       "<circle clip-path=\"url(#clip6502)\" cx=\"1791.08\" cy=\"550.944\" r=\"14\" fill=\"#e26f46\" fill-rule=\"evenodd\" fill-opacity=\"1\" stroke=\"#000000\" stroke-opacity=\"1\" stroke-width=\"3.2\"/>\n",
       "<circle clip-path=\"url(#clip6502)\" cx=\"1706.97\" cy=\"465.547\" r=\"14\" fill=\"#e26f46\" fill-rule=\"evenodd\" fill-opacity=\"1\" stroke=\"#000000\" stroke-opacity=\"1\" stroke-width=\"3.2\"/>\n",
       "<circle clip-path=\"url(#clip6502)\" cx=\"1752.63\" cy=\"482.746\" r=\"14\" fill=\"#e26f46\" fill-rule=\"evenodd\" fill-opacity=\"1\" stroke=\"#000000\" stroke-opacity=\"1\" stroke-width=\"3.2\"/>\n",
       "<circle clip-path=\"url(#clip6502)\" cx=\"1775.85\" cy=\"481.836\" r=\"14\" fill=\"#e26f46\" fill-rule=\"evenodd\" fill-opacity=\"1\" stroke=\"#000000\" stroke-opacity=\"1\" stroke-width=\"3.2\"/>\n",
       "<circle clip-path=\"url(#clip6502)\" cx=\"1706.97\" cy=\"465.547\" r=\"14\" fill=\"#e26f46\" fill-rule=\"evenodd\" fill-opacity=\"1\" stroke=\"#000000\" stroke-opacity=\"1\" stroke-width=\"3.2\"/>\n",
       "<circle clip-path=\"url(#clip6502)\" cx=\"1786.95\" cy=\"513.975\" r=\"14\" fill=\"#e26f46\" fill-rule=\"evenodd\" fill-opacity=\"1\" stroke=\"#000000\" stroke-opacity=\"1\" stroke-width=\"3.2\"/>\n",
       "<circle clip-path=\"url(#clip6502)\" cx=\"1769.98\" cy=\"513.032\" r=\"14\" fill=\"#e26f46\" fill-rule=\"evenodd\" fill-opacity=\"1\" stroke=\"#000000\" stroke-opacity=\"1\" stroke-width=\"3.2\"/>\n",
       "<circle clip-path=\"url(#clip6502)\" cx=\"1791.08\" cy=\"550.944\" r=\"14\" fill=\"#e26f46\" fill-rule=\"evenodd\" fill-opacity=\"1\" stroke=\"#000000\" stroke-opacity=\"1\" stroke-width=\"3.2\"/>\n",
       "<circle clip-path=\"url(#clip6502)\" cx=\"1734.09\" cy=\"474.582\" r=\"14\" fill=\"#e26f46\" fill-rule=\"evenodd\" fill-opacity=\"1\" stroke=\"#000000\" stroke-opacity=\"1\" stroke-width=\"3.2\"/>\n",
       "<circle clip-path=\"url(#clip6502)\" cx=\"1775.85\" cy=\"481.836\" r=\"14\" fill=\"#e26f46\" fill-rule=\"evenodd\" fill-opacity=\"1\" stroke=\"#000000\" stroke-opacity=\"1\" stroke-width=\"3.2\"/>\n",
       "<circle clip-path=\"url(#clip6502)\" cx=\"1773.91\" cy=\"478.278\" r=\"14\" fill=\"#e26f46\" fill-rule=\"evenodd\" fill-opacity=\"1\" stroke=\"#000000\" stroke-opacity=\"1\" stroke-width=\"3.2\"/>\n",
       "<circle clip-path=\"url(#clip6502)\" cx=\"1746.6\" cy=\"482.017\" r=\"14\" fill=\"#e26f46\" fill-rule=\"evenodd\" fill-opacity=\"1\" stroke=\"#000000\" stroke-opacity=\"1\" stroke-width=\"3.2\"/>\n",
       "<circle clip-path=\"url(#clip6502)\" cx=\"1761.28\" cy=\"480.443\" r=\"14\" fill=\"#e26f46\" fill-rule=\"evenodd\" fill-opacity=\"1\" stroke=\"#000000\" stroke-opacity=\"1\" stroke-width=\"3.2\"/>\n",
       "<circle clip-path=\"url(#clip6502)\" cx=\"1765.89\" cy=\"483.741\" r=\"14\" fill=\"#e26f46\" fill-rule=\"evenodd\" fill-opacity=\"1\" stroke=\"#000000\" stroke-opacity=\"1\" stroke-width=\"3.2\"/>\n",
       "<circle clip-path=\"url(#clip6502)\" cx=\"1746.6\" cy=\"482.017\" r=\"14\" fill=\"#e26f46\" fill-rule=\"evenodd\" fill-opacity=\"1\" stroke=\"#000000\" stroke-opacity=\"1\" stroke-width=\"3.2\"/>\n",
       "<circle clip-path=\"url(#clip6502)\" cx=\"1762.63\" cy=\"466.647\" r=\"14\" fill=\"#e26f46\" fill-rule=\"evenodd\" fill-opacity=\"1\" stroke=\"#000000\" stroke-opacity=\"1\" stroke-width=\"3.2\"/>\n",
       "<circle clip-path=\"url(#clip6502)\" cx=\"1752.63\" cy=\"482.746\" r=\"14\" fill=\"#e26f46\" fill-rule=\"evenodd\" fill-opacity=\"1\" stroke=\"#000000\" stroke-opacity=\"1\" stroke-width=\"3.2\"/>\n",
       "<circle clip-path=\"url(#clip6502)\" cx=\"1748.92\" cy=\"482.798\" r=\"14\" fill=\"#e26f46\" fill-rule=\"evenodd\" fill-opacity=\"1\" stroke=\"#000000\" stroke-opacity=\"1\" stroke-width=\"3.2\"/>\n",
       "<circle clip-path=\"url(#clip6502)\" cx=\"1785.55\" cy=\"485.936\" r=\"14\" fill=\"#e26f46\" fill-rule=\"evenodd\" fill-opacity=\"1\" stroke=\"#000000\" stroke-opacity=\"1\" stroke-width=\"3.2\"/>\n",
       "<circle clip-path=\"url(#clip6502)\" cx=\"1764.23\" cy=\"465.582\" r=\"14\" fill=\"#e26f46\" fill-rule=\"evenodd\" fill-opacity=\"1\" stroke=\"#000000\" stroke-opacity=\"1\" stroke-width=\"3.2\"/>\n",
       "<circle clip-path=\"url(#clip6502)\" cx=\"1773.91\" cy=\"478.278\" r=\"14\" fill=\"#e26f46\" fill-rule=\"evenodd\" fill-opacity=\"1\" stroke=\"#000000\" stroke-opacity=\"1\" stroke-width=\"3.2\"/>\n",
       "<circle clip-path=\"url(#clip6502)\" cx=\"1765.89\" cy=\"483.741\" r=\"14\" fill=\"#e26f46\" fill-rule=\"evenodd\" fill-opacity=\"1\" stroke=\"#000000\" stroke-opacity=\"1\" stroke-width=\"3.2\"/>\n",
       "<circle clip-path=\"url(#clip6502)\" cx=\"1766.53\" cy=\"485.187\" r=\"14\" fill=\"#e26f46\" fill-rule=\"evenodd\" fill-opacity=\"1\" stroke=\"#000000\" stroke-opacity=\"1\" stroke-width=\"3.2\"/>\n",
       "<circle clip-path=\"url(#clip6502)\" cx=\"1785.55\" cy=\"485.936\" r=\"14\" fill=\"#e26f46\" fill-rule=\"evenodd\" fill-opacity=\"1\" stroke=\"#000000\" stroke-opacity=\"1\" stroke-width=\"3.2\"/>\n",
       "<circle clip-path=\"url(#clip6502)\" cx=\"1761.28\" cy=\"480.443\" r=\"14\" fill=\"#e26f46\" fill-rule=\"evenodd\" fill-opacity=\"1\" stroke=\"#000000\" stroke-opacity=\"1\" stroke-width=\"3.2\"/>\n",
       "<circle clip-path=\"url(#clip6502)\" cx=\"1734.09\" cy=\"474.582\" r=\"14\" fill=\"#e26f46\" fill-rule=\"evenodd\" fill-opacity=\"1\" stroke=\"#000000\" stroke-opacity=\"1\" stroke-width=\"3.2\"/>\n",
       "<circle clip-path=\"url(#clip6502)\" cx=\"1765.61\" cy=\"482.766\" r=\"14\" fill=\"#e26f46\" fill-rule=\"evenodd\" fill-opacity=\"1\" stroke=\"#000000\" stroke-opacity=\"1\" stroke-width=\"3.2\"/>\n",
       "<circle clip-path=\"url(#clip6502)\" cx=\"1764.23\" cy=\"465.582\" r=\"14\" fill=\"#e26f46\" fill-rule=\"evenodd\" fill-opacity=\"1\" stroke=\"#000000\" stroke-opacity=\"1\" stroke-width=\"3.2\"/>\n",
       "<circle clip-path=\"url(#clip6502)\" cx=\"1769.98\" cy=\"513.032\" r=\"14\" fill=\"#e26f46\" fill-rule=\"evenodd\" fill-opacity=\"1\" stroke=\"#000000\" stroke-opacity=\"1\" stroke-width=\"3.2\"/>\n",
       "<circle clip-path=\"url(#clip6502)\" cx=\"1765.61\" cy=\"482.766\" r=\"14\" fill=\"#e26f46\" fill-rule=\"evenodd\" fill-opacity=\"1\" stroke=\"#000000\" stroke-opacity=\"1\" stroke-width=\"3.2\"/>\n",
       "<circle clip-path=\"url(#clip6502)\" cx=\"1766.53\" cy=\"485.187\" r=\"14\" fill=\"#e26f46\" fill-rule=\"evenodd\" fill-opacity=\"1\" stroke=\"#000000\" stroke-opacity=\"1\" stroke-width=\"3.2\"/>\n",
       "<circle clip-path=\"url(#clip6502)\" cx=\"1706.97\" cy=\"465.547\" r=\"14\" fill=\"#e26f46\" fill-rule=\"evenodd\" fill-opacity=\"1\" stroke=\"#000000\" stroke-opacity=\"1\" stroke-width=\"3.2\"/>\n",
       "<circle clip-path=\"url(#clip6502)\" cx=\"1706.97\" cy=\"465.547\" r=\"14\" fill=\"#e26f46\" fill-rule=\"evenodd\" fill-opacity=\"1\" stroke=\"#000000\" stroke-opacity=\"1\" stroke-width=\"3.2\"/>\n",
       "<circle clip-path=\"url(#clip6502)\" cx=\"1706.97\" cy=\"465.547\" r=\"14\" fill=\"#e26f46\" fill-rule=\"evenodd\" fill-opacity=\"1\" stroke=\"#000000\" stroke-opacity=\"1\" stroke-width=\"3.2\"/>\n",
       "<circle clip-path=\"url(#clip6502)\" cx=\"1706.97\" cy=\"465.547\" r=\"14\" fill=\"#e26f46\" fill-rule=\"evenodd\" fill-opacity=\"1\" stroke=\"#000000\" stroke-opacity=\"1\" stroke-width=\"3.2\"/>\n",
       "<circle clip-path=\"url(#clip6502)\" cx=\"1706.97\" cy=\"465.547\" r=\"14\" fill=\"#e26f46\" fill-rule=\"evenodd\" fill-opacity=\"1\" stroke=\"#000000\" stroke-opacity=\"1\" stroke-width=\"3.2\"/>\n",
       "<circle clip-path=\"url(#clip6502)\" cx=\"1706.97\" cy=\"465.547\" r=\"14\" fill=\"#e26f46\" fill-rule=\"evenodd\" fill-opacity=\"1\" stroke=\"#000000\" stroke-opacity=\"1\" stroke-width=\"3.2\"/>\n",
       "<circle clip-path=\"url(#clip6502)\" cx=\"1706.97\" cy=\"465.547\" r=\"14\" fill=\"#e26f46\" fill-rule=\"evenodd\" fill-opacity=\"1\" stroke=\"#000000\" stroke-opacity=\"1\" stroke-width=\"3.2\"/>\n",
       "<circle clip-path=\"url(#clip6502)\" cx=\"1706.97\" cy=\"465.547\" r=\"14\" fill=\"#e26f46\" fill-rule=\"evenodd\" fill-opacity=\"1\" stroke=\"#000000\" stroke-opacity=\"1\" stroke-width=\"3.2\"/>\n",
       "<circle clip-path=\"url(#clip6502)\" cx=\"1706.97\" cy=\"465.547\" r=\"14\" fill=\"#e26f46\" fill-rule=\"evenodd\" fill-opacity=\"1\" stroke=\"#000000\" stroke-opacity=\"1\" stroke-width=\"3.2\"/>\n",
       "<circle clip-path=\"url(#clip6502)\" cx=\"1706.97\" cy=\"465.547\" r=\"14\" fill=\"#e26f46\" fill-rule=\"evenodd\" fill-opacity=\"1\" stroke=\"#000000\" stroke-opacity=\"1\" stroke-width=\"3.2\"/>\n",
       "<circle clip-path=\"url(#clip6502)\" cx=\"1706.97\" cy=\"465.547\" r=\"14\" fill=\"#e26f46\" fill-rule=\"evenodd\" fill-opacity=\"1\" stroke=\"#000000\" stroke-opacity=\"1\" stroke-width=\"3.2\"/>\n",
       "<circle clip-path=\"url(#clip6502)\" cx=\"1706.97\" cy=\"465.547\" r=\"14\" fill=\"#e26f46\" fill-rule=\"evenodd\" fill-opacity=\"1\" stroke=\"#000000\" stroke-opacity=\"1\" stroke-width=\"3.2\"/>\n",
       "<circle clip-path=\"url(#clip6502)\" cx=\"1706.97\" cy=\"465.547\" r=\"14\" fill=\"#e26f46\" fill-rule=\"evenodd\" fill-opacity=\"1\" stroke=\"#000000\" stroke-opacity=\"1\" stroke-width=\"3.2\"/>\n",
       "<circle clip-path=\"url(#clip6502)\" cx=\"1706.97\" cy=\"465.547\" r=\"14\" fill=\"#e26f46\" fill-rule=\"evenodd\" fill-opacity=\"1\" stroke=\"#000000\" stroke-opacity=\"1\" stroke-width=\"3.2\"/>\n",
       "<circle clip-path=\"url(#clip6502)\" cx=\"1706.97\" cy=\"465.547\" r=\"14\" fill=\"#e26f46\" fill-rule=\"evenodd\" fill-opacity=\"1\" stroke=\"#000000\" stroke-opacity=\"1\" stroke-width=\"3.2\"/>\n",
       "<circle clip-path=\"url(#clip6502)\" cx=\"1706.97\" cy=\"465.547\" r=\"14\" fill=\"#e26f46\" fill-rule=\"evenodd\" fill-opacity=\"1\" stroke=\"#000000\" stroke-opacity=\"1\" stroke-width=\"3.2\"/>\n",
       "<circle clip-path=\"url(#clip6502)\" cx=\"1706.97\" cy=\"465.547\" r=\"14\" fill=\"#e26f46\" fill-rule=\"evenodd\" fill-opacity=\"1\" stroke=\"#000000\" stroke-opacity=\"1\" stroke-width=\"3.2\"/>\n",
       "<circle clip-path=\"url(#clip6502)\" cx=\"1706.97\" cy=\"465.547\" r=\"14\" fill=\"#e26f46\" fill-rule=\"evenodd\" fill-opacity=\"1\" stroke=\"#000000\" stroke-opacity=\"1\" stroke-width=\"3.2\"/>\n",
       "<circle clip-path=\"url(#clip6502)\" cx=\"1706.97\" cy=\"465.547\" r=\"14\" fill=\"#e26f46\" fill-rule=\"evenodd\" fill-opacity=\"1\" stroke=\"#000000\" stroke-opacity=\"1\" stroke-width=\"3.2\"/>\n",
       "<circle clip-path=\"url(#clip6502)\" cx=\"1706.97\" cy=\"465.547\" r=\"14\" fill=\"#e26f46\" fill-rule=\"evenodd\" fill-opacity=\"1\" stroke=\"#000000\" stroke-opacity=\"1\" stroke-width=\"3.2\"/>\n",
       "<circle clip-path=\"url(#clip6502)\" cx=\"1706.97\" cy=\"465.547\" r=\"14\" fill=\"#e26f46\" fill-rule=\"evenodd\" fill-opacity=\"1\" stroke=\"#000000\" stroke-opacity=\"1\" stroke-width=\"3.2\"/>\n",
       "<circle clip-path=\"url(#clip6502)\" cx=\"1706.97\" cy=\"465.547\" r=\"14\" fill=\"#e26f46\" fill-rule=\"evenodd\" fill-opacity=\"1\" stroke=\"#000000\" stroke-opacity=\"1\" stroke-width=\"3.2\"/>\n",
       "<circle clip-path=\"url(#clip6502)\" cx=\"1706.97\" cy=\"465.547\" r=\"14\" fill=\"#e26f46\" fill-rule=\"evenodd\" fill-opacity=\"1\" stroke=\"#000000\" stroke-opacity=\"1\" stroke-width=\"3.2\"/>\n",
       "<circle clip-path=\"url(#clip6502)\" cx=\"1706.97\" cy=\"465.547\" r=\"14\" fill=\"#e26f46\" fill-rule=\"evenodd\" fill-opacity=\"1\" stroke=\"#000000\" stroke-opacity=\"1\" stroke-width=\"3.2\"/>\n",
       "<circle clip-path=\"url(#clip6502)\" cx=\"1706.97\" cy=\"465.547\" r=\"14\" fill=\"#e26f46\" fill-rule=\"evenodd\" fill-opacity=\"1\" stroke=\"#000000\" stroke-opacity=\"1\" stroke-width=\"3.2\"/>\n",
       "<circle clip-path=\"url(#clip6502)\" cx=\"1706.97\" cy=\"465.547\" r=\"14\" fill=\"#e26f46\" fill-rule=\"evenodd\" fill-opacity=\"1\" stroke=\"#000000\" stroke-opacity=\"1\" stroke-width=\"3.2\"/>\n",
       "<circle clip-path=\"url(#clip6502)\" cx=\"1706.97\" cy=\"465.547\" r=\"14\" fill=\"#e26f46\" fill-rule=\"evenodd\" fill-opacity=\"1\" stroke=\"#000000\" stroke-opacity=\"1\" stroke-width=\"3.2\"/>\n",
       "<circle clip-path=\"url(#clip6502)\" cx=\"1706.97\" cy=\"465.547\" r=\"14\" fill=\"#e26f46\" fill-rule=\"evenodd\" fill-opacity=\"1\" stroke=\"#000000\" stroke-opacity=\"1\" stroke-width=\"3.2\"/>\n",
       "<circle clip-path=\"url(#clip6502)\" cx=\"1706.97\" cy=\"465.547\" r=\"14\" fill=\"#e26f46\" fill-rule=\"evenodd\" fill-opacity=\"1\" stroke=\"#000000\" stroke-opacity=\"1\" stroke-width=\"3.2\"/>\n",
       "<circle clip-path=\"url(#clip6502)\" cx=\"1706.97\" cy=\"465.547\" r=\"14\" fill=\"#e26f46\" fill-rule=\"evenodd\" fill-opacity=\"1\" stroke=\"#000000\" stroke-opacity=\"1\" stroke-width=\"3.2\"/>\n",
       "<circle clip-path=\"url(#clip6502)\" cx=\"1706.97\" cy=\"465.547\" r=\"14\" fill=\"#e26f46\" fill-rule=\"evenodd\" fill-opacity=\"1\" stroke=\"#000000\" stroke-opacity=\"1\" stroke-width=\"3.2\"/>\n",
       "<circle clip-path=\"url(#clip6502)\" cx=\"1706.97\" cy=\"465.547\" r=\"14\" fill=\"#e26f46\" fill-rule=\"evenodd\" fill-opacity=\"1\" stroke=\"#000000\" stroke-opacity=\"1\" stroke-width=\"3.2\"/>\n",
       "<circle clip-path=\"url(#clip6502)\" cx=\"1706.97\" cy=\"465.547\" r=\"14\" fill=\"#e26f46\" fill-rule=\"evenodd\" fill-opacity=\"1\" stroke=\"#000000\" stroke-opacity=\"1\" stroke-width=\"3.2\"/>\n",
       "<circle clip-path=\"url(#clip6502)\" cx=\"1706.97\" cy=\"465.547\" r=\"14\" fill=\"#e26f46\" fill-rule=\"evenodd\" fill-opacity=\"1\" stroke=\"#000000\" stroke-opacity=\"1\" stroke-width=\"3.2\"/>\n",
       "<circle clip-path=\"url(#clip6502)\" cx=\"1706.97\" cy=\"465.547\" r=\"14\" fill=\"#e26f46\" fill-rule=\"evenodd\" fill-opacity=\"1\" stroke=\"#000000\" stroke-opacity=\"1\" stroke-width=\"3.2\"/>\n",
       "<circle clip-path=\"url(#clip6502)\" cx=\"1706.97\" cy=\"465.547\" r=\"14\" fill=\"#e26f46\" fill-rule=\"evenodd\" fill-opacity=\"1\" stroke=\"#000000\" stroke-opacity=\"1\" stroke-width=\"3.2\"/>\n",
       "<circle clip-path=\"url(#clip6502)\" cx=\"1706.97\" cy=\"465.547\" r=\"14\" fill=\"#e26f46\" fill-rule=\"evenodd\" fill-opacity=\"1\" stroke=\"#000000\" stroke-opacity=\"1\" stroke-width=\"3.2\"/>\n",
       "<circle clip-path=\"url(#clip6502)\" cx=\"1706.97\" cy=\"465.547\" r=\"14\" fill=\"#e26f46\" fill-rule=\"evenodd\" fill-opacity=\"1\" stroke=\"#000000\" stroke-opacity=\"1\" stroke-width=\"3.2\"/>\n",
       "<circle clip-path=\"url(#clip6502)\" cx=\"1706.97\" cy=\"465.547\" r=\"14\" fill=\"#e26f46\" fill-rule=\"evenodd\" fill-opacity=\"1\" stroke=\"#000000\" stroke-opacity=\"1\" stroke-width=\"3.2\"/>\n",
       "<circle clip-path=\"url(#clip6502)\" cx=\"1706.97\" cy=\"465.547\" r=\"14\" fill=\"#e26f46\" fill-rule=\"evenodd\" fill-opacity=\"1\" stroke=\"#000000\" stroke-opacity=\"1\" stroke-width=\"3.2\"/>\n",
       "<circle clip-path=\"url(#clip6502)\" cx=\"1706.97\" cy=\"465.547\" r=\"14\" fill=\"#e26f46\" fill-rule=\"evenodd\" fill-opacity=\"1\" stroke=\"#000000\" stroke-opacity=\"1\" stroke-width=\"3.2\"/>\n",
       "<circle clip-path=\"url(#clip6502)\" cx=\"1706.97\" cy=\"465.547\" r=\"14\" fill=\"#e26f46\" fill-rule=\"evenodd\" fill-opacity=\"1\" stroke=\"#000000\" stroke-opacity=\"1\" stroke-width=\"3.2\"/>\n",
       "<circle clip-path=\"url(#clip6502)\" cx=\"1706.97\" cy=\"465.547\" r=\"14\" fill=\"#e26f46\" fill-rule=\"evenodd\" fill-opacity=\"1\" stroke=\"#000000\" stroke-opacity=\"1\" stroke-width=\"3.2\"/>\n",
       "<circle clip-path=\"url(#clip6502)\" cx=\"1706.97\" cy=\"465.547\" r=\"14\" fill=\"#e26f46\" fill-rule=\"evenodd\" fill-opacity=\"1\" stroke=\"#000000\" stroke-opacity=\"1\" stroke-width=\"3.2\"/>\n",
       "<circle clip-path=\"url(#clip6502)\" cx=\"1706.97\" cy=\"465.547\" r=\"14\" fill=\"#e26f46\" fill-rule=\"evenodd\" fill-opacity=\"1\" stroke=\"#000000\" stroke-opacity=\"1\" stroke-width=\"3.2\"/>\n",
       "<circle clip-path=\"url(#clip6502)\" cx=\"1706.97\" cy=\"465.547\" r=\"14\" fill=\"#e26f46\" fill-rule=\"evenodd\" fill-opacity=\"1\" stroke=\"#000000\" stroke-opacity=\"1\" stroke-width=\"3.2\"/>\n",
       "<circle clip-path=\"url(#clip6502)\" cx=\"1706.97\" cy=\"465.547\" r=\"14\" fill=\"#e26f46\" fill-rule=\"evenodd\" fill-opacity=\"1\" stroke=\"#000000\" stroke-opacity=\"1\" stroke-width=\"3.2\"/>\n",
       "<circle clip-path=\"url(#clip6502)\" cx=\"1706.97\" cy=\"465.547\" r=\"14\" fill=\"#e26f46\" fill-rule=\"evenodd\" fill-opacity=\"1\" stroke=\"#000000\" stroke-opacity=\"1\" stroke-width=\"3.2\"/>\n",
       "<circle clip-path=\"url(#clip6502)\" cx=\"1706.97\" cy=\"465.547\" r=\"14\" fill=\"#e26f46\" fill-rule=\"evenodd\" fill-opacity=\"1\" stroke=\"#000000\" stroke-opacity=\"1\" stroke-width=\"3.2\"/>\n",
       "<circle clip-path=\"url(#clip6502)\" cx=\"1706.97\" cy=\"465.547\" r=\"14\" fill=\"#e26f46\" fill-rule=\"evenodd\" fill-opacity=\"1\" stroke=\"#000000\" stroke-opacity=\"1\" stroke-width=\"3.2\"/>\n",
       "<circle clip-path=\"url(#clip6502)\" cx=\"1706.97\" cy=\"465.547\" r=\"14\" fill=\"#e26f46\" fill-rule=\"evenodd\" fill-opacity=\"1\" stroke=\"#000000\" stroke-opacity=\"1\" stroke-width=\"3.2\"/>\n",
       "<circle clip-path=\"url(#clip6502)\" cx=\"1706.97\" cy=\"465.547\" r=\"14\" fill=\"#e26f46\" fill-rule=\"evenodd\" fill-opacity=\"1\" stroke=\"#000000\" stroke-opacity=\"1\" stroke-width=\"3.2\"/>\n",
       "<circle clip-path=\"url(#clip6502)\" cx=\"1706.97\" cy=\"465.547\" r=\"14\" fill=\"#e26f46\" fill-rule=\"evenodd\" fill-opacity=\"1\" stroke=\"#000000\" stroke-opacity=\"1\" stroke-width=\"3.2\"/>\n",
       "<circle clip-path=\"url(#clip6502)\" cx=\"1706.97\" cy=\"465.547\" r=\"14\" fill=\"#e26f46\" fill-rule=\"evenodd\" fill-opacity=\"1\" stroke=\"#000000\" stroke-opacity=\"1\" stroke-width=\"3.2\"/>\n",
       "<circle clip-path=\"url(#clip6502)\" cx=\"1706.97\" cy=\"465.547\" r=\"14\" fill=\"#e26f46\" fill-rule=\"evenodd\" fill-opacity=\"1\" stroke=\"#000000\" stroke-opacity=\"1\" stroke-width=\"3.2\"/>\n",
       "<circle clip-path=\"url(#clip6502)\" cx=\"1706.97\" cy=\"465.547\" r=\"14\" fill=\"#e26f46\" fill-rule=\"evenodd\" fill-opacity=\"1\" stroke=\"#000000\" stroke-opacity=\"1\" stroke-width=\"3.2\"/>\n",
       "<circle clip-path=\"url(#clip6502)\" cx=\"1706.97\" cy=\"465.547\" r=\"14\" fill=\"#e26f46\" fill-rule=\"evenodd\" fill-opacity=\"1\" stroke=\"#000000\" stroke-opacity=\"1\" stroke-width=\"3.2\"/>\n",
       "<circle clip-path=\"url(#clip6502)\" cx=\"1706.97\" cy=\"465.547\" r=\"14\" fill=\"#e26f46\" fill-rule=\"evenodd\" fill-opacity=\"1\" stroke=\"#000000\" stroke-opacity=\"1\" stroke-width=\"3.2\"/>\n",
       "<circle clip-path=\"url(#clip6502)\" cx=\"1706.97\" cy=\"465.547\" r=\"14\" fill=\"#e26f46\" fill-rule=\"evenodd\" fill-opacity=\"1\" stroke=\"#000000\" stroke-opacity=\"1\" stroke-width=\"3.2\"/>\n",
       "<circle clip-path=\"url(#clip6502)\" cx=\"1706.97\" cy=\"465.547\" r=\"14\" fill=\"#e26f46\" fill-rule=\"evenodd\" fill-opacity=\"1\" stroke=\"#000000\" stroke-opacity=\"1\" stroke-width=\"3.2\"/>\n",
       "<circle clip-path=\"url(#clip6502)\" cx=\"1706.97\" cy=\"465.547\" r=\"14\" fill=\"#e26f46\" fill-rule=\"evenodd\" fill-opacity=\"1\" stroke=\"#000000\" stroke-opacity=\"1\" stroke-width=\"3.2\"/>\n",
       "<circle clip-path=\"url(#clip6502)\" cx=\"1706.97\" cy=\"465.547\" r=\"14\" fill=\"#e26f46\" fill-rule=\"evenodd\" fill-opacity=\"1\" stroke=\"#000000\" stroke-opacity=\"1\" stroke-width=\"3.2\"/>\n",
       "<circle clip-path=\"url(#clip6502)\" cx=\"1706.97\" cy=\"465.547\" r=\"14\" fill=\"#e26f46\" fill-rule=\"evenodd\" fill-opacity=\"1\" stroke=\"#000000\" stroke-opacity=\"1\" stroke-width=\"3.2\"/>\n",
       "<circle clip-path=\"url(#clip6502)\" cx=\"1773.91\" cy=\"478.278\" r=\"14\" fill=\"#e26f46\" fill-rule=\"evenodd\" fill-opacity=\"1\" stroke=\"#000000\" stroke-opacity=\"1\" stroke-width=\"3.2\"/>\n",
       "<circle clip-path=\"url(#clip6502)\" cx=\"1764.23\" cy=\"465.582\" r=\"14\" fill=\"#e26f46\" fill-rule=\"evenodd\" fill-opacity=\"1\" stroke=\"#000000\" stroke-opacity=\"1\" stroke-width=\"3.2\"/>\n",
       "<circle clip-path=\"url(#clip6502)\" cx=\"1764.23\" cy=\"465.582\" r=\"14\" fill=\"#e26f46\" fill-rule=\"evenodd\" fill-opacity=\"1\" stroke=\"#000000\" stroke-opacity=\"1\" stroke-width=\"3.2\"/>\n",
       "<circle clip-path=\"url(#clip6502)\" cx=\"1764.23\" cy=\"465.582\" r=\"14\" fill=\"#e26f46\" fill-rule=\"evenodd\" fill-opacity=\"1\" stroke=\"#000000\" stroke-opacity=\"1\" stroke-width=\"3.2\"/>\n",
       "<circle clip-path=\"url(#clip6502)\" cx=\"1764.23\" cy=\"465.582\" r=\"14\" fill=\"#e26f46\" fill-rule=\"evenodd\" fill-opacity=\"1\" stroke=\"#000000\" stroke-opacity=\"1\" stroke-width=\"3.2\"/>\n",
       "<circle clip-path=\"url(#clip6502)\" cx=\"1764.23\" cy=\"465.582\" r=\"14\" fill=\"#e26f46\" fill-rule=\"evenodd\" fill-opacity=\"1\" stroke=\"#000000\" stroke-opacity=\"1\" stroke-width=\"3.2\"/>\n",
       "<circle clip-path=\"url(#clip6502)\" cx=\"1764.23\" cy=\"465.582\" r=\"14\" fill=\"#e26f46\" fill-rule=\"evenodd\" fill-opacity=\"1\" stroke=\"#000000\" stroke-opacity=\"1\" stroke-width=\"3.2\"/>\n",
       "<circle clip-path=\"url(#clip6502)\" cx=\"1764.23\" cy=\"465.582\" r=\"14\" fill=\"#e26f46\" fill-rule=\"evenodd\" fill-opacity=\"1\" stroke=\"#000000\" stroke-opacity=\"1\" stroke-width=\"3.2\"/>\n",
       "<circle clip-path=\"url(#clip6502)\" cx=\"1764.23\" cy=\"465.582\" r=\"14\" fill=\"#e26f46\" fill-rule=\"evenodd\" fill-opacity=\"1\" stroke=\"#000000\" stroke-opacity=\"1\" stroke-width=\"3.2\"/>\n",
       "<circle clip-path=\"url(#clip6502)\" cx=\"1764.23\" cy=\"465.582\" r=\"14\" fill=\"#e26f46\" fill-rule=\"evenodd\" fill-opacity=\"1\" stroke=\"#000000\" stroke-opacity=\"1\" stroke-width=\"3.2\"/>\n",
       "<circle clip-path=\"url(#clip6502)\" cx=\"1764.23\" cy=\"465.582\" r=\"14\" fill=\"#e26f46\" fill-rule=\"evenodd\" fill-opacity=\"1\" stroke=\"#000000\" stroke-opacity=\"1\" stroke-width=\"3.2\"/>\n",
       "<circle clip-path=\"url(#clip6502)\" cx=\"1752.63\" cy=\"482.746\" r=\"14\" fill=\"#e26f46\" fill-rule=\"evenodd\" fill-opacity=\"1\" stroke=\"#000000\" stroke-opacity=\"1\" stroke-width=\"3.2\"/>\n",
       "<circle clip-path=\"url(#clip6502)\" cx=\"1786.95\" cy=\"513.975\" r=\"14\" fill=\"#e26f46\" fill-rule=\"evenodd\" fill-opacity=\"1\" stroke=\"#000000\" stroke-opacity=\"1\" stroke-width=\"3.2\"/>\n",
       "<circle clip-path=\"url(#clip6502)\" cx=\"1773.91\" cy=\"478.278\" r=\"14\" fill=\"#e26f46\" fill-rule=\"evenodd\" fill-opacity=\"1\" stroke=\"#000000\" stroke-opacity=\"1\" stroke-width=\"3.2\"/>\n",
       "<circle clip-path=\"url(#clip6502)\" cx=\"1773.91\" cy=\"478.278\" r=\"14\" fill=\"#e26f46\" fill-rule=\"evenodd\" fill-opacity=\"1\" stroke=\"#000000\" stroke-opacity=\"1\" stroke-width=\"3.2\"/>\n",
       "<circle clip-path=\"url(#clip6502)\" cx=\"1764.23\" cy=\"465.582\" r=\"14\" fill=\"#e26f46\" fill-rule=\"evenodd\" fill-opacity=\"1\" stroke=\"#000000\" stroke-opacity=\"1\" stroke-width=\"3.2\"/>\n",
       "<circle clip-path=\"url(#clip6502)\" cx=\"1773.91\" cy=\"478.278\" r=\"14\" fill=\"#e26f46\" fill-rule=\"evenodd\" fill-opacity=\"1\" stroke=\"#000000\" stroke-opacity=\"1\" stroke-width=\"3.2\"/>\n",
       "<circle clip-path=\"url(#clip6502)\" cx=\"1773.91\" cy=\"478.278\" r=\"14\" fill=\"#e26f46\" fill-rule=\"evenodd\" fill-opacity=\"1\" stroke=\"#000000\" stroke-opacity=\"1\" stroke-width=\"3.2\"/>\n",
       "<circle clip-path=\"url(#clip6502)\" cx=\"1765.61\" cy=\"482.766\" r=\"14\" fill=\"#e26f46\" fill-rule=\"evenodd\" fill-opacity=\"1\" stroke=\"#000000\" stroke-opacity=\"1\" stroke-width=\"3.2\"/>\n",
       "<circle clip-path=\"url(#clip6502)\" cx=\"1765.61\" cy=\"482.766\" r=\"14\" fill=\"#e26f46\" fill-rule=\"evenodd\" fill-opacity=\"1\" stroke=\"#000000\" stroke-opacity=\"1\" stroke-width=\"3.2\"/>\n",
       "<circle clip-path=\"url(#clip6502)\" cx=\"1746.6\" cy=\"482.017\" r=\"14\" fill=\"#e26f46\" fill-rule=\"evenodd\" fill-opacity=\"1\" stroke=\"#000000\" stroke-opacity=\"1\" stroke-width=\"3.2\"/>\n",
       "<circle clip-path=\"url(#clip6502)\" cx=\"1746.6\" cy=\"482.017\" r=\"14\" fill=\"#e26f46\" fill-rule=\"evenodd\" fill-opacity=\"1\" stroke=\"#000000\" stroke-opacity=\"1\" stroke-width=\"3.2\"/>\n",
       "<circle clip-path=\"url(#clip6502)\" cx=\"1746.6\" cy=\"482.017\" r=\"14\" fill=\"#e26f46\" fill-rule=\"evenodd\" fill-opacity=\"1\" stroke=\"#000000\" stroke-opacity=\"1\" stroke-width=\"3.2\"/>\n",
       "<circle clip-path=\"url(#clip6502)\" cx=\"1766.53\" cy=\"485.187\" r=\"14\" fill=\"#e26f46\" fill-rule=\"evenodd\" fill-opacity=\"1\" stroke=\"#000000\" stroke-opacity=\"1\" stroke-width=\"3.2\"/>\n",
       "<circle clip-path=\"url(#clip6502)\" cx=\"1786.95\" cy=\"513.975\" r=\"14\" fill=\"#e26f46\" fill-rule=\"evenodd\" fill-opacity=\"1\" stroke=\"#000000\" stroke-opacity=\"1\" stroke-width=\"3.2\"/>\n",
       "<circle clip-path=\"url(#clip6502)\" cx=\"1775.85\" cy=\"481.836\" r=\"14\" fill=\"#e26f46\" fill-rule=\"evenodd\" fill-opacity=\"1\" stroke=\"#000000\" stroke-opacity=\"1\" stroke-width=\"3.2\"/>\n",
       "<circle clip-path=\"url(#clip6502)\" cx=\"1775.85\" cy=\"481.836\" r=\"14\" fill=\"#e26f46\" fill-rule=\"evenodd\" fill-opacity=\"1\" stroke=\"#000000\" stroke-opacity=\"1\" stroke-width=\"3.2\"/>\n",
       "<circle clip-path=\"url(#clip6502)\" cx=\"1769.98\" cy=\"513.032\" r=\"14\" fill=\"#e26f46\" fill-rule=\"evenodd\" fill-opacity=\"1\" stroke=\"#000000\" stroke-opacity=\"1\" stroke-width=\"3.2\"/>\n",
       "<circle clip-path=\"url(#clip6502)\" cx=\"1769.98\" cy=\"513.032\" r=\"14\" fill=\"#e26f46\" fill-rule=\"evenodd\" fill-opacity=\"1\" stroke=\"#000000\" stroke-opacity=\"1\" stroke-width=\"3.2\"/>\n",
       "<circle clip-path=\"url(#clip6502)\" cx=\"1764.23\" cy=\"465.582\" r=\"14\" fill=\"#e26f46\" fill-rule=\"evenodd\" fill-opacity=\"1\" stroke=\"#000000\" stroke-opacity=\"1\" stroke-width=\"3.2\"/>\n",
       "<circle clip-path=\"url(#clip6502)\" cx=\"1764.23\" cy=\"465.582\" r=\"14\" fill=\"#e26f46\" fill-rule=\"evenodd\" fill-opacity=\"1\" stroke=\"#000000\" stroke-opacity=\"1\" stroke-width=\"3.2\"/>\n",
       "<circle clip-path=\"url(#clip6502)\" cx=\"1706.97\" cy=\"465.547\" r=\"14\" fill=\"#e26f46\" fill-rule=\"evenodd\" fill-opacity=\"1\" stroke=\"#000000\" stroke-opacity=\"1\" stroke-width=\"3.2\"/>\n",
       "<circle clip-path=\"url(#clip6502)\" cx=\"1764.23\" cy=\"465.582\" r=\"14\" fill=\"#e26f46\" fill-rule=\"evenodd\" fill-opacity=\"1\" stroke=\"#000000\" stroke-opacity=\"1\" stroke-width=\"3.2\"/>\n",
       "<circle clip-path=\"url(#clip6502)\" cx=\"1764.23\" cy=\"465.582\" r=\"14\" fill=\"#e26f46\" fill-rule=\"evenodd\" fill-opacity=\"1\" stroke=\"#000000\" stroke-opacity=\"1\" stroke-width=\"3.2\"/>\n",
       "<circle clip-path=\"url(#clip6502)\" cx=\"1764.23\" cy=\"465.582\" r=\"14\" fill=\"#e26f46\" fill-rule=\"evenodd\" fill-opacity=\"1\" stroke=\"#000000\" stroke-opacity=\"1\" stroke-width=\"3.2\"/>\n",
       "<circle clip-path=\"url(#clip6502)\" cx=\"1764.23\" cy=\"465.582\" r=\"14\" fill=\"#e26f46\" fill-rule=\"evenodd\" fill-opacity=\"1\" stroke=\"#000000\" stroke-opacity=\"1\" stroke-width=\"3.2\"/>\n",
       "<circle clip-path=\"url(#clip6502)\" cx=\"1764.23\" cy=\"465.582\" r=\"14\" fill=\"#e26f46\" fill-rule=\"evenodd\" fill-opacity=\"1\" stroke=\"#000000\" stroke-opacity=\"1\" stroke-width=\"3.2\"/>\n",
       "<circle clip-path=\"url(#clip6502)\" cx=\"1764.23\" cy=\"465.582\" r=\"14\" fill=\"#e26f46\" fill-rule=\"evenodd\" fill-opacity=\"1\" stroke=\"#000000\" stroke-opacity=\"1\" stroke-width=\"3.2\"/>\n",
       "<circle clip-path=\"url(#clip6502)\" cx=\"1764.23\" cy=\"465.582\" r=\"14\" fill=\"#e26f46\" fill-rule=\"evenodd\" fill-opacity=\"1\" stroke=\"#000000\" stroke-opacity=\"1\" stroke-width=\"3.2\"/>\n",
       "<circle clip-path=\"url(#clip6502)\" cx=\"1706.97\" cy=\"465.547\" r=\"14\" fill=\"#e26f46\" fill-rule=\"evenodd\" fill-opacity=\"1\" stroke=\"#000000\" stroke-opacity=\"1\" stroke-width=\"3.2\"/>\n",
       "<circle clip-path=\"url(#clip6502)\" cx=\"1706.97\" cy=\"465.547\" r=\"14\" fill=\"#e26f46\" fill-rule=\"evenodd\" fill-opacity=\"1\" stroke=\"#000000\" stroke-opacity=\"1\" stroke-width=\"3.2\"/>\n",
       "<circle clip-path=\"url(#clip6502)\" cx=\"1706.97\" cy=\"465.547\" r=\"14\" fill=\"#e26f46\" fill-rule=\"evenodd\" fill-opacity=\"1\" stroke=\"#000000\" stroke-opacity=\"1\" stroke-width=\"3.2\"/>\n",
       "<circle clip-path=\"url(#clip6502)\" cx=\"1706.97\" cy=\"465.547\" r=\"14\" fill=\"#e26f46\" fill-rule=\"evenodd\" fill-opacity=\"1\" stroke=\"#000000\" stroke-opacity=\"1\" stroke-width=\"3.2\"/>\n",
       "<circle clip-path=\"url(#clip6502)\" cx=\"1706.97\" cy=\"465.547\" r=\"14\" fill=\"#e26f46\" fill-rule=\"evenodd\" fill-opacity=\"1\" stroke=\"#000000\" stroke-opacity=\"1\" stroke-width=\"3.2\"/>\n",
       "<circle clip-path=\"url(#clip6502)\" cx=\"1706.97\" cy=\"465.547\" r=\"14\" fill=\"#e26f46\" fill-rule=\"evenodd\" fill-opacity=\"1\" stroke=\"#000000\" stroke-opacity=\"1\" stroke-width=\"3.2\"/>\n",
       "<circle clip-path=\"url(#clip6502)\" cx=\"1706.97\" cy=\"465.547\" r=\"14\" fill=\"#e26f46\" fill-rule=\"evenodd\" fill-opacity=\"1\" stroke=\"#000000\" stroke-opacity=\"1\" stroke-width=\"3.2\"/>\n",
       "<circle clip-path=\"url(#clip6502)\" cx=\"1706.97\" cy=\"465.547\" r=\"14\" fill=\"#e26f46\" fill-rule=\"evenodd\" fill-opacity=\"1\" stroke=\"#000000\" stroke-opacity=\"1\" stroke-width=\"3.2\"/>\n",
       "<circle clip-path=\"url(#clip6502)\" cx=\"1706.97\" cy=\"465.547\" r=\"14\" fill=\"#e26f46\" fill-rule=\"evenodd\" fill-opacity=\"1\" stroke=\"#000000\" stroke-opacity=\"1\" stroke-width=\"3.2\"/>\n",
       "<circle clip-path=\"url(#clip6502)\" cx=\"1706.97\" cy=\"465.547\" r=\"14\" fill=\"#e26f46\" fill-rule=\"evenodd\" fill-opacity=\"1\" stroke=\"#000000\" stroke-opacity=\"1\" stroke-width=\"3.2\"/>\n",
       "<circle clip-path=\"url(#clip6502)\" cx=\"1706.97\" cy=\"465.547\" r=\"14\" fill=\"#e26f46\" fill-rule=\"evenodd\" fill-opacity=\"1\" stroke=\"#000000\" stroke-opacity=\"1\" stroke-width=\"3.2\"/>\n",
       "<circle clip-path=\"url(#clip6502)\" cx=\"1706.97\" cy=\"465.547\" r=\"14\" fill=\"#e26f46\" fill-rule=\"evenodd\" fill-opacity=\"1\" stroke=\"#000000\" stroke-opacity=\"1\" stroke-width=\"3.2\"/>\n",
       "<circle clip-path=\"url(#clip6502)\" cx=\"1706.97\" cy=\"465.547\" r=\"14\" fill=\"#e26f46\" fill-rule=\"evenodd\" fill-opacity=\"1\" stroke=\"#000000\" stroke-opacity=\"1\" stroke-width=\"3.2\"/>\n",
       "<circle clip-path=\"url(#clip6502)\" cx=\"1706.97\" cy=\"465.547\" r=\"14\" fill=\"#e26f46\" fill-rule=\"evenodd\" fill-opacity=\"1\" stroke=\"#000000\" stroke-opacity=\"1\" stroke-width=\"3.2\"/>\n",
       "<circle clip-path=\"url(#clip6502)\" cx=\"1706.97\" cy=\"465.547\" r=\"14\" fill=\"#e26f46\" fill-rule=\"evenodd\" fill-opacity=\"1\" stroke=\"#000000\" stroke-opacity=\"1\" stroke-width=\"3.2\"/>\n",
       "<circle clip-path=\"url(#clip6502)\" cx=\"1706.97\" cy=\"465.547\" r=\"14\" fill=\"#e26f46\" fill-rule=\"evenodd\" fill-opacity=\"1\" stroke=\"#000000\" stroke-opacity=\"1\" stroke-width=\"3.2\"/>\n",
       "<circle clip-path=\"url(#clip6502)\" cx=\"1706.97\" cy=\"465.547\" r=\"14\" fill=\"#e26f46\" fill-rule=\"evenodd\" fill-opacity=\"1\" stroke=\"#000000\" stroke-opacity=\"1\" stroke-width=\"3.2\"/>\n",
       "<circle clip-path=\"url(#clip6502)\" cx=\"1706.97\" cy=\"465.547\" r=\"14\" fill=\"#e26f46\" fill-rule=\"evenodd\" fill-opacity=\"1\" stroke=\"#000000\" stroke-opacity=\"1\" stroke-width=\"3.2\"/>\n",
       "<circle clip-path=\"url(#clip6502)\" cx=\"1706.97\" cy=\"465.547\" r=\"14\" fill=\"#e26f46\" fill-rule=\"evenodd\" fill-opacity=\"1\" stroke=\"#000000\" stroke-opacity=\"1\" stroke-width=\"3.2\"/>\n",
       "<circle clip-path=\"url(#clip6502)\" cx=\"1706.97\" cy=\"465.547\" r=\"14\" fill=\"#e26f46\" fill-rule=\"evenodd\" fill-opacity=\"1\" stroke=\"#000000\" stroke-opacity=\"1\" stroke-width=\"3.2\"/>\n",
       "<circle clip-path=\"url(#clip6502)\" cx=\"1706.97\" cy=\"465.547\" r=\"14\" fill=\"#e26f46\" fill-rule=\"evenodd\" fill-opacity=\"1\" stroke=\"#000000\" stroke-opacity=\"1\" stroke-width=\"3.2\"/>\n",
       "<circle clip-path=\"url(#clip6502)\" cx=\"1706.97\" cy=\"465.547\" r=\"14\" fill=\"#e26f46\" fill-rule=\"evenodd\" fill-opacity=\"1\" stroke=\"#000000\" stroke-opacity=\"1\" stroke-width=\"3.2\"/>\n",
       "<circle clip-path=\"url(#clip6502)\" cx=\"1706.97\" cy=\"465.547\" r=\"14\" fill=\"#e26f46\" fill-rule=\"evenodd\" fill-opacity=\"1\" stroke=\"#000000\" stroke-opacity=\"1\" stroke-width=\"3.2\"/>\n",
       "</svg>\n"
      ]
     },
     "metadata": {},
     "output_type": "display_data"
    }
   ],
   "source": [
    "function plot_pop(P)\n",
    "    scatter([i.y[1] for i in P], [i.y[2] for i in P], [i.y[3] for i in P], xlims=(0.0, 1.0), ylims=(0.0, 1.0), zlims=(0.0, 1.0), legend=:none)\n",
    "    ND = filter(indiv -> indiv.rank == 1, P)\n",
    "    scatter3d!([i.y[1] for i in ND], [i.y[2] for i in ND], [i.y[3] for i in ND], legend=:none)\n",
    "end\n",
    "\n",
    "nsga_max(popsize, nbgen, objective, init, fCV=constraint, fplot=plot_pop, plotevery=1, showprogress=false);"
   ]
  },
  {
   "cell_type": "markdown",
   "metadata": {
    "slideshow": {
     "slide_type": "slide"
    }
   },
   "source": [
    "This type of visualization, plotting one objective function as X and another as Y, allows us to see the Pareto front for 2 dimensions easily. However, once we increase the number of objectives, this plot is much less useful as we'll always be constrained to looking at 2 dimensions, or at best 3."
   ]
  },
  {
   "cell_type": "markdown",
   "metadata": {
    "slideshow": {
     "slide_type": "fragment"
    }
   },
   "source": [
    "<div class=\"alert alert-success\">\n",
    "    <b>Exercise 3</b>\n",
    "    <br/>\n",
    "    Change the number of objectives to 3. Then use a <tt>scatter3d</tt> plot instead of a <tt>scatter</tt> plot to plot the evolution over 3 objectives.\n",
    "    <br/>\n",
    "    <ul>\n",
    "        <li>Can you still observe the Pareto front?</li>\n",
    "        <li>Can you identify non-dominated individuals easily</li>\n",
    "        <li>Do you see the performance for each objective</li>\n",
    "    </ul>\n",
    "    <br/>\n",
    "</div>"
   ]
  },
  {
   "cell_type": "markdown",
   "metadata": {},
   "source": [
    "Every aspect mentionned up here is much more difficult to observe."
   ]
  },
  {
   "cell_type": "markdown",
   "metadata": {
    "slideshow": {
     "slide_type": "slide"
    }
   },
   "source": [
    "Another way to look at the different objectives is to plot the different objectives on the `x` axis and the fitness values on the `y` axis. Each individual in a population is then represented as a line. Let's try this method, increasing the number of objectives to 10."
   ]
  },
  {
   "cell_type": "code",
   "execution_count": 119,
   "metadata": {
    "slideshow": {
     "slide_type": "fragment"
    }
   },
   "outputs": [
    {
     "data": {
      "text/plain": [
       "init (generic function with 1 method)"
      ]
     },
     "execution_count": 119,
     "metadata": {},
     "output_type": "execute_result"
    }
   ],
   "source": [
    "n = 100\n",
    "n_objectives = 20\n",
    "values = rand(n, n_objectives)\n",
    "values = values ./ sum(values, dims=1)\n",
    "weights = rand(n)\n",
    "weights = weights ./ sum(weights)\n",
    "max_weight = 0.5\n",
    "popsize = 100\n",
    "nbgen = 50\n",
    "init() = bitrand(n)"
   ]
  },
  {
   "cell_type": "code",
   "execution_count": 120,
   "metadata": {
    "slideshow": {
     "slide_type": "slide"
    }
   },
   "outputs": [
    {
     "data": {
      "image/svg+xml": [
       "<?xml version=\"1.0\" encoding=\"utf-8\"?>\n",
       "<svg xmlns=\"http://www.w3.org/2000/svg\" xmlns:xlink=\"http://www.w3.org/1999/xlink\" width=\"600\" height=\"400\" viewBox=\"0 0 2400 1600\">\n",
       "<defs>\n",
       "  <clipPath id=\"clip3300\">\n",
       "    <rect x=\"0\" y=\"0\" width=\"2400\" height=\"1600\"/>\n",
       "  </clipPath>\n",
       "</defs>\n",
       "<path clip-path=\"url(#clip3300)\" d=\"\n",
       "M0 1600 L2400 1600 L2400 0 L0 0  Z\n",
       "  \" fill=\"#ffffff\" fill-rule=\"evenodd\" fill-opacity=\"1\"/>\n",
       "<defs>\n",
       "  <clipPath id=\"clip3301\">\n",
       "    <rect x=\"480\" y=\"0\" width=\"1681\" height=\"1600\"/>\n",
       "  </clipPath>\n",
       "</defs>\n",
       "<path clip-path=\"url(#clip3300)\" d=\"\n",
       "M175.024 1486.45 L2352.76 1486.45 L2352.76 47.2441 L175.024 47.2441  Z\n",
       "  \" fill=\"#ffffff\" fill-rule=\"evenodd\" fill-opacity=\"1\"/>\n",
       "<defs>\n",
       "  <clipPath id=\"clip3302\">\n",
       "    <rect x=\"175\" y=\"47\" width=\"2179\" height=\"1440\"/>\n",
       "  </clipPath>\n",
       "</defs>\n",
       "<polyline clip-path=\"url(#clip3302)\" style=\"stroke:#000000; stroke-width:2; stroke-opacity:0.1; fill:none\" points=\"\n",
       "  633.494,1486.45 633.494,47.2441 \n",
       "  \"/>\n",
       "<polyline clip-path=\"url(#clip3302)\" style=\"stroke:#000000; stroke-width:2; stroke-opacity:0.1; fill:none\" points=\"\n",
       "  1206.58,1486.45 1206.58,47.2441 \n",
       "  \"/>\n",
       "<polyline clip-path=\"url(#clip3302)\" style=\"stroke:#000000; stroke-width:2; stroke-opacity:0.1; fill:none\" points=\"\n",
       "  1779.67,1486.45 1779.67,47.2441 \n",
       "  \"/>\n",
       "<polyline clip-path=\"url(#clip3302)\" style=\"stroke:#000000; stroke-width:2; stroke-opacity:0.1; fill:none\" points=\"\n",
       "  2352.76,1486.45 2352.76,47.2441 \n",
       "  \"/>\n",
       "<polyline clip-path=\"url(#clip3302)\" style=\"stroke:#000000; stroke-width:2; stroke-opacity:0.1; fill:none\" points=\"\n",
       "  175.024,1327.04 2352.76,1327.04 \n",
       "  \"/>\n",
       "<polyline clip-path=\"url(#clip3302)\" style=\"stroke:#000000; stroke-width:2; stroke-opacity:0.1; fill:none\" points=\"\n",
       "  175.024,1116.07 2352.76,1116.07 \n",
       "  \"/>\n",
       "<polyline clip-path=\"url(#clip3302)\" style=\"stroke:#000000; stroke-width:2; stroke-opacity:0.1; fill:none\" points=\"\n",
       "  175.024,905.111 2352.76,905.111 \n",
       "  \"/>\n",
       "<polyline clip-path=\"url(#clip3302)\" style=\"stroke:#000000; stroke-width:2; stroke-opacity:0.1; fill:none\" points=\"\n",
       "  175.024,694.147 2352.76,694.147 \n",
       "  \"/>\n",
       "<polyline clip-path=\"url(#clip3302)\" style=\"stroke:#000000; stroke-width:2; stroke-opacity:0.1; fill:none\" points=\"\n",
       "  175.024,483.184 2352.76,483.184 \n",
       "  \"/>\n",
       "<polyline clip-path=\"url(#clip3302)\" style=\"stroke:#000000; stroke-width:2; stroke-opacity:0.1; fill:none\" points=\"\n",
       "  175.024,272.221 2352.76,272.221 \n",
       "  \"/>\n",
       "<polyline clip-path=\"url(#clip3302)\" style=\"stroke:#000000; stroke-width:2; stroke-opacity:0.1; fill:none\" points=\"\n",
       "  175.024,61.2584 2352.76,61.2584 \n",
       "  \"/>\n",
       "<polyline clip-path=\"url(#clip3300)\" style=\"stroke:#000000; stroke-width:4; stroke-opacity:1; fill:none\" points=\"\n",
       "  175.024,1486.45 2352.76,1486.45 \n",
       "  \"/>\n",
       "<polyline clip-path=\"url(#clip3300)\" style=\"stroke:#000000; stroke-width:4; stroke-opacity:1; fill:none\" points=\"\n",
       "  175.024,1486.45 175.024,47.2441 \n",
       "  \"/>\n",
       "<polyline clip-path=\"url(#clip3300)\" style=\"stroke:#000000; stroke-width:4; stroke-opacity:1; fill:none\" points=\"\n",
       "  633.494,1486.45 633.494,1469.18 \n",
       "  \"/>\n",
       "<polyline clip-path=\"url(#clip3300)\" style=\"stroke:#000000; stroke-width:4; stroke-opacity:1; fill:none\" points=\"\n",
       "  1206.58,1486.45 1206.58,1469.18 \n",
       "  \"/>\n",
       "<polyline clip-path=\"url(#clip3300)\" style=\"stroke:#000000; stroke-width:4; stroke-opacity:1; fill:none\" points=\"\n",
       "  1779.67,1486.45 1779.67,1469.18 \n",
       "  \"/>\n",
       "<polyline clip-path=\"url(#clip3300)\" style=\"stroke:#000000; stroke-width:4; stroke-opacity:1; fill:none\" points=\"\n",
       "  2352.76,1486.45 2352.76,1469.18 \n",
       "  \"/>\n",
       "<polyline clip-path=\"url(#clip3300)\" style=\"stroke:#000000; stroke-width:4; stroke-opacity:1; fill:none\" points=\"\n",
       "  175.024,1327.04 201.157,1327.04 \n",
       "  \"/>\n",
       "<polyline clip-path=\"url(#clip3300)\" style=\"stroke:#000000; stroke-width:4; stroke-opacity:1; fill:none\" points=\"\n",
       "  175.024,1116.07 201.157,1116.07 \n",
       "  \"/>\n",
       "<polyline clip-path=\"url(#clip3300)\" style=\"stroke:#000000; stroke-width:4; stroke-opacity:1; fill:none\" points=\"\n",
       "  175.024,905.111 201.157,905.111 \n",
       "  \"/>\n",
       "<polyline clip-path=\"url(#clip3300)\" style=\"stroke:#000000; stroke-width:4; stroke-opacity:1; fill:none\" points=\"\n",
       "  175.024,694.147 201.157,694.147 \n",
       "  \"/>\n",
       "<polyline clip-path=\"url(#clip3300)\" style=\"stroke:#000000; stroke-width:4; stroke-opacity:1; fill:none\" points=\"\n",
       "  175.024,483.184 201.157,483.184 \n",
       "  \"/>\n",
       "<polyline clip-path=\"url(#clip3300)\" style=\"stroke:#000000; stroke-width:4; stroke-opacity:1; fill:none\" points=\"\n",
       "  175.024,272.221 201.157,272.221 \n",
       "  \"/>\n",
       "<polyline clip-path=\"url(#clip3300)\" style=\"stroke:#000000; stroke-width:4; stroke-opacity:1; fill:none\" points=\"\n",
       "  175.024,61.2584 201.157,61.2584 \n",
       "  \"/>\n",
       "<path clip-path=\"url(#clip3300)\" d=\"M 0 0 M623.772 1505.36 L642.128 1505.36 L642.128 1509.3 L628.054 1509.3 L628.054 1517.77 Q629.073 1517.42 630.091 1517.26 Q631.11 1517.07 632.128 1517.07 Q637.915 1517.07 641.295 1520.24 Q644.674 1523.42 644.674 1528.83 Q644.674 1534.41 641.202 1537.51 Q637.73 1540.59 631.411 1540.59 Q629.235 1540.59 626.966 1540.22 Q624.721 1539.85 622.313 1539.11 L622.313 1534.41 Q624.397 1535.54 626.619 1536.1 Q628.841 1536.66 631.318 1536.66 Q635.323 1536.66 637.661 1534.55 Q639.999 1532.44 639.999 1528.83 Q639.999 1525.22 637.661 1523.11 Q635.323 1521.01 631.318 1521.01 Q629.443 1521.01 627.568 1521.42 Q625.716 1521.84 623.772 1522.72 L623.772 1505.36 Z\" fill=\"#000000\" fill-rule=\"evenodd\" fill-opacity=\"1\" /><path clip-path=\"url(#clip3300)\" d=\"M 0 0 M1183.46 1535.98 L1191.1 1535.98 L1191.1 1509.62 L1182.79 1511.29 L1182.79 1507.03 L1191.05 1505.36 L1195.72 1505.36 L1195.72 1535.98 L1203.36 1535.98 L1203.36 1539.92 L1183.46 1539.92 L1183.46 1535.98 Z\" fill=\"#000000\" fill-rule=\"evenodd\" fill-opacity=\"1\" /><path clip-path=\"url(#clip3300)\" d=\"M 0 0 M1218.43 1508.44 Q1214.82 1508.44 1212.99 1512 Q1211.19 1515.55 1211.19 1522.67 Q1211.19 1529.78 1212.99 1533.35 Q1214.82 1536.89 1218.43 1536.89 Q1222.07 1536.89 1223.87 1533.35 Q1225.7 1529.78 1225.7 1522.67 Q1225.7 1515.55 1223.87 1512 Q1222.07 1508.44 1218.43 1508.44 M1218.43 1504.73 Q1224.24 1504.73 1227.3 1509.34 Q1230.38 1513.92 1230.38 1522.67 Q1230.38 1531.4 1227.3 1536.01 Q1224.24 1540.59 1218.43 1540.59 Q1212.62 1540.59 1209.54 1536.01 Q1206.49 1531.4 1206.49 1522.67 Q1206.49 1513.92 1209.54 1509.34 Q1212.62 1504.73 1218.43 1504.73 Z\" fill=\"#000000\" fill-rule=\"evenodd\" fill-opacity=\"1\" /><path clip-path=\"url(#clip3300)\" d=\"M 0 0 M1757.04 1535.98 L1764.68 1535.98 L1764.68 1509.62 L1756.37 1511.29 L1756.37 1507.03 L1764.63 1505.36 L1769.31 1505.36 L1769.31 1535.98 L1776.95 1535.98 L1776.95 1539.92 L1757.04 1539.92 L1757.04 1535.98 Z\" fill=\"#000000\" fill-rule=\"evenodd\" fill-opacity=\"1\" /><path clip-path=\"url(#clip3300)\" d=\"M 0 0 M1782.06 1505.36 L1800.42 1505.36 L1800.42 1509.3 L1786.35 1509.3 L1786.35 1517.77 Q1787.37 1517.42 1788.38 1517.26 Q1789.4 1517.07 1790.42 1517.07 Q1796.21 1517.07 1799.59 1520.24 Q1802.97 1523.42 1802.97 1528.83 Q1802.97 1534.41 1799.49 1537.51 Q1796.02 1540.59 1789.7 1540.59 Q1787.53 1540.59 1785.26 1540.22 Q1783.01 1539.85 1780.61 1539.11 L1780.61 1534.41 Q1782.69 1535.54 1784.91 1536.1 Q1787.13 1536.66 1789.61 1536.66 Q1793.62 1536.66 1795.95 1534.55 Q1798.29 1532.44 1798.29 1528.83 Q1798.29 1525.22 1795.95 1523.11 Q1793.62 1521.01 1789.61 1521.01 Q1787.74 1521.01 1785.86 1521.42 Q1784.01 1521.84 1782.06 1522.72 L1782.06 1505.36 Z\" fill=\"#000000\" fill-rule=\"evenodd\" fill-opacity=\"1\" /><path clip-path=\"url(#clip3300)\" d=\"M 0 0 M2333.9 1535.98 L2350.22 1535.98 L2350.22 1539.92 L2328.28 1539.92 L2328.28 1535.98 Q2330.94 1533.23 2335.52 1528.6 Q2340.13 1523.95 2341.31 1522.61 Q2343.55 1520.08 2344.43 1518.35 Q2345.34 1516.59 2345.34 1514.9 Q2345.34 1512.14 2343.39 1510.41 Q2341.47 1508.67 2338.37 1508.67 Q2336.17 1508.67 2333.72 1509.43 Q2331.29 1510.2 2328.51 1511.75 L2328.51 1507.03 Q2331.33 1505.89 2333.79 1505.31 Q2336.24 1504.73 2338.28 1504.73 Q2343.65 1504.73 2346.84 1507.42 Q2350.04 1510.11 2350.04 1514.6 Q2350.04 1516.73 2349.23 1518.65 Q2348.44 1520.54 2346.33 1523.14 Q2345.75 1523.81 2342.65 1527.03 Q2339.55 1530.22 2333.9 1535.98 Z\" fill=\"#000000\" fill-rule=\"evenodd\" fill-opacity=\"1\" /><path clip-path=\"url(#clip3300)\" d=\"M 0 0 M2365.29 1508.44 Q2361.68 1508.44 2359.85 1512 Q2358.05 1515.55 2358.05 1522.67 Q2358.05 1529.78 2359.85 1533.35 Q2361.68 1536.89 2365.29 1536.89 Q2368.92 1536.89 2370.73 1533.35 Q2372.56 1529.78 2372.56 1522.67 Q2372.56 1515.55 2370.73 1512 Q2368.92 1508.44 2365.29 1508.44 M2365.29 1504.73 Q2371.1 1504.73 2374.16 1509.34 Q2377.23 1513.92 2377.23 1522.67 Q2377.23 1531.4 2374.16 1536.01 Q2371.1 1540.59 2365.29 1540.59 Q2359.48 1540.59 2356.4 1536.01 Q2353.35 1531.4 2353.35 1522.67 Q2353.35 1513.92 2356.4 1509.34 Q2359.48 1504.73 2365.29 1504.73 Z\" fill=\"#000000\" fill-rule=\"evenodd\" fill-opacity=\"1\" /><path clip-path=\"url(#clip3300)\" d=\"M 0 0 M75.6078 1312.84 Q71.9967 1312.84 70.168 1316.4 Q68.3625 1319.94 68.3625 1327.07 Q68.3625 1334.18 70.168 1337.74 Q71.9967 1341.28 75.6078 1341.28 Q79.242 1341.28 81.0476 1337.74 Q82.8763 1334.18 82.8763 1327.07 Q82.8763 1319.94 81.0476 1316.4 Q79.242 1312.84 75.6078 1312.84 M75.6078 1309.13 Q81.418 1309.13 84.4735 1313.74 Q87.5522 1318.32 87.5522 1327.07 Q87.5522 1335.8 84.4735 1340.4 Q81.418 1344.99 75.6078 1344.99 Q69.7976 1344.99 66.719 1340.4 Q63.6634 1335.8 63.6634 1327.07 Q63.6634 1318.32 66.719 1313.74 Q69.7976 1309.13 75.6078 1309.13 Z\" fill=\"#000000\" fill-rule=\"evenodd\" fill-opacity=\"1\" /><path clip-path=\"url(#clip3300)\" d=\"M 0 0 M92.6216 1338.44 L97.5058 1338.44 L97.5058 1344.32 L92.6216 1344.32 L92.6216 1338.44 Z\" fill=\"#000000\" fill-rule=\"evenodd\" fill-opacity=\"1\" /><path clip-path=\"url(#clip3300)\" d=\"M 0 0 M115.422 1313.83 L103.617 1332.28 L115.422 1332.28 L115.422 1313.83 M114.196 1309.76 L120.075 1309.76 L120.075 1332.28 L125.006 1332.28 L125.006 1336.17 L120.075 1336.17 L120.075 1344.32 L115.422 1344.32 L115.422 1336.17 L99.8206 1336.17 L99.8206 1331.65 L114.196 1309.76 Z\" fill=\"#000000\" fill-rule=\"evenodd\" fill-opacity=\"1\" /><path clip-path=\"url(#clip3300)\" d=\"M 0 0 M130.121 1309.76 L148.478 1309.76 L148.478 1313.69 L134.404 1313.69 L134.404 1322.16 Q135.422 1321.82 136.441 1321.65 Q137.459 1321.47 138.478 1321.47 Q144.265 1321.47 147.644 1324.64 Q151.024 1327.81 151.024 1333.23 Q151.024 1338.81 147.552 1341.91 Q144.08 1344.99 137.76 1344.99 Q135.584 1344.99 133.316 1344.62 Q131.07 1344.25 128.663 1343.51 L128.663 1338.81 Q130.746 1339.94 132.969 1340.5 Q135.191 1341.05 137.668 1341.05 Q141.672 1341.05 144.01 1338.95 Q146.348 1336.84 146.348 1333.23 Q146.348 1329.62 144.01 1327.51 Q141.672 1325.4 137.668 1325.4 Q135.793 1325.4 133.918 1325.82 Q132.066 1326.24 130.121 1327.12 L130.121 1309.76 Z\" fill=\"#000000\" fill-rule=\"evenodd\" fill-opacity=\"1\" /><path clip-path=\"url(#clip3300)\" d=\"M 0 0 M76.0939 1101.87 Q72.4828 1101.87 70.6541 1105.44 Q68.8486 1108.98 68.8486 1116.11 Q68.8486 1123.21 70.6541 1126.78 Q72.4828 1130.32 76.0939 1130.32 Q79.7281 1130.32 81.5337 1126.78 Q83.3624 1123.21 83.3624 1116.11 Q83.3624 1108.98 81.5337 1105.44 Q79.7281 1101.87 76.0939 1101.87 M76.0939 1098.17 Q81.9041 1098.17 84.9596 1102.77 Q88.0383 1107.36 88.0383 1116.11 Q88.0383 1124.84 84.9596 1129.44 Q81.9041 1134.02 76.0939 1134.02 Q70.2838 1134.02 67.2051 1129.44 Q64.1495 1124.84 64.1495 1116.11 Q64.1495 1107.36 67.2051 1102.77 Q70.2838 1098.17 76.0939 1098.17 Z\" fill=\"#000000\" fill-rule=\"evenodd\" fill-opacity=\"1\" /><path clip-path=\"url(#clip3300)\" d=\"M 0 0 M93.1077 1127.47 L97.9919 1127.47 L97.9919 1133.35 L93.1077 1133.35 L93.1077 1127.47 Z\" fill=\"#000000\" fill-rule=\"evenodd\" fill-opacity=\"1\" /><path clip-path=\"url(#clip3300)\" d=\"M 0 0 M103.108 1098.79 L121.464 1098.79 L121.464 1102.73 L107.39 1102.73 L107.39 1111.2 Q108.409 1110.85 109.427 1110.69 Q110.446 1110.51 111.464 1110.51 Q117.251 1110.51 120.631 1113.68 Q124.01 1116.85 124.01 1122.27 Q124.01 1127.84 120.538 1130.95 Q117.066 1134.02 110.746 1134.02 Q108.571 1134.02 106.302 1133.65 Q104.057 1133.28 101.649 1132.54 L101.649 1127.84 Q103.733 1128.98 105.955 1129.53 Q108.177 1130.09 110.654 1130.09 Q114.659 1130.09 116.996 1127.98 Q119.334 1125.88 119.334 1122.27 Q119.334 1118.65 116.996 1116.55 Q114.659 1114.44 110.654 1114.44 Q108.779 1114.44 106.904 1114.86 Q105.052 1115.27 103.108 1116.15 L103.108 1098.79 Z\" fill=\"#000000\" fill-rule=\"evenodd\" fill-opacity=\"1\" /><path clip-path=\"url(#clip3300)\" d=\"M 0 0 M139.08 1101.87 Q135.469 1101.87 133.64 1105.44 Q131.834 1108.98 131.834 1116.11 Q131.834 1123.21 133.64 1126.78 Q135.469 1130.32 139.08 1130.32 Q142.714 1130.32 144.519 1126.78 Q146.348 1123.21 146.348 1116.11 Q146.348 1108.98 144.519 1105.44 Q142.714 1101.87 139.08 1101.87 M139.08 1098.17 Q144.89 1098.17 147.945 1102.77 Q151.024 1107.36 151.024 1116.11 Q151.024 1124.84 147.945 1129.44 Q144.89 1134.02 139.08 1134.02 Q133.27 1134.02 130.191 1129.44 Q127.135 1124.84 127.135 1116.11 Q127.135 1107.36 130.191 1102.77 Q133.27 1098.17 139.08 1098.17 Z\" fill=\"#000000\" fill-rule=\"evenodd\" fill-opacity=\"1\" /><path clip-path=\"url(#clip3300)\" d=\"M 0 0 M77.0893 890.909 Q73.4782 890.909 71.6495 894.474 Q69.8439 898.016 69.8439 905.145 Q69.8439 912.252 71.6495 915.816 Q73.4782 919.358 77.0893 919.358 Q80.7235 919.358 82.5291 915.816 Q84.3578 912.252 84.3578 905.145 Q84.3578 898.016 82.5291 894.474 Q80.7235 890.909 77.0893 890.909 M77.0893 887.206 Q82.8994 887.206 85.955 891.812 Q89.0337 896.395 89.0337 905.145 Q89.0337 913.872 85.955 918.478 Q82.8994 923.062 77.0893 923.062 Q71.2791 923.062 68.2004 918.478 Q65.1449 913.872 65.1449 905.145 Q65.1449 896.395 68.2004 891.812 Q71.2791 887.206 77.0893 887.206 Z\" fill=\"#000000\" fill-rule=\"evenodd\" fill-opacity=\"1\" /><path clip-path=\"url(#clip3300)\" d=\"M 0 0 M94.1031 916.511 L98.9873 916.511 L98.9873 922.391 L94.1031 922.391 L94.1031 916.511 Z\" fill=\"#000000\" fill-rule=\"evenodd\" fill-opacity=\"1\" /><path clip-path=\"url(#clip3300)\" d=\"M 0 0 M104.103 887.831 L122.459 887.831 L122.459 891.766 L108.385 891.766 L108.385 900.238 Q109.404 899.891 110.422 899.729 Q111.441 899.543 112.459 899.543 Q118.246 899.543 121.626 902.715 Q125.006 905.886 125.006 911.303 Q125.006 916.881 121.533 919.983 Q118.061 923.062 111.742 923.062 Q109.566 923.062 107.297 922.691 Q105.052 922.321 102.645 921.58 L102.645 916.881 Q104.728 918.016 106.95 918.571 Q109.172 919.127 111.649 919.127 Q115.654 919.127 117.992 917.02 Q120.33 914.914 120.33 911.303 Q120.33 907.692 117.992 905.585 Q115.654 903.479 111.649 903.479 Q109.774 903.479 107.899 903.895 Q106.047 904.312 104.103 905.192 L104.103 887.831 Z\" fill=\"#000000\" fill-rule=\"evenodd\" fill-opacity=\"1\" /><path clip-path=\"url(#clip3300)\" d=\"M 0 0 M130.121 887.831 L148.478 887.831 L148.478 891.766 L134.404 891.766 L134.404 900.238 Q135.422 899.891 136.441 899.729 Q137.459 899.543 138.478 899.543 Q144.265 899.543 147.644 902.715 Q151.024 905.886 151.024 911.303 Q151.024 916.881 147.552 919.983 Q144.08 923.062 137.76 923.062 Q135.584 923.062 133.316 922.691 Q131.07 922.321 128.663 921.58 L128.663 916.881 Q130.746 918.016 132.969 918.571 Q135.191 919.127 137.668 919.127 Q141.672 919.127 144.01 917.02 Q146.348 914.914 146.348 911.303 Q146.348 907.692 144.01 905.585 Q141.672 903.479 137.668 903.479 Q135.793 903.479 133.918 903.895 Q132.066 904.312 130.121 905.192 L130.121 887.831 Z\" fill=\"#000000\" fill-rule=\"evenodd\" fill-opacity=\"1\" /><path clip-path=\"url(#clip3300)\" d=\"M 0 0 M74.9365 679.946 Q71.3254 679.946 69.4967 683.511 Q67.6912 687.053 67.6912 694.182 Q67.6912 701.289 69.4967 704.853 Q71.3254 708.395 74.9365 708.395 Q78.5707 708.395 80.3763 704.853 Q82.205 701.289 82.205 694.182 Q82.205 687.053 80.3763 683.511 Q78.5707 679.946 74.9365 679.946 M74.9365 676.242 Q80.7467 676.242 83.8022 680.849 Q86.8809 685.432 86.8809 694.182 Q86.8809 702.909 83.8022 707.515 Q80.7467 712.099 74.9365 712.099 Q69.1264 712.099 66.0477 707.515 Q62.9921 702.909 62.9921 694.182 Q62.9921 685.432 66.0477 680.849 Q69.1264 676.242 74.9365 676.242 Z\" fill=\"#000000\" fill-rule=\"evenodd\" fill-opacity=\"1\" /><path clip-path=\"url(#clip3300)\" d=\"M 0 0 M91.9503 705.548 L96.8345 705.548 L96.8345 711.427 L91.9503 711.427 L91.9503 705.548 Z\" fill=\"#000000\" fill-rule=\"evenodd\" fill-opacity=\"1\" /><path clip-path=\"url(#clip3300)\" d=\"M 0 0 M112.483 692.284 Q109.334 692.284 107.483 694.437 Q105.654 696.59 105.654 700.34 Q105.654 704.066 107.483 706.242 Q109.334 708.395 112.483 708.395 Q115.631 708.395 117.459 706.242 Q119.311 704.066 119.311 700.34 Q119.311 696.59 117.459 694.437 Q115.631 692.284 112.483 692.284 M121.765 677.631 L121.765 681.891 Q120.006 681.057 118.2 680.617 Q116.418 680.178 114.659 680.178 Q110.029 680.178 107.575 683.303 Q105.145 686.428 104.797 692.747 Q106.163 690.733 108.223 689.668 Q110.284 688.58 112.76 688.58 Q117.969 688.58 120.978 691.752 Q124.01 694.9 124.01 700.34 Q124.01 705.664 120.862 708.881 Q117.714 712.099 112.483 712.099 Q106.487 712.099 103.316 707.515 Q100.145 702.909 100.145 694.182 Q100.145 685.988 104.034 681.127 Q107.922 676.242 114.473 676.242 Q116.233 676.242 118.015 676.59 Q119.821 676.937 121.765 677.631 Z\" fill=\"#000000\" fill-rule=\"evenodd\" fill-opacity=\"1\" /><path clip-path=\"url(#clip3300)\" d=\"M 0 0 M139.08 679.946 Q135.469 679.946 133.64 683.511 Q131.834 687.053 131.834 694.182 Q131.834 701.289 133.64 704.853 Q135.469 708.395 139.08 708.395 Q142.714 708.395 144.519 704.853 Q146.348 701.289 146.348 694.182 Q146.348 687.053 144.519 683.511 Q142.714 679.946 139.08 679.946 M139.08 676.242 Q144.89 676.242 147.945 680.849 Q151.024 685.432 151.024 694.182 Q151.024 702.909 147.945 707.515 Q144.89 712.099 139.08 712.099 Q133.27 712.099 130.191 707.515 Q127.135 702.909 127.135 694.182 Q127.135 685.432 130.191 680.849 Q133.27 676.242 139.08 676.242 Z\" fill=\"#000000\" fill-rule=\"evenodd\" fill-opacity=\"1\" /><path clip-path=\"url(#clip3300)\" d=\"M 0 0 M75.9319 468.983 Q72.3208 468.983 70.4921 472.548 Q68.6865 476.09 68.6865 483.219 Q68.6865 490.326 70.4921 493.89 Q72.3208 497.432 75.9319 497.432 Q79.5661 497.432 81.3717 493.89 Q83.2004 490.326 83.2004 483.219 Q83.2004 476.09 81.3717 472.548 Q79.5661 468.983 75.9319 468.983 M75.9319 465.279 Q81.742 465.279 84.7976 469.886 Q87.8763 474.469 87.8763 483.219 Q87.8763 491.946 84.7976 496.552 Q81.742 501.136 75.9319 501.136 Q70.1217 501.136 67.043 496.552 Q63.9875 491.946 63.9875 483.219 Q63.9875 474.469 67.043 469.886 Q70.1217 465.279 75.9319 465.279 Z\" fill=\"#000000\" fill-rule=\"evenodd\" fill-opacity=\"1\" /><path clip-path=\"url(#clip3300)\" d=\"M 0 0 M92.9457 494.585 L97.8299 494.585 L97.8299 500.464 L92.9457 500.464 L92.9457 494.585 Z\" fill=\"#000000\" fill-rule=\"evenodd\" fill-opacity=\"1\" /><path clip-path=\"url(#clip3300)\" d=\"M 0 0 M113.478 481.321 Q110.33 481.321 108.478 483.474 Q106.649 485.627 106.649 489.377 Q106.649 493.103 108.478 495.279 Q110.33 497.432 113.478 497.432 Q116.626 497.432 118.455 495.279 Q120.307 493.103 120.307 489.377 Q120.307 485.627 118.455 483.474 Q116.626 481.321 113.478 481.321 M122.76 466.668 L122.76 470.928 Q121.001 470.094 119.196 469.654 Q117.413 469.215 115.654 469.215 Q111.024 469.215 108.571 472.34 Q106.14 475.465 105.793 481.784 Q107.159 479.77 109.219 478.705 Q111.279 477.617 113.756 477.617 Q118.964 477.617 121.973 480.789 Q125.006 483.937 125.006 489.377 Q125.006 494.701 121.858 497.918 Q118.709 501.136 113.478 501.136 Q107.483 501.136 104.311 496.552 Q101.14 491.946 101.14 483.219 Q101.14 475.025 105.029 470.164 Q108.918 465.279 115.469 465.279 Q117.228 465.279 119.01 465.627 Q120.816 465.974 122.76 466.668 Z\" fill=\"#000000\" fill-rule=\"evenodd\" fill-opacity=\"1\" /><path clip-path=\"url(#clip3300)\" d=\"M 0 0 M130.121 465.904 L148.478 465.904 L148.478 469.84 L134.404 469.84 L134.404 478.312 Q135.422 477.965 136.441 477.803 Q137.459 477.617 138.478 477.617 Q144.265 477.617 147.644 480.789 Q151.024 483.96 151.024 489.377 Q151.024 494.955 147.552 498.057 Q144.08 501.136 137.76 501.136 Q135.584 501.136 133.316 500.765 Q131.07 500.395 128.663 499.654 L128.663 494.955 Q130.746 496.089 132.969 496.645 Q135.191 497.201 137.668 497.201 Q141.672 497.201 144.01 495.094 Q146.348 492.988 146.348 489.377 Q146.348 485.765 144.01 483.659 Q141.672 481.553 137.668 481.553 Q135.793 481.553 133.918 481.969 Q132.066 482.386 130.121 483.265 L130.121 465.904 Z\" fill=\"#000000\" fill-rule=\"evenodd\" fill-opacity=\"1\" /><path clip-path=\"url(#clip3300)\" d=\"M 0 0 M76.0013 258.02 Q72.3902 258.02 70.5615 261.585 Q68.756 265.127 68.756 272.256 Q68.756 279.363 70.5615 282.927 Q72.3902 286.469 76.0013 286.469 Q79.6356 286.469 81.4411 282.927 Q83.2698 279.363 83.2698 272.256 Q83.2698 265.127 81.4411 261.585 Q79.6356 258.02 76.0013 258.02 M76.0013 254.316 Q81.8115 254.316 84.867 258.923 Q87.9457 263.506 87.9457 272.256 Q87.9457 280.983 84.867 285.589 Q81.8115 290.173 76.0013 290.173 Q70.1912 290.173 67.1125 285.589 Q64.0569 280.983 64.0569 272.256 Q64.0569 263.506 67.1125 258.923 Q70.1912 254.316 76.0013 254.316 Z\" fill=\"#000000\" fill-rule=\"evenodd\" fill-opacity=\"1\" /><path clip-path=\"url(#clip3300)\" d=\"M 0 0 M93.0151 283.622 L97.8993 283.622 L97.8993 289.501 L93.0151 289.501 L93.0151 283.622 Z\" fill=\"#000000\" fill-rule=\"evenodd\" fill-opacity=\"1\" /><path clip-path=\"url(#clip3300)\" d=\"M 0 0 M101.788 254.941 L124.01 254.941 L124.01 256.932 L111.464 289.501 L106.58 289.501 L118.385 258.877 L101.788 258.877 L101.788 254.941 Z\" fill=\"#000000\" fill-rule=\"evenodd\" fill-opacity=\"1\" /><path clip-path=\"url(#clip3300)\" d=\"M 0 0 M139.08 258.02 Q135.469 258.02 133.64 261.585 Q131.834 265.127 131.834 272.256 Q131.834 279.363 133.64 282.927 Q135.469 286.469 139.08 286.469 Q142.714 286.469 144.519 282.927 Q146.348 279.363 146.348 272.256 Q146.348 265.127 144.519 261.585 Q142.714 258.02 139.08 258.02 M139.08 254.316 Q144.89 254.316 147.945 258.923 Q151.024 263.506 151.024 272.256 Q151.024 280.983 147.945 285.589 Q144.89 290.173 139.08 290.173 Q133.27 290.173 130.191 285.589 Q127.135 280.983 127.135 272.256 Q127.135 263.506 130.191 258.923 Q133.27 254.316 139.08 254.316 Z\" fill=\"#000000\" fill-rule=\"evenodd\" fill-opacity=\"1\" /><path clip-path=\"url(#clip3300)\" d=\"M 0 0 M76.9967 47.0571 Q73.3856 47.0571 71.5569 50.6219 Q69.7513 54.1635 69.7513 61.2931 Q69.7513 68.3995 71.5569 71.9643 Q73.3856 75.506 76.9967 75.506 Q80.6309 75.506 82.4365 71.9643 Q84.2652 68.3995 84.2652 61.2931 Q84.2652 54.1635 82.4365 50.6219 Q80.6309 47.0571 76.9967 47.0571 M76.9967 43.3534 Q82.8068 43.3534 85.8624 47.9598 Q88.9411 52.5432 88.9411 61.2931 Q88.9411 70.0199 85.8624 74.6264 Q82.8068 79.2097 76.9967 79.2097 Q71.1865 79.2097 68.1078 74.6264 Q65.0523 70.0199 65.0523 61.2931 Q65.0523 52.5432 68.1078 47.9598 Q71.1865 43.3534 76.9967 43.3534 Z\" fill=\"#000000\" fill-rule=\"evenodd\" fill-opacity=\"1\" /><path clip-path=\"url(#clip3300)\" d=\"M 0 0 M94.0105 72.6588 L98.8947 72.6588 L98.8947 78.5384 L94.0105 78.5384 L94.0105 72.6588 Z\" fill=\"#000000\" fill-rule=\"evenodd\" fill-opacity=\"1\" /><path clip-path=\"url(#clip3300)\" d=\"M 0 0 M102.784 43.9784 L125.006 43.9784 L125.006 45.9691 L112.459 78.5384 L107.575 78.5384 L119.381 47.9135 L102.784 47.9135 L102.784 43.9784 Z\" fill=\"#000000\" fill-rule=\"evenodd\" fill-opacity=\"1\" /><path clip-path=\"url(#clip3300)\" d=\"M 0 0 M130.121 43.9784 L148.478 43.9784 L148.478 47.9135 L134.404 47.9135 L134.404 56.3857 Q135.422 56.0385 136.441 55.8765 Q137.459 55.6913 138.478 55.6913 Q144.265 55.6913 147.644 58.8626 Q151.024 62.0338 151.024 67.4505 Q151.024 73.0292 147.552 76.131 Q144.08 79.2097 137.76 79.2097 Q135.584 79.2097 133.316 78.8393 Q131.07 78.4689 128.663 77.7282 L128.663 73.0292 Q130.746 74.1634 132.969 74.719 Q135.191 75.2745 137.668 75.2745 Q141.672 75.2745 144.01 73.168 Q146.348 71.0616 146.348 67.4505 Q146.348 63.8394 144.01 61.7329 Q141.672 59.6264 137.668 59.6264 Q135.793 59.6264 133.918 60.0431 Q132.066 60.4598 130.121 61.3394 L130.121 43.9784 Z\" fill=\"#000000\" fill-rule=\"evenodd\" fill-opacity=\"1\" /><polyline clip-path=\"url(#clip3302)\" style=\"stroke:#0000ff; stroke-width:4; stroke-opacity:1; fill:none\" points=\"\n",
       "  175.024,392.944 289.642,564.582 404.259,631.667 518.876,352.748 633.494,431.899 748.111,289.525 862.729,547.405 977.346,860.823 1091.96,594.045 1206.58,558.247 \n",
       "  1321.2,451.168 1435.82,501.686 1550.43,509.643 1665.05,710.755 1779.67,574.017 1894.29,447.327 2008.9,598.39 2123.52,693.727 2238.14,480.817 2352.76,586.101 \n",
       "  \n",
       "  \"/>\n",
       "<polyline clip-path=\"url(#clip3302)\" style=\"stroke:#0000ff; stroke-width:4; stroke-opacity:1; fill:none\" points=\"\n",
       "  175.024,481.836 289.642,653.339 404.259,469.575 518.876,407.389 633.494,613.381 748.111,674.164 862.729,529.469 977.346,768.437 1091.96,818.161 1206.58,715.9 \n",
       "  1321.2,602.732 1435.82,450.931 1550.43,377.595 1665.05,705.751 1779.67,650.262 1894.29,442.557 2008.9,425.332 2123.52,680.926 2238.14,714.612 2352.76,560.58 \n",
       "  \n",
       "  \"/>\n",
       "<polyline clip-path=\"url(#clip3302)\" style=\"stroke:#0000ff; stroke-width:4; stroke-opacity:1; fill:none\" points=\"\n",
       "  175.024,453.543 289.642,584.309 404.259,591.469 518.876,507.949 633.494,758.776 748.111,644.485 862.729,376.382 977.346,606.822 1091.96,741.416 1206.58,545.059 \n",
       "  1321.2,666.238 1435.82,475.817 1550.43,345.823 1665.05,634.57 1779.67,684.932 1894.29,512.559 2008.9,497.827 2123.52,633.658 2238.14,586.165 2352.76,560.383 \n",
       "  \n",
       "  \"/>\n",
       "<polyline clip-path=\"url(#clip3302)\" style=\"stroke:#0000ff; stroke-width:4; stroke-opacity:1; fill:none\" points=\"\n",
       "  175.024,275.629 289.642,552.499 404.259,535.796 518.876,259.07 633.494,382.889 748.111,457.549 862.729,499.084 977.346,647.037 1091.96,559.723 1206.58,393.416 \n",
       "  1321.2,403.718 1435.82,512.042 1550.43,342.501 1665.05,562.564 1779.67,352.896 1894.29,327.1 2008.9,404.105 2123.52,638.484 2238.14,539.581 2352.76,462.122 \n",
       "  \n",
       "  \"/>\n",
       "<polyline clip-path=\"url(#clip3302)\" style=\"stroke:#0000ff; stroke-width:4; stroke-opacity:1; fill:none\" points=\"\n",
       "  175.024,320.109 289.642,377.073 404.259,633.454 518.876,227.605 633.494,556.86 748.111,454.331 862.729,708.154 977.346,659.339 1091.96,947.918 1206.58,488.995 \n",
       "  1321.2,407.722 1435.82,307.43 1550.43,272.237 1665.05,563.377 1779.67,408.377 1894.29,330.861 2008.9,437.866 2123.52,429.18 2238.14,661.51 2352.76,516.372 \n",
       "  \n",
       "  \"/>\n",
       "<polyline clip-path=\"url(#clip3302)\" style=\"stroke:#0000ff; stroke-width:4; stroke-opacity:1; fill:none\" points=\"\n",
       "  175.024,371.296 289.642,430.898 404.259,677.637 518.876,266.884 633.494,619.433 748.111,607.776 862.729,523.046 977.346,645.448 1091.96,714.835 1206.58,412.312 \n",
       "  1321.2,691.858 1435.82,475.908 1550.43,409.532 1665.05,769.466 1779.67,490.019 1894.29,510.527 2008.9,560.001 2123.52,519.183 2238.14,475.542 2352.76,706.084 \n",
       "  \n",
       "  \"/>\n",
       "<polyline clip-path=\"url(#clip3302)\" style=\"stroke:#0000ff; stroke-width:4; stroke-opacity:1; fill:none\" points=\"\n",
       "  175.024,291.412 289.642,503.066 404.259,625.885 518.876,273.547 633.494,493.203 748.111,457.442 862.729,680.379 977.346,746.159 1091.96,838.744 1206.58,482.537 \n",
       "  1321.2,498.279 1435.82,353.311 1550.43,456.687 1665.05,818.894 1779.67,543.055 1894.29,332.881 2008.9,494.524 2123.52,570.882 2238.14,483.033 2352.76,526.268 \n",
       "  \n",
       "  \"/>\n",
       "<polyline clip-path=\"url(#clip3302)\" style=\"stroke:#0000ff; stroke-width:4; stroke-opacity:1; fill:none\" points=\"\n",
       "  175.024,266.959 289.642,576.025 404.259,651.54 518.876,479.497 633.494,560.469 748.111,581.005 862.729,549.338 977.346,585.321 1091.96,779.276 1206.58,557.066 \n",
       "  1321.2,682.881 1435.82,704.51 1550.43,423.679 1665.05,568.522 1779.67,437.309 1894.29,572.07 2008.9,601.05 2123.52,679.772 2238.14,694.274 2352.76,446.005 \n",
       "  \n",
       "  \"/>\n",
       "<polyline clip-path=\"url(#clip3302)\" style=\"stroke:#0000ff; stroke-width:4; stroke-opacity:1; fill:none\" points=\"\n",
       "  175.024,676.264 289.642,715.191 404.259,406.421 518.876,395.6 633.494,549.423 748.111,570.944 862.729,584.441 977.346,638.739 1091.96,749.109 1206.58,658.514 \n",
       "  1321.2,639.684 1435.82,570.071 1550.43,387.788 1665.05,506.724 1779.67,485.096 1894.29,516.869 2008.9,468.924 2123.52,580.307 2238.14,835.035 2352.76,731.169 \n",
       "  \n",
       "  \"/>\n",
       "<polyline clip-path=\"url(#clip3302)\" style=\"stroke:#0000ff; stroke-width:4; stroke-opacity:1; fill:none\" points=\"\n",
       "  175.024,447.508 289.642,531.681 404.259,521.778 518.876,535.188 633.494,616.539 748.111,520.269 862.729,256.672 977.346,686.072 1091.96,648.04 1206.58,662.531 \n",
       "  1321.2,456.867 1435.82,477.129 1550.43,316.48 1665.05,476.686 1779.67,607.77 1894.29,270.044 2008.9,472.875 2123.52,544.441 2238.14,605.017 2352.76,484.889 \n",
       "  \n",
       "  \"/>\n",
       "<polyline clip-path=\"url(#clip3302)\" style=\"stroke:#0000ff; stroke-width:4; stroke-opacity:1; fill:none\" points=\"\n",
       "  175.024,518.882 289.642,642.461 404.259,842.116 518.876,340.795 633.494,572.065 748.111,590.659 862.729,658.058 977.346,503.986 1091.96,500.62 1206.58,444.254 \n",
       "  1321.2,599.323 1435.82,716.518 1550.43,487.057 1665.05,760.685 1779.67,441.426 1894.29,658.996 2008.9,742.942 2123.52,576.859 2238.14,603.28 2352.76,772.491 \n",
       "  \n",
       "  \"/>\n",
       "<polyline clip-path=\"url(#clip3302)\" style=\"stroke:#0000ff; stroke-width:4; stroke-opacity:1; fill:none\" points=\"\n",
       "  175.024,242.28 289.642,647.581 404.259,551.703 518.876,236.538 633.494,386.748 748.111,493.782 862.729,494.978 977.346,630.048 1091.96,530.945 1206.58,484.477 \n",
       "  1321.2,536.375 1435.82,608.912 1550.43,301.162 1665.05,576.887 1779.67,379.295 1894.29,539.31 2008.9,575.802 2123.52,617.272 2238.14,580.765 2352.76,570.4 \n",
       "  \n",
       "  \"/>\n",
       "<polyline clip-path=\"url(#clip3302)\" style=\"stroke:#0000ff; stroke-width:4; stroke-opacity:1; fill:none\" points=\"\n",
       "  175.024,472.419 289.642,605.746 404.259,463.203 518.876,501.621 633.494,596.838 748.111,479.911 862.729,701.053 977.346,506.861 1091.96,685.959 1206.58,538.977 \n",
       "  1321.2,807.762 1435.82,697.153 1550.43,516.911 1665.05,578.084 1779.67,597.246 1894.29,548.575 2008.9,666.234 2123.52,732.405 2238.14,462.276 2352.76,554.388 \n",
       "  \n",
       "  \"/>\n",
       "<polyline clip-path=\"url(#clip3302)\" style=\"stroke:#0000ff; stroke-width:4; stroke-opacity:1; fill:none\" points=\"\n",
       "  175.024,690.75 289.642,686.073 404.259,476.03 518.876,435.34 633.494,598.707 748.111,714.838 862.729,890.025 977.346,718.264 1091.96,881.446 1206.58,750.99 \n",
       "  1321.2,692.721 1435.82,584.103 1550.43,514.209 1665.05,718.596 1779.67,649.24 1894.29,542.011 2008.9,501.084 2123.52,652.88 2238.14,948.544 2352.76,772.035 \n",
       "  \n",
       "  \"/>\n",
       "<polyline clip-path=\"url(#clip3302)\" style=\"stroke:#0000ff; stroke-width:4; stroke-opacity:1; fill:none\" points=\"\n",
       "  175.024,465.178 289.642,683.082 404.259,486.267 518.876,413.948 633.494,522.178 748.111,556.418 862.729,714.29 977.346,657.227 1091.96,794.881 1206.58,733.295 \n",
       "  1321.2,477.618 1435.82,423.359 1550.43,297.24 1665.05,628.743 1779.67,479.017 1894.29,458.964 2008.9,574.523 2123.52,564.424 2238.14,733.307 2352.76,611.869 \n",
       "  \n",
       "  \"/>\n",
       "<polyline clip-path=\"url(#clip3302)\" style=\"stroke:#0000ff; stroke-width:4; stroke-opacity:1; fill:none\" points=\"\n",
       "  175.024,689.666 289.642,661.225 404.259,655.212 518.876,482.774 633.494,696.857 748.111,612.235 862.729,892.386 977.346,501.111 1091.96,556.103 1206.58,720.084 \n",
       "  1321.2,692.909 1435.82,651.226 1550.43,699.032 1665.05,656.461 1779.67,665.428 1894.29,754.007 2008.9,690.605 2123.52,657.944 2238.14,762.065 2352.76,819.681 \n",
       "  \n",
       "  \"/>\n",
       "<polyline clip-path=\"url(#clip3302)\" style=\"stroke:#0000ff; stroke-width:4; stroke-opacity:1; fill:none\" points=\"\n",
       "  175.024,232.189 289.642,375.9 404.259,508.914 518.876,307.145 633.494,474.914 748.111,450.069 862.729,672.902 977.346,512.493 1091.96,905.592 1206.58,495.419 \n",
       "  1321.2,446.004 1435.82,130.766 1550.43,287.582 1665.05,551.718 1779.67,443.763 1894.29,283.201 2008.9,346.429 2123.52,380.821 2238.14,492.412 2352.76,484.409 \n",
       "  \n",
       "  \"/>\n",
       "<polyline clip-path=\"url(#clip3302)\" style=\"stroke:#0000ff; stroke-width:4; stroke-opacity:1; fill:none\" points=\"\n",
       "  175.024,518.882 289.642,642.461 404.259,842.116 518.876,340.795 633.494,572.065 748.111,590.659 862.729,658.058 977.346,503.986 1091.96,500.62 1206.58,444.254 \n",
       "  1321.2,599.323 1435.82,716.518 1550.43,487.057 1665.05,760.685 1779.67,441.426 1894.29,658.996 2008.9,742.942 2123.52,576.859 2238.14,603.28 2352.76,772.491 \n",
       "  \n",
       "  \"/>\n",
       "<polyline clip-path=\"url(#clip3302)\" style=\"stroke:#0000ff; stroke-width:4; stroke-opacity:1; fill:none\" points=\"\n",
       "  175.024,324.823 289.642,518.666 404.259,577.834 518.876,503.136 633.494,514.984 748.111,509.814 862.729,397.153 977.346,556.722 1091.96,741.694 1206.58,514.91 \n",
       "  1321.2,702.338 1435.82,711.528 1550.43,395.236 1665.05,561.347 1779.67,577.55 1894.29,539.668 2008.9,497.462 2123.52,658.233 2238.14,530.534 2352.76,391.274 \n",
       "  \n",
       "  \"/>\n",
       "<polyline clip-path=\"url(#clip3302)\" style=\"stroke:#0000ff; stroke-width:4; stroke-opacity:1; fill:none\" points=\"\n",
       "  175.024,391.793 289.642,361.407 404.259,620.89 518.876,395.542 633.494,481.011 748.111,473.877 862.729,649.79 977.346,583.574 1091.96,787.46 1206.58,470.053 \n",
       "  1321.2,753.431 1435.82,388.172 1550.43,490.778 1665.05,756.619 1779.67,569.439 1894.29,563.709 2008.9,606.45 2123.52,635.734 2238.14,426.762 2352.76,601.078 \n",
       "  \n",
       "  \"/>\n",
       "<polyline clip-path=\"url(#clip3302)\" style=\"stroke:#0000ff; stroke-width:4; stroke-opacity:1; fill:none\" points=\"\n",
       "  175.024,368.083 289.642,440.37 404.259,748.185 518.876,381.491 633.494,618.86 748.111,547.504 862.729,590.713 977.346,421.009 1091.96,612.227 1206.58,443.545 \n",
       "  1321.2,620.711 1435.82,658.477 1550.43,416.453 1665.05,737.501 1779.67,431.38 1894.29,632.276 2008.9,663.076 2123.52,571.196 2238.14,620.169 2352.76,632.333 \n",
       "  \n",
       "  \"/>\n",
       "<polyline clip-path=\"url(#clip3302)\" style=\"stroke:#0000ff; stroke-width:4; stroke-opacity:1; fill:none\" points=\"\n",
       "  175.024,754.782 289.642,723.69 404.259,745.946 518.876,769.862 633.494,527.687 748.111,704.903 862.729,825.187 977.346,588.635 1091.96,516.963 1206.58,838.807 \n",
       "  1321.2,729.035 1435.82,794.451 1550.43,683.343 1665.05,756.796 1779.67,537.8 1894.29,677.636 2008.9,891.061 2123.52,771.522 2238.14,822.042 2352.76,734.753 \n",
       "  \n",
       "  \"/>\n",
       "<polyline clip-path=\"url(#clip3302)\" style=\"stroke:#0000ff; stroke-width:4; stroke-opacity:1; fill:none\" points=\"\n",
       "  175.024,361.989 289.642,500.84 404.259,557.815 518.876,365.258 633.494,514.958 748.111,577.861 862.729,429.682 977.346,683.428 1091.96,723.224 1206.58,458.597 \n",
       "  1321.2,505.127 1435.82,334.819 1550.43,298.481 1665.05,496.787 1779.67,449.211 1894.29,392.305 2008.9,382.535 2123.52,514.129 2238.14,625.398 2352.76,505.763 \n",
       "  \n",
       "  \"/>\n",
       "<polyline clip-path=\"url(#clip3302)\" style=\"stroke:#0000ff; stroke-width:4; stroke-opacity:1; fill:none\" points=\"\n",
       "  175.024,382.667 289.642,376.807 404.259,615.792 518.876,431.079 633.494,503.192 748.111,486.839 862.729,617.157 977.346,590.715 1091.96,753.557 1206.58,467.398 \n",
       "  1321.2,754.966 1435.82,374.549 1550.43,452.481 1665.05,750.428 1779.67,594.789 1894.29,552.967 2008.9,615.579 2123.52,662.352 2238.14,456 2352.76,605.588 \n",
       "  \n",
       "  \"/>\n",
       "<polyline clip-path=\"url(#clip3302)\" style=\"stroke:#0000ff; stroke-width:4; stroke-opacity:1; fill:none\" points=\"\n",
       "  175.024,541.509 289.642,553.492 404.259,773.257 518.876,426.982 633.494,328.812 748.111,584.666 862.729,566.201 977.346,677.96 1091.96,553.243 1206.58,643.848 \n",
       "  1321.2,609.088 1435.82,866.732 1550.43,432.078 1665.05,776.62 1779.67,320.735 1894.29,644.103 2008.9,706.747 2123.52,568.155 2238.14,661.821 2352.76,558.169 \n",
       "  \n",
       "  \"/>\n",
       "<polyline clip-path=\"url(#clip3302)\" style=\"stroke:#0000ff; stroke-width:4; stroke-opacity:1; fill:none\" points=\"\n",
       "  175.024,282.794 289.642,540.624 404.259,541.075 518.876,303.981 633.494,435.808 748.111,439.56 862.729,541.754 977.346,653.268 1091.96,587.316 1206.58,387.353 \n",
       "  1321.2,550.236 1435.82,450.569 1550.43,309.953 1665.05,568.407 1779.67,308.543 1894.29,378.633 2008.9,381.44 2123.52,630.622 2238.14,586.927 2352.76,496.161 \n",
       "  \n",
       "  \"/>\n",
       "<polyline clip-path=\"url(#clip3302)\" style=\"stroke:#0000ff; stroke-width:4; stroke-opacity:1; fill:none\" points=\"\n",
       "  175.024,433.492 289.642,615.648 404.259,508.313 518.876,361.751 633.494,538.916 748.111,500.867 862.729,944.812 977.346,631.696 1091.96,681.793 1206.58,539.607 \n",
       "  1321.2,727.448 1435.82,438.126 1550.43,559.041 1665.05,690.496 1779.67,579.016 1894.29,526.321 2008.9,638.116 2123.52,628.904 2238.14,504.51 2352.76,674.129 \n",
       "  \n",
       "  \"/>\n",
       "<polyline clip-path=\"url(#clip3302)\" style=\"stroke:#0000ff; stroke-width:4; stroke-opacity:1; fill:none\" points=\"\n",
       "  175.024,471.717 289.642,542.66 404.259,707.095 518.876,487.348 633.494,543.425 748.111,279.569 862.729,704.708 977.346,707.313 1091.96,661.861 1206.58,517.51 \n",
       "  1321.2,556.489 1435.82,426.352 1550.43,564.004 1665.05,853.231 1779.67,520.22 1894.29,611.294 2008.9,713.68 2123.52,698.08 2238.14,542.106 2352.76,603.453 \n",
       "  \n",
       "  \"/>\n",
       "<polyline clip-path=\"url(#clip3302)\" style=\"stroke:#0000ff; stroke-width:4; stroke-opacity:1; fill:none\" points=\"\n",
       "  175.024,249.169 289.642,348.786 404.259,586.202 518.876,256.426 633.494,412.532 748.111,501.164 862.729,586.896 977.346,495.052 1091.96,554.562 1206.58,392.303 \n",
       "  1321.2,565.002 1435.82,394.033 1550.43,254.005 1665.05,688.757 1779.67,315.261 1894.29,421.892 2008.9,650.469 2123.52,558.833 2238.14,398.846 2352.76,579.499 \n",
       "  \n",
       "  \"/>\n",
       "<polyline clip-path=\"url(#clip3302)\" style=\"stroke:#0000ff; stroke-width:4; stroke-opacity:1; fill:none\" points=\"\n",
       "  175.024,283.804 289.642,432.815 404.259,510.386 518.876,340.411 633.494,410.941 748.111,341.255 862.729,275.971 977.346,680.598 1091.96,610.67 1206.58,410.631 \n",
       "  1321.2,422.365 1435.82,401.512 1550.43,174.445 1665.05,407.471 1779.67,348.022 1894.29,255.743 2008.9,289.139 2123.52,467.92 2238.14,463.674 2352.76,557.993 \n",
       "  \n",
       "  \"/>\n",
       "<polyline clip-path=\"url(#clip3302)\" style=\"stroke:#0000ff; stroke-width:4; stroke-opacity:1; fill:none\" points=\"\n",
       "  175.024,227.682 289.642,508.734 404.259,780.078 518.876,377.559 633.494,333.081 748.111,504.649 862.729,534.027 977.346,675.496 1091.96,633.089 1206.58,524.607 \n",
       "  1321.2,575.422 1435.82,517.865 1550.43,330.424 1665.05,478.51 1779.67,427.602 1894.29,582.507 2008.9,526.146 2123.52,637.56 2238.14,611.649 2352.76,452.047 \n",
       "  \n",
       "  \"/>\n",
       "<polyline clip-path=\"url(#clip3302)\" style=\"stroke:#0000ff; stroke-width:4; stroke-opacity:1; fill:none\" points=\"\n",
       "  175.024,363.339 289.642,507.994 404.259,758.389 518.876,311.621 633.494,494.105 748.111,506.494 862.729,592.25 977.346,382.876 1091.96,529.694 1206.58,399.418 \n",
       "  1321.2,522.659 1435.82,550.785 1550.43,425.998 1665.05,677.789 1779.67,432.738 1894.29,526.886 2008.9,652.936 2123.52,448.209 2238.14,515.757 2352.76,657.983 \n",
       "  \n",
       "  \"/>\n",
       "<polyline clip-path=\"url(#clip3302)\" style=\"stroke:#0000ff; stroke-width:4; stroke-opacity:1; fill:none\" points=\"\n",
       "  175.024,541.771 289.642,743.498 404.259,634.68 518.876,567.638 633.494,450.148 748.111,495.767 862.729,514.295 977.346,724.208 1091.96,567.473 1206.58,674.29 \n",
       "  1321.2,718.084 1435.82,668.689 1550.43,402.578 1665.05,473.036 1779.67,547.732 1894.29,613.702 2008.9,537.5 2123.52,650.015 2238.14,804.092 2352.76,659.074 \n",
       "  \n",
       "  \"/>\n",
       "<polyline clip-path=\"url(#clip3302)\" style=\"stroke:#0000ff; stroke-width:4; stroke-opacity:1; fill:none\" points=\"\n",
       "  175.024,260.926 289.642,582.201 404.259,696.292 518.876,289.993 633.494,493.658 748.111,497.492 862.729,517.876 977.346,547.019 1091.96,626.986 1206.58,342.065 \n",
       "  1321.2,362.732 1435.82,576.402 1550.43,248.083 1665.05,637.055 1779.67,316.802 1894.29,551.477 2008.9,619.627 2123.52,627.664 2238.14,486.536 2352.76,632.763 \n",
       "  \n",
       "  \"/>\n",
       "<polyline clip-path=\"url(#clip3302)\" style=\"stroke:#0000ff; stroke-width:4; stroke-opacity:1; fill:none\" points=\"\n",
       "  175.024,251.061 289.642,384.665 404.259,595.91 518.876,181.361 633.494,398.68 748.111,332.115 862.729,460.158 977.346,682.498 1091.96,748.645 1206.58,364.362 \n",
       "  1321.2,389.724 1435.82,343.166 1550.43,245.137 1665.05,560.921 1779.67,316.042 1894.29,334.041 2008.9,417.591 2123.52,446.994 2238.14,481.045 2352.76,423.798 \n",
       "  \n",
       "  \"/>\n",
       "<polyline clip-path=\"url(#clip3302)\" style=\"stroke:#0000ff; stroke-width:4; stroke-opacity:1; fill:none\" points=\"\n",
       "  175.024,548.288 289.642,539.931 404.259,590.4 518.876,441.192 633.494,586.16 748.111,475.459 862.729,887.534 977.346,676.646 1091.96,847.521 1206.58,739.004 \n",
       "  1321.2,437.384 1435.82,518.867 1550.43,518.048 1665.05,618.904 1779.67,603.214 1894.29,518.683 2008.9,366.537 2123.52,551.189 2238.14,502.424 2352.76,764.754 \n",
       "  \n",
       "  \"/>\n",
       "<polyline clip-path=\"url(#clip3302)\" style=\"stroke:#0000ff; stroke-width:4; stroke-opacity:1; fill:none\" points=\"\n",
       "  175.024,454.61 289.642,634.203 404.259,584.545 518.876,408.814 633.494,530.862 748.111,455.608 862.729,498.88 977.346,686.797 1091.96,686.75 1206.58,574.981 \n",
       "  1321.2,502.367 1435.82,530.829 1550.43,292.676 1665.05,565.474 1779.67,431.411 1894.29,415.851 2008.9,489.502 2123.52,625.655 2238.14,722.577 2352.76,535.403 \n",
       "  \n",
       "  \"/>\n",
       "<polyline clip-path=\"url(#clip3302)\" style=\"stroke:#0000ff; stroke-width:4; stroke-opacity:1; fill:none\" points=\"\n",
       "  175.024,374.782 289.642,383.999 404.259,668.999 518.876,377.862 633.494,469.228 748.111,568.688 862.729,614.914 977.346,642.706 1091.96,641.013 1206.58,496.617 \n",
       "  1321.2,717.48 1435.82,443.275 1550.43,382.061 1665.05,844.344 1779.67,529.82 1894.29,491.539 2008.9,682.877 2123.52,679.186 2238.14,405.163 2352.76,641.835 \n",
       "  \n",
       "  \"/>\n",
       "<polyline clip-path=\"url(#clip3302)\" style=\"stroke:#0000ff; stroke-width:4; stroke-opacity:1; fill:none\" points=\"\n",
       "  175.024,589.288 289.642,708.613 404.259,867.507 518.876,386.583 633.494,583.615 748.111,627.076 862.729,674.683 977.346,575.745 1091.96,575.708 1206.58,504.447 \n",
       "  1321.2,658.703 1435.82,775.31 1550.43,505.368 1665.05,767.186 1779.67,508.946 1894.29,740.651 2008.9,777.932 2123.52,638.94 2238.14,635.701 2352.76,801.754 \n",
       "  \n",
       "  \"/>\n",
       "<polyline clip-path=\"url(#clip3302)\" style=\"stroke:#0000ff; stroke-width:4; stroke-opacity:1; fill:none\" points=\"\n",
       "  175.024,491.019 289.642,662.536 404.259,708.257 518.876,495.769 633.494,638.125 748.111,503.206 862.729,765.17 977.346,721.764 1091.96,739.653 1206.58,558.142 \n",
       "  1321.2,609.361 1435.82,603.486 1550.43,540.125 1665.05,786.31 1779.67,419.1 1894.29,581.544 2008.9,635.438 2123.52,670.631 2238.14,662.734 2352.76,665.448 \n",
       "  \n",
       "  \"/>\n",
       "<polyline clip-path=\"url(#clip3302)\" style=\"stroke:#0000ff; stroke-width:4; stroke-opacity:1; fill:none\" points=\"\n",
       "  175.024,425.533 289.642,556.678 404.259,700.922 518.876,433.254 633.494,732.536 748.111,773.283 862.729,572.253 977.346,741.446 1091.96,756.943 1206.58,571.214 \n",
       "  1321.2,725.425 1435.82,400.314 1550.43,377.706 1665.05,867.979 1779.67,587.991 1894.29,471.589 2008.9,573.682 2123.52,659.792 2238.14,571.183 2352.76,671.76 \n",
       "  \n",
       "  \"/>\n",
       "<polyline clip-path=\"url(#clip3302)\" style=\"stroke:#0000ff; stroke-width:4; stroke-opacity:1; fill:none\" points=\"\n",
       "  175.024,558.083 289.642,591.681 404.259,605.109 518.876,343.985 633.494,415.894 748.111,644.547 862.729,743.791 977.346,751.147 1091.96,783.162 1206.58,797.75 \n",
       "  1321.2,735.306 1435.82,580.161 1550.43,396.843 1665.05,643.679 1779.67,579.667 1894.29,662.422 2008.9,595.808 2123.52,633.773 2238.14,854.32 2352.76,684.663 \n",
       "  \n",
       "  \"/>\n",
       "<polyline clip-path=\"url(#clip3302)\" style=\"stroke:#0000ff; stroke-width:4; stroke-opacity:1; fill:none\" points=\"\n",
       "  175.024,410.112 289.642,611.87 404.259,643.066 518.876,416.399 633.494,496.617 748.111,541.486 862.729,477.396 977.346,732.856 1091.96,723.689 1206.58,695.639 \n",
       "  1321.2,504.48 1435.82,633.433 1550.43,287.318 1665.05,650.08 1779.67,466.965 1894.29,458.889 2008.9,651.158 2123.52,669.027 2238.14,726.187 2352.76,589.262 \n",
       "  \n",
       "  \"/>\n",
       "<polyline clip-path=\"url(#clip3302)\" style=\"stroke:#0000ff; stroke-width:4; stroke-opacity:1; fill:none\" points=\"\n",
       "  175.024,653.747 289.642,717.558 404.259,554.282 518.876,648.533 633.494,788.117 748.111,680.441 862.729,712.056 977.346,763.248 1091.96,868.313 1206.58,779.318 \n",
       "  1321.2,709.975 1435.82,429.961 1550.43,617.82 1665.05,752.15 1779.67,610.785 1894.29,554.085 2008.9,611.132 2123.52,831.836 2238.14,798.161 2352.76,742.493 \n",
       "  \n",
       "  \"/>\n",
       "<polyline clip-path=\"url(#clip3302)\" style=\"stroke:#0000ff; stroke-width:4; stroke-opacity:1; fill:none\" points=\"\n",
       "  175.024,727.398 289.642,800.907 404.259,470.524 518.876,536.439 633.494,623.197 748.111,715.828 862.729,869.778 977.346,777.346 1091.96,842.416 1206.58,792.282 \n",
       "  1321.2,776.08 1435.82,706.446 1550.43,480.039 1665.05,715.672 1779.67,692.825 1894.29,617.797 2008.9,555.861 2123.52,717.688 2238.14,866.795 2352.76,854.733 \n",
       "  \n",
       "  \"/>\n",
       "<polyline clip-path=\"url(#clip3302)\" style=\"stroke:#0000ff; stroke-width:4; stroke-opacity:1; fill:none\" points=\"\n",
       "  175.024,727.009 289.642,858.827 404.259,907.486 518.876,726.213 633.494,737.39 748.111,661.363 862.729,1042.47 977.346,765.402 1091.96,913.3 1206.58,686.346 \n",
       "  1321.2,885.542 1435.82,628.291 1550.43,839.241 1665.05,1137.32 1779.67,668.836 1894.29,733.27 2008.9,948.631 2123.52,916.062 2238.14,836.877 2352.76,926.247 \n",
       "  \n",
       "  \"/>\n",
       "<polyline clip-path=\"url(#clip3302)\" style=\"stroke:#0000ff; stroke-width:4; stroke-opacity:1; fill:none\" points=\"\n",
       "  175.024,274.603 289.642,396.314 404.259,501.915 518.876,294.337 633.494,427.604 748.111,187.123 862.729,758.352 977.346,542.512 1091.96,651.867 1206.58,520.267 \n",
       "  1321.2,363.347 1435.82,163.394 1550.43,319.873 1665.05,615.785 1779.67,403.209 1894.29,315.489 2008.9,449.906 2123.52,357.063 2238.14,423.765 2352.76,436.275 \n",
       "  \n",
       "  \"/>\n",
       "<polyline clip-path=\"url(#clip3302)\" style=\"stroke:#0000ff; stroke-width:4; stroke-opacity:1; fill:none\" points=\"\n",
       "  175.024,572.427 289.642,628.081 404.259,601.781 518.876,491.283 633.494,562.408 748.111,546.279 862.729,790.495 977.346,399.244 1091.96,450.521 1206.58,634.444 \n",
       "  1321.2,606.654 1435.82,613.9 1550.43,455.315 1665.05,552.647 1779.67,567.81 1894.29,493.038 2008.9,661.328 2123.52,504.735 2238.14,710.528 2352.76,630.042 \n",
       "  \n",
       "  \"/>\n",
       "<polyline clip-path=\"url(#clip3302)\" style=\"stroke:#0000ff; stroke-width:4; stroke-opacity:1; fill:none\" points=\"\n",
       "  175.024,524.873 289.642,711.042 404.259,916.104 518.876,368.373 633.494,592.233 748.111,598.4 862.729,618.085 977.346,629.991 1091.96,603.53 1206.58,492.994 \n",
       "  1321.2,636.471 1435.82,757.62 1550.43,566.651 1665.05,780.201 1779.67,455.649 1894.29,633.626 2008.9,781.834 2123.52,580.774 2238.14,642.656 2352.76,822.745 \n",
       "  \n",
       "  \"/>\n",
       "<polyline clip-path=\"url(#clip3302)\" style=\"stroke:#0000ff; stroke-width:4; stroke-opacity:1; fill:none\" points=\"\n",
       "  175.024,293.926 289.642,441.932 404.259,584.929 518.876,331.857 633.494,458.935 748.111,200.399 862.729,713.964 977.346,649.831 1091.96,691.176 1206.58,573.201 \n",
       "  1321.2,377.908 1435.82,151.289 1550.43,410.916 1665.05,706.513 1779.67,484.059 1894.29,315.923 2008.9,459.111 2123.52,422.252 2238.14,449.048 2352.76,472.048 \n",
       "  \n",
       "  \"/>\n",
       "<polyline clip-path=\"url(#clip3302)\" style=\"stroke:#0000ff; stroke-width:4; stroke-opacity:1; fill:none\" points=\"\n",
       "  175.024,445.302 289.642,531.881 404.259,681.147 518.876,597.431 633.494,447.242 748.111,379.533 862.729,738.97 977.346,594.798 1091.96,769.041 1206.58,567.715 \n",
       "  1321.2,517.253 1435.82,342.187 1550.43,579.671 1665.05,895.731 1779.67,632.436 1894.29,502.544 2008.9,670.787 2123.52,609.6 2238.14,594.584 2352.76,584.163 \n",
       "  \n",
       "  \"/>\n",
       "<polyline clip-path=\"url(#clip3302)\" style=\"stroke:#0000ff; stroke-width:4; stroke-opacity:1; fill:none\" points=\"\n",
       "  175.024,375.339 289.642,580.079 404.259,505.899 518.876,347.066 633.494,439.575 748.111,411.2 862.729,839.125 977.346,405.279 1091.96,528.914 1206.58,412.748 \n",
       "  1321.2,663.048 1435.82,363.007 1550.43,430.836 1665.05,553.244 1779.67,418.046 1894.29,434.879 2008.9,595.089 2123.52,435.724 2238.14,510.216 2352.76,631.129 \n",
       "  \n",
       "  \"/>\n",
       "<polyline clip-path=\"url(#clip3302)\" style=\"stroke:#0000ff; stroke-width:4; stroke-opacity:1; fill:none\" points=\"\n",
       "  175.024,345.154 289.642,454.782 404.259,621.296 518.876,356.714 633.494,474.526 748.111,525.369 862.729,795.377 977.346,593.463 1091.96,966.591 1206.58,559.441 \n",
       "  1321.2,588.321 1435.82,243.375 1550.43,505.749 1665.05,740.072 1779.67,552.355 1894.29,474.707 2008.9,366.567 2123.52,491.848 2238.14,584.234 2352.76,662.377 \n",
       "  \n",
       "  \"/>\n",
       "<polyline clip-path=\"url(#clip3302)\" style=\"stroke:#0000ff; stroke-width:4; stroke-opacity:1; fill:none\" points=\"\n",
       "  175.024,237.614 289.642,428.236 404.259,537.053 518.876,152.947 633.494,457.078 748.111,369.896 862.729,580.302 977.346,569.959 1091.96,742.647 1206.58,451.93 \n",
       "  1321.2,329.295 1435.82,343.525 1550.43,157.006 1665.05,483.125 1779.67,346.134 1894.29,323.809 2008.9,369.564 2123.52,258.239 2238.14,428.608 2352.76,483.099 \n",
       "  \n",
       "  \"/>\n",
       "<polyline clip-path=\"url(#clip3302)\" style=\"stroke:#0000ff; stroke-width:4; stroke-opacity:1; fill:none\" points=\"\n",
       "  175.024,343.844 289.642,488.48 404.259,572.79 518.876,335.932 633.494,468.782 748.111,220.835 862.729,759.41 977.346,730.057 1091.96,724.221 1206.58,604.228 \n",
       "  1321.2,407.034 1435.82,205.253 1550.43,544.378 1665.05,774.683 1779.67,587.288 1894.29,331.679 2008.9,477.997 2123.52,529.94 2238.14,383.086 2352.76,497.426 \n",
       "  \n",
       "  \"/>\n",
       "<polyline clip-path=\"url(#clip3302)\" style=\"stroke:#0000ff; stroke-width:4; stroke-opacity:1; fill:none\" points=\"\n",
       "  175.024,487.652 289.642,539.93 404.259,596.19 518.876,627.878 633.494,564.522 748.111,397.148 862.729,578.781 977.346,449.295 1091.96,474.917 1206.58,610.711 \n",
       "  1321.2,607.55 1435.82,556.025 1550.43,507.711 1665.05,509.311 1779.67,462.706 1894.29,524.335 2008.9,700.86 2123.52,630.809 2238.14,594.295 2352.76,480.768 \n",
       "  \n",
       "  \"/>\n",
       "<polyline clip-path=\"url(#clip3302)\" style=\"stroke:#0000ff; stroke-width:4; stroke-opacity:1; fill:none\" points=\"\n",
       "  175.024,597.765 289.642,711.676 404.259,677.981 518.876,665.002 633.494,669.41 748.111,463.628 862.729,670.194 977.346,704.998 1091.96,549.352 1206.58,580.69 \n",
       "  1321.2,608.011 1435.82,670.467 1550.43,595.248 1665.05,533.688 1779.67,481.411 1894.29,630.137 2008.9,680.688 2123.52,785.235 2238.14,754.482 2352.76,755.716 \n",
       "  \n",
       "  \"/>\n",
       "<polyline clip-path=\"url(#clip3302)\" style=\"stroke:#0000ff; stroke-width:4; stroke-opacity:1; fill:none\" points=\"\n",
       "  175.024,489.079 289.642,640.857 404.259,782.434 518.876,382.879 633.494,575.257 748.111,638.335 862.729,800.413 977.346,568.109 1091.96,690.058 1206.58,433.152 \n",
       "  1321.2,645.656 1435.82,669.815 1550.43,503.77 1665.05,710.549 1779.67,518.049 1894.29,617.724 2008.9,728.853 2123.52,621.778 2238.14,675.356 2352.76,849.685 \n",
       "  \n",
       "  \"/>\n",
       "<polyline clip-path=\"url(#clip3302)\" style=\"stroke:#0000ff; stroke-width:4; stroke-opacity:1; fill:none\" points=\"\n",
       "  175.024,218.007 289.642,559.312 404.259,722.528 518.876,269.517 633.494,445.586 748.111,519.631 862.729,529.043 977.346,656.44 1091.96,678.074 1206.58,466.182 \n",
       "  1321.2,362.285 1435.82,617.342 1550.43,284.547 1665.05,548.575 1779.67,270.903 1894.29,378.49 2008.9,502.849 2123.52,521.107 2238.14,595.898 2352.76,562.432 \n",
       "  \n",
       "  \"/>\n",
       "<polyline clip-path=\"url(#clip3302)\" style=\"stroke:#0000ff; stroke-width:4; stroke-opacity:1; fill:none\" points=\"\n",
       "  175.024,373.541 289.642,467.911 404.259,673.237 518.876,414.498 633.494,687.796 748.111,484.27 862.729,476.971 977.346,785.222 1091.96,902.074 1206.58,623.327 \n",
       "  1321.2,533.451 1435.82,489.317 1550.43,275.457 1665.05,574.891 1779.67,624.22 1894.29,423.862 2008.9,524.01 2123.52,518.16 2238.14,647.368 2352.76,513.768 \n",
       "  \n",
       "  \"/>\n",
       "<polyline clip-path=\"url(#clip3302)\" style=\"stroke:#0000ff; stroke-width:4; stroke-opacity:1; fill:none\" points=\"\n",
       "  175.024,338.273 289.642,532.895 404.259,549.624 518.876,366.718 633.494,591.252 748.111,467.594 862.729,747.486 977.346,699.577 1091.96,911.169 1206.58,597.65 \n",
       "  1321.2,495.339 1435.82,285.808 1550.43,376.58 1665.05,707.97 1779.67,522.917 1894.29,324.414 2008.9,445.112 2123.52,472.647 2238.14,508.237 2352.76,632.142 \n",
       "  \n",
       "  \"/>\n",
       "<polyline clip-path=\"url(#clip3302)\" style=\"stroke:#0000ff; stroke-width:4; stroke-opacity:1; fill:none\" points=\"\n",
       "  175.024,625.388 289.642,634.074 404.259,431.464 518.876,671.453 633.494,647.979 748.111,470.389 862.729,495.372 977.346,705.919 1091.96,693.445 1206.58,698.919 \n",
       "  1321.2,538.008 1435.82,535.691 1550.43,326.812 1665.05,628.628 1779.67,614.236 1894.29,453.293 2008.9,535.566 2123.52,666.473 2238.14,702.085 2352.76,583.617 \n",
       "  \n",
       "  \"/>\n",
       "<polyline clip-path=\"url(#clip3302)\" style=\"stroke:#0000ff; stroke-width:4; stroke-opacity:1; fill:none\" points=\"\n",
       "  175.024,390.905 289.642,710.638 404.259,705.581 518.876,383.666 633.494,462.213 748.111,490.947 862.729,466.869 977.346,843.575 1091.96,700.879 1206.58,516.118 \n",
       "  1321.2,598.202 1435.82,630.95 1550.43,322.406 1665.05,601.457 1779.67,560.675 1894.29,551.489 2008.9,598.525 2123.52,700.815 2238.14,722.464 2352.76,693.513 \n",
       "  \n",
       "  \"/>\n",
       "<polyline clip-path=\"url(#clip3302)\" style=\"stroke:#0000ff; stroke-width:4; stroke-opacity:1; fill:none\" points=\"\n",
       "  175.024,274.603 289.642,396.314 404.259,501.915 518.876,294.337 633.494,427.604 748.111,187.123 862.729,758.352 977.346,542.512 1091.96,651.867 1206.58,520.267 \n",
       "  1321.2,363.347 1435.82,163.394 1550.43,319.873 1665.05,615.785 1779.67,403.209 1894.29,315.489 2008.9,449.906 2123.52,357.063 2238.14,423.765 2352.76,436.275 \n",
       "  \n",
       "  \"/>\n",
       "<polyline clip-path=\"url(#clip3302)\" style=\"stroke:#0000ff; stroke-width:4; stroke-opacity:1; fill:none\" points=\"\n",
       "  175.024,558.783 289.642,734.481 404.259,679.798 518.876,422.231 633.494,545.61 748.111,714.688 862.729,766.438 977.346,732.105 1091.96,685.734 1206.58,564.253 \n",
       "  1321.2,762.752 1435.82,815.837 1550.43,404.641 1665.05,833.32 1779.67,563.813 1894.29,778.399 2008.9,632.919 2123.52,961.006 2238.14,668.708 2352.76,703.817 \n",
       "  \n",
       "  \"/>\n",
       "<polyline clip-path=\"url(#clip3302)\" style=\"stroke:#0000ff; stroke-width:4; stroke-opacity:1; fill:none\" points=\"\n",
       "  175.024,352.955 289.642,514.445 404.259,625.733 518.876,344.428 633.494,495.343 748.111,494.705 862.729,448.907 977.346,764.273 1091.96,584.768 1206.58,424.315 \n",
       "  1321.2,594.481 1435.82,623.407 1550.43,306.982 1665.05,675.818 1779.67,408.523 1894.29,628.056 2008.9,483.7 2123.52,785.172 2238.14,479.272 2352.76,502.232 \n",
       "  \n",
       "  \"/>\n",
       "<polyline clip-path=\"url(#clip3302)\" style=\"stroke:#0000ff; stroke-width:4; stroke-opacity:1; fill:none\" points=\"\n",
       "  175.024,544.869 289.642,474.575 404.259,604.063 518.876,386.646 633.494,572.811 748.111,509.072 862.729,486.894 977.346,850.572 1091.96,794.728 1206.58,636.286 \n",
       "  1321.2,515.649 1435.82,445.68 1550.43,321.005 1665.05,668.578 1779.67,437.021 1894.29,342.119 2008.9,495.645 2123.52,328.434 2238.14,568.472 2352.76,671.849 \n",
       "  \n",
       "  \"/>\n",
       "<polyline clip-path=\"url(#clip3302)\" style=\"stroke:#0000ff; stroke-width:4; stroke-opacity:1; fill:none\" points=\"\n",
       "  175.024,519.826 289.642,531.157 404.259,511.28 518.876,410.654 633.494,579.886 748.111,533.024 862.729,719.958 977.346,364.69 1091.96,543.473 1206.58,552.239 \n",
       "  1321.2,595.543 1435.82,492.51 1550.43,338.708 1665.05,485.713 1779.67,507.655 1894.29,480.456 2008.9,580.856 2123.52,503.347 2238.14,703.189 2352.76,624.868 \n",
       "  \n",
       "  \"/>\n",
       "<polyline clip-path=\"url(#clip3302)\" style=\"stroke:#0000ff; stroke-width:4; stroke-opacity:1; fill:none\" points=\"\n",
       "  175.024,577.876 289.642,592.023 404.259,734.637 518.876,510.88 633.494,420.858 748.111,560.17 862.729,538.587 977.346,702.913 1091.96,525.475 1206.58,747.661 \n",
       "  1321.2,700.866 1435.82,871.666 1550.43,391.246 1665.05,753.076 1779.67,427.411 1894.29,704.032 2008.9,799.619 2123.52,632.422 2238.14,750.152 2352.76,608.911 \n",
       "  \n",
       "  \"/>\n",
       "<polyline clip-path=\"url(#clip3302)\" style=\"stroke:#0000ff; stroke-width:4; stroke-opacity:1; fill:none\" points=\"\n",
       "  175.024,521.242 289.642,663.213 404.259,767.403 518.876,336.445 633.494,615.229 748.111,607.149 862.729,802.432 977.346,634.493 1091.96,661.463 1206.58,436.614 \n",
       "  1321.2,720.978 1435.82,655.706 1550.43,477.385 1665.05,859.507 1779.67,458.157 1894.29,655.264 2008.9,732.061 2123.52,630.99 2238.14,619.071 2352.76,819.459 \n",
       "  \n",
       "  \"/>\n",
       "<polyline clip-path=\"url(#clip3302)\" style=\"stroke:#0000ff; stroke-width:4; stroke-opacity:1; fill:none\" points=\"\n",
       "  175.024,467.032 289.642,495.686 404.259,653.042 518.876,524.293 633.494,635.355 748.111,556.337 862.729,764.185 977.346,721.331 1091.96,727.88 1206.58,620.807 \n",
       "  1321.2,863.644 1435.82,542.401 1550.43,515.505 1665.05,880.693 1779.67,659.035 1894.29,601.184 2008.9,708.775 2123.52,734.581 2238.14,529.928 2352.76,735.701 \n",
       "  \n",
       "  \"/>\n",
       "<polyline clip-path=\"url(#clip3302)\" style=\"stroke:#0000ff; stroke-width:4; stroke-opacity:1; fill:none\" points=\"\n",
       "  175.024,405.339 289.642,632.473 404.259,828.7 518.876,479.208 633.494,500.232 748.111,648.211 862.729,722.702 977.346,730.609 1091.96,855.747 1206.58,547.946 \n",
       "  1321.2,615.071 1435.82,667.233 1550.43,497.142 1665.05,823.076 1779.67,504.701 1894.29,578.614 2008.9,681.936 2123.52,707.111 2238.14,849.251 2352.76,637.598 \n",
       "  \n",
       "  \"/>\n",
       "<polyline clip-path=\"url(#clip3302)\" style=\"stroke:#0000ff; stroke-width:4; stroke-opacity:1; fill:none\" points=\"\n",
       "  175.024,203.329 289.642,362.815 404.259,540.457 518.876,167.333 633.494,399.485 748.111,359.327 862.729,554.096 977.346,584.741 1091.96,759.02 1206.58,375.376 \n",
       "  1321.2,410.069 1435.82,379.194 1550.43,151.979 1665.05,521.386 1779.67,286.208 1894.29,276.225 2008.9,474.065 2123.52,374.432 2238.14,468.769 2352.76,440.346 \n",
       "  \n",
       "  \"/>\n",
       "<polyline clip-path=\"url(#clip3302)\" style=\"stroke:#0000ff; stroke-width:4; stroke-opacity:1; fill:none\" points=\"\n",
       "  175.024,435.935 289.642,703.927 404.259,591.991 518.876,457.262 633.494,613.26 748.111,409.056 862.729,561.935 977.346,626.356 1091.96,631.875 1206.58,526.13 \n",
       "  1321.2,594.357 1435.82,520.786 1550.43,423.744 1665.05,578.149 1779.67,523.234 1894.29,393.201 2008.9,529.759 2123.52,626.548 2238.14,684.742 2352.76,573.404 \n",
       "  \n",
       "  \"/>\n",
       "<polyline clip-path=\"url(#clip3302)\" style=\"stroke:#0000ff; stroke-width:4; stroke-opacity:1; fill:none\" points=\"\n",
       "  175.024,344.996 289.642,540.521 404.259,505.734 518.876,323.513 633.494,498.938 748.111,410.751 862.729,460.082 977.346,677.239 1091.96,793.432 1206.58,576.733 \n",
       "  1321.2,502.677 1435.82,306.178 1550.43,271.828 1665.05,553.464 1779.67,457.951 1894.29,374.405 2008.9,347.886 2123.52,517.602 2238.14,569.487 2352.76,474.517 \n",
       "  \n",
       "  \"/>\n",
       "<polyline clip-path=\"url(#clip3302)\" style=\"stroke:#0000ff; stroke-width:4; stroke-opacity:1; fill:none\" points=\"\n",
       "  175.024,221.468 289.642,603.991 404.259,616.076 518.876,327.584 633.494,457.531 748.111,459.793 862.729,434.023 977.346,502.106 1091.96,540.076 1206.58,253.715 \n",
       "  1321.2,385.493 1435.82,528.046 1550.43,216.553 1665.05,528.236 1779.67,347.261 1894.29,617.636 2008.9,398.985 2123.52,717.271 2238.14,550.493 2352.76,517.43 \n",
       "  \n",
       "  \"/>\n",
       "<polyline clip-path=\"url(#clip3302)\" style=\"stroke:#ffa500; stroke-width:4; stroke-opacity:1; fill:none\" points=\"\n",
       "  175.024,701.593 289.642,575.743 404.259,541.76 518.876,645.4 633.494,567.752 748.111,521.663 862.729,634.242 977.346,523.75 1091.96,487.267 1206.58,752.283 \n",
       "  1321.2,641.172 1435.82,718.362 1550.43,450.668 1665.05,577.494 1779.67,407.106 1894.29,562.195 2008.9,722 2123.52,589.078 2238.14,695.062 2352.76,544.982 \n",
       "  \n",
       "  \"/>\n",
       "<polyline clip-path=\"url(#clip3302)\" style=\"stroke:#ffa500; stroke-width:4; stroke-opacity:1; fill:none\" points=\"\n",
       "  175.024,338.851 289.642,414.401 404.259,607.05 518.876,374.253 633.494,599.728 748.111,593.366 862.729,661.369 977.346,623.389 1091.96,921.518 1206.58,513.902 \n",
       "  1321.2,586.08 1435.82,243.758 1550.43,308.918 1665.05,580.813 1779.67,457.161 1894.29,418.686 2008.9,335.353 2123.52,550.937 2238.14,659.026 2352.76,593.01 \n",
       "  \n",
       "  \"/>\n",
       "<polyline clip-path=\"url(#clip3302)\" style=\"stroke:#ffa500; stroke-width:4; stroke-opacity:1; fill:none\" points=\"\n",
       "  175.024,459.984 289.642,415.111 404.259,553.818 518.876,177.09 633.494,425.986 748.111,444.304 862.729,622.902 977.346,587.432 1091.96,749.479 1206.58,558.756 \n",
       "  1321.2,355.596 1435.82,530.84 1550.43,341.882 1665.05,463.53 1779.67,363.117 1894.29,441.79 2008.9,200.029 2123.52,393.009 2238.14,488.898 2352.76,588.467 \n",
       "  \n",
       "  \"/>\n",
       "<polyline clip-path=\"url(#clip3302)\" style=\"stroke:#ffa500; stroke-width:4; stroke-opacity:1; fill:none\" points=\"\n",
       "  175.024,416.366 289.642,516.059 404.259,557.991 518.876,482.97 633.494,542.353 748.111,510.734 862.729,775.879 977.346,289.3 1091.96,670.59 1206.58,452.023 \n",
       "  1321.2,541.959 1435.82,481.13 1550.43,421.091 1665.05,742.389 1779.67,498.575 1894.29,493.662 2008.9,583.512 2123.52,557.637 2238.14,593.814 2352.76,579.238 \n",
       "  \n",
       "  \"/>\n",
       "<polyline clip-path=\"url(#clip3302)\" style=\"stroke:#ffa500; stroke-width:4; stroke-opacity:1; fill:none\" points=\"\n",
       "  175.024,385.587 289.642,544.802 404.259,450.359 518.876,322.19 633.494,566.079 748.111,412.93 862.729,978.008 977.346,554.685 1091.96,736.995 1206.58,540.004 \n",
       "  1321.2,645.521 1435.82,316.602 1550.43,482.856 1665.05,671.633 1779.67,540.989 1894.29,409.682 2008.9,551.066 2123.52,533.545 2238.14,456.178 2352.76,576.338 \n",
       "  \n",
       "  \"/>\n",
       "<polyline clip-path=\"url(#clip3302)\" style=\"stroke:#ffa500; stroke-width:4; stroke-opacity:1; fill:none\" points=\"\n",
       "  175.024,629.295 289.642,539.692 404.259,621.008 518.876,593.148 633.494,430.01 748.111,563.06 862.729,669.912 977.346,599.496 1091.96,427.34 1206.58,759.826 \n",
       "  1321.2,687.473 1435.82,667.867 1550.43,544.046 1665.05,590.322 1779.67,414.979 1894.29,626.9 2008.9,798.122 2123.52,666.605 2238.14,674.075 2352.76,571.585 \n",
       "  \n",
       "  \"/>\n",
       "<polyline clip-path=\"url(#clip3302)\" style=\"stroke:#ffa500; stroke-width:4; stroke-opacity:1; fill:none\" points=\"\n",
       "  175.024,358.649 289.642,550.05 404.259,582.937 518.876,328.111 633.494,354.718 748.111,228.389 862.729,520.222 977.346,838.245 1091.96,523.861 1206.58,508.061 \n",
       "  1321.2,378.932 1435.82,434.017 1550.43,481.215 1665.05,639.977 1779.67,509.348 1894.29,373.082 2008.9,520.129 2123.52,643.198 2238.14,418.346 2352.76,568.915 \n",
       "  \n",
       "  \"/>\n",
       "<polyline clip-path=\"url(#clip3302)\" style=\"stroke:#ffa500; stroke-width:4; stroke-opacity:1; fill:none\" points=\"\n",
       "  175.024,634.636 289.642,654.024 404.259,600.564 518.876,465.323 633.494,656.173 748.111,570.417 862.729,845.062 977.346,429.516 1091.96,500.986 1206.58,645.655 \n",
       "  1321.2,640.049 1435.82,592.339 1550.43,679.983 1665.05,655.758 1779.67,637.036 1894.29,695.078 2008.9,668.835 2123.52,653.555 2238.14,735.45 2352.76,782.304 \n",
       "  \n",
       "  \"/>\n",
       "<polyline clip-path=\"url(#clip3302)\" style=\"stroke:#ffa500; stroke-width:4; stroke-opacity:1; fill:none\" points=\"\n",
       "  175.024,381.984 289.642,395.136 404.259,487.986 518.876,234.435 633.494,368.84 748.111,404.217 862.729,521.28 977.346,572.39 1091.96,729.883 1206.58,464.029 \n",
       "  1321.2,487.477 1435.82,573.27 1550.43,167.06 1665.05,473.914 1779.67,147.506 1894.29,353.772 2008.9,397.882 2123.52,400.625 2238.14,514.539 2352.76,553.304 \n",
       "  \n",
       "  \"/>\n",
       "<polyline clip-path=\"url(#clip3302)\" style=\"stroke:#ffa500; stroke-width:4; stroke-opacity:1; fill:none\" points=\"\n",
       "  175.024,97.335 289.642,472.727 404.259,514.178 518.876,162.679 633.494,396.094 748.111,285.212 862.729,401.305 977.346,586.915 1091.96,686.607 1206.58,342.444 \n",
       "  1321.2,448.768 1435.82,369.351 1550.43,314.605 1665.05,458.821 1779.67,348.763 1894.29,417.693 2008.9,473.882 2123.52,367.565 2238.14,291.097 2352.76,551.436 \n",
       "  \n",
       "  \"/>\n",
       "<polyline clip-path=\"url(#clip3302)\" style=\"stroke:#ffa500; stroke-width:4; stroke-opacity:1; fill:none\" points=\"\n",
       "  175.024,309.089 289.642,552.72 404.259,795.278 518.876,268.083 633.494,371.193 748.111,473.49 862.729,431.824 977.346,555.383 1091.96,487.442 1206.58,457.863 \n",
       "  1321.2,436.353 1435.82,618.368 1550.43,294.358 1665.05,495.619 1779.67,378.761 1894.29,438.908 2008.9,572.033 2123.52,515.954 2238.14,621.818 2352.76,546.99 \n",
       "  \n",
       "  \"/>\n",
       "<polyline clip-path=\"url(#clip3302)\" style=\"stroke:#ffa500; stroke-width:4; stroke-opacity:1; fill:none\" points=\"\n",
       "  175.024,335.408 289.642,476.502 404.259,534.493 518.876,316.508 633.494,466.353 748.111,435.155 862.729,415.224 977.346,568.701 1091.96,562.706 1206.58,590.806 \n",
       "  1321.2,220.516 1435.82,430.992 1550.43,317.569 1665.05,483.119 1779.67,343.563 1894.29,280.158 2008.9,447.614 2123.52,429.914 2238.14,567.327 2352.76,545.831 \n",
       "  \n",
       "  \"/>\n",
       "<polyline clip-path=\"url(#clip3302)\" style=\"stroke:#ffa500; stroke-width:4; stroke-opacity:1; fill:none\" points=\"\n",
       "  175.024,432.98 289.642,503.732 404.259,705.726 518.876,412.825 633.494,302.877 748.111,500.347 862.729,473.064 977.346,652.526 1091.96,490.732 1206.58,587.986 \n",
       "  1321.2,607.041 1435.82,835.195 1550.43,361.239 1665.05,698.342 1779.67,289.492 1894.29,645.384 2008.9,688.637 2123.52,552.214 2238.14,627.6 2352.76,532.437 \n",
       "  \n",
       "  \"/>\n",
       "<polyline clip-path=\"url(#clip3302)\" style=\"stroke:#ffa500; stroke-width:4; stroke-opacity:1; fill:none\" points=\"\n",
       "  175.024,550.789 289.642,557.33 404.259,432.93 518.876,598.095 633.494,676.899 748.111,591.857 862.729,588.463 977.346,689.908 1091.96,867.836 1206.58,760.74 \n",
       "  1321.2,497.615 1435.82,318.616 1550.43,462.606 1665.05,721.596 1779.67,546.551 1894.29,341.19 2008.9,562.937 2123.52,552.934 2238.14,613.848 2352.76,619.803 \n",
       "  \n",
       "  \"/>\n",
       "<polyline clip-path=\"url(#clip3302)\" style=\"stroke:#ffa500; stroke-width:4; stroke-opacity:1; fill:none\" points=\"\n",
       "  175.024,186.23 289.642,493.065 404.259,602.698 518.876,176.569 633.494,411.092 748.111,459.811 862.729,472.5 977.346,425.961 1091.96,515.597 1206.58,228.98 \n",
       "  1321.2,335.711 1435.82,506.172 1550.43,168.156 1665.05,577.41 1779.67,239.762 1894.29,484.635 2008.9,489.098 2123.52,558.264 2238.14,424.903 2352.76,530.222 \n",
       "  \n",
       "  \"/>\n",
       "<polyline clip-path=\"url(#clip3302)\" style=\"stroke:#ffa500; stroke-width:4; stroke-opacity:1; fill:none\" points=\"\n",
       "  175.024,249.366 289.642,358.055 404.259,554.86 518.876,102.449 633.494,504.609 748.111,402.776 862.729,681.354 977.346,390.018 1091.96,699.109 1206.58,344.84 \n",
       "  1321.2,258.833 1435.82,252.992 1550.43,155.36 1665.05,568.375 1779.67,325.973 1894.29,255.384 2008.9,426.64 2123.52,363.621 2238.14,456.537 2352.76,513.758 \n",
       "  \n",
       "  \"/>\n",
       "<polyline clip-path=\"url(#clip3302)\" style=\"stroke:#ffa500; stroke-width:4; stroke-opacity:1; fill:none\" points=\"\n",
       "  175.024,315.146 289.642,526.782 404.259,491.793 518.876,336.211 633.494,410.808 748.111,394.45 862.729,304.619 977.346,567.952 1091.96,463.784 1206.58,374.377 \n",
       "  1321.2,374.443 1435.82,489.214 1550.43,173.743 1665.05,289.362 1779.67,284.411 1894.29,362.835 2008.9,306.384 2123.52,509.917 2238.14,573.59 2352.76,502.347 \n",
       "  \n",
       "  \"/>\n",
       "<polyline clip-path=\"url(#clip3302)\" style=\"stroke:#ffa500; stroke-width:4; stroke-opacity:1; fill:none\" points=\"\n",
       "  175.024,230.74 289.642,424.241 404.259,498.269 518.876,281.684 633.494,362.606 748.111,297.943 862.729,225.217 977.346,657.936 1091.96,537.298 1206.58,349.37 \n",
       "  1321.2,351.087 1435.82,369.541 1550.43,95.7761 1665.05,333.757 1779.67,328.765 1894.29,252.436 2008.9,282.034 2123.52,445.498 2238.14,451.11 2352.76,476.783 \n",
       "  \n",
       "  \"/>\n",
       "<polyline clip-path=\"url(#clip3302)\" style=\"stroke:#ffa500; stroke-width:4; stroke-opacity:1; fill:none\" points=\"\n",
       "  175.024,303.144 289.642,370.096 404.259,693.036 518.876,280.056 633.494,217.412 748.111,495.389 862.729,572.253 977.346,557.178 1091.96,625.095 1206.58,548.36 \n",
       "  1321.2,520.522 1435.82,518.157 1550.43,322.371 1665.05,387.364 1779.67,391.821 1894.29,505.59 2008.9,405.729 2123.52,494.568 2238.14,501.8 2352.76,474.741 \n",
       "  \n",
       "  \"/>\n",
       "<polyline clip-path=\"url(#clip3302)\" style=\"stroke:#ffa500; stroke-width:4; stroke-opacity:1; fill:none\" points=\"\n",
       "  175.024,218.021 289.642,519.819 404.259,630.802 518.876,317.212 633.494,475.747 748.111,392.095 862.729,182.869 977.346,700.667 1091.96,601.53 1206.58,410.164 \n",
       "  1321.2,431.186 1435.82,584.108 1550.43,222.391 1665.05,442.281 1779.67,436.78 1894.29,375.758 2008.9,506.357 2123.52,609.546 2238.14,513.188 2352.76,474.686 \n",
       "  \n",
       "  \"/>\n",
       "<polyline clip-path=\"url(#clip3302)\" style=\"stroke:#ffa500; stroke-width:4; stroke-opacity:1; fill:none\" points=\"\n",
       "  175.024,310.745 289.642,479.204 404.259,524.983 518.876,288.549 633.494,381.882 748.111,140.452 862.729,553.417 977.346,761.234 1091.96,579.062 1206.58,508.457 \n",
       "  1321.2,297.005 1435.82,312.493 1550.43,405.03 1665.05,621.114 1779.67,471.321 1894.29,256.443 2008.9,433.078 2123.52,547.84 2238.14,370.014 2352.76,471.124 \n",
       "  \n",
       "  \"/>\n",
       "<polyline clip-path=\"url(#clip3302)\" style=\"stroke:#ffa500; stroke-width:4; stroke-opacity:1; fill:none\" points=\"\n",
       "  175.024,179.126 289.642,367.326 404.259,496.797 518.876,248.419 633.494,426.579 748.111,406.756 862.729,622.149 977.346,489.832 1091.96,832.22 1206.58,434.158 \n",
       "  1321.2,374.726 1435.82,98.7947 1550.43,208.913 1665.05,478.004 1779.67,424.506 1894.29,279.893 2008.9,339.324 2123.52,358.399 2238.14,479.848 2352.76,403.199 \n",
       "  \n",
       "  \"/>\n",
       "<polyline clip-path=\"url(#clip3302)\" style=\"stroke:#ffa500; stroke-width:4; stroke-opacity:1; fill:none\" points=\"\n",
       "  175.024,47.2441 289.642,396.598 404.259,563.375 518.876,181.102 633.494,267.354 748.111,307.218 862.729,271.209 977.346,684.474 1091.96,564.927 1206.58,290.199 \n",
       "  1321.2,345.095 1435.82,295.685 1550.43,184.2 1665.05,446.252 1779.67,267.029 1894.29,247.673 2008.9,386.582 2123.52,502.057 2238.14,366.785 2352.76,399.987 \n",
       "  \n",
       "  \"/>\n",
       "<polyline clip-path=\"url(#clip3302)\" style=\"stroke:#ffa500; stroke-width:4; stroke-opacity:1; fill:none\" points=\"\n",
       "  175.024,124.252 289.642,387.841 404.259,523.418 518.876,142.887 633.494,268.297 748.111,257.492 862.729,324.745 977.346,625.11 1091.96,564.862 1206.58,287.864 \n",
       "  1321.2,327.933 1435.82,285.016 1550.43,125.236 1665.05,468.316 1779.67,235.033 1894.29,190.545 2008.9,348.208 2123.52,458.89 2238.14,407.58 2352.76,387.48 \n",
       "  \n",
       "  \"/>\n",
       "<polyline clip-path=\"url(#clip3302)\" style=\"stroke:#ffa500; stroke-width:4; stroke-opacity:1; fill:none\" points=\"\n",
       "  175.024,171.589 289.642,304.443 404.259,511.685 518.876,128.9 633.494,397.004 748.111,334.644 862.729,509.011 977.346,507.573 1091.96,758.784 1206.58,335.295 \n",
       "  1321.2,382.096 1435.82,302.846 1550.43,150.142 1665.05,494.228 1779.67,259.611 1894.29,267.118 2008.9,395.104 2123.52,329.14 2238.14,437.428 2352.76,361.309 \n",
       "  \n",
       "  \"/>\n",
       "<polyline clip-path=\"url(#clip3302)\" style=\"stroke:#ffa500; stroke-width:4; stroke-opacity:1; fill:none\" points=\"\n",
       "  175.024,402.363 289.642,494.488 404.259,525.203 518.876,195.145 633.494,431.941 748.111,444.406 862.729,588.207 977.346,646.065 1091.96,710.821 1206.58,545.87 \n",
       "  1321.2,423.467 1435.82,401.737 1550.43,234.641 1665.05,540.788 1779.67,293.097 1894.29,308.963 2008.9,480.773 2123.52,230.964 2238.14,516.726 2352.76,609.508 \n",
       "  \n",
       "  \"/>\n",
       "<polyline clip-path=\"url(#clip3302)\" style=\"stroke:#ffa500; stroke-width:4; stroke-opacity:1; fill:none\" points=\"\n",
       "  175.024,199.21 289.642,483.453 404.259,495.037 518.876,381.699 633.494,458.288 748.111,442.29 862.729,369.134 977.346,409.068 1091.96,655.243 1206.58,410.596 \n",
       "  1321.2,549.86 1435.82,662.286 1550.43,267.18 1665.05,405.761 1779.67,362.991 1894.29,470.022 2008.9,465.054 2123.52,537.881 2238.14,524.217 2352.76,328.938 \n",
       "  \n",
       "  \"/>\n",
       "<polyline clip-path=\"url(#clip3302)\" style=\"stroke:#ffa500; stroke-width:4; stroke-opacity:1; fill:none\" points=\"\n",
       "  175.024,594.703 289.642,577.896 404.259,693.111 518.876,552.762 633.494,683.628 748.111,521.594 862.729,658.343 977.346,528.096 1091.96,471.829 1206.58,580.835 \n",
       "  1321.2,579.678 1435.82,585.974 1550.43,598.214 1665.05,627.442 1779.67,561.353 1894.29,604.254 2008.9,710.775 2123.52,694.065 2238.14,697.395 2352.76,702.562 \n",
       "  \n",
       "  \"/>\n",
       "<polyline clip-path=\"url(#clip3302)\" style=\"stroke:#ffa500; stroke-width:4; stroke-opacity:1; fill:none\" points=\"\n",
       "  175.024,736.928 289.642,685.492 404.259,557.095 518.876,486.398 633.494,551.477 748.111,573.576 862.729,794.887 977.346,475.737 1091.96,492.698 1206.58,526.948 \n",
       "  1321.2,664.278 1435.82,582.971 1550.43,472.026 1665.05,603.636 1779.67,534.427 1894.29,569.806 2008.9,712.505 2123.52,645.313 2238.14,819.243 2352.76,718.295 \n",
       "  \n",
       "  \"/>\n",
       "<polyline clip-path=\"url(#clip3302)\" style=\"stroke:#ffa500; stroke-width:4; stroke-opacity:1; fill:none\" points=\"\n",
       "  175.024,653.824 289.642,629.287 404.259,638.418 518.876,436.876 633.494,569.876 748.111,551.079 862.729,778.952 977.346,352.515 1091.96,385.065 1206.58,531.056 \n",
       "  1321.2,576.541 1435.82,605.967 1550.43,515.165 1665.05,544.076 1779.67,484.565 1894.29,537.671 2008.9,675.084 2123.52,556.16 2238.14,735.926 2352.76,653.452 \n",
       "  \n",
       "  \"/>\n",
       "<polyline clip-path=\"url(#clip3302)\" style=\"stroke:#ffa500; stroke-width:4; stroke-opacity:1; fill:none\" points=\"\n",
       "  175.024,559.51 289.642,574.525 404.259,291.425 518.876,432.8 633.494,632.763 748.111,534.648 862.729,819.139 977.346,492.636 1091.96,651.972 1206.58,667.639 \n",
       "  1321.2,634.516 1435.82,453.752 1550.43,382.673 1665.05,600.066 1779.67,585.421 1894.29,415.399 2008.9,559.857 2123.52,556.868 2238.14,713.22 2352.76,677.016 \n",
       "  \n",
       "  \"/>\n",
       "<polyline clip-path=\"url(#clip3302)\" style=\"stroke:#ffa500; stroke-width:4; stroke-opacity:1; fill:none\" points=\"\n",
       "  175.024,513.387 289.642,584.626 404.259,708.489 518.876,523.237 633.494,457.108 748.111,344.165 862.729,738.661 977.346,612.464 1091.96,629.549 1206.58,502.841 \n",
       "  1321.2,511.233 1435.82,395.74 1550.43,616.582 1665.05,901.653 1779.67,514.616 1894.29,542.599 2008.9,713.14 2123.52,668.682 2238.14,574.202 2352.76,645.708 \n",
       "  \n",
       "  \"/>\n",
       "<polyline clip-path=\"url(#clip3302)\" style=\"stroke:#ffa500; stroke-width:4; stroke-opacity:1; fill:none\" points=\"\n",
       "  175.024,490.857 289.642,625.345 404.259,569.901 518.876,455.753 633.494,511.773 748.111,509.097 862.729,925.218 977.346,366.303 1091.96,595.015 1206.58,398.383 \n",
       "  1321.2,748.766 1435.82,439.464 1550.43,514.587 1665.05,741.006 1779.67,420.308 1894.29,590.776 2008.9,726.47 2123.52,613.17 2238.14,626.959 2352.76,673.549 \n",
       "  \n",
       "  \"/>\n",
       "<polyline clip-path=\"url(#clip3302)\" style=\"stroke:#ffa500; stroke-width:4; stroke-opacity:1; fill:none\" points=\"\n",
       "  175.024,469.928 289.642,649.178 404.259,476.599 518.876,278.101 633.494,473.907 748.111,636.775 862.729,667.202 977.346,643.272 1091.96,607.873 1206.58,557.323 \n",
       "  1321.2,670.526 1435.82,636.476 1550.43,393.43 1665.05,776.702 1779.67,584.401 1894.29,668.037 2008.9,517.795 2123.52,831.566 2238.14,561.149 2352.76,652.321 \n",
       "  \n",
       "  \"/>\n",
       "<polyline clip-path=\"url(#clip3302)\" style=\"stroke:#ffa500; stroke-width:4; stroke-opacity:1; fill:none\" points=\"\n",
       "  175.024,603.381 289.642,670.549 404.259,654.575 518.876,444.96 633.494,545.08 748.111,640.17 862.729,847.798 977.346,405.091 1091.96,547.388 1206.58,494.262 \n",
       "  1321.2,621.848 1435.82,646.652 1550.43,498.923 1665.05,605.064 1779.67,488.919 1894.29,567.749 2008.9,672.174 2123.52,600.141 2238.14,717.527 2352.76,716.747 \n",
       "  \n",
       "  \"/>\n",
       "<polyline clip-path=\"url(#clip3302)\" style=\"stroke:#ffa500; stroke-width:4; stroke-opacity:1; fill:none\" points=\"\n",
       "  175.024,620.614 289.642,768.33 404.259,400.748 518.876,475.848 633.494,581.099 748.111,495.526 862.729,654.617 977.346,642.343 1091.96,722.211 1206.58,656.579 \n",
       "  1321.2,671.783 1435.82,480.638 1550.43,422.121 1665.05,561.207 1779.67,659.544 1894.29,673.34 2008.9,367.962 2123.52,705.758 2238.14,750.815 2352.76,719.426 \n",
       "  \n",
       "  \"/>\n",
       "<polyline clip-path=\"url(#clip3302)\" style=\"stroke:#ffa500; stroke-width:4; stroke-opacity:1; fill:none\" points=\"\n",
       "  175.024,625.196 289.642,587.133 404.259,614.665 518.876,632.198 633.494,516.938 748.111,497.256 862.729,620.277 977.346,555.639 1091.96,423.351 1206.58,702.65 \n",
       "  1321.2,679.534 1435.82,784.047 1550.43,513.54 1665.05,601.661 1779.67,394.089 1894.29,623.095 2008.9,790.646 2123.52,626.896 2238.14,655.235 2352.76,556.725 \n",
       "  \n",
       "  \"/>\n",
       "<polyline clip-path=\"url(#clip3302)\" style=\"stroke:#ffa500; stroke-width:4; stroke-opacity:1; fill:none\" points=\"\n",
       "  175.024,274.603 289.642,396.314 404.259,501.915 518.876,294.337 633.494,427.604 748.111,187.123 862.729,758.352 977.346,542.512 1091.96,651.867 1206.58,520.267 \n",
       "  1321.2,363.347 1435.82,163.394 1550.43,319.873 1665.05,615.785 1779.67,403.209 1894.29,315.489 2008.9,449.906 2123.52,357.063 2238.14,423.765 2352.76,436.275 \n",
       "  \n",
       "  \"/>\n",
       "<polyline clip-path=\"url(#clip3302)\" style=\"stroke:#ffa500; stroke-width:4; stroke-opacity:1; fill:none\" points=\"\n",
       "  175.024,468.893 289.642,716.974 404.259,688.68 518.876,491.594 633.494,386.15 748.111,605.72 862.729,772.871 977.346,326.194 1091.96,549.042 1206.58,482.404 \n",
       "  1321.2,572.484 1435.82,766.146 1550.43,420.203 1665.05,697.19 1779.67,427.648 1894.29,661.863 2008.9,633.884 2123.52,641.952 2238.14,710.444 2352.76,542.575 \n",
       "  \n",
       "  \"/>\n",
       "<polyline clip-path=\"url(#clip3302)\" style=\"stroke:#ffa500; stroke-width:4; stroke-opacity:1; fill:none\" points=\"\n",
       "  175.024,529.411 289.642,568.628 404.259,471.185 518.876,424.793 633.494,583.803 748.111,630.546 862.729,605.599 977.346,756.11 1091.96,890.545 1206.58,747.919 \n",
       "  1321.2,644.001 1435.82,440.936 1550.43,455.2 1665.05,762.389 1779.67,648.834 1894.29,358.631 2008.9,441.065 2123.52,579.762 2238.14,651.533 2352.76,643.865 \n",
       "  \n",
       "  \"/>\n",
       "<polyline clip-path=\"url(#clip3302)\" style=\"stroke:#ffa500; stroke-width:4; stroke-opacity:1; fill:none\" points=\"\n",
       "  175.024,410.353 289.642,592.701 404.259,774.584 518.876,326.637 633.494,546.13 748.111,506.339 862.729,564.921 977.346,478.551 1091.96,438.109 1206.58,388.393 \n",
       "  1321.2,597.277 1435.82,684.98 1550.43,416.217 1665.05,682.408 1779.67,410.184 1894.29,660.276 2008.9,724.831 2123.52,560.918 2238.14,569.058 2352.76,746.76 \n",
       "  \n",
       "  \"/>\n",
       "<polyline clip-path=\"url(#clip3302)\" style=\"stroke:#ffa500; stroke-width:4; stroke-opacity:1; fill:none\" points=\"\n",
       "  175.024,638.477 289.642,707.264 404.259,378.345 518.876,443.522 633.494,535.948 748.111,582.453 862.729,690.108 977.346,659.279 1091.96,700.164 1206.58,651.995 \n",
       "  1321.2,690.74 1435.82,617.564 1550.43,399.934 1665.05,556.534 1779.67,556.315 1894.29,551.322 2008.9,370.204 2123.52,637.457 2238.14,807.951 2352.76,726.751 \n",
       "  \n",
       "  \"/>\n",
       "<polyline clip-path=\"url(#clip3302)\" style=\"stroke:#ffa500; stroke-width:4; stroke-opacity:1; fill:none\" points=\"\n",
       "  175.024,572.602 289.642,605.642 404.259,444.427 518.876,518.266 633.494,542.318 748.111,472.95 862.729,359.589 977.346,711.087 1091.96,670.459 1206.58,620.025 \n",
       "  1321.2,532.154 1435.82,567.296 1550.43,214.346 1665.05,487.327 1779.67,491.599 1894.29,409.206 2008.9,468.066 2123.52,599.209 2238.14,739.475 2352.76,531.951 \n",
       "  \n",
       "  \"/>\n",
       "<polyline clip-path=\"url(#clip3302)\" style=\"stroke:#ffa500; stroke-width:4; stroke-opacity:1; fill:none\" points=\"\n",
       "  175.024,183.055 289.642,585.069 404.259,664.167 518.876,363.553 633.494,498.817 748.111,498.545 862.729,450.588 977.346,606.491 1091.96,722.287 1206.58,343.681 \n",
       "  1321.2,447.091 1435.82,343.804 1550.43,373.035 1665.05,691.355 1779.67,437.774 1894.29,602.805 2008.9,522.103 2123.52,808.742 2238.14,463.487 2352.76,453.69 \n",
       "  \n",
       "  \"/>\n",
       "<polyline clip-path=\"url(#clip3302)\" style=\"stroke:#ffa500; stroke-width:4; stroke-opacity:1; fill:none\" points=\"\n",
       "  175.024,280.273 289.642,348.914 404.259,597.2 518.876,239.683 633.494,473.932 748.111,536.033 862.729,516.356 977.346,611.011 1091.96,612.119 1206.58,360.461 \n",
       "  1321.2,735.798 1435.82,341.425 1550.43,306.6 1665.05,819.243 1779.67,405.22 1894.29,473.245 2008.9,633.385 2123.52,603.89 2238.14,418.353 2352.76,582.525 \n",
       "  \n",
       "  \"/>\n",
       "<polyline clip-path=\"url(#clip3302)\" style=\"stroke:#ffa500; stroke-width:4; stroke-opacity:1; fill:none\" points=\"\n",
       "  175.024,224.522 289.642,470.805 404.259,513.444 518.876,279.57 633.494,479.488 748.111,437.703 862.729,403.219 977.346,635.45 1091.96,593.467 1206.58,354.346 \n",
       "  1321.2,433.553 1435.82,352.968 1550.43,363.735 1665.05,555.641 1779.67,450.284 1894.29,482.151 2008.9,323.49 2123.52,721.654 2238.14,399.091 2352.76,448.081 \n",
       "  \n",
       "  \"/>\n",
       "<polyline clip-path=\"url(#clip3302)\" style=\"stroke:#ffa500; stroke-width:4; stroke-opacity:1; fill:none\" points=\"\n",
       "  175.024,483.464 289.642,612.485 404.259,653.028 518.876,514.257 633.494,558.907 748.111,537.57 862.729,699.7 977.346,406.953 1091.96,511.643 1206.58,423.139 \n",
       "  1321.2,683.511 1435.82,463.775 1550.43,542.742 1665.05,682.202 1779.67,443.9 1894.29,545.627 2008.9,628.736 2123.52,688.53 2238.14,601.171 2352.76,702.759 \n",
       "  \n",
       "  \"/>\n",
       "<polyline clip-path=\"url(#clip3302)\" style=\"stroke:#ffa500; stroke-width:4; stroke-opacity:1; fill:none\" points=\"\n",
       "  175.024,634.652 289.642,697.726 404.259,649.747 518.876,419.506 633.494,569.626 748.111,613.712 862.729,876.268 977.346,416.089 1091.96,549.779 1206.58,488.27 \n",
       "  1321.2,657.047 1435.82,638.235 1550.43,568.509 1665.05,603.032 1779.67,447.865 1894.29,595.265 2008.9,699.713 2123.52,620.417 2238.14,716.265 2352.76,709.871 \n",
       "  \n",
       "  \"/>\n",
       "<polyline clip-path=\"url(#clip3302)\" style=\"stroke:#ffa500; stroke-width:4; stroke-opacity:1; fill:none\" points=\"\n",
       "  175.024,505.449 289.642,561.191 404.259,389.988 518.876,408.189 633.494,624.582 748.111,525.278 862.729,675.254 977.346,609.513 1091.96,791.32 1206.58,637.857 \n",
       "  1321.2,548.109 1435.82,449.17 1550.43,421.463 1665.05,616.011 1779.67,574.453 1894.29,348.606 2008.9,535.336 2123.52,563.582 2238.14,703.255 2352.76,698.646 \n",
       "  \n",
       "  \"/>\n",
       "<polyline clip-path=\"url(#clip3302)\" style=\"stroke:#ffa500; stroke-width:4; stroke-opacity:1; fill:none\" points=\"\n",
       "  175.024,402.532 289.642,417.56 404.259,651.057 518.876,242.244 633.494,391.734 748.111,475.915 862.729,613.973 977.346,554.19 1091.96,701.82 1206.58,579.567 \n",
       "  1321.2,376.858 1435.82,505.611 1550.43,305.056 1665.05,406.949 1779.67,387.537 1894.29,435.013 2008.9,232.885 2123.52,362.708 2238.14,508.038 2352.76,510.585 \n",
       "  \n",
       "  \"/>\n",
       "<polyline clip-path=\"url(#clip3302)\" style=\"stroke:#ffa500; stroke-width:4; stroke-opacity:1; fill:none\" points=\"\n",
       "  175.024,140.164 289.642,532.749 404.259,545.349 518.876,186.748 633.494,349.262 748.111,355.476 862.729,309.251 977.346,575.287 1091.96,579.997 1206.58,251.685 \n",
       "  1321.2,275.928 1435.82,433.968 1550.43,124.725 1665.05,480.14 1779.67,225.265 1894.29,332.648 2008.9,352.573 2123.52,564.571 2238.14,464.644 2352.76,459.772 \n",
       "  \n",
       "  \"/>\n",
       "<polyline clip-path=\"url(#clip3302)\" style=\"stroke:#ffa500; stroke-width:4; stroke-opacity:1; fill:none\" points=\"\n",
       "  175.024,445.607 289.642,504.44 404.259,738.122 518.876,351.098 633.494,563.164 748.111,542.702 862.729,648.511 977.346,323.401 1091.96,537.728 1206.58,368.287 \n",
       "  1321.2,594.033 1435.82,548.835 1550.43,452.454 1665.05,781.734 1779.67,417.015 1894.29,619.425 2008.9,708.923 2123.52,559.544 2238.14,602.401 2352.76,643.126 \n",
       "  \n",
       "  \"/>\n",
       "<polyline clip-path=\"url(#clip3302)\" style=\"stroke:#ffa500; stroke-width:4; stroke-opacity:1; fill:none\" points=\"\n",
       "  175.024,313.415 289.642,306.601 404.259,610.423 518.876,264.923 633.494,479.345 748.111,512.289 862.729,529.121 977.346,623.531 1091.96,591.329 1206.58,384.636 \n",
       "  1321.2,735.004 1435.82,431.43 1550.43,329.843 1665.05,755.166 1779.67,337.641 1894.29,464.854 2008.9,662.842 2123.52,554.396 2238.14,475.283 2352.76,602.052 \n",
       "  \n",
       "  \"/>\n",
       "<polyline clip-path=\"url(#clip3302)\" style=\"stroke:#ffa500; stroke-width:4; stroke-opacity:1; fill:none\" points=\"\n",
       "  175.024,364.21 289.642,503.234 404.259,701.485 518.876,405.505 633.494,555.696 748.111,537.903 862.729,660.055 977.346,370.13 1091.96,603.184 1206.58,471.676 \n",
       "  1321.2,624.147 1435.82,556.768 1550.43,392.604 1665.05,790.305 1779.67,500.261 1894.29,574.793 2008.9,695.166 2123.52,508.119 2238.14,577.003 2352.76,619.716 \n",
       "  \n",
       "  \"/>\n",
       "<polyline clip-path=\"url(#clip3302)\" style=\"stroke:#ffa500; stroke-width:4; stroke-opacity:1; fill:none\" points=\"\n",
       "  175.024,511.756 289.642,586.379 404.259,428.264 518.876,552.302 633.494,581.452 748.111,561.196 862.729,411.22 977.346,786.363 1091.96,852.766 1206.58,684.05 \n",
       "  1321.2,555.843 1435.82,443.884 1550.43,347.729 1665.05,632.899 1779.67,561.834 1894.29,320.942 2008.9,499.492 2123.52,578.851 2238.14,640.315 2352.76,564.709 \n",
       "  \n",
       "  \"/>\n",
       "<polyline clip-path=\"url(#clip3302)\" style=\"stroke:#ffa500; stroke-width:4; stroke-opacity:1; fill:none\" points=\"\n",
       "  175.024,90.402 289.642,419.06 404.259,533.347 518.876,116.742 633.494,389.337 748.111,323.167 862.729,427.919 977.346,465.718 1091.96,663.699 1206.58,307.223 \n",
       "  1321.2,251.872 1435.82,339.554 1550.43,178.67 1665.05,460.545 1779.67,287.783 1894.29,239.273 2008.9,288.223 2123.52,355.902 2238.14,493.933 2352.76,376.953 \n",
       "  \n",
       "  \"/>\n",
       "<polyline clip-path=\"url(#clip3302)\" style=\"stroke:#ffa500; stroke-width:4; stroke-opacity:1; fill:none\" points=\"\n",
       "  175.024,334.542 289.642,537.383 404.259,632.159 518.876,501.087 633.494,548.789 748.111,533.303 862.729,470.034 977.346,382.336 1091.96,767.432 1206.58,392.393 \n",
       "  1321.2,656.372 1435.82,451.499 1550.43,474.059 1665.05,713.952 1779.67,599.352 1894.29,550.796 2008.9,574.362 2123.52,624.412 2238.14,502.568 2352.76,563.18 \n",
       "  \n",
       "  \"/>\n",
       "<polyline clip-path=\"url(#clip3302)\" style=\"stroke:#ffa500; stroke-width:4; stroke-opacity:1; fill:none\" points=\"\n",
       "  175.024,124.252 289.642,387.841 404.259,523.418 518.876,142.887 633.494,268.297 748.111,257.492 862.729,324.745 977.346,625.11 1091.96,564.862 1206.58,287.864 \n",
       "  1321.2,327.933 1435.82,285.016 1550.43,125.236 1665.05,468.316 1779.67,235.033 1894.29,190.545 2008.9,348.208 2123.52,458.89 2238.14,407.58 2352.76,387.48 \n",
       "  \n",
       "  \"/>\n",
       "<polyline clip-path=\"url(#clip3302)\" style=\"stroke:#ffa500; stroke-width:4; stroke-opacity:1; fill:none\" points=\"\n",
       "  175.024,469.069 289.642,547.932 404.259,395.317 518.876,573.076 633.494,609.976 748.111,537.671 862.729,506.953 977.346,677.82 1091.96,819.029 1206.58,649.382 \n",
       "  1321.2,478.272 1435.82,364.303 1550.43,364.098 1665.05,650.777 1779.67,515.176 1894.29,326.08 2008.9,502.815 2123.52,571.663 2238.14,567.374 2352.76,628.505 \n",
       "  \n",
       "  \"/>\n",
       "<polyline clip-path=\"url(#clip3302)\" style=\"stroke:#ffa500; stroke-width:4; stroke-opacity:1; fill:none\" points=\"\n",
       "  175.024,338.011 289.642,629.513 404.259,448.749 518.876,304.786 633.494,595.657 748.111,456.549 862.729,901.878 977.346,567.012 1091.96,664.61 1206.58,507.984 \n",
       "  1321.2,604.253 1435.82,326.598 1550.43,405.251 1665.05,614.994 1779.67,542.418 1894.29,493.608 2008.9,535.332 2123.52,634.71 2238.14,519.257 2352.76,493.053 \n",
       "  \n",
       "  \"/>\n",
       "<polyline clip-path=\"url(#clip3302)\" style=\"stroke:#ffa500; stroke-width:4; stroke-opacity:1; fill:none\" points=\"\n",
       "  175.024,473.081 289.642,421.925 404.259,558.875 518.876,376.214 633.494,530.636 748.111,437.944 862.729,470.082 977.346,835.306 1091.96,792.609 1206.58,611.799 \n",
       "  1321.2,465.858 1435.82,368.86 1550.43,306.354 1665.05,583.307 1779.67,426.272 1894.29,278.046 2008.9,457.559 2123.52,300.763 2238.14,567.699 2352.76,633.846 \n",
       "  \n",
       "  \"/>\n",
       "<polyline clip-path=\"url(#clip3302)\" style=\"stroke:#ffa500; stroke-width:4; stroke-opacity:1; fill:none\" points=\"\n",
       "  175.024,502.945 289.642,629.99 404.259,420.811 518.876,422.848 633.494,512.14 748.111,540.158 862.729,717.073 977.346,670.892 1091.96,816.768 1206.58,729.854 \n",
       "  1321.2,540.804 1435.82,420.83 1550.43,288.166 1665.05,654.652 1779.67,533.579 1894.29,459.129 2008.9,593.774 2123.52,537.931 2238.14,689.984 2352.76,610.752 \n",
       "  \n",
       "  \"/>\n",
       "<polyline clip-path=\"url(#clip3302)\" style=\"stroke:#ffa500; stroke-width:4; stroke-opacity:1; fill:none\" points=\"\n",
       "  175.024,248.302 289.642,533.45 404.259,634.26 518.876,253.739 633.494,579.955 748.111,404.679 862.729,628.031 977.346,599.646 1091.96,763.066 1206.58,431.99 \n",
       "  1321.2,424.84 1435.82,198.458 1550.43,330.797 1665.05,727.265 1779.67,435.282 1894.29,518.584 2008.9,403.023 2123.52,697.57 2238.14,502.628 2352.76,426.05 \n",
       "  \n",
       "  \"/>\n",
       "<polyline clip-path=\"url(#clip3302)\" style=\"stroke:#ffa500; stroke-width:4; stroke-opacity:1; fill:none\" points=\"\n",
       "  175.024,430.096 289.642,625.556 404.259,365.567 518.876,326.765 633.494,401.448 748.111,408.284 862.729,460.902 977.346,506.58 1091.96,586.551 1206.58,529.609 \n",
       "  1321.2,439.972 1435.82,523.353 1550.43,127.982 1665.05,359.537 1779.67,347.675 1894.29,376.05 2008.9,453.195 2123.52,501.74 2238.14,687.729 2352.76,469.61 \n",
       "  \n",
       "  \"/>\n",
       "<polyline clip-path=\"url(#clip3302)\" style=\"stroke:#ffa500; stroke-width:4; stroke-opacity:1; fill:none\" points=\"\n",
       "  175.024,118.984 289.642,444.287 404.259,508.285 518.876,118.783 633.494,330.842 748.111,397.828 862.729,439.112 977.346,435.41 1091.96,569.189 1206.58,253.893 \n",
       "  1321.2,319.238 1435.82,473.182 1550.43,163.811 1665.05,388.681 1779.67,244.96 1894.29,355.478 2008.9,366.068 2123.52,386.072 2238.14,516.982 2352.76,438.97 \n",
       "  \n",
       "  \"/>\n",
       "<polyline clip-path=\"url(#clip3302)\" style=\"stroke:#ffa500; stroke-width:4; stroke-opacity:1; fill:none\" points=\"\n",
       "  175.024,449.377 289.642,459.079 404.259,405.055 518.876,388.862 633.494,492.233 748.111,458.75 862.729,756.462 977.346,449.281 1091.96,559.757 1206.58,493.908 \n",
       "  1321.2,603.204 1435.82,374.907 1550.43,243.61 1665.05,451.456 1779.67,532.594 1894.29,466.085 2008.9,424.176 2123.52,488.19 2238.14,580.96 2352.76,548.995 \n",
       "  \n",
       "  \"/>\n",
       "<polyline clip-path=\"url(#clip3302)\" style=\"stroke:#ffa500; stroke-width:4; stroke-opacity:1; fill:none\" points=\"\n",
       "  175.024,580.016 289.642,458.523 404.259,504.415 518.876,421.45 633.494,437.905 748.111,538.732 862.729,637.636 977.346,623.305 1091.96,716.683 1206.58,599.92 \n",
       "  1321.2,655.643 1435.82,749.312 1550.43,346.449 1665.05,670.927 1779.67,438.575 1894.29,552.846 2008.9,575.742 2123.52,625.812 2238.14,731.962 2352.76,637.599 \n",
       "  \n",
       "  \"/>\n",
       "<polyline clip-path=\"url(#clip3302)\" style=\"stroke:#ffa500; stroke-width:4; stroke-opacity:1; fill:none\" points=\"\n",
       "  175.024,588.93 289.642,699.354 404.259,398.333 518.876,362.85 633.494,473.127 748.111,497.562 862.729,567.753 977.346,613.041 1091.96,660.643 1206.58,653.787 \n",
       "  1321.2,574.981 1435.82,572.165 1550.43,298.082 1665.05,472.527 1779.67,516.566 1894.29,521.084 2008.9,406.981 2123.52,583.291 2238.14,801.723 2352.76,646.904 \n",
       "  \n",
       "  \"/>\n",
       "<polyline clip-path=\"url(#clip3302)\" style=\"stroke:#ffa500; stroke-width:4; stroke-opacity:1; fill:none\" points=\"\n",
       "  175.024,461.37 289.642,415.513 404.259,625.648 518.876,227.81 633.494,514.442 748.111,420.78 862.729,547.959 977.346,690.965 1091.96,757.87 1206.58,537.073 \n",
       "  1321.2,384.927 1435.82,427.209 1550.43,378.58 1665.05,589.813 1779.67,358.196 1894.29,385.798 2008.9,267.029 2123.52,276.132 2238.14,418.534 2352.76,670.866 \n",
       "  \n",
       "  \"/>\n",
       "<polyline clip-path=\"url(#clip3302)\" style=\"stroke:#ffa500; stroke-width:4; stroke-opacity:1; fill:none\" points=\"\n",
       "  175.024,335.263 289.642,518.413 404.259,749.123 518.876,453.175 633.494,435.747 748.111,568.152 862.729,648.783 977.346,316.752 1091.96,608.606 1206.58,412.728 \n",
       "  1321.2,454.343 1435.82,556.967 1550.43,414.598 1665.05,744.45 1779.67,531.919 1894.29,579.529 2008.9,631.471 2123.52,667.107 2238.14,593.382 2352.76,497.48 \n",
       "  \n",
       "  \"/>\n",
       "<polyline clip-path=\"url(#clip3302)\" style=\"stroke:#ffa500; stroke-width:4; stroke-opacity:1; fill:none\" points=\"\n",
       "  175.024,278.597 289.642,540.099 404.259,602.698 518.876,445.746 633.494,387.644 748.111,314.701 862.729,581.967 977.346,736.902 1091.96,683.442 1206.58,515.919 \n",
       "  1321.2,429.284 1435.82,350.599 1550.43,586.616 1665.05,738.773 1779.67,589.781 1894.29,415.9 2008.9,597.078 2123.52,641.112 2238.14,343.946 2352.76,525.066 \n",
       "  \n",
       "  \"/>\n",
       "<polyline clip-path=\"url(#clip3302)\" style=\"stroke:#ffa500; stroke-width:4; stroke-opacity:1; fill:none\" points=\"\n",
       "  175.024,114.583 289.642,522.445 404.259,625.679 518.876,205.255 633.494,466.26 748.111,469.852 862.729,384.317 977.346,461.368 1091.96,600.521 1206.58,246.459 \n",
       "  1321.2,313.672 1435.82,411.534 1550.43,241.533 1665.05,619.276 1779.67,308.686 1894.29,419.903 2008.9,524.637 2123.52,616.683 2238.14,394.309 2352.76,463.53 \n",
       "  \n",
       "  \"/>\n",
       "<polyline clip-path=\"url(#clip3302)\" style=\"stroke:#ffa500; stroke-width:4; stroke-opacity:1; fill:none\" points=\"\n",
       "  175.024,208.657 289.642,490.382 404.259,516.942 518.876,197.414 633.494,316.498 748.111,353.999 862.729,404.147 977.346,535.126 1091.96,491.348 1206.58,312.871 \n",
       "  1321.2,351.289 1435.82,404.689 1550.43,203.203 1665.05,423.922 1779.67,190.678 1894.29,300.944 2008.9,372.558 2123.52,523.308 2238.14,530.06 2352.76,413.044 \n",
       "  \n",
       "  \"/>\n",
       "<polyline clip-path=\"url(#clip3302)\" style=\"stroke:#ffa500; stroke-width:4; stroke-opacity:1; fill:none\" points=\"\n",
       "  175.024,175.748 289.642,428.81 404.259,594.875 518.876,211.027 633.494,334.154 748.111,292.541 862.729,260.863 977.346,754.14 1091.96,541.1 1206.58,325.893 \n",
       "  1321.2,334.19 1435.82,404.485 1550.43,216.58 1665.05,431.445 1779.67,252.317 1894.29,293.523 2008.9,379.481 2123.52,525.315 2238.14,434.956 2352.76,516.999 \n",
       "  \n",
       "  \"/>\n",
       "<polyline clip-path=\"url(#clip3302)\" style=\"stroke:#ffa500; stroke-width:4; stroke-opacity:1; fill:none\" points=\"\n",
       "  175.024,505.591 289.642,636.755 404.259,702.504 518.876,460.171 633.494,360.971 748.111,579.078 862.729,749.753 977.346,427.331 1091.96,651.559 1206.58,457.801 \n",
       "  1321.2,552.801 1435.82,707.672 1550.43,477.091 1665.05,602.881 1779.67,450.948 1894.29,630.849 2008.9,539.814 2123.52,615.583 2238.14,633.042 2352.76,664.948 \n",
       "  \n",
       "  \"/>\n",
       "<polyline clip-path=\"url(#clip3302)\" style=\"stroke:#ffa500; stroke-width:4; stroke-opacity:1; fill:none\" points=\"\n",
       "  175.024,270.5 289.642,409.682 404.259,587.307 518.876,246.993 633.494,512.779 748.111,418.34 862.729,636.601 977.346,503.024 1091.96,895.306 1206.58,403.854 \n",
       "  1321.2,336.495 1435.82,231.616 1550.43,248.286 1665.05,531.674 1779.67,448.076 1894.29,330.475 2008.9,365.661 2123.52,368.472 2238.14,521.463 2352.76,499.357 \n",
       "  \n",
       "  \"/>\n",
       "<polyline clip-path=\"url(#clip3302)\" style=\"stroke:#ffa500; stroke-width:4; stroke-opacity:1; fill:none\" points=\"\n",
       "  175.024,427.682 289.642,428.119 404.259,617.606 518.876,154.63 633.494,522.651 748.111,425.871 862.729,553.386 977.346,695.022 1091.96,763.477 1206.58,496.047 \n",
       "  1321.2,394.903 1435.82,402.736 1550.43,357.05 1665.05,627.395 1779.67,290.232 1894.29,368.381 2008.9,329.338 2123.52,247.3 2238.14,470.195 2352.76,676.769 \n",
       "  \n",
       "  \"/>\n",
       "<polyline clip-path=\"url(#clip3302)\" style=\"stroke:#ffa500; stroke-width:4; stroke-opacity:1; fill:none\" points=\"\n",
       "  175.024,242.675 289.642,580.713 404.259,534.916 518.876,220.723 633.494,340.844 748.111,377.655 862.729,424.819 977.346,514.515 1091.96,465.417 1206.58,249.591 \n",
       "  1321.2,427.233 1435.82,614.263 1550.43,194.519 1665.05,326.253 1779.67,231.39 1894.29,508.6 2008.9,365.395 2123.52,528.149 2238.14,588.242 2352.76,530.871 \n",
       "  \n",
       "  \"/>\n",
       "<polyline clip-path=\"url(#clip3302)\" style=\"stroke:#ffa500; stroke-width:4; stroke-opacity:1; fill:none\" points=\"\n",
       "  175.024,93.156 289.642,327.709 404.259,582.06 518.876,187.984 633.494,363.188 748.111,330.427 862.729,354.972 977.346,656.003 1091.96,724.696 1206.58,314.15 \n",
       "  1321.2,385.468 1435.82,296.306 1550.43,271.764 1665.05,491.602 1779.67,311.921 1894.29,320.042 2008.9,392.713 2123.52,416.847 2238.14,419.745 2352.76,375.215 \n",
       "  \n",
       "  \"/>\n",
       "<polyline clip-path=\"url(#clip3302)\" style=\"stroke:#ffa500; stroke-width:4; stroke-opacity:1; fill:none\" points=\"\n",
       "  175.024,206.315 289.642,399.959 404.259,554.814 518.876,192.456 633.494,382.478 748.111,461.598 862.729,448.563 977.346,583.071 1091.96,598.333 1206.58,295.829 \n",
       "  1321.2,502.648 1435.82,477.522 1550.43,192.945 1665.05,354.303 1779.67,196.279 1894.29,439.792 2008.9,381.579 2123.52,437.232 2238.14,588.327 2352.76,477.61 \n",
       "  \n",
       "  \"/>\n",
       "<polyline clip-path=\"url(#clip3302)\" style=\"stroke:#ffa500; stroke-width:4; stroke-opacity:1; fill:none\" points=\"\n",
       "  175.024,170.164 289.642,318.952 404.259,542.102 518.876,149.77 633.494,364.13 748.111,280.7 862.729,408.508 977.346,596.64 1091.96,724.631 1206.58,311.815 \n",
       "  1321.2,368.305 1435.82,285.636 1550.43,212.8 1665.05,513.667 1779.67,279.925 1894.29,262.914 2008.9,354.339 2123.52,373.68 2238.14,460.539 2352.76,362.708 \n",
       "  \n",
       "  \"/>\n",
       "<polyline clip-path=\"url(#clip3302)\" style=\"stroke:#ffa500; stroke-width:4; stroke-opacity:1; fill:none\" points=\"\n",
       "  175.024,172.116 289.642,429.133 404.259,597.694 518.876,235.877 633.494,509.588 748.111,314.322 862.729,294.659 977.346,623.211 1091.96,680.411 1206.58,449.325 \n",
       "  1321.2,353.939 1435.82,385.343 1550.43,191.494 1665.05,491.363 1779.67,399.848 1894.29,264.979 2008.9,412.621 2123.52,482.017 2238.14,452.757 2352.76,366.129 \n",
       "  \n",
       "  \"/>\n",
       "<polyline clip-path=\"url(#clip3302)\" style=\"stroke:#ffa500; stroke-width:4; stroke-opacity:1; fill:none\" points=\"\n",
       "  175.024,367.797 289.642,476.752 404.259,499.542 518.876,305.85 633.494,494.413 748.111,423.747 862.729,510.568 977.346,605.663 1091.96,758.022 1206.58,554.799 \n",
       "  1321.2,386.684 1435.82,289.206 1550.43,298.759 1665.05,507.206 1779.67,345.494 1894.29,237.779 2008.9,455.232 2123.52,290.174 2238.14,498.168 2352.76,587.428 \n",
       "  \n",
       "  \"/>\n",
       "<polyline clip-path=\"url(#clip3302)\" style=\"stroke:#ffa500; stroke-width:4; stroke-opacity:1; fill:none\" points=\"\n",
       "  175.024,143.604 289.642,590.918 404.259,568.041 518.876,222.073 633.494,356.512 748.111,271.062 862.729,332.034 977.346,556.509 1091.96,485.837 1206.58,251.688 \n",
       "  1321.2,344.006 1435.82,406.714 1550.43,243.528 1665.05,398.274 1779.67,242.678 1894.29,370.268 2008.9,372.71 2123.52,533.028 2238.14,540.327 2352.76,399.344 \n",
       "  \n",
       "  \"/>\n",
       "<polyline clip-path=\"url(#clip3302)\" style=\"stroke:#ffa500; stroke-width:4; stroke-opacity:1; fill:none\" points=\"\n",
       "  175.024,249.964 289.642,326.215 404.259,575.995 518.876,181.529 633.494,459.255 748.111,379.996 862.729,583.349 977.346,542.139 1091.96,873.483 1206.58,392.523 \n",
       "  1321.2,291.603 1435.82,270.4 1550.43,190.821 1665.05,460.19 1779.67,374.856 1894.29,301.632 2008.9,329.299 2123.52,299.567 2238.14,527.733 2352.76,453.146 \n",
       "  \n",
       "  \"/>\n",
       "<polyline clip-path=\"url(#clip3302)\" style=\"stroke:#ffa500; stroke-width:4; stroke-opacity:1; fill:none\" points=\"\n",
       "  175.024,478.018 289.642,701.574 404.259,693.779 518.876,456.056 633.494,363.968 748.111,592.757 862.729,805.504 977.346,319.053 1091.96,582.944 1206.58,485.058 \n",
       "  1321.2,570.949 1435.82,779.769 1550.43,458.5 1665.05,703.381 1779.67,402.298 1894.29,672.604 2008.9,624.755 2123.52,615.333 2238.14,681.206 2352.76,538.065 \n",
       "  \n",
       "  \"/>\n",
       "<polyline clip-path=\"url(#clip3302)\" style=\"stroke:#ffa500; stroke-width:4; stroke-opacity:1; fill:none\" points=\"\n",
       "  175.024,623.854 289.642,655.421 404.259,380.698 518.876,431.542 633.494,508.091 748.111,478.181 862.729,511.51 977.346,628.977 1091.96,624.709 1206.58,690.657 \n",
       "  1321.2,609.641 1435.82,517.945 1550.43,334.112 1665.05,461.54 1779.67,548.959 1894.29,498.952 2008.9,387.677 2123.52,556.696 2238.14,807.163 2352.76,672.546 \n",
       "  \n",
       "  \"/>\n",
       "<polyline clip-path=\"url(#clip3302)\" style=\"stroke:#ffa500; stroke-width:4; stroke-opacity:1; fill:none\" points=\"\n",
       "  175.024,351.03 289.642,424.801 404.259,717.193 518.876,323.911 633.494,562.317 748.111,464.39 862.729,541.221 977.346,389.325 1091.96,576.897 1206.58,394.027 \n",
       "  1321.2,597.408 1435.82,605.089 1550.43,410.616 1665.05,667.029 1779.67,372.391 1894.29,621.877 2008.9,650.414 2123.52,563.709 2238.14,544.686 2352.76,608.633 \n",
       "  \n",
       "  \"/>\n",
       "<polyline clip-path=\"url(#clip3302)\" style=\"stroke:#ffa500; stroke-width:4; stroke-opacity:1; fill:none\" points=\"\n",
       "  175.024,559.51 289.642,574.525 404.259,291.425 518.876,432.8 633.494,632.763 748.111,534.648 862.729,819.139 977.346,492.636 1091.96,651.972 1206.58,667.639 \n",
       "  1321.2,634.516 1435.82,453.752 1550.43,382.673 1665.05,600.066 1779.67,585.421 1894.29,415.399 2008.9,559.857 2123.52,556.868 2238.14,713.22 2352.76,677.016 \n",
       "  \n",
       "  \"/>\n",
       "<polyline clip-path=\"url(#clip3302)\" style=\"stroke:#ffa500; stroke-width:4; stroke-opacity:1; fill:none\" points=\"\n",
       "  175.024,606.449 289.642,626.337 404.259,707.135 518.876,450.664 633.494,499.794 748.111,586.217 862.729,722.481 977.346,338.476 1091.96,430.103 1206.58,482.444 \n",
       "  1321.2,529.603 1435.82,631.396 1550.43,492.334 1665.05,582.592 1779.67,462.718 1894.29,558.632 2008.9,698.541 2123.52,565.186 2238.14,721.8 2352.76,642.451 \n",
       "  \n",
       "  \"/>\n",
       "<polyline clip-path=\"url(#clip3302)\" style=\"stroke:#ffa500; stroke-width:4; stroke-opacity:1; fill:none\" points=\"\n",
       "  175.024,190.699 289.642,402.418 404.259,553.415 518.876,215.233 633.494,417.655 748.111,319.045 862.729,461.761 977.346,557.524 1091.96,746.453 1206.58,323.146 \n",
       "  1321.2,413.197 1435.82,246.852 1550.43,270.265 1665.05,585.15 1779.67,353.145 1894.29,291.758 2008.9,390.701 2123.52,442.586 2238.14,454.27 2352.76,408.919 \n",
       "  \n",
       "  \"/>\n",
       "<polyline clip-path=\"url(#clip3302)\" style=\"stroke:#ffa500; stroke-width:4; stroke-opacity:1; fill:none\" points=\"\n",
       "  175.024,257.038 289.642,486.339 404.259,610.213 518.876,253.813 633.494,468.226 748.111,424.387 862.729,497.444 977.346,633.076 1091.96,578.105 1206.58,276.59 \n",
       "  1321.2,508.066 1435.82,393.835 1550.43,376.898 1665.05,711.317 1779.67,329.694 1894.29,467.761 2008.9,557.491 2123.52,562.962 2238.14,348.247 2352.76,625.488 \n",
       "  \n",
       "  \"/>\n",
       "<polyline clip-path=\"url(#clip3302)\" style=\"stroke:#ffa500; stroke-width:4; stroke-opacity:1; fill:none\" points=\"\n",
       "  175.024,521.671 289.642,575.143 404.259,488.182 518.876,415.755 633.494,656.56 748.111,495.117 862.729,722.587 977.346,348.546 1091.96,439.986 1206.58,581.634 \n",
       "  1321.2,497.732 1435.82,479.731 1550.43,461.816 1665.05,467.404 1779.67,528.443 1894.29,503.572 2008.9,648.696 2123.52,542.528 2238.14,643.628 2352.76,604.336 \n",
       "  \n",
       "  \"/>\n",
       "<polyline clip-path=\"url(#clip3302)\" style=\"stroke:#ffa500; stroke-width:4; stroke-opacity:1; fill:none\" points=\"\n",
       "  175.024,302.976 289.642,447.024 404.259,567.182 518.876,232.958 633.494,257.619 748.111,463.88 862.729,546.487 977.346,649.053 1091.96,634.095 1206.58,514.663 \n",
       "  1321.2,567.131 1435.82,414.284 1550.43,251.957 1665.05,521.203 1779.67,297.381 1894.29,379.54 2008.9,653.618 2123.52,362.824 2238.14,510.489 2352.76,573.664 \n",
       "  \n",
       "  \"/>\n",
       "<polyline clip-path=\"url(#clip3302)\" style=\"stroke:#ffa500; stroke-width:4; stroke-opacity:1; fill:none\" points=\"\n",
       "  175.024,110.423 289.642,466.285 404.259,656.864 518.876,164.347 633.494,486.215 748.111,415.613 862.729,426.117 977.346,526.375 1091.96,630.733 1206.58,283.282 \n",
       "  1321.2,446.574 1435.82,387.96 1550.43,340.662 1665.05,709.565 1779.67,367.997 1894.29,358.973 2008.9,510.393 2123.52,447.959 2238.14,308.929 2352.76,540.307 \n",
       "  \n",
       "  \"/>\n",
       "<polyline clip-path=\"url(#clip3302)\" style=\"stroke:#ffa500; stroke-width:4; stroke-opacity:1; fill:none\" points=\"\n",
       "  175.024,227.813 289.642,476.342 404.259,435.867 518.876,346.795 633.494,447.728 748.111,283.391 862.729,403.466 977.346,417.618 1091.96,647.039 1206.58,379.808 \n",
       "  1321.2,604.592 1435.82,487.131 1550.43,247.355 1665.05,420.1 1779.67,375.701 1894.29,430.054 2008.9,473.904 2123.52,432.784 2238.14,413.457 2352.76,335.014 \n",
       "  \n",
       "  \"/>\n",
       "<polyline clip-path=\"url(#clip3302)\" style=\"stroke:#ffa500; stroke-width:4; stroke-opacity:1; fill:none\" points=\"\n",
       "  175.024,166.938 289.642,364.031 404.259,639.998 518.876,141.646 633.494,343.741 748.111,426.848 862.729,559.274 977.346,459.503 1091.96,547.781 1206.58,298.753 \n",
       "  1321.2,563.506 1435.82,382.704 1550.43,249.197 1665.05,719.63 1779.67,294.923 1894.29,459.823 2008.9,551.119 2123.52,437.528 2238.14,323.727 2352.76,522.828 \n",
       "  \n",
       "  \"/>\n",
       "<polyline clip-path=\"url(#clip3302)\" style=\"stroke:#ffa500; stroke-width:4; stroke-opacity:1; fill:none\" points=\"\n",
       "  175.024,455.921 289.642,543.619 404.259,482.825 518.876,305.555 633.494,462.988 748.111,495.867 862.729,481.657 977.346,743.142 1091.96,707.148 1206.58,487.916 \n",
       "  1321.2,498.509 1435.82,485.977 1550.43,256.758 1665.05,532.564 1779.67,360.348 1894.29,373.136 2008.9,550.607 2123.52,318.188 2238.14,587.908 2352.76,678.005 \n",
       "  \n",
       "  \"/>\n",
       "<polyline clip-path=\"url(#clip3302)\" style=\"stroke:#ffa500; stroke-width:4; stroke-opacity:1; fill:none\" points=\"\n",
       "  175.024,488.07 289.642,510.513 404.259,690.098 518.876,344.894 633.494,408.526 748.111,491.568 862.729,589.164 977.346,391.632 1091.96,441.151 1206.58,424.494 \n",
       "  1321.2,313.961 1435.82,611.2 1550.43,350.181 1665.05,642.124 1779.67,376.197 1894.29,420.597 2008.9,631.595 2123.52,489.582 2238.14,619.6 2352.76,627.924 \n",
       "  \n",
       "  \"/>\n",
       "<polyline clip-path=\"url(#clip3302)\" style=\"stroke:#ffa500; stroke-width:4; stroke-opacity:1; fill:none\" points=\"\n",
       "  175.024,329.045 289.642,493.462 404.259,709.66 518.876,286.984 633.494,416.924 748.111,445.358 862.729,565.066 977.346,360.297 1091.96,459.51 1206.58,349.232 \n",
       "  1321.2,450.422 1435.82,483.116 1550.43,397.57 1665.05,607.012 1779.67,368.069 1894.29,452.641 2008.9,574.674 2123.52,397.68 2238.14,453.286 2352.76,640.797 \n",
       "  \n",
       "  \"/>\n",
       "<polyline clip-path=\"url(#clip3302)\" style=\"stroke:#ffa500; stroke-width:4; stroke-opacity:1; fill:none\" points=\"\n",
       "  175.024,237.923 289.642,491.427 404.259,623.495 518.876,137.33 633.494,258.922 748.111,426.149 862.729,520.681 977.346,431.647 1091.96,523.091 1206.58,300.69 \n",
       "  1321.2,337.019 1435.82,621.007 1550.43,296.787 1665.05,468.082 1779.67,172.009 1894.29,387.545 2008.9,511.584 2123.52,428.967 2238.14,437.204 2352.76,596.961 \n",
       "  \n",
       "  \"/>\n",
       "<polyline clip-path=\"url(#clip3302)\" style=\"stroke:#ffa500; stroke-width:4; stroke-opacity:1; fill:none\" points=\"\n",
       "  175.024,209.781 289.642,397.923 404.259,559.588 518.876,165.125 633.494,416.881 748.111,363.996 862.729,697.938 977.346,480.042 1091.96,754.817 1206.58,372.391 \n",
       "  1321.2,407.512 1435.82,254.363 1550.43,256.521 1665.05,538.565 1779.67,243.22 1894.29,328.946 2008.9,372.435 2123.52,336.331 2238.14,485.562 2352.76,435.204 \n",
       "  \n",
       "  \"/>\n",
       "<polyline clip-path=\"url(#clip3302)\" style=\"stroke:#ffa500; stroke-width:4; stroke-opacity:1; fill:none\" points=\"\n",
       "  175.024,338.652 289.642,344.098 404.259,643.347 518.876,320.215 633.494,336.245 748.111,412.764 862.729,443.51 977.346,512.711 1091.96,506.142 1206.58,451.742 \n",
       "  1321.2,463.715 1435.82,696.561 1550.43,300.465 1665.05,542.515 1779.67,340.775 1894.29,544.123 2008.9,514.878 2123.52,504.271 2238.14,587.143 2352.76,420.051 \n",
       "  \n",
       "  \"/>\n",
       "<polyline clip-path=\"url(#clip3302)\" style=\"stroke:#ffa500; stroke-width:4; stroke-opacity:1; fill:none\" points=\"\n",
       "  175.024,394.538 289.642,530.396 404.259,342.451 518.876,299.016 633.494,449.142 748.111,489.772 862.729,598.507 977.346,523.546 1091.96,644.156 1206.58,567.541 \n",
       "  1321.2,417.413 1435.82,456.644 1550.43,266.11 1665.05,485.496 1779.67,412.581 1894.29,322.207 2008.9,452.655 2123.52,435.978 2238.14,653.868 2352.76,594.111 \n",
       "  \n",
       "  \"/>\n",
       "<polyline clip-path=\"url(#clip3302)\" style=\"stroke:#ffa500; stroke-width:4; stroke-opacity:1; fill:none\" points=\"\n",
       "  175.024,170.318 289.642,348.157 404.259,580.767 518.876,132.708 633.494,330.126 748.111,361.827 862.729,487.995 977.346,475.785 1091.96,500.462 1206.58,265.159 \n",
       "  1321.2,387.716 1435.82,357.22 1550.43,168.667 1665.05,565.586 1779.67,249.53 1894.29,342.532 2008.9,484.733 2123.52,452.583 2238.14,367.838 2352.76,457.93 \n",
       "  \n",
       "  \"/>\n",
       "<polyline clip-path=\"url(#clip3302)\" style=\"stroke:#ffa500; stroke-width:4; stroke-opacity:1; fill:none\" points=\"\n",
       "  175.024,103.824 289.642,542.646 404.259,533.521 518.876,196.567 633.494,425.938 748.111,336.452 862.729,376.652 977.346,610.216 1091.96,622.28 1206.58,346.287 \n",
       "  1321.2,411.615 1435.82,413.953 1550.43,283.846 1665.05,515.152 1779.67,366.101 1894.29,387.56 2008.9,471.301 2123.52,429.686 2238.14,335.139 2352.76,584.279 \n",
       "  \n",
       "  \"/>\n",
       "<polyline clip-path=\"url(#clip3302)\" style=\"stroke:#ffa500; stroke-width:4; stroke-opacity:1; fill:none\" points=\"\n",
       "  175.024,469.324 289.642,552.276 404.259,421.269 518.876,542.893 633.494,571.32 748.111,570.065 862.729,402.533 977.346,740.39 1091.96,830.087 1206.58,616.986 \n",
       "  1321.2,437.168 1435.82,386.515 1550.43,316.485 1665.05,652.223 1779.67,494.426 1894.29,307.736 2008.9,445.707 2123.52,616.501 2238.14,548.999 2352.76,623.705 \n",
       "  \n",
       "  \"/>\n",
       "<polyline clip-path=\"url(#clip3302)\" style=\"stroke:#ffa500; stroke-width:4; stroke-opacity:1; fill:none\" points=\"\n",
       "  175.024,112.378 289.642,422.509 404.259,482.194 518.876,202.268 633.494,427.53 748.111,375.31 862.729,646.089 977.346,456.892 1091.96,706.279 1206.58,411.623 \n",
       "  1321.2,387.62 1435.82,281.735 1550.43,233.124 1665.05,499.31 1779.67,306.734 1894.29,331.129 2008.9,349.886 2123.52,339.021 2238.14,518.119 2352.76,350.889 \n",
       "  \n",
       "  \"/>\n",
       "<polyline clip-path=\"url(#clip3302)\" style=\"stroke:#ffa500; stroke-width:4; stroke-opacity:1; fill:none\" points=\"\n",
       "  175.024,83.4935 289.642,389.628 404.259,574.37 518.876,234.157 633.494,367.81 748.111,423.48 862.729,372.267 977.346,641.512 1091.96,683.839 1206.58,351.747 \n",
       "  1321.2,401.389 1435.82,440.534 1550.43,277.174 1665.05,475.657 1779.67,303.768 1894.29,360.902 2008.9,392.833 2123.52,457.022 2238.14,534.548 2352.76,357.001 \n",
       "  \n",
       "  \"/>\n",
       "<polyline clip-path=\"url(#clip3302)\" style=\"stroke:#ffa500; stroke-width:4; stroke-opacity:1; fill:none\" points=\"\n",
       "  175.024,397.782 289.642,568.952 404.259,492.771 518.876,476.7 633.494,604.598 748.111,408.189 862.729,595.865 977.346,672.071 1091.96,816.417 1206.58,655.628 \n",
       "  1321.2,508.532 1435.82,274.574 1550.43,384.294 1665.05,694.766 1779.67,580.588 1894.29,418.493 2008.9,415.385 2123.52,584.866 2238.14,532.097 2352.76,526.183 \n",
       "  \n",
       "  \"/>\n",
       "<polyline clip-path=\"url(#clip3302)\" style=\"stroke:#ffa500; stroke-width:4; stroke-opacity:1; fill:none\" points=\"\n",
       "  175.024,300.885 289.642,397.19 404.259,708.803 518.876,311.315 633.494,346.283 748.111,429.025 862.729,440.727 977.346,499.046 1091.96,484.255 1206.58,455.182 \n",
       "  1321.2,400.529 1435.82,699.09 1550.43,309.54 1665.05,516.606 1779.67,286.213 1894.29,543.958 2008.9,495.627 2123.52,530.764 2238.14,630.467 2352.76,421.168 \n",
       "  \n",
       "  \"/>\n",
       "<polyline clip-path=\"url(#clip3302)\" style=\"stroke:#ffa500; stroke-width:4; stroke-opacity:1; fill:none\" points=\"\n",
       "  175.024,201.778 289.642,434.417 404.259,534.882 518.876,341.192 633.494,437.022 748.111,358.815 862.729,563.096 977.346,496.179 1091.96,739.61 1206.58,371.899 \n",
       "  1321.2,607.177 1435.82,384.529 1550.43,288.687 1665.05,603.158 1779.67,346.036 1894.29,436.667 2008.9,519.396 2123.52,457.077 2238.14,441.676 2352.76,459.838 \n",
       "  \n",
       "  \"/>\n",
       "<polyline clip-path=\"url(#clip3302)\" style=\"stroke:#ffa500; stroke-width:4; stroke-opacity:1; fill:none\" points=\"\n",
       "  175.024,736.928 289.642,685.492 404.259,557.095 518.876,486.398 633.494,551.477 748.111,573.576 862.729,794.887 977.346,475.737 1091.96,492.698 1206.58,526.948 \n",
       "  1321.2,664.278 1435.82,582.971 1550.43,472.026 1665.05,603.636 1779.67,534.427 1894.29,569.806 2008.9,712.505 2123.52,645.313 2238.14,819.243 2352.76,718.295 \n",
       "  \n",
       "  \"/>\n",
       "<polyline clip-path=\"url(#clip3302)\" style=\"stroke:#ffa500; stroke-width:4; stroke-opacity:1; fill:none\" points=\"\n",
       "  175.024,218.021 289.642,519.819 404.259,630.802 518.876,317.212 633.494,475.747 748.111,392.095 862.729,182.869 977.346,700.667 1091.96,601.53 1206.58,410.164 \n",
       "  1321.2,431.186 1435.82,584.108 1550.43,222.391 1665.05,442.281 1779.67,436.78 1894.29,375.758 2008.9,506.357 2123.52,609.546 2238.14,513.188 2352.76,474.686 \n",
       "  \n",
       "  \"/>\n",
       "<polyline clip-path=\"url(#clip3302)\" style=\"stroke:#ffa500; stroke-width:4; stroke-opacity:1; fill:none\" points=\"\n",
       "  175.024,414.864 289.642,591.222 404.259,450.721 518.876,345.733 633.494,546.99 748.111,570.614 862.729,434.531 977.346,656.526 1091.96,749.785 1206.58,635.355 \n",
       "  1321.2,550.303 1435.82,343.579 1550.43,238.297 1665.05,567.109 1779.67,488.044 1894.29,416.401 2008.9,393.784 2123.52,565.751 2238.14,705.091 2352.76,511.502 \n",
       "  \n",
       "  \"/>\n",
       "<polyline clip-path=\"url(#clip3302)\" style=\"stroke:#ffa500; stroke-width:4; stroke-opacity:1; fill:none\" points=\"\n",
       "  175.024,181.235 289.642,522.094 404.259,605.382 518.876,252.35 633.494,412.066 748.111,379.473 862.729,235.487 977.346,789.128 1091.96,542.087 1206.58,355.135 \n",
       "  1321.2,364.2 1435.82,446.452 1550.43,217.645 1665.05,448.521 1779.67,273.002 1894.29,380.756 2008.9,370.852 2123.52,648.902 2238.14,510.6 2352.76,514.924 \n",
       "  \n",
       "  \"/>\n",
       "<polyline clip-path=\"url(#clip3302)\" style=\"stroke:#ffa500; stroke-width:4; stroke-opacity:1; fill:none\" points=\"\n",
       "  175.024,181.235 289.642,522.094 404.259,605.382 518.876,252.35 633.494,412.066 748.111,379.473 862.729,235.487 977.346,789.128 1091.96,542.087 1206.58,355.135 \n",
       "  1321.2,364.2 1435.82,446.452 1550.43,217.645 1665.05,448.521 1779.67,273.002 1894.29,380.756 2008.9,370.852 2123.52,648.902 2238.14,510.6 2352.76,514.924 \n",
       "  \n",
       "  \"/>\n",
       "<polyline clip-path=\"url(#clip3302)\" style=\"stroke:#ffa500; stroke-width:4; stroke-opacity:1; fill:none\" points=\"\n",
       "  175.024,490.857 289.642,625.345 404.259,569.901 518.876,455.753 633.494,511.773 748.111,509.097 862.729,925.218 977.346,366.303 1091.96,595.015 1206.58,398.383 \n",
       "  1321.2,748.766 1435.82,439.464 1550.43,514.587 1665.05,741.006 1779.67,420.308 1894.29,590.776 2008.9,726.47 2123.52,613.17 2238.14,626.959 2352.76,673.549 \n",
       "  \n",
       "  \"/>\n",
       "<polyline clip-path=\"url(#clip3302)\" style=\"stroke:#ffa500; stroke-width:4; stroke-opacity:1; fill:none\" points=\"\n",
       "  175.024,300.864 289.642,450.315 404.259,655.925 518.876,360.585 633.494,393.616 748.111,372.029 862.729,195.608 977.346,635.979 1091.96,424.808 1206.58,512.31 \n",
       "  1321.2,244.541 1435.82,588.395 1550.43,327.348 1665.05,434.576 1779.67,307.919 1894.29,288.972 2008.9,454.15 2123.52,536.634 2238.14,515.91 2352.76,555.25 \n",
       "  \n",
       "  \"/>\n",
       "<polyline clip-path=\"url(#clip3302)\" style=\"stroke:#ffa500; stroke-width:4; stroke-opacity:1; fill:none\" points=\"\n",
       "  175.024,469.928 289.642,649.178 404.259,476.599 518.876,278.101 633.494,473.907 748.111,636.775 862.729,667.202 977.346,643.272 1091.96,607.873 1206.58,557.323 \n",
       "  1321.2,670.526 1435.82,636.476 1550.43,393.43 1665.05,776.702 1779.67,584.401 1894.29,668.037 2008.9,517.795 2123.52,831.566 2238.14,561.149 2352.76,652.321 \n",
       "  \n",
       "  \"/>\n",
       "<polyline clip-path=\"url(#clip3302)\" style=\"stroke:#ffa500; stroke-width:4; stroke-opacity:1; fill:none\" points=\"\n",
       "  175.024,394.538 289.642,530.396 404.259,342.451 518.876,299.016 633.494,449.142 748.111,489.772 862.729,598.507 977.346,523.546 1091.96,644.156 1206.58,567.541 \n",
       "  1321.2,417.413 1435.82,456.644 1550.43,266.11 1665.05,485.496 1779.67,412.581 1894.29,322.207 2008.9,452.655 2123.52,435.978 2238.14,653.868 2352.76,594.111 \n",
       "  \n",
       "  \"/>\n",
       "<polyline clip-path=\"url(#clip3302)\" style=\"stroke:#ffa500; stroke-width:4; stroke-opacity:1; fill:none\" points=\"\n",
       "  175.024,182.07 289.642,436.905 404.259,633.883 518.876,135.661 633.494,431.047 748.111,405.573 862.729,514.3 977.346,490.968 1091.96,545.809 1206.58,265.804 \n",
       "  1321.2,468.613 1435.82,482.598 1550.43,267.285 1665.05,667.699 1779.67,299.072 1894.29,423.705 2008.9,474.853 2123.52,389.54 2238.14,339.522 2352.76,606.999 \n",
       "  \n",
       "  \"/>\n",
       "<polyline clip-path=\"url(#clip3302)\" style=\"stroke:#ffa500; stroke-width:4; stroke-opacity:1; fill:none\" points=\"\n",
       "  175.024,637.72 289.642,653.513 404.259,702.307 518.876,425.21 633.494,524.34 748.111,559.758 862.729,750.952 977.346,349.474 1091.96,432.494 1206.58,476.452 \n",
       "  1321.2,564.802 1435.82,622.98 1550.43,561.92 1665.05,580.56 1779.67,421.665 1894.29,586.147 2008.9,726.081 2123.52,585.462 2238.14,720.539 2352.76,635.575 \n",
       "  \n",
       "  \"/>\n",
       "<polyline clip-path=\"url(#clip3302)\" style=\"stroke:#ffa500; stroke-width:4; stroke-opacity:1; fill:none\" points=\"\n",
       "  175.024,300.864 289.642,450.315 404.259,655.925 518.876,360.585 633.494,393.616 748.111,372.029 862.729,195.608 977.346,635.979 1091.96,424.808 1206.58,512.31 \n",
       "  1321.2,244.541 1435.82,588.395 1550.43,327.348 1665.05,434.576 1779.67,307.919 1894.29,288.972 2008.9,454.15 2123.52,536.634 2238.14,515.91 2352.76,555.25 \n",
       "  \n",
       "  \"/>\n",
       "</svg>\n"
      ]
     },
     "metadata": {},
     "output_type": "display_data"
    }
   ],
   "source": [
    "ymin = Inf\n",
    "ymax = -Inf\n",
    "function plot_pop(P)\n",
    "    global ymin = min(ymin, minimum([minimum(i.y) for i in P]))\n",
    "    global ymax = max(ymax, maximum([maximum(i.y) for i in P]))\n",
    "    plot(xlims=(1, n_objectives), ylims=(ymin, ymax))\n",
    "    ND = filter(indiv -> indiv.rank == 1, P)\n",
    "    dominated = filter(indiv->indiv.rank != 1, P)\n",
    "    for i in dominated\n",
    "        plot!(1:n_objectives, collect(i.y), legend=:none, color=:blue)\n",
    "    end\n",
    "    for i in ND\n",
    "        plot!(1:n_objectives, collect(i.y), legend=:none, color=:orange)\n",
    "    end\n",
    "    sleep(2.0)\n",
    "end\n",
    "\n",
    "non_dominated = nsga_max(popsize, nbgen, objective, init, fCV=constraint,\n",
    "    fplot=plot_pop, plotevery=10, showprogress=false);"
   ]
  },
  {
   "cell_type": "markdown",
   "metadata": {
    "slideshow": {
     "slide_type": "slide"
    }
   },
   "source": [
    "<div class=\"alert alert-success\">\n",
    "    <b>Exercise 4</b>\n",
    "    <br/>\n",
    "Gradually increase $K$, the number of objectives, and watch the number of non-dominated individuals in the population over evolution. What do you notice as $K$ increases?\n",
    "    <br/>\n",
    "</div>"
   ]
  },
  {
   "cell_type": "markdown",
   "metadata": {},
   "source": [
    "As __K__ increases, the number of non-dominated individuals in the population grows. This due to the fact NSGA-II uses an elitist approach where the best individuals are saved for the next generation and so the Pareto front can only increase."
   ]
  }
 ],
 "metadata": {
  "celltoolbar": "Slideshow",
  "kernelspec": {
   "display_name": "Julia 1.0.5",
   "language": "julia",
   "name": "julia-1.0"
  },
  "language_info": {
   "file_extension": ".jl",
   "mimetype": "application/julia",
   "name": "julia",
   "version": "1.0.5"
  }
 },
 "nbformat": 4,
 "nbformat_minor": 4
}
