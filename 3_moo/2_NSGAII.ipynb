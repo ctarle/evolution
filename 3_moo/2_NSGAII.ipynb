{
 "cells": [
  {
   "cell_type": "markdown",
   "metadata": {
    "slideshow": {
     "slide_type": "slide"
    }
   },
   "source": [
    "<img src=\"../imgs/logo.png\" width=\"20%\" align=\"right\" style=\"margin:0px 20px\">\n",
    "\n",
    "\n",
    "# Evolutionary Computation\n",
    "\n",
    "## 3.2 NSGA-II\n",
    "\n",
    "<a rel=\"license\" href=\"http://creativecommons.org/licenses/by-sa/4.0/\"><img alt=\"Creative Commons License\" align=\"left\" src=\"https://i.creativecommons.org/l/by-sa/4.0/80x15.png\" /></a>&nbsp;| Dennis G. Wilson | <a href=\"https://d9w.github.io/evolution/\">https://d9w.github.io/evolution/</a>"
   ]
  },
  {
   "cell_type": "markdown",
   "metadata": {
    "slideshow": {
     "slide_type": "slide"
    }
   },
   "source": [
    "## Outline\n",
    "\n",
    "1. [The Knapsack Problem](#knapsack)\n",
    "2. [Evolution](#evolution)\n",
    "3. [Visualization](#visualization)"
   ]
  },
  {
   "cell_type": "code",
   "execution_count": 56,
   "metadata": {
    "slideshow": {
     "slide_type": "slide"
    }
   },
   "outputs": [],
   "source": [
    "using NSGAII\n",
    "using JuMP, Cbc\n",
    "using Plots\n",
    "default(show=:ijulia)"
   ]
  },
  {
   "cell_type": "markdown",
   "metadata": {
    "slideshow": {
     "slide_type": "fragment"
    }
   },
   "source": [
    "To experiment with NSGAII we'll be using a rather new implementation of it from Github: https://github.com/gsoleilhac/NSGAII.jl/.\n",
    "\n",
    "This implementation isn't so complicated and if we look at the code, we can see that much of it resembles our [notebook code](https://github.com/d9w/evolution/blob/master/2_ga/1_GAs.ipynb) on Genetic Algorithms. Let's look at the [functions](https://github.com/gsoleilhac/NSGAII.jl/blob/master/src/functions.jl) code which contains the main Genetic Algorithm loop, as well as the [NSGA-II](http://repository.ias.ac.in/83498/1/2-a.pdf) Fast Non-Dominated Sort and Crowding Distance Algorithm."
   ]
  },
  {
   "cell_type": "markdown",
   "metadata": {
    "slideshow": {
     "slide_type": "slide"
    }
   },
   "source": [
    "## <a id=\"knapsack\"></a>The Knapsack Problem"
   ]
  },
  {
   "cell_type": "markdown",
   "metadata": {
    "slideshow": {
     "slide_type": "fragment"
    }
   },
   "source": [
    "<img src=\"https://imgs.xkcd.com/comics/np_complete.png\">\n",
    "<div style=\"text-align:center\"><a href=\"https://xkcd.com/287/\">XKCD on the Knapsack Problem</a></div>\n"
   ]
  },
  {
   "cell_type": "markdown",
   "metadata": {
    "slideshow": {
     "slide_type": "slide"
    }
   },
   "source": [
    "Imagine we're travelling and our bag has a maximum weight limit. We want to fill this bag with items of different value and maximize the total value in our bag, as long as it stays in the weight limit. This is known as the \"knapsack problem\".\n",
    "<img src=\"../imgs/knapsack.png\" width=\"30%\" height=\"auto\">\n",
    "Instead of a bag with items, you could imagine a scenario like the comic. You want to order different appetizers, but you only want to spend a fixed maximum amount. How can you get the best appetizers?"
   ]
  },
  {
   "cell_type": "markdown",
   "metadata": {
    "slideshow": {
     "slide_type": "slide"
    }
   },
   "source": [
    "Let's look at an example, specifically using the version of the Knapsack problem known as the \"0-1 knapsack problem\" where we can have at most 1 copy of each item. We'll use 5 items and randomly geneate values for them."
   ]
  },
  {
   "cell_type": "code",
   "execution_count": 57,
   "metadata": {
    "slideshow": {
     "slide_type": "fragment"
    }
   },
   "outputs": [
    {
     "name": "stdout",
     "output_type": "stream",
     "text": [
      "[20, 73, 61, 54, 24] total value: 232\n"
     ]
    }
   ],
   "source": [
    "n = 5\n",
    "values = rand(0:100, n)\n",
    "println(values, \" total value: \", sum(values))"
   ]
  },
  {
   "cell_type": "code",
   "execution_count": 58,
   "metadata": {
    "slideshow": {
     "slide_type": "fragment"
    }
   },
   "outputs": [
    {
     "name": "stdout",
     "output_type": "stream",
     "text": [
      "[12, 18, 13, 18, 19] total weight: 80\n"
     ]
    }
   ],
   "source": [
    "weights = rand(10:20, n)\n",
    "max_weight = 55\n",
    "println(weights, \" total weight: \", sum(weights))"
   ]
  },
  {
   "cell_type": "markdown",
   "metadata": {
    "slideshow": {
     "slide_type": "fragment"
    }
   },
   "source": [
    "We won't be able to take all items because of the maximum weight of 55. We'll express our choice of items using a binary string, 1 if we take the item and 0 otherwise."
   ]
  },
  {
   "cell_type": "code",
   "execution_count": 59,
   "metadata": {
    "slideshow": {
     "slide_type": "fragment"
    }
   },
   "outputs": [
    {
     "name": "stdout",
     "output_type": "stream",
     "text": [
      "Bool[true, true, false, true, false]\n"
     ]
    }
   ],
   "source": [
    "using Random: bitrand\n",
    "choices = bitrand(n)\n",
    "println(choices)"
   ]
  },
  {
   "cell_type": "markdown",
   "metadata": {
    "slideshow": {
     "slide_type": "slide"
    }
   },
   "source": [
    "The total value of our knapsack is therefore the sum of the element-wise multiplication of our choices and the individual item values."
   ]
  },
  {
   "cell_type": "code",
   "execution_count": 60,
   "metadata": {
    "slideshow": {
     "slide_type": "fragment"
    }
   },
   "outputs": [
    {
     "data": {
      "text/plain": [
       "147"
      ]
     },
     "execution_count": 60,
     "metadata": {},
     "output_type": "execute_result"
    }
   ],
   "source": [
    "sum(choices .* values)"
   ]
  },
  {
   "cell_type": "markdown",
   "metadata": {
    "slideshow": {
     "slide_type": "fragment"
    }
   },
   "source": [
    "In other words, the dot product of the two vectors."
   ]
  },
  {
   "cell_type": "code",
   "execution_count": 61,
   "metadata": {
    "slideshow": {
     "slide_type": "fragment"
    }
   },
   "outputs": [
    {
     "data": {
      "text/plain": [
       "147"
      ]
     },
     "execution_count": 61,
     "metadata": {},
     "output_type": "execute_result"
    }
   ],
   "source": [
    "using LinearAlgebra: dot\n",
    "dot(choices, values)"
   ]
  },
  {
   "cell_type": "markdown",
   "metadata": {
    "slideshow": {
     "slide_type": "fragment"
    }
   },
   "source": [
    "We can also use the dot product to check if our choices fall under the weight limit"
   ]
  },
  {
   "cell_type": "code",
   "execution_count": 62,
   "metadata": {
    "slideshow": {
     "slide_type": "fragment"
    }
   },
   "outputs": [
    {
     "data": {
      "text/plain": [
       "(48, 55)"
      ]
     },
     "execution_count": 62,
     "metadata": {},
     "output_type": "execute_result"
    }
   ],
   "source": [
    "dot(choices, weights), max_weight"
   ]
  },
  {
   "cell_type": "markdown",
   "metadata": {
    "slideshow": {
     "slide_type": "slide"
    }
   },
   "source": [
    "Let's say you and a friend are travelling together and to make it cheaper, you're sharing a bag. You and your friend assign different values to each item based on what you want to bring on the trip. Your preferences are in `values` and your friends preferences are:"
   ]
  },
  {
   "cell_type": "code",
   "execution_count": 63,
   "metadata": {
    "slideshow": {
     "slide_type": "fragment"
    }
   },
   "outputs": [
    {
     "name": "stdout",
     "output_type": "stream",
     "text": [
      "You:\t[20, 73, 61, 54, 24] total value: 232\n",
      "Friend:\t[20, 6, 49, 49, 15] total value: 139\n"
     ]
    }
   ],
   "source": [
    "values2 = rand(0:100, n)\n",
    "println(\"You:\\t\", values, \" total value: \", sum(values))\n",
    "println(\"Friend:\\t\", values2, \" total value: \", sum(values2))"
   ]
  },
  {
   "cell_type": "markdown",
   "metadata": {
    "slideshow": {
     "slide_type": "fragment"
    }
   },
   "source": [
    "Let's see who is happier with the choices we made"
   ]
  },
  {
   "cell_type": "code",
   "execution_count": 64,
   "metadata": {
    "slideshow": {
     "slide_type": "fragment"
    }
   },
   "outputs": [
    {
     "name": "stdout",
     "output_type": "stream",
     "text": [
      "Bool[false, true, false, false, false]\n",
      "weight: 18\n",
      "You: 73 Friend: 6\n"
     ]
    }
   ],
   "source": [
    "choices = bitrand(n)\n",
    "println(choices)\n",
    "println(\"weight: \", dot(choices, weights))\n",
    "println(\"You: \", dot(choices, values), \" Friend: \", dot(choices, values2))"
   ]
  },
  {
   "cell_type": "markdown",
   "metadata": {
    "slideshow": {
     "slide_type": "fragment"
    }
   },
   "source": [
    "This is the multi-objective version of the Knapsack problem where we use $K$ different value vectors for $K$ objectives."
   ]
  },
  {
   "cell_type": "markdown",
   "metadata": {
    "slideshow": {
     "slide_type": "slide"
    }
   },
   "source": [
    "[The Knapsack problem](https://en.wikipedia.org/wiki/Knapsack_problem) has been thoroughly studied in theoretical computer science and evolutionary computation is not the only choice for solving it; dynamic programming and mixed integer programming are what [JuMP](https://github.com/JuliaOpt/JuMP.jl), an optimization library, uses."
   ]
  },
  {
   "cell_type": "code",
   "execution_count": 83,
   "metadata": {
    "slideshow": {
     "slide_type": "fragment"
    }
   },
   "outputs": [],
   "source": [
    "# Note that this uses JuMP 0.18.6 format, different in JuMP 0.19\n",
    "\"\"\"m = Model(solver=CbcSolver())\n",
    "@variable(m, x[1:n], Bin)\n",
    "# Objective: maximize profit\n",
    "@objective(m, Max, dot(values, x))\n",
    "@objective(m, Max, dot(values2, x))\n",
    "# Constraint: can carry all\n",
    "@constraint(m, dot(weights, x) <= max_weight)\n",
    "# Solve problem using MIP solver\n",
    "status = solve(m);\"\"\"\n",
    "\n",
    "using JuMP, GLPK\n",
    "m = Model(GLPK.Optimizer)\n",
    "@variable(m, x[1:n], Bin)\n",
    "# Objective: maximize profit\n",
    "@objective(m, Max, dot(values, x))\n",
    "@objective(m, Max, dot(values2, x))\n",
    "# Constraint: can carry all\n",
    "@constraint(m, dot(weights, x) <= max_weight)\n",
    "# Solve problem using MIP solver\n",
    "JuMP.optimize!(m);"
   ]
  },
  {
   "cell_type": "code",
   "execution_count": 96,
   "metadata": {
    "slideshow": {
     "slide_type": "fragment"
    }
   },
   "outputs": [
    {
     "name": "stdout",
     "output_type": "stream",
     "text": [
      "Objective is: 118.0\n",
      "Solution is:\n",
      "x[1] = 1.0, p[1]/w[1] = 1.6666666666666667\n",
      "x[2] = 0.0, p[2]/w[2] = 4.055555555555555\n",
      "x[3] = 1.0, p[3]/w[3] = 4.6923076923076925\n",
      "x[4] = 1.0, p[4]/w[4] = 3.0\n",
      "x[5] = 0.0, p[5]/w[5] = 1.263157894736842\n"
     ]
    }
   ],
   "source": [
    "\"\"\"println(\"Objective is: \", getobjectivevalue(m))\n",
    "println(\"Solution is:\")\n",
    "for i = 1:5\n",
    "    print(\"x[i] = \", getvalue(x[i]))\n",
    "    print(\", p[i]/w[i] = \", values[i]/weights[i])\n",
    "    println(\", p[i]/w[i] = \", values2[i]/weights[i])\n",
    "end\"\"\"\n",
    "\n",
    "#ajouter des dollars aux i des membres de gauche des print\n",
    "\n",
    "println(\"Objective is: \", JuMP.objective_value(m))\n",
    "println(\"Solution is:\")\n",
    "\n",
    "for i in 1:n\n",
    "    \n",
    "    print(\"x[$i] = \", JuMP.value(x[i]))\n",
    "    println(\", p[$i]/w[$i] = \", values[i] / weights[i])\n",
    "end"
   ]
  },
  {
   "cell_type": "markdown",
   "metadata": {
    "slideshow": {
     "slide_type": "slide"
    }
   },
   "source": [
    "## <a id=\"evolution\"></a>Evolution"
   ]
  },
  {
   "cell_type": "markdown",
   "metadata": {
    "slideshow": {
     "slide_type": "fragment"
    }
   },
   "source": [
    "To apply NSGA-II to this problem, let's scale up the number of items to 100. "
   ]
  },
  {
   "cell_type": "code",
   "execution_count": 123,
   "metadata": {
    "slideshow": {
     "slide_type": "fragment"
    }
   },
   "outputs": [
    {
     "data": {
      "text/plain": [
       "1000×2 Array{Float64,2}:\n",
       " 0.892576   0.186169 \n",
       " 0.653685   0.552277 \n",
       " 0.0747303  0.863805 \n",
       " 0.778219   0.882852 \n",
       " 0.0580302  0.418592 \n",
       " 0.0816053  0.299961 \n",
       " 0.795269   0.891366 \n",
       " 0.171892   0.86073  \n",
       " 0.12368    0.132348 \n",
       " 0.345948   0.93536  \n",
       " 0.242046   0.24051  \n",
       " 0.287019   0.795577 \n",
       " 0.656345   0.518279 \n",
       " ⋮                   \n",
       " 0.624612   0.761075 \n",
       " 0.899877   0.731124 \n",
       " 0.562367   0.837451 \n",
       " 0.327434   0.2309   \n",
       " 0.678575   0.429584 \n",
       " 0.140039   0.651467 \n",
       " 0.504021   0.603262 \n",
       " 0.795874   0.639457 \n",
       " 0.0523199  0.276529 \n",
       " 0.935471   0.0315566\n",
       " 0.712722   0.368    \n",
       " 0.203238   0.582049 "
      ]
     },
     "execution_count": 123,
     "metadata": {},
     "output_type": "execute_result"
    }
   ],
   "source": [
    "n = 1000\n",
    "n_objectives = 2\n",
    "values = rand(n, n_objectives)"
   ]
  },
  {
   "cell_type": "markdown",
   "metadata": {
    "slideshow": {
     "slide_type": "slide"
    }
   },
   "source": [
    "Let's normalize our fitness values by their sum, so that the total maximum value is 1.0 which will help with plotting later."
   ]
  },
  {
   "cell_type": "code",
   "execution_count": 124,
   "metadata": {
    "slideshow": {
     "slide_type": "fragment"
    }
   },
   "outputs": [
    {
     "data": {
      "text/plain": [
       "1×2 Array{Float64,2}:\n",
       " 1.0  1.0"
      ]
     },
     "execution_count": 124,
     "metadata": {},
     "output_type": "execute_result"
    }
   ],
   "source": [
    "values = values ./ sum(values, dims=1);\n",
    "sum(values, dims=1)"
   ]
  },
  {
   "cell_type": "markdown",
   "metadata": {
    "slideshow": {
     "slide_type": "slide"
    }
   },
   "source": [
    "Similarly, let's normalize the weights to sum to 1 and set a maximum weight of 0.5, meaning we can keep only half the items on average. This will let us change the number of items more easily later on but doesn't impact the problem in any way."
   ]
  },
  {
   "cell_type": "code",
   "execution_count": 125,
   "metadata": {
    "slideshow": {
     "slide_type": "fragment"
    }
   },
   "outputs": [
    {
     "data": {
      "text/plain": [
       "0.1"
      ]
     },
     "execution_count": 125,
     "metadata": {},
     "output_type": "execute_result"
    }
   ],
   "source": [
    "weights = rand(n)\n",
    "weights = weights ./ sum(weights)\n",
    "max_weight = 0.1"
   ]
  },
  {
   "cell_type": "markdown",
   "metadata": {
    "slideshow": {
     "slide_type": "slide"
    }
   },
   "source": [
    "Let's write our objective function which will compute the value of our knapsack using each different column of profit values."
   ]
  },
  {
   "cell_type": "code",
   "execution_count": 126,
   "metadata": {
    "slideshow": {
     "slide_type": "fragment"
    }
   },
   "outputs": [
    {
     "data": {
      "text/plain": [
       "objective (generic function with 1 method)"
      ]
     },
     "execution_count": 126,
     "metadata": {},
     "output_type": "execute_result"
    }
   ],
   "source": [
    "function objective(genes::AbstractArray)\n",
    "    fits = zeros(n_objectives)\n",
    "    for i in 1:n_objectives\n",
    "        fits[i] = dot(genes, values[:, i])\n",
    "    end\n",
    "    tuple(fits...)\n",
    "end"
   ]
  },
  {
   "cell_type": "markdown",
   "metadata": {
    "slideshow": {
     "slide_type": "slide"
    }
   },
   "source": [
    "We'll add in our weight constraint separately. This is used in the evaluation of individuals and is considered a part of our objective function, but is handled separately. Our lecture on evolution with constraints will go into more detail on that. For this NSGA-II implementation, we return 0 if the condition passes and the distance from meeting the condition otherwise."
   ]
  },
  {
   "cell_type": "code",
   "execution_count": 127,
   "metadata": {
    "slideshow": {
     "slide_type": "fragment"
    }
   },
   "outputs": [
    {
     "data": {
      "text/plain": [
       "constraint (generic function with 1 method)"
      ]
     },
     "execution_count": 127,
     "metadata": {},
     "output_type": "execute_result"
    }
   ],
   "source": [
    "function constraint(genes::AbstractArray)\n",
    "    sum_weights = dot(genes, weights)\n",
    "    return sum_weights <= max_weight ? 0 : sum_weights - max_weight\n",
    "end"
   ]
  },
  {
   "cell_type": "markdown",
   "metadata": {
    "slideshow": {
     "slide_type": "slide"
    }
   },
   "source": [
    "That's all, so now we're ready to run NSGA-II. Let's run it for 100 generations on a population of 100. The function returns the set of non-dominated individuals at the end"
   ]
  },
  {
   "cell_type": "code",
   "execution_count": 128,
   "metadata": {
    "slideshow": {
     "slide_type": "fragment"
    }
   },
   "outputs": [
    {
     "data": {
      "text/plain": [
       "indiv([000001100001110...000001000000101] : (0.5259795256393068, 0.5141620712974946) | rank : 1)"
      ]
     },
     "execution_count": 128,
     "metadata": {},
     "output_type": "execute_result"
    }
   ],
   "source": [
    "popsize = 100\n",
    "nbgen = 100\n",
    "init() = bitrand(n)\n",
    "non_dominated =  nsga_max(popsize, nbgen, objective, init, fCV=constraint)\n",
    "non_dominated[1]"
   ]
  },
  {
   "cell_type": "markdown",
   "metadata": {
    "slideshow": {
     "slide_type": "slide"
    }
   },
   "source": [
    "Let's see what type of total profit values we have from our two objectives."
   ]
  },
  {
   "cell_type": "code",
   "execution_count": 129,
   "metadata": {
    "slideshow": {
     "slide_type": "fragment"
    }
   },
   "outputs": [
    {
     "data": {
      "text/plain": [
       "1-element Array{Array{Float64,1},1}:\n",
       " [0.52598, 0.514162]"
      ]
     },
     "execution_count": 129,
     "metadata": {},
     "output_type": "execute_result"
    }
   ],
   "source": [
    "unique([collect(i.y) for i in non_dominated])"
   ]
  },
  {
   "cell_type": "markdown",
   "metadata": {
    "slideshow": {
     "slide_type": "slide"
    }
   },
   "source": [
    "Finally, we can compare this value to a value obtained by JuMP"
   ]
  },
  {
   "cell_type": "code",
   "execution_count": 130,
   "metadata": {
    "slideshow": {
     "slide_type": "fragment"
    }
   },
   "outputs": [
    {
     "name": "stdout",
     "output_type": "stream",
     "text": [
      "JuMP: 0.27285038942780887 0.3632527089101568\n"
     ]
    }
   ],
   "source": [
    "m = Model(GLPK.Optimizer)\n",
    "@variable(m, x[1:n], Bin)\n",
    "# Objective: maximize profit\n",
    "@objective(m, Max, dot(values[:,1], x))\n",
    "@objective(m, Max, dot(values[:,2], x))\n",
    "# Constraint: can carry all\n",
    "@constraint(m, dot(weights, x) <= max_weight)\n",
    "# Solve problem using MIP solver\n",
    "JuMP.optimize!(m);\n",
    "best_solution = [JuMP.value(x[i]) for i in 1:n]\n",
    "println(\"JuMP: \", dot(values[:, 1], best_solution), \" \", dot(values[:, 2], best_solution))"
   ]
  },
  {
   "cell_type": "markdown",
   "metadata": {
    "slideshow": {
     "slide_type": "slide"
    }
   },
   "source": [
    "<div class=\"alert alert-success\">\n",
    "    <b>Exercise 2</b>\n",
    "    <br/>\n",
    "    Increase the problem difficulty by increasing the number of items and reducing the weight limit. How does NSGA-II do?\n",
    "    <br/>\n",
    "</div>"
   ]
  },
  {
   "cell_type": "markdown",
   "metadata": {
    "slideshow": {
     "slide_type": "slide"
    }
   },
   "source": [
    "## <a id=\"visualization\"></a>Visualization"
   ]
  },
  {
   "cell_type": "markdown",
   "metadata": {
    "slideshow": {
     "slide_type": "fragment"
    }
   },
   "source": [
    "To better understand NSGA-II's evolution, let's observe the population over time."
   ]
  },
  {
   "cell_type": "code",
   "execution_count": 131,
   "metadata": {
    "slideshow": {
     "slide_type": "slide"
    }
   },
   "outputs": [
    {
     "data": {
      "image/svg+xml": [
       "<?xml version=\"1.0\" encoding=\"utf-8\"?>\n",
       "<svg xmlns=\"http://www.w3.org/2000/svg\" xmlns:xlink=\"http://www.w3.org/1999/xlink\" width=\"600\" height=\"400\" viewBox=\"0 0 2400 1600\">\n",
       "<defs>\n",
       "  <clipPath id=\"clip1000\">\n",
       "    <rect x=\"0\" y=\"0\" width=\"2400\" height=\"1600\"/>\n",
       "  </clipPath>\n",
       "</defs>\n",
       "<path clip-path=\"url(#clip1000)\" d=\"\n",
       "M0 1600 L2400 1600 L2400 0 L0 0  Z\n",
       "  \" fill=\"#ffffff\" fill-rule=\"evenodd\" fill-opacity=\"1\"/>\n",
       "<defs>\n",
       "  <clipPath id=\"clip1001\">\n",
       "    <rect x=\"480\" y=\"0\" width=\"1681\" height=\"1600\"/>\n",
       "  </clipPath>\n",
       "</defs>\n",
       "<path clip-path=\"url(#clip1000)\" d=\"\n",
       "M148.334 1486.45 L2352.76 1486.45 L2352.76 47.2441 L148.334 47.2441  Z\n",
       "  \" fill=\"#ffffff\" fill-rule=\"evenodd\" fill-opacity=\"1\"/>\n",
       "<defs>\n",
       "  <clipPath id=\"clip1002\">\n",
       "    <rect x=\"148\" y=\"47\" width=\"2205\" height=\"1440\"/>\n",
       "  </clipPath>\n",
       "</defs>\n",
       "<polyline clip-path=\"url(#clip1002)\" style=\"stroke:#000000; stroke-width:2; stroke-opacity:0.1; fill:none\" points=\"\n",
       "  148.334,1486.45 148.334,47.2441 \n",
       "  \"/>\n",
       "<polyline clip-path=\"url(#clip1002)\" style=\"stroke:#000000; stroke-width:2; stroke-opacity:0.1; fill:none\" points=\"\n",
       "  589.219,1486.45 589.219,47.2441 \n",
       "  \"/>\n",
       "<polyline clip-path=\"url(#clip1002)\" style=\"stroke:#000000; stroke-width:2; stroke-opacity:0.1; fill:none\" points=\"\n",
       "  1030.1,1486.45 1030.1,47.2441 \n",
       "  \"/>\n",
       "<polyline clip-path=\"url(#clip1002)\" style=\"stroke:#000000; stroke-width:2; stroke-opacity:0.1; fill:none\" points=\"\n",
       "  1470.99,1486.45 1470.99,47.2441 \n",
       "  \"/>\n",
       "<polyline clip-path=\"url(#clip1002)\" style=\"stroke:#000000; stroke-width:2; stroke-opacity:0.1; fill:none\" points=\"\n",
       "  1911.87,1486.45 1911.87,47.2441 \n",
       "  \"/>\n",
       "<polyline clip-path=\"url(#clip1002)\" style=\"stroke:#000000; stroke-width:2; stroke-opacity:0.1; fill:none\" points=\"\n",
       "  2352.76,1486.45 2352.76,47.2441 \n",
       "  \"/>\n",
       "<polyline clip-path=\"url(#clip1002)\" style=\"stroke:#000000; stroke-width:2; stroke-opacity:0.1; fill:none\" points=\"\n",
       "  148.334,1486.45 2352.76,1486.45 \n",
       "  \"/>\n",
       "<polyline clip-path=\"url(#clip1002)\" style=\"stroke:#000000; stroke-width:2; stroke-opacity:0.1; fill:none\" points=\"\n",
       "  148.334,1198.61 2352.76,1198.61 \n",
       "  \"/>\n",
       "<polyline clip-path=\"url(#clip1002)\" style=\"stroke:#000000; stroke-width:2; stroke-opacity:0.1; fill:none\" points=\"\n",
       "  148.334,910.766 2352.76,910.766 \n",
       "  \"/>\n",
       "<polyline clip-path=\"url(#clip1002)\" style=\"stroke:#000000; stroke-width:2; stroke-opacity:0.1; fill:none\" points=\"\n",
       "  148.334,622.926 2352.76,622.926 \n",
       "  \"/>\n",
       "<polyline clip-path=\"url(#clip1002)\" style=\"stroke:#000000; stroke-width:2; stroke-opacity:0.1; fill:none\" points=\"\n",
       "  148.334,335.085 2352.76,335.085 \n",
       "  \"/>\n",
       "<polyline clip-path=\"url(#clip1002)\" style=\"stroke:#000000; stroke-width:2; stroke-opacity:0.1; fill:none\" points=\"\n",
       "  148.334,47.2441 2352.76,47.2441 \n",
       "  \"/>\n",
       "<polyline clip-path=\"url(#clip1000)\" style=\"stroke:#000000; stroke-width:4; stroke-opacity:1; fill:none\" points=\"\n",
       "  148.334,1486.45 2352.76,1486.45 \n",
       "  \"/>\n",
       "<polyline clip-path=\"url(#clip1000)\" style=\"stroke:#000000; stroke-width:4; stroke-opacity:1; fill:none\" points=\"\n",
       "  148.334,1486.45 148.334,47.2441 \n",
       "  \"/>\n",
       "<polyline clip-path=\"url(#clip1000)\" style=\"stroke:#000000; stroke-width:4; stroke-opacity:1; fill:none\" points=\"\n",
       "  148.334,1486.45 148.334,1469.18 \n",
       "  \"/>\n",
       "<polyline clip-path=\"url(#clip1000)\" style=\"stroke:#000000; stroke-width:4; stroke-opacity:1; fill:none\" points=\"\n",
       "  589.219,1486.45 589.219,1469.18 \n",
       "  \"/>\n",
       "<polyline clip-path=\"url(#clip1000)\" style=\"stroke:#000000; stroke-width:4; stroke-opacity:1; fill:none\" points=\"\n",
       "  1030.1,1486.45 1030.1,1469.18 \n",
       "  \"/>\n",
       "<polyline clip-path=\"url(#clip1000)\" style=\"stroke:#000000; stroke-width:4; stroke-opacity:1; fill:none\" points=\"\n",
       "  1470.99,1486.45 1470.99,1469.18 \n",
       "  \"/>\n",
       "<polyline clip-path=\"url(#clip1000)\" style=\"stroke:#000000; stroke-width:4; stroke-opacity:1; fill:none\" points=\"\n",
       "  1911.87,1486.45 1911.87,1469.18 \n",
       "  \"/>\n",
       "<polyline clip-path=\"url(#clip1000)\" style=\"stroke:#000000; stroke-width:4; stroke-opacity:1; fill:none\" points=\"\n",
       "  2352.76,1486.45 2352.76,1469.18 \n",
       "  \"/>\n",
       "<polyline clip-path=\"url(#clip1000)\" style=\"stroke:#000000; stroke-width:4; stroke-opacity:1; fill:none\" points=\"\n",
       "  148.334,1486.45 174.787,1486.45 \n",
       "  \"/>\n",
       "<polyline clip-path=\"url(#clip1000)\" style=\"stroke:#000000; stroke-width:4; stroke-opacity:1; fill:none\" points=\"\n",
       "  148.334,1198.61 174.787,1198.61 \n",
       "  \"/>\n",
       "<polyline clip-path=\"url(#clip1000)\" style=\"stroke:#000000; stroke-width:4; stroke-opacity:1; fill:none\" points=\"\n",
       "  148.334,910.766 174.787,910.766 \n",
       "  \"/>\n",
       "<polyline clip-path=\"url(#clip1000)\" style=\"stroke:#000000; stroke-width:4; stroke-opacity:1; fill:none\" points=\"\n",
       "  148.334,622.926 174.787,622.926 \n",
       "  \"/>\n",
       "<polyline clip-path=\"url(#clip1000)\" style=\"stroke:#000000; stroke-width:4; stroke-opacity:1; fill:none\" points=\"\n",
       "  148.334,335.085 174.787,335.085 \n",
       "  \"/>\n",
       "<polyline clip-path=\"url(#clip1000)\" style=\"stroke:#000000; stroke-width:4; stroke-opacity:1; fill:none\" points=\"\n",
       "  148.334,47.2441 174.787,47.2441 \n",
       "  \"/>\n",
       "<path clip-path=\"url(#clip1000)\" d=\"M 0 0 M129.851 1508.44 Q126.24 1508.44 124.411 1512 Q122.605 1515.55 122.605 1522.67 Q122.605 1529.78 124.411 1533.35 Q126.24 1536.89 129.851 1536.89 Q133.485 1536.89 135.29 1533.35 Q137.119 1529.78 137.119 1522.67 Q137.119 1515.55 135.29 1512 Q133.485 1508.44 129.851 1508.44 M129.851 1504.73 Q135.661 1504.73 138.716 1509.34 Q141.795 1513.92 141.795 1522.67 Q141.795 1531.4 138.716 1536.01 Q135.661 1540.59 129.851 1540.59 Q124.041 1540.59 120.962 1536.01 Q117.906 1531.4 117.906 1522.67 Q117.906 1513.92 120.962 1509.34 Q124.041 1504.73 129.851 1504.73 Z\" fill=\"#000000\" fill-rule=\"evenodd\" fill-opacity=\"1\" /><path clip-path=\"url(#clip1000)\" d=\"M 0 0 M146.864 1534.04 L151.749 1534.04 L151.749 1539.92 L146.864 1539.92 L146.864 1534.04 Z\" fill=\"#000000\" fill-rule=\"evenodd\" fill-opacity=\"1\" /><path clip-path=\"url(#clip1000)\" d=\"M 0 0 M166.818 1508.44 Q163.207 1508.44 161.378 1512 Q159.573 1515.55 159.573 1522.67 Q159.573 1529.78 161.378 1533.35 Q163.207 1536.89 166.818 1536.89 Q170.452 1536.89 172.258 1533.35 Q174.087 1529.78 174.087 1522.67 Q174.087 1515.55 172.258 1512 Q170.452 1508.44 166.818 1508.44 M166.818 1504.73 Q172.628 1504.73 175.684 1509.34 Q178.762 1513.92 178.762 1522.67 Q178.762 1531.4 175.684 1536.01 Q172.628 1540.59 166.818 1540.59 Q161.008 1540.59 157.929 1536.01 Q154.874 1531.4 154.874 1522.67 Q154.874 1513.92 157.929 1509.34 Q161.008 1504.73 166.818 1504.73 Z\" fill=\"#000000\" fill-rule=\"evenodd\" fill-opacity=\"1\" /><path clip-path=\"url(#clip1000)\" d=\"M 0 0 M571.534 1508.44 Q567.923 1508.44 566.094 1512 Q564.288 1515.55 564.288 1522.67 Q564.288 1529.78 566.094 1533.35 Q567.923 1536.89 571.534 1536.89 Q575.168 1536.89 576.973 1533.35 Q578.802 1529.78 578.802 1522.67 Q578.802 1515.55 576.973 1512 Q575.168 1508.44 571.534 1508.44 M571.534 1504.73 Q577.344 1504.73 580.399 1509.34 Q583.478 1513.92 583.478 1522.67 Q583.478 1531.4 580.399 1536.01 Q577.344 1540.59 571.534 1540.59 Q565.723 1540.59 562.645 1536.01 Q559.589 1531.4 559.589 1522.67 Q559.589 1513.92 562.645 1509.34 Q565.723 1504.73 571.534 1504.73 Z\" fill=\"#000000\" fill-rule=\"evenodd\" fill-opacity=\"1\" /><path clip-path=\"url(#clip1000)\" d=\"M 0 0 M588.547 1534.04 L593.432 1534.04 L593.432 1539.92 L588.547 1539.92 L588.547 1534.04 Z\" fill=\"#000000\" fill-rule=\"evenodd\" fill-opacity=\"1\" /><path clip-path=\"url(#clip1000)\" d=\"M 0 0 M602.529 1535.98 L618.848 1535.98 L618.848 1539.92 L596.904 1539.92 L596.904 1535.98 Q599.566 1533.23 604.149 1528.6 Q608.756 1523.95 609.936 1522.61 Q612.182 1520.08 613.061 1518.35 Q613.964 1516.59 613.964 1514.9 Q613.964 1512.14 612.019 1510.41 Q610.098 1508.67 606.996 1508.67 Q604.797 1508.67 602.344 1509.43 Q599.913 1510.2 597.135 1511.75 L597.135 1507.03 Q599.959 1505.89 602.413 1505.31 Q604.867 1504.73 606.904 1504.73 Q612.274 1504.73 615.469 1507.42 Q618.663 1510.11 618.663 1514.6 Q618.663 1516.73 617.853 1518.65 Q617.066 1520.54 614.959 1523.14 Q614.381 1523.81 611.279 1527.03 Q608.177 1530.22 602.529 1535.98 Z\" fill=\"#000000\" fill-rule=\"evenodd\" fill-opacity=\"1\" /><path clip-path=\"url(#clip1000)\" d=\"M 0 0 M1011.38 1508.44 Q1007.77 1508.44 1005.94 1512 Q1004.13 1515.55 1004.13 1522.67 Q1004.13 1529.78 1005.94 1533.35 Q1007.77 1536.89 1011.38 1536.89 Q1015.01 1536.89 1016.82 1533.35 Q1018.64 1529.78 1018.64 1522.67 Q1018.64 1515.55 1016.82 1512 Q1015.01 1508.44 1011.38 1508.44 M1011.38 1504.73 Q1017.19 1504.73 1020.24 1509.34 Q1023.32 1513.92 1023.32 1522.67 Q1023.32 1531.4 1020.24 1536.01 Q1017.19 1540.59 1011.38 1540.59 Q1005.57 1540.59 1002.49 1536.01 Q999.432 1531.4 999.432 1522.67 Q999.432 1513.92 1002.49 1509.34 Q1005.57 1504.73 1011.38 1504.73 Z\" fill=\"#000000\" fill-rule=\"evenodd\" fill-opacity=\"1\" /><path clip-path=\"url(#clip1000)\" d=\"M 0 0 M1028.39 1534.04 L1033.27 1534.04 L1033.27 1539.92 L1028.39 1539.92 L1028.39 1534.04 Z\" fill=\"#000000\" fill-rule=\"evenodd\" fill-opacity=\"1\" /><path clip-path=\"url(#clip1000)\" d=\"M 0 0 M1051.19 1509.43 L1039.39 1527.88 L1051.19 1527.88 L1051.19 1509.43 M1049.96 1505.36 L1055.84 1505.36 L1055.84 1527.88 L1060.77 1527.88 L1060.77 1531.77 L1055.84 1531.77 L1055.84 1539.92 L1051.19 1539.92 L1051.19 1531.77 L1035.59 1531.77 L1035.59 1527.26 L1049.96 1505.36 Z\" fill=\"#000000\" fill-rule=\"evenodd\" fill-opacity=\"1\" /><path clip-path=\"url(#clip1000)\" d=\"M 0 0 M1452.42 1508.44 Q1448.81 1508.44 1446.98 1512 Q1445.18 1515.55 1445.18 1522.67 Q1445.18 1529.78 1446.98 1533.35 Q1448.81 1536.89 1452.42 1536.89 Q1456.06 1536.89 1457.86 1533.35 Q1459.69 1529.78 1459.69 1522.67 Q1459.69 1515.55 1457.86 1512 Q1456.06 1508.44 1452.42 1508.44 M1452.42 1504.73 Q1458.23 1504.73 1461.29 1509.34 Q1464.37 1513.92 1464.37 1522.67 Q1464.37 1531.4 1461.29 1536.01 Q1458.23 1540.59 1452.42 1540.59 Q1446.61 1540.59 1443.53 1536.01 Q1440.48 1531.4 1440.48 1522.67 Q1440.48 1513.92 1443.53 1509.34 Q1446.61 1504.73 1452.42 1504.73 Z\" fill=\"#000000\" fill-rule=\"evenodd\" fill-opacity=\"1\" /><path clip-path=\"url(#clip1000)\" d=\"M 0 0 M1469.44 1534.04 L1474.32 1534.04 L1474.32 1539.92 L1469.44 1539.92 L1469.44 1534.04 Z\" fill=\"#000000\" fill-rule=\"evenodd\" fill-opacity=\"1\" /><path clip-path=\"url(#clip1000)\" d=\"M 0 0 M1489.97 1520.78 Q1486.82 1520.78 1484.97 1522.93 Q1483.14 1525.08 1483.14 1528.83 Q1483.14 1532.56 1484.97 1534.73 Q1486.82 1536.89 1489.97 1536.89 Q1493.12 1536.89 1494.95 1534.73 Q1496.8 1532.56 1496.8 1528.83 Q1496.8 1525.08 1494.95 1522.93 Q1493.12 1520.78 1489.97 1520.78 M1499.25 1506.12 L1499.25 1510.38 Q1497.49 1509.55 1495.69 1509.11 Q1493.9 1508.67 1492.14 1508.67 Q1487.51 1508.67 1485.06 1511.8 Q1482.63 1514.92 1482.28 1521.24 Q1483.65 1519.23 1485.71 1518.16 Q1487.77 1517.07 1490.25 1517.07 Q1495.45 1517.07 1498.46 1520.24 Q1501.5 1523.39 1501.5 1528.83 Q1501.5 1534.16 1498.35 1537.37 Q1495.2 1540.59 1489.97 1540.59 Q1483.97 1540.59 1480.8 1536.01 Q1477.63 1531.4 1477.63 1522.67 Q1477.63 1514.48 1481.52 1509.62 Q1485.41 1504.73 1491.96 1504.73 Q1493.72 1504.73 1495.5 1505.08 Q1497.31 1505.43 1499.25 1506.12 Z\" fill=\"#000000\" fill-rule=\"evenodd\" fill-opacity=\"1\" /><path clip-path=\"url(#clip1000)\" d=\"M 0 0 M1893.43 1508.44 Q1889.82 1508.44 1887.99 1512 Q1886.19 1515.55 1886.19 1522.67 Q1886.19 1529.78 1887.99 1533.35 Q1889.82 1536.89 1893.43 1536.89 Q1897.07 1536.89 1898.87 1533.35 Q1900.7 1529.78 1900.7 1522.67 Q1900.7 1515.55 1898.87 1512 Q1897.07 1508.44 1893.43 1508.44 M1893.43 1504.73 Q1899.24 1504.73 1902.3 1509.34 Q1905.38 1513.92 1905.38 1522.67 Q1905.38 1531.4 1902.3 1536.01 Q1899.24 1540.59 1893.43 1540.59 Q1887.62 1540.59 1884.55 1536.01 Q1881.49 1531.4 1881.49 1522.67 Q1881.49 1513.92 1884.55 1509.34 Q1887.62 1504.73 1893.43 1504.73 Z\" fill=\"#000000\" fill-rule=\"evenodd\" fill-opacity=\"1\" /><path clip-path=\"url(#clip1000)\" d=\"M 0 0 M1910.45 1534.04 L1915.33 1534.04 L1915.33 1539.92 L1910.45 1539.92 L1910.45 1534.04 Z\" fill=\"#000000\" fill-rule=\"evenodd\" fill-opacity=\"1\" /><path clip-path=\"url(#clip1000)\" d=\"M 0 0 M1930.4 1523.51 Q1927.07 1523.51 1925.15 1525.29 Q1923.25 1527.07 1923.25 1530.2 Q1923.25 1533.32 1925.15 1535.11 Q1927.07 1536.89 1930.4 1536.89 Q1933.73 1536.89 1935.66 1535.11 Q1937.58 1533.3 1937.58 1530.2 Q1937.58 1527.07 1935.66 1525.29 Q1933.76 1523.51 1930.4 1523.51 M1925.73 1521.52 Q1922.72 1520.78 1921.03 1518.72 Q1919.36 1516.66 1919.36 1513.69 Q1919.36 1509.55 1922.3 1507.14 Q1925.26 1504.73 1930.4 1504.73 Q1935.56 1504.73 1938.5 1507.14 Q1941.44 1509.55 1941.44 1513.69 Q1941.44 1516.66 1939.75 1518.72 Q1938.09 1520.78 1935.1 1521.52 Q1938.48 1522.3 1940.36 1524.6 Q1942.25 1526.89 1942.25 1530.2 Q1942.25 1535.22 1939.17 1537.91 Q1936.12 1540.59 1930.4 1540.59 Q1924.68 1540.59 1921.61 1537.91 Q1918.55 1535.22 1918.55 1530.2 Q1918.55 1526.89 1920.45 1524.6 Q1922.35 1522.3 1925.73 1521.52 M1924.01 1514.13 Q1924.01 1516.82 1925.68 1518.32 Q1927.37 1519.83 1930.4 1519.83 Q1933.41 1519.83 1935.1 1518.32 Q1936.81 1516.82 1936.81 1514.13 Q1936.81 1511.45 1935.1 1509.94 Q1933.41 1508.44 1930.4 1508.44 Q1927.37 1508.44 1925.68 1509.94 Q1924.01 1511.45 1924.01 1514.13 Z\" fill=\"#000000\" fill-rule=\"evenodd\" fill-opacity=\"1\" /><path clip-path=\"url(#clip1000)\" d=\"M 0 0 M2324.65 1535.98 L2332.29 1535.98 L2332.29 1509.62 L2323.98 1511.29 L2323.98 1507.03 L2332.25 1505.36 L2336.92 1505.36 L2336.92 1535.98 L2344.56 1535.98 L2344.56 1539.92 L2324.65 1539.92 L2324.65 1535.98 Z\" fill=\"#000000\" fill-rule=\"evenodd\" fill-opacity=\"1\" /><path clip-path=\"url(#clip1000)\" d=\"M 0 0 M2349.63 1534.04 L2354.52 1534.04 L2354.52 1539.92 L2349.63 1539.92 L2349.63 1534.04 Z\" fill=\"#000000\" fill-rule=\"evenodd\" fill-opacity=\"1\" /><path clip-path=\"url(#clip1000)\" d=\"M 0 0 M2369.58 1508.44 Q2365.97 1508.44 2364.14 1512 Q2362.34 1515.55 2362.34 1522.67 Q2362.34 1529.78 2364.14 1533.35 Q2365.97 1536.89 2369.58 1536.89 Q2373.22 1536.89 2375.02 1533.35 Q2376.85 1529.78 2376.85 1522.67 Q2376.85 1515.55 2375.02 1512 Q2373.22 1508.44 2369.58 1508.44 M2369.58 1504.73 Q2375.39 1504.73 2378.45 1509.34 Q2381.53 1513.92 2381.53 1522.67 Q2381.53 1531.4 2378.45 1536.01 Q2375.39 1540.59 2369.58 1540.59 Q2363.77 1540.59 2360.7 1536.01 Q2357.64 1531.4 2357.64 1522.67 Q2357.64 1513.92 2360.7 1509.34 Q2363.77 1504.73 2369.58 1504.73 Z\" fill=\"#000000\" fill-rule=\"evenodd\" fill-opacity=\"1\" /><path clip-path=\"url(#clip1000)\" d=\"M 0 0 M75.4226 1472.25 Q71.8115 1472.25 69.9828 1475.81 Q68.1773 1479.35 68.1773 1486.48 Q68.1773 1493.59 69.9828 1497.15 Q71.8115 1500.7 75.4226 1500.7 Q79.0569 1500.7 80.8624 1497.15 Q82.6911 1493.59 82.6911 1486.48 Q82.6911 1479.35 80.8624 1475.81 Q79.0569 1472.25 75.4226 1472.25 M75.4226 1468.54 Q81.2328 1468.54 84.2883 1473.15 Q87.367 1477.73 87.367 1486.48 Q87.367 1495.21 84.2883 1499.82 Q81.2328 1504.4 75.4226 1504.4 Q69.6125 1504.4 66.5338 1499.82 Q63.4782 1495.21 63.4782 1486.48 Q63.4782 1477.73 66.5338 1473.15 Q69.6125 1468.54 75.4226 1468.54 Z\" fill=\"#000000\" fill-rule=\"evenodd\" fill-opacity=\"1\" /><path clip-path=\"url(#clip1000)\" d=\"M 0 0 M92.4364 1497.85 L97.3206 1497.85 L97.3206 1503.73 L92.4364 1503.73 L92.4364 1497.85 Z\" fill=\"#000000\" fill-rule=\"evenodd\" fill-opacity=\"1\" /><path clip-path=\"url(#clip1000)\" d=\"M 0 0 M112.39 1472.25 Q108.779 1472.25 106.95 1475.81 Q105.145 1479.35 105.145 1486.48 Q105.145 1493.59 106.95 1497.15 Q108.779 1500.7 112.39 1500.7 Q116.024 1500.7 117.83 1497.15 Q119.658 1493.59 119.658 1486.48 Q119.658 1479.35 117.83 1475.81 Q116.024 1472.25 112.39 1472.25 M112.39 1468.54 Q118.2 1468.54 121.256 1473.15 Q124.334 1477.73 124.334 1486.48 Q124.334 1495.21 121.256 1499.82 Q118.2 1504.4 112.39 1504.4 Q106.58 1504.4 103.501 1499.82 Q100.446 1495.21 100.446 1486.48 Q100.446 1477.73 103.501 1473.15 Q106.58 1468.54 112.39 1468.54 Z\" fill=\"#000000\" fill-rule=\"evenodd\" fill-opacity=\"1\" /><path clip-path=\"url(#clip1000)\" d=\"M 0 0 M77.0198 1184.41 Q73.4087 1184.41 71.58 1187.97 Q69.7745 1191.51 69.7745 1198.64 Q69.7745 1205.75 71.58 1209.31 Q73.4087 1212.85 77.0198 1212.85 Q80.6541 1212.85 82.4596 1209.31 Q84.2883 1205.75 84.2883 1198.64 Q84.2883 1191.51 82.4596 1187.97 Q80.6541 1184.41 77.0198 1184.41 M77.0198 1180.7 Q82.83 1180.7 85.8855 1185.31 Q88.9642 1189.89 88.9642 1198.64 Q88.9642 1207.37 85.8855 1211.98 Q82.83 1216.56 77.0198 1216.56 Q71.2097 1216.56 68.131 1211.98 Q65.0754 1207.37 65.0754 1198.64 Q65.0754 1189.89 68.131 1185.31 Q71.2097 1180.7 77.0198 1180.7 Z\" fill=\"#000000\" fill-rule=\"evenodd\" fill-opacity=\"1\" /><path clip-path=\"url(#clip1000)\" d=\"M 0 0 M94.0336 1210.01 L98.9179 1210.01 L98.9179 1215.89 L94.0336 1215.89 L94.0336 1210.01 Z\" fill=\"#000000\" fill-rule=\"evenodd\" fill-opacity=\"1\" /><path clip-path=\"url(#clip1000)\" d=\"M 0 0 M108.015 1211.95 L124.334 1211.95 L124.334 1215.89 L102.39 1215.89 L102.39 1211.95 Q105.052 1209.2 109.635 1204.57 Q114.242 1199.91 115.422 1198.57 Q117.668 1196.05 118.547 1194.31 Q119.45 1192.55 119.45 1190.86 Q119.45 1188.11 117.506 1186.37 Q115.584 1184.64 112.483 1184.64 Q110.284 1184.64 107.83 1185.4 Q105.399 1186.17 102.622 1187.72 L102.622 1182.99 Q105.446 1181.86 107.899 1181.28 Q110.353 1180.7 112.39 1180.7 Q117.76 1180.7 120.955 1183.39 Q124.149 1186.07 124.149 1190.56 Q124.149 1192.69 123.339 1194.61 Q122.552 1196.51 120.446 1199.1 Q119.867 1199.78 116.765 1202.99 Q113.663 1206.19 108.015 1211.95 Z\" fill=\"#000000\" fill-rule=\"evenodd\" fill-opacity=\"1\" /><path clip-path=\"url(#clip1000)\" d=\"M 0 0 M74.9365 896.565 Q71.3254 896.565 69.4967 900.13 Q67.6912 903.671 67.6912 910.801 Q67.6912 917.908 69.4967 921.472 Q71.3254 925.014 74.9365 925.014 Q78.5707 925.014 80.3763 921.472 Q82.205 917.908 82.205 910.801 Q82.205 903.671 80.3763 900.13 Q78.5707 896.565 74.9365 896.565 M74.9365 892.861 Q80.7467 892.861 83.8022 897.468 Q86.8809 902.051 86.8809 910.801 Q86.8809 919.528 83.8022 924.134 Q80.7467 928.718 74.9365 928.718 Q69.1264 928.718 66.0477 924.134 Q62.9921 919.528 62.9921 910.801 Q62.9921 902.051 66.0477 897.468 Q69.1264 892.861 74.9365 892.861 Z\" fill=\"#000000\" fill-rule=\"evenodd\" fill-opacity=\"1\" /><path clip-path=\"url(#clip1000)\" d=\"M 0 0 M91.9503 922.167 L96.8345 922.167 L96.8345 928.046 L91.9503 928.046 L91.9503 922.167 Z\" fill=\"#000000\" fill-rule=\"evenodd\" fill-opacity=\"1\" /><path clip-path=\"url(#clip1000)\" d=\"M 0 0 M114.751 897.56 L102.946 916.009 L114.751 916.009 L114.751 897.56 M113.524 893.486 L119.404 893.486 L119.404 916.009 L124.334 916.009 L124.334 919.898 L119.404 919.898 L119.404 928.046 L114.751 928.046 L114.751 919.898 L99.1493 919.898 L99.1493 915.384 L113.524 893.486 Z\" fill=\"#000000\" fill-rule=\"evenodd\" fill-opacity=\"1\" /><path clip-path=\"url(#clip1000)\" d=\"M 0 0 M75.2606 608.724 Q71.6495 608.724 69.8208 612.289 Q68.0152 615.831 68.0152 622.96 Q68.0152 630.067 69.8208 633.632 Q71.6495 637.173 75.2606 637.173 Q78.8948 637.173 80.7004 633.632 Q82.5291 630.067 82.5291 622.96 Q82.5291 615.831 80.7004 612.289 Q78.8948 608.724 75.2606 608.724 M75.2606 605.021 Q81.0707 605.021 84.1263 609.627 Q87.205 614.21 87.205 622.96 Q87.205 631.687 84.1263 636.294 Q81.0707 640.877 75.2606 640.877 Q69.4504 640.877 66.3717 636.294 Q63.3162 631.687 63.3162 622.96 Q63.3162 614.21 66.3717 609.627 Q69.4504 605.021 75.2606 605.021 Z\" fill=\"#000000\" fill-rule=\"evenodd\" fill-opacity=\"1\" /><path clip-path=\"url(#clip1000)\" d=\"M 0 0 M92.2744 634.326 L97.1586 634.326 L97.1586 640.206 L92.2744 640.206 L92.2744 634.326 Z\" fill=\"#000000\" fill-rule=\"evenodd\" fill-opacity=\"1\" /><path clip-path=\"url(#clip1000)\" d=\"M 0 0 M112.807 621.062 Q109.659 621.062 107.807 623.215 Q105.978 625.368 105.978 629.118 Q105.978 632.845 107.807 635.02 Q109.659 637.173 112.807 637.173 Q115.955 637.173 117.783 635.02 Q119.635 632.845 119.635 629.118 Q119.635 625.368 117.783 623.215 Q115.955 621.062 112.807 621.062 M122.089 606.409 L122.089 610.669 Q120.33 609.835 118.524 609.396 Q116.742 608.956 114.983 608.956 Q110.353 608.956 107.899 612.081 Q105.469 615.206 105.122 621.525 Q106.487 619.511 108.547 618.446 Q110.608 617.359 113.084 617.359 Q118.293 617.359 121.302 620.53 Q124.334 623.678 124.334 629.118 Q124.334 634.442 121.186 637.659 Q118.038 640.877 112.807 640.877 Q106.811 640.877 103.64 636.294 Q100.469 631.687 100.469 622.96 Q100.469 614.766 104.358 609.905 Q108.247 605.021 114.797 605.021 Q116.557 605.021 118.339 605.368 Q120.145 605.715 122.089 606.409 Z\" fill=\"#000000\" fill-rule=\"evenodd\" fill-opacity=\"1\" /><path clip-path=\"url(#clip1000)\" d=\"M 0 0 M75.5152 320.884 Q71.9041 320.884 70.0754 324.448 Q68.2699 327.99 68.2699 335.12 Q68.2699 342.226 70.0754 345.791 Q71.9041 349.332 75.5152 349.332 Q79.1494 349.332 80.955 345.791 Q82.7837 342.226 82.7837 335.12 Q82.7837 327.99 80.955 324.448 Q79.1494 320.884 75.5152 320.884 M75.5152 317.18 Q81.3254 317.18 84.3809 321.786 Q87.4596 326.37 87.4596 335.12 Q87.4596 343.846 84.3809 348.453 Q81.3254 353.036 75.5152 353.036 Q69.7051 353.036 66.6264 348.453 Q63.5708 343.846 63.5708 335.12 Q63.5708 326.37 66.6264 321.786 Q69.7051 317.18 75.5152 317.18 Z\" fill=\"#000000\" fill-rule=\"evenodd\" fill-opacity=\"1\" /><path clip-path=\"url(#clip1000)\" d=\"M 0 0 M92.529 346.485 L97.4132 346.485 L97.4132 352.365 L92.529 352.365 L92.529 346.485 Z\" fill=\"#000000\" fill-rule=\"evenodd\" fill-opacity=\"1\" /><path clip-path=\"url(#clip1000)\" d=\"M 0 0 M112.483 335.953 Q109.149 335.953 107.228 337.735 Q105.33 339.518 105.33 342.643 Q105.33 345.768 107.228 347.55 Q109.149 349.332 112.483 349.332 Q115.816 349.332 117.737 347.55 Q119.658 345.745 119.658 342.643 Q119.658 339.518 117.737 337.735 Q115.839 335.953 112.483 335.953 M107.807 333.962 Q104.797 333.221 103.108 331.161 Q101.441 329.101 101.441 326.138 Q101.441 321.995 104.381 319.587 Q107.344 317.18 112.483 317.18 Q117.645 317.18 120.584 319.587 Q123.524 321.995 123.524 326.138 Q123.524 329.101 121.834 331.161 Q120.168 333.221 117.182 333.962 Q120.561 334.749 122.436 337.041 Q124.334 339.333 124.334 342.643 Q124.334 347.666 121.256 350.351 Q118.2 353.036 112.483 353.036 Q106.765 353.036 103.686 350.351 Q100.631 347.666 100.631 342.643 Q100.631 339.333 102.529 337.041 Q104.427 334.749 107.807 333.962 M106.094 326.578 Q106.094 329.263 107.76 330.768 Q109.45 332.272 112.483 332.272 Q115.492 332.272 117.182 330.768 Q118.895 329.263 118.895 326.578 Q118.895 323.893 117.182 322.388 Q115.492 320.884 112.483 320.884 Q109.45 320.884 107.76 322.388 Q106.094 323.893 106.094 326.578 Z\" fill=\"#000000\" fill-rule=\"evenodd\" fill-opacity=\"1\" /><path clip-path=\"url(#clip1000)\" d=\"M 0 0 M67.4597 60.5889 L75.0985 60.5889 L75.0985 34.2233 L66.7884 35.89 L66.7884 31.6308 L75.0522 29.9641 L79.7281 29.9641 L79.7281 60.5889 L87.367 60.5889 L87.367 64.5241 L67.4597 64.5241 L67.4597 60.5889 Z\" fill=\"#000000\" fill-rule=\"evenodd\" fill-opacity=\"1\" /><path clip-path=\"url(#clip1000)\" d=\"M 0 0 M92.4364 58.6445 L97.3206 58.6445 L97.3206 64.5241 L92.4364 64.5241 L92.4364 58.6445 Z\" fill=\"#000000\" fill-rule=\"evenodd\" fill-opacity=\"1\" /><path clip-path=\"url(#clip1000)\" d=\"M 0 0 M112.39 33.0428 Q108.779 33.0428 106.95 36.6076 Q105.145 40.1492 105.145 47.2788 Q105.145 54.3853 106.95 57.9501 Q108.779 61.4917 112.39 61.4917 Q116.024 61.4917 117.83 57.9501 Q119.658 54.3853 119.658 47.2788 Q119.658 40.1492 117.83 36.6076 Q116.024 33.0428 112.39 33.0428 M112.39 29.3391 Q118.2 29.3391 121.256 33.9456 Q124.334 38.5289 124.334 47.2788 Q124.334 56.0056 121.256 60.6121 Q118.2 65.1954 112.39 65.1954 Q106.58 65.1954 103.501 60.6121 Q100.446 56.0056 100.446 47.2788 Q100.446 38.5289 103.501 33.9456 Q106.58 29.3391 112.39 29.3391 Z\" fill=\"#000000\" fill-rule=\"evenodd\" fill-opacity=\"1\" /><circle clip-path=\"url(#clip1002)\" cx=\"1272.51\" cy=\"796.677\" r=\"14\" fill=\"#009af9\" fill-rule=\"evenodd\" fill-opacity=\"1\" stroke=\"#000000\" stroke-opacity=\"1\" stroke-width=\"3.2\"/>\n",
       "<circle clip-path=\"url(#clip1002)\" cx=\"1245.81\" cy=\"764.685\" r=\"14\" fill=\"#009af9\" fill-rule=\"evenodd\" fill-opacity=\"1\" stroke=\"#000000\" stroke-opacity=\"1\" stroke-width=\"3.2\"/>\n",
       "<circle clip-path=\"url(#clip1002)\" cx=\"1164.54\" cy=\"805.384\" r=\"14\" fill=\"#009af9\" fill-rule=\"evenodd\" fill-opacity=\"1\" stroke=\"#000000\" stroke-opacity=\"1\" stroke-width=\"3.2\"/>\n",
       "<circle clip-path=\"url(#clip1002)\" cx=\"1264.75\" cy=\"740.093\" r=\"14\" fill=\"#009af9\" fill-rule=\"evenodd\" fill-opacity=\"1\" stroke=\"#000000\" stroke-opacity=\"1\" stroke-width=\"3.2\"/>\n",
       "<circle clip-path=\"url(#clip1002)\" cx=\"1276.87\" cy=\"753.768\" r=\"14\" fill=\"#009af9\" fill-rule=\"evenodd\" fill-opacity=\"1\" stroke=\"#000000\" stroke-opacity=\"1\" stroke-width=\"3.2\"/>\n",
       "<circle clip-path=\"url(#clip1002)\" cx=\"1272.9\" cy=\"772.714\" r=\"14\" fill=\"#009af9\" fill-rule=\"evenodd\" fill-opacity=\"1\" stroke=\"#000000\" stroke-opacity=\"1\" stroke-width=\"3.2\"/>\n",
       "<circle clip-path=\"url(#clip1002)\" cx=\"1254.67\" cy=\"783.901\" r=\"14\" fill=\"#009af9\" fill-rule=\"evenodd\" fill-opacity=\"1\" stroke=\"#000000\" stroke-opacity=\"1\" stroke-width=\"3.2\"/>\n",
       "<circle clip-path=\"url(#clip1002)\" cx=\"1219.56\" cy=\"796.599\" r=\"14\" fill=\"#009af9\" fill-rule=\"evenodd\" fill-opacity=\"1\" stroke=\"#000000\" stroke-opacity=\"1\" stroke-width=\"3.2\"/>\n",
       "<circle clip-path=\"url(#clip1002)\" cx=\"1319.64\" cy=\"726.067\" r=\"14\" fill=\"#009af9\" fill-rule=\"evenodd\" fill-opacity=\"1\" stroke=\"#000000\" stroke-opacity=\"1\" stroke-width=\"3.2\"/>\n",
       "<circle clip-path=\"url(#clip1002)\" cx=\"1251.27\" cy=\"767.618\" r=\"14\" fill=\"#009af9\" fill-rule=\"evenodd\" fill-opacity=\"1\" stroke=\"#000000\" stroke-opacity=\"1\" stroke-width=\"3.2\"/>\n",
       "<circle clip-path=\"url(#clip1002)\" cx=\"1269.31\" cy=\"760.867\" r=\"14\" fill=\"#009af9\" fill-rule=\"evenodd\" fill-opacity=\"1\" stroke=\"#000000\" stroke-opacity=\"1\" stroke-width=\"3.2\"/>\n",
       "<circle clip-path=\"url(#clip1002)\" cx=\"1277.67\" cy=\"794.086\" r=\"14\" fill=\"#009af9\" fill-rule=\"evenodd\" fill-opacity=\"1\" stroke=\"#000000\" stroke-opacity=\"1\" stroke-width=\"3.2\"/>\n",
       "<circle clip-path=\"url(#clip1002)\" cx=\"1259.9\" cy=\"744.097\" r=\"14\" fill=\"#009af9\" fill-rule=\"evenodd\" fill-opacity=\"1\" stroke=\"#000000\" stroke-opacity=\"1\" stroke-width=\"3.2\"/>\n",
       "<circle clip-path=\"url(#clip1002)\" cx=\"1220.4\" cy=\"758.415\" r=\"14\" fill=\"#009af9\" fill-rule=\"evenodd\" fill-opacity=\"1\" stroke=\"#000000\" stroke-opacity=\"1\" stroke-width=\"3.2\"/>\n",
       "<circle clip-path=\"url(#clip1002)\" cx=\"1258.3\" cy=\"779.109\" r=\"14\" fill=\"#009af9\" fill-rule=\"evenodd\" fill-opacity=\"1\" stroke=\"#000000\" stroke-opacity=\"1\" stroke-width=\"3.2\"/>\n",
       "<circle clip-path=\"url(#clip1002)\" cx=\"1249.97\" cy=\"733.741\" r=\"14\" fill=\"#009af9\" fill-rule=\"evenodd\" fill-opacity=\"1\" stroke=\"#000000\" stroke-opacity=\"1\" stroke-width=\"3.2\"/>\n",
       "<circle clip-path=\"url(#clip1002)\" cx=\"1384.52\" cy=\"696.176\" r=\"14\" fill=\"#009af9\" fill-rule=\"evenodd\" fill-opacity=\"1\" stroke=\"#000000\" stroke-opacity=\"1\" stroke-width=\"3.2\"/>\n",
       "<circle clip-path=\"url(#clip1002)\" cx=\"1272.51\" cy=\"796.677\" r=\"14\" fill=\"#009af9\" fill-rule=\"evenodd\" fill-opacity=\"1\" stroke=\"#000000\" stroke-opacity=\"1\" stroke-width=\"3.2\"/>\n",
       "<circle clip-path=\"url(#clip1002)\" cx=\"1247.49\" cy=\"756.117\" r=\"14\" fill=\"#009af9\" fill-rule=\"evenodd\" fill-opacity=\"1\" stroke=\"#000000\" stroke-opacity=\"1\" stroke-width=\"3.2\"/>\n",
       "<circle clip-path=\"url(#clip1002)\" cx=\"1205.69\" cy=\"728.737\" r=\"14\" fill=\"#009af9\" fill-rule=\"evenodd\" fill-opacity=\"1\" stroke=\"#000000\" stroke-opacity=\"1\" stroke-width=\"3.2\"/>\n",
       "<circle clip-path=\"url(#clip1002)\" cx=\"1219.61\" cy=\"779.285\" r=\"14\" fill=\"#009af9\" fill-rule=\"evenodd\" fill-opacity=\"1\" stroke=\"#000000\" stroke-opacity=\"1\" stroke-width=\"3.2\"/>\n",
       "<circle clip-path=\"url(#clip1002)\" cx=\"1194.98\" cy=\"821.742\" r=\"14\" fill=\"#009af9\" fill-rule=\"evenodd\" fill-opacity=\"1\" stroke=\"#000000\" stroke-opacity=\"1\" stroke-width=\"3.2\"/>\n",
       "<circle clip-path=\"url(#clip1002)\" cx=\"1267.52\" cy=\"777.461\" r=\"14\" fill=\"#009af9\" fill-rule=\"evenodd\" fill-opacity=\"1\" stroke=\"#000000\" stroke-opacity=\"1\" stroke-width=\"3.2\"/>\n",
       "<circle clip-path=\"url(#clip1002)\" cx=\"1248.18\" cy=\"771.817\" r=\"14\" fill=\"#009af9\" fill-rule=\"evenodd\" fill-opacity=\"1\" stroke=\"#000000\" stroke-opacity=\"1\" stroke-width=\"3.2\"/>\n",
       "<circle clip-path=\"url(#clip1002)\" cx=\"1201.72\" cy=\"770.104\" r=\"14\" fill=\"#009af9\" fill-rule=\"evenodd\" fill-opacity=\"1\" stroke=\"#000000\" stroke-opacity=\"1\" stroke-width=\"3.2\"/>\n",
       "<circle clip-path=\"url(#clip1002)\" cx=\"1161.4\" cy=\"803.96\" r=\"14\" fill=\"#009af9\" fill-rule=\"evenodd\" fill-opacity=\"1\" stroke=\"#000000\" stroke-opacity=\"1\" stroke-width=\"3.2\"/>\n",
       "<circle clip-path=\"url(#clip1002)\" cx=\"1180.31\" cy=\"805.684\" r=\"14\" fill=\"#009af9\" fill-rule=\"evenodd\" fill-opacity=\"1\" stroke=\"#000000\" stroke-opacity=\"1\" stroke-width=\"3.2\"/>\n",
       "<circle clip-path=\"url(#clip1002)\" cx=\"1257.69\" cy=\"774.064\" r=\"14\" fill=\"#009af9\" fill-rule=\"evenodd\" fill-opacity=\"1\" stroke=\"#000000\" stroke-opacity=\"1\" stroke-width=\"3.2\"/>\n",
       "<circle clip-path=\"url(#clip1002)\" cx=\"1284.58\" cy=\"734.126\" r=\"14\" fill=\"#009af9\" fill-rule=\"evenodd\" fill-opacity=\"1\" stroke=\"#000000\" stroke-opacity=\"1\" stroke-width=\"3.2\"/>\n",
       "<circle clip-path=\"url(#clip1002)\" cx=\"1261.79\" cy=\"746.661\" r=\"14\" fill=\"#009af9\" fill-rule=\"evenodd\" fill-opacity=\"1\" stroke=\"#000000\" stroke-opacity=\"1\" stroke-width=\"3.2\"/>\n",
       "<circle clip-path=\"url(#clip1002)\" cx=\"1257.75\" cy=\"744.73\" r=\"14\" fill=\"#009af9\" fill-rule=\"evenodd\" fill-opacity=\"1\" stroke=\"#000000\" stroke-opacity=\"1\" stroke-width=\"3.2\"/>\n",
       "<circle clip-path=\"url(#clip1002)\" cx=\"1266.17\" cy=\"761.874\" r=\"14\" fill=\"#009af9\" fill-rule=\"evenodd\" fill-opacity=\"1\" stroke=\"#000000\" stroke-opacity=\"1\" stroke-width=\"3.2\"/>\n",
       "<circle clip-path=\"url(#clip1002)\" cx=\"1247.73\" cy=\"740.288\" r=\"14\" fill=\"#009af9\" fill-rule=\"evenodd\" fill-opacity=\"1\" stroke=\"#000000\" stroke-opacity=\"1\" stroke-width=\"3.2\"/>\n",
       "<circle clip-path=\"url(#clip1002)\" cx=\"1264.9\" cy=\"770.494\" r=\"14\" fill=\"#009af9\" fill-rule=\"evenodd\" fill-opacity=\"1\" stroke=\"#000000\" stroke-opacity=\"1\" stroke-width=\"3.2\"/>\n",
       "<circle clip-path=\"url(#clip1002)\" cx=\"1233.41\" cy=\"760.114\" r=\"14\" fill=\"#009af9\" fill-rule=\"evenodd\" fill-opacity=\"1\" stroke=\"#000000\" stroke-opacity=\"1\" stroke-width=\"3.2\"/>\n",
       "<circle clip-path=\"url(#clip1002)\" cx=\"1250.85\" cy=\"761.502\" r=\"14\" fill=\"#009af9\" fill-rule=\"evenodd\" fill-opacity=\"1\" stroke=\"#000000\" stroke-opacity=\"1\" stroke-width=\"3.2\"/>\n",
       "<circle clip-path=\"url(#clip1002)\" cx=\"1258.72\" cy=\"773.15\" r=\"14\" fill=\"#009af9\" fill-rule=\"evenodd\" fill-opacity=\"1\" stroke=\"#000000\" stroke-opacity=\"1\" stroke-width=\"3.2\"/>\n",
       "<circle clip-path=\"url(#clip1002)\" cx=\"1248.44\" cy=\"788.462\" r=\"14\" fill=\"#009af9\" fill-rule=\"evenodd\" fill-opacity=\"1\" stroke=\"#000000\" stroke-opacity=\"1\" stroke-width=\"3.2\"/>\n",
       "<circle clip-path=\"url(#clip1002)\" cx=\"1236.23\" cy=\"779.757\" r=\"14\" fill=\"#009af9\" fill-rule=\"evenodd\" fill-opacity=\"1\" stroke=\"#000000\" stroke-opacity=\"1\" stroke-width=\"3.2\"/>\n",
       "<circle clip-path=\"url(#clip1002)\" cx=\"1229\" cy=\"776.874\" r=\"14\" fill=\"#009af9\" fill-rule=\"evenodd\" fill-opacity=\"1\" stroke=\"#000000\" stroke-opacity=\"1\" stroke-width=\"3.2\"/>\n",
       "<circle clip-path=\"url(#clip1002)\" cx=\"1194.41\" cy=\"773.601\" r=\"14\" fill=\"#009af9\" fill-rule=\"evenodd\" fill-opacity=\"1\" stroke=\"#000000\" stroke-opacity=\"1\" stroke-width=\"3.2\"/>\n",
       "<circle clip-path=\"url(#clip1002)\" cx=\"1228.9\" cy=\"790.255\" r=\"14\" fill=\"#009af9\" fill-rule=\"evenodd\" fill-opacity=\"1\" stroke=\"#000000\" stroke-opacity=\"1\" stroke-width=\"3.2\"/>\n",
       "<circle clip-path=\"url(#clip1002)\" cx=\"1245.46\" cy=\"792.854\" r=\"14\" fill=\"#009af9\" fill-rule=\"evenodd\" fill-opacity=\"1\" stroke=\"#000000\" stroke-opacity=\"1\" stroke-width=\"3.2\"/>\n",
       "<circle clip-path=\"url(#clip1002)\" cx=\"1237.61\" cy=\"808.428\" r=\"14\" fill=\"#009af9\" fill-rule=\"evenodd\" fill-opacity=\"1\" stroke=\"#000000\" stroke-opacity=\"1\" stroke-width=\"3.2\"/>\n",
       "<circle clip-path=\"url(#clip1002)\" cx=\"1204.06\" cy=\"800.171\" r=\"14\" fill=\"#009af9\" fill-rule=\"evenodd\" fill-opacity=\"1\" stroke=\"#000000\" stroke-opacity=\"1\" stroke-width=\"3.2\"/>\n",
       "<circle clip-path=\"url(#clip1002)\" cx=\"1202.53\" cy=\"809.595\" r=\"14\" fill=\"#009af9\" fill-rule=\"evenodd\" fill-opacity=\"1\" stroke=\"#000000\" stroke-opacity=\"1\" stroke-width=\"3.2\"/>\n",
       "<circle clip-path=\"url(#clip1002)\" cx=\"1182.54\" cy=\"825.472\" r=\"14\" fill=\"#009af9\" fill-rule=\"evenodd\" fill-opacity=\"1\" stroke=\"#000000\" stroke-opacity=\"1\" stroke-width=\"3.2\"/>\n",
       "<circle clip-path=\"url(#clip1002)\" cx=\"1139.69\" cy=\"816.236\" r=\"14\" fill=\"#009af9\" fill-rule=\"evenodd\" fill-opacity=\"1\" stroke=\"#000000\" stroke-opacity=\"1\" stroke-width=\"3.2\"/>\n",
       "<circle clip-path=\"url(#clip1002)\" cx=\"1384.52\" cy=\"696.176\" r=\"14\" fill=\"#009af9\" fill-rule=\"evenodd\" fill-opacity=\"1\" stroke=\"#000000\" stroke-opacity=\"1\" stroke-width=\"3.2\"/>\n",
       "<circle clip-path=\"url(#clip1002)\" cx=\"1348.82\" cy=\"696.338\" r=\"14\" fill=\"#009af9\" fill-rule=\"evenodd\" fill-opacity=\"1\" stroke=\"#000000\" stroke-opacity=\"1\" stroke-width=\"3.2\"/>\n",
       "<circle clip-path=\"url(#clip1002)\" cx=\"1304.67\" cy=\"706.231\" r=\"14\" fill=\"#009af9\" fill-rule=\"evenodd\" fill-opacity=\"1\" stroke=\"#000000\" stroke-opacity=\"1\" stroke-width=\"3.2\"/>\n",
       "<circle clip-path=\"url(#clip1002)\" cx=\"1265.2\" cy=\"737.984\" r=\"14\" fill=\"#009af9\" fill-rule=\"evenodd\" fill-opacity=\"1\" stroke=\"#000000\" stroke-opacity=\"1\" stroke-width=\"3.2\"/>\n",
       "<circle clip-path=\"url(#clip1002)\" cx=\"1291.85\" cy=\"758.413\" r=\"14\" fill=\"#009af9\" fill-rule=\"evenodd\" fill-opacity=\"1\" stroke=\"#000000\" stroke-opacity=\"1\" stroke-width=\"3.2\"/>\n",
       "<circle clip-path=\"url(#clip1002)\" cx=\"1287.42\" cy=\"754.371\" r=\"14\" fill=\"#009af9\" fill-rule=\"evenodd\" fill-opacity=\"1\" stroke=\"#000000\" stroke-opacity=\"1\" stroke-width=\"3.2\"/>\n",
       "<circle clip-path=\"url(#clip1002)\" cx=\"1262.27\" cy=\"755.844\" r=\"14\" fill=\"#009af9\" fill-rule=\"evenodd\" fill-opacity=\"1\" stroke=\"#000000\" stroke-opacity=\"1\" stroke-width=\"3.2\"/>\n",
       "<circle clip-path=\"url(#clip1002)\" cx=\"1262.27\" cy=\"755.844\" r=\"14\" fill=\"#009af9\" fill-rule=\"evenodd\" fill-opacity=\"1\" stroke=\"#000000\" stroke-opacity=\"1\" stroke-width=\"3.2\"/>\n",
       "<circle clip-path=\"url(#clip1002)\" cx=\"1265.81\" cy=\"757.867\" r=\"14\" fill=\"#009af9\" fill-rule=\"evenodd\" fill-opacity=\"1\" stroke=\"#000000\" stroke-opacity=\"1\" stroke-width=\"3.2\"/>\n",
       "<circle clip-path=\"url(#clip1002)\" cx=\"1248.44\" cy=\"788.462\" r=\"14\" fill=\"#009af9\" fill-rule=\"evenodd\" fill-opacity=\"1\" stroke=\"#000000\" stroke-opacity=\"1\" stroke-width=\"3.2\"/>\n",
       "<circle clip-path=\"url(#clip1002)\" cx=\"1191.7\" cy=\"776.563\" r=\"14\" fill=\"#009af9\" fill-rule=\"evenodd\" fill-opacity=\"1\" stroke=\"#000000\" stroke-opacity=\"1\" stroke-width=\"3.2\"/>\n",
       "<circle clip-path=\"url(#clip1002)\" cx=\"1220.65\" cy=\"780.496\" r=\"14\" fill=\"#009af9\" fill-rule=\"evenodd\" fill-opacity=\"1\" stroke=\"#000000\" stroke-opacity=\"1\" stroke-width=\"3.2\"/>\n",
       "<circle clip-path=\"url(#clip1002)\" cx=\"1209.87\" cy=\"784.68\" r=\"14\" fill=\"#009af9\" fill-rule=\"evenodd\" fill-opacity=\"1\" stroke=\"#000000\" stroke-opacity=\"1\" stroke-width=\"3.2\"/>\n",
       "<circle clip-path=\"url(#clip1002)\" cx=\"1234.98\" cy=\"809.84\" r=\"14\" fill=\"#009af9\" fill-rule=\"evenodd\" fill-opacity=\"1\" stroke=\"#000000\" stroke-opacity=\"1\" stroke-width=\"3.2\"/>\n",
       "<circle clip-path=\"url(#clip1002)\" cx=\"1189.82\" cy=\"788.401\" r=\"14\" fill=\"#009af9\" fill-rule=\"evenodd\" fill-opacity=\"1\" stroke=\"#000000\" stroke-opacity=\"1\" stroke-width=\"3.2\"/>\n",
       "<circle clip-path=\"url(#clip1002)\" cx=\"1180.35\" cy=\"820.428\" r=\"14\" fill=\"#009af9\" fill-rule=\"evenodd\" fill-opacity=\"1\" stroke=\"#000000\" stroke-opacity=\"1\" stroke-width=\"3.2\"/>\n",
       "<circle clip-path=\"url(#clip1002)\" cx=\"1280.1\" cy=\"756.033\" r=\"14\" fill=\"#009af9\" fill-rule=\"evenodd\" fill-opacity=\"1\" stroke=\"#000000\" stroke-opacity=\"1\" stroke-width=\"3.2\"/>\n",
       "<circle clip-path=\"url(#clip1002)\" cx=\"1224.59\" cy=\"771.284\" r=\"14\" fill=\"#009af9\" fill-rule=\"evenodd\" fill-opacity=\"1\" stroke=\"#000000\" stroke-opacity=\"1\" stroke-width=\"3.2\"/>\n",
       "<circle clip-path=\"url(#clip1002)\" cx=\"1348.82\" cy=\"696.338\" r=\"14\" fill=\"#009af9\" fill-rule=\"evenodd\" fill-opacity=\"1\" stroke=\"#000000\" stroke-opacity=\"1\" stroke-width=\"3.2\"/>\n",
       "<circle clip-path=\"url(#clip1002)\" cx=\"1352.42\" cy=\"708.653\" r=\"14\" fill=\"#009af9\" fill-rule=\"evenodd\" fill-opacity=\"1\" stroke=\"#000000\" stroke-opacity=\"1\" stroke-width=\"3.2\"/>\n",
       "<circle clip-path=\"url(#clip1002)\" cx=\"1304.47\" cy=\"722.9\" r=\"14\" fill=\"#009af9\" fill-rule=\"evenodd\" fill-opacity=\"1\" stroke=\"#000000\" stroke-opacity=\"1\" stroke-width=\"3.2\"/>\n",
       "<circle clip-path=\"url(#clip1002)\" cx=\"1299.91\" cy=\"738.193\" r=\"14\" fill=\"#009af9\" fill-rule=\"evenodd\" fill-opacity=\"1\" stroke=\"#000000\" stroke-opacity=\"1\" stroke-width=\"3.2\"/>\n",
       "<circle clip-path=\"url(#clip1002)\" cx=\"1302.6\" cy=\"743.271\" r=\"14\" fill=\"#009af9\" fill-rule=\"evenodd\" fill-opacity=\"1\" stroke=\"#000000\" stroke-opacity=\"1\" stroke-width=\"3.2\"/>\n",
       "<circle clip-path=\"url(#clip1002)\" cx=\"1302.6\" cy=\"743.271\" r=\"14\" fill=\"#009af9\" fill-rule=\"evenodd\" fill-opacity=\"1\" stroke=\"#000000\" stroke-opacity=\"1\" stroke-width=\"3.2\"/>\n",
       "<circle clip-path=\"url(#clip1002)\" cx=\"1289.2\" cy=\"740.828\" r=\"14\" fill=\"#009af9\" fill-rule=\"evenodd\" fill-opacity=\"1\" stroke=\"#000000\" stroke-opacity=\"1\" stroke-width=\"3.2\"/>\n",
       "<circle clip-path=\"url(#clip1002)\" cx=\"1269.31\" cy=\"760.867\" r=\"14\" fill=\"#009af9\" fill-rule=\"evenodd\" fill-opacity=\"1\" stroke=\"#000000\" stroke-opacity=\"1\" stroke-width=\"3.2\"/>\n",
       "<circle clip-path=\"url(#clip1002)\" cx=\"1228.82\" cy=\"744.303\" r=\"14\" fill=\"#009af9\" fill-rule=\"evenodd\" fill-opacity=\"1\" stroke=\"#000000\" stroke-opacity=\"1\" stroke-width=\"3.2\"/>\n",
       "<circle clip-path=\"url(#clip1002)\" cx=\"1265.81\" cy=\"757.867\" r=\"14\" fill=\"#009af9\" fill-rule=\"evenodd\" fill-opacity=\"1\" stroke=\"#000000\" stroke-opacity=\"1\" stroke-width=\"3.2\"/>\n",
       "<circle clip-path=\"url(#clip1002)\" cx=\"1269.73\" cy=\"765.915\" r=\"14\" fill=\"#009af9\" fill-rule=\"evenodd\" fill-opacity=\"1\" stroke=\"#000000\" stroke-opacity=\"1\" stroke-width=\"3.2\"/>\n",
       "<circle clip-path=\"url(#clip1002)\" cx=\"1247.49\" cy=\"756.117\" r=\"14\" fill=\"#009af9\" fill-rule=\"evenodd\" fill-opacity=\"1\" stroke=\"#000000\" stroke-opacity=\"1\" stroke-width=\"3.2\"/>\n",
       "<circle clip-path=\"url(#clip1002)\" cx=\"1268.47\" cy=\"771.649\" r=\"14\" fill=\"#009af9\" fill-rule=\"evenodd\" fill-opacity=\"1\" stroke=\"#000000\" stroke-opacity=\"1\" stroke-width=\"3.2\"/>\n",
       "<circle clip-path=\"url(#clip1002)\" cx=\"1266.17\" cy=\"761.874\" r=\"14\" fill=\"#009af9\" fill-rule=\"evenodd\" fill-opacity=\"1\" stroke=\"#000000\" stroke-opacity=\"1\" stroke-width=\"3.2\"/>\n",
       "<circle clip-path=\"url(#clip1002)\" cx=\"1250.85\" cy=\"761.502\" r=\"14\" fill=\"#009af9\" fill-rule=\"evenodd\" fill-opacity=\"1\" stroke=\"#000000\" stroke-opacity=\"1\" stroke-width=\"3.2\"/>\n",
       "<circle clip-path=\"url(#clip1002)\" cx=\"1241.33\" cy=\"775.279\" r=\"14\" fill=\"#009af9\" fill-rule=\"evenodd\" fill-opacity=\"1\" stroke=\"#000000\" stroke-opacity=\"1\" stroke-width=\"3.2\"/>\n",
       "<circle clip-path=\"url(#clip1002)\" cx=\"1222.58\" cy=\"769.557\" r=\"14\" fill=\"#009af9\" fill-rule=\"evenodd\" fill-opacity=\"1\" stroke=\"#000000\" stroke-opacity=\"1\" stroke-width=\"3.2\"/>\n",
       "<circle clip-path=\"url(#clip1002)\" cx=\"1264.75\" cy=\"789.742\" r=\"14\" fill=\"#009af9\" fill-rule=\"evenodd\" fill-opacity=\"1\" stroke=\"#000000\" stroke-opacity=\"1\" stroke-width=\"3.2\"/>\n",
       "<circle clip-path=\"url(#clip1002)\" cx=\"1248.59\" cy=\"783.071\" r=\"14\" fill=\"#009af9\" fill-rule=\"evenodd\" fill-opacity=\"1\" stroke=\"#000000\" stroke-opacity=\"1\" stroke-width=\"3.2\"/>\n",
       "<circle clip-path=\"url(#clip1002)\" cx=\"1201.72\" cy=\"770.104\" r=\"14\" fill=\"#009af9\" fill-rule=\"evenodd\" fill-opacity=\"1\" stroke=\"#000000\" stroke-opacity=\"1\" stroke-width=\"3.2\"/>\n",
       "<circle clip-path=\"url(#clip1002)\" cx=\"1228.9\" cy=\"790.255\" r=\"14\" fill=\"#009af9\" fill-rule=\"evenodd\" fill-opacity=\"1\" stroke=\"#000000\" stroke-opacity=\"1\" stroke-width=\"3.2\"/>\n",
       "<circle clip-path=\"url(#clip1002)\" cx=\"1209.94\" cy=\"782.572\" r=\"14\" fill=\"#009af9\" fill-rule=\"evenodd\" fill-opacity=\"1\" stroke=\"#000000\" stroke-opacity=\"1\" stroke-width=\"3.2\"/>\n",
       "<circle clip-path=\"url(#clip1002)\" cx=\"1208.94\" cy=\"781.679\" r=\"14\" fill=\"#009af9\" fill-rule=\"evenodd\" fill-opacity=\"1\" stroke=\"#000000\" stroke-opacity=\"1\" stroke-width=\"3.2\"/>\n",
       "<circle clip-path=\"url(#clip1002)\" cx=\"1194.41\" cy=\"773.601\" r=\"14\" fill=\"#009af9\" fill-rule=\"evenodd\" fill-opacity=\"1\" stroke=\"#000000\" stroke-opacity=\"1\" stroke-width=\"3.2\"/>\n",
       "<circle clip-path=\"url(#clip1002)\" cx=\"1202.53\" cy=\"809.595\" r=\"14\" fill=\"#009af9\" fill-rule=\"evenodd\" fill-opacity=\"1\" stroke=\"#000000\" stroke-opacity=\"1\" stroke-width=\"3.2\"/>\n",
       "<circle clip-path=\"url(#clip1002)\" cx=\"1164.54\" cy=\"805.384\" r=\"14\" fill=\"#009af9\" fill-rule=\"evenodd\" fill-opacity=\"1\" stroke=\"#000000\" stroke-opacity=\"1\" stroke-width=\"3.2\"/>\n",
       "<circle clip-path=\"url(#clip1002)\" cx=\"1234.98\" cy=\"809.84\" r=\"14\" fill=\"#009af9\" fill-rule=\"evenodd\" fill-opacity=\"1\" stroke=\"#000000\" stroke-opacity=\"1\" stroke-width=\"3.2\"/>\n",
       "<circle clip-path=\"url(#clip1002)\" cx=\"1289.2\" cy=\"740.828\" r=\"14\" fill=\"#009af9\" fill-rule=\"evenodd\" fill-opacity=\"1\" stroke=\"#000000\" stroke-opacity=\"1\" stroke-width=\"3.2\"/>\n",
       "<circle clip-path=\"url(#clip1002)\" cx=\"1228.82\" cy=\"744.303\" r=\"14\" fill=\"#009af9\" fill-rule=\"evenodd\" fill-opacity=\"1\" stroke=\"#000000\" stroke-opacity=\"1\" stroke-width=\"3.2\"/>\n",
       "<circle clip-path=\"url(#clip1002)\" cx=\"1284.87\" cy=\"765.535\" r=\"14\" fill=\"#009af9\" fill-rule=\"evenodd\" fill-opacity=\"1\" stroke=\"#000000\" stroke-opacity=\"1\" stroke-width=\"3.2\"/>\n",
       "<circle clip-path=\"url(#clip1002)\" cx=\"1209.94\" cy=\"782.572\" r=\"14\" fill=\"#009af9\" fill-rule=\"evenodd\" fill-opacity=\"1\" stroke=\"#000000\" stroke-opacity=\"1\" stroke-width=\"3.2\"/>\n",
       "<circle clip-path=\"url(#clip1002)\" cx=\"1254.67\" cy=\"783.901\" r=\"14\" fill=\"#009af9\" fill-rule=\"evenodd\" fill-opacity=\"1\" stroke=\"#000000\" stroke-opacity=\"1\" stroke-width=\"3.2\"/>\n",
       "<circle clip-path=\"url(#clip1002)\" cx=\"1195.98\" cy=\"790.18\" r=\"14\" fill=\"#009af9\" fill-rule=\"evenodd\" fill-opacity=\"1\" stroke=\"#000000\" stroke-opacity=\"1\" stroke-width=\"3.2\"/>\n",
       "<circle clip-path=\"url(#clip1002)\" cx=\"1261.79\" cy=\"746.661\" r=\"14\" fill=\"#009af9\" fill-rule=\"evenodd\" fill-opacity=\"1\" stroke=\"#000000\" stroke-opacity=\"1\" stroke-width=\"3.2\"/>\n",
       "<circle clip-path=\"url(#clip1002)\" cx=\"1253.09\" cy=\"753.863\" r=\"14\" fill=\"#009af9\" fill-rule=\"evenodd\" fill-opacity=\"1\" stroke=\"#000000\" stroke-opacity=\"1\" stroke-width=\"3.2\"/>\n",
       "<circle clip-path=\"url(#clip1002)\" cx=\"1182.54\" cy=\"825.472\" r=\"14\" fill=\"#009af9\" fill-rule=\"evenodd\" fill-opacity=\"1\" stroke=\"#000000\" stroke-opacity=\"1\" stroke-width=\"3.2\"/>\n",
       "<circle clip-path=\"url(#clip1002)\" cx=\"1304.67\" cy=\"706.231\" r=\"14\" fill=\"#009af9\" fill-rule=\"evenodd\" fill-opacity=\"1\" stroke=\"#000000\" stroke-opacity=\"1\" stroke-width=\"3.2\"/>\n",
       "<circle clip-path=\"url(#clip1002)\" cx=\"1264.75\" cy=\"740.093\" r=\"14\" fill=\"#009af9\" fill-rule=\"evenodd\" fill-opacity=\"1\" stroke=\"#000000\" stroke-opacity=\"1\" stroke-width=\"3.2\"/>\n",
       "<circle clip-path=\"url(#clip1002)\" cx=\"1245.81\" cy=\"764.685\" r=\"14\" fill=\"#009af9\" fill-rule=\"evenodd\" fill-opacity=\"1\" stroke=\"#000000\" stroke-opacity=\"1\" stroke-width=\"3.2\"/>\n",
       "<circle clip-path=\"url(#clip1002)\" cx=\"1180.31\" cy=\"805.684\" r=\"14\" fill=\"#009af9\" fill-rule=\"evenodd\" fill-opacity=\"1\" stroke=\"#000000\" stroke-opacity=\"1\" stroke-width=\"3.2\"/>\n",
       "<circle clip-path=\"url(#clip1002)\" cx=\"1174.28\" cy=\"799.434\" r=\"14\" fill=\"#009af9\" fill-rule=\"evenodd\" fill-opacity=\"1\" stroke=\"#000000\" stroke-opacity=\"1\" stroke-width=\"3.2\"/>\n",
       "<circle clip-path=\"url(#clip1002)\" cx=\"1319.64\" cy=\"726.067\" r=\"14\" fill=\"#009af9\" fill-rule=\"evenodd\" fill-opacity=\"1\" stroke=\"#000000\" stroke-opacity=\"1\" stroke-width=\"3.2\"/>\n",
       "<circle clip-path=\"url(#clip1002)\" cx=\"1205.69\" cy=\"728.737\" r=\"14\" fill=\"#009af9\" fill-rule=\"evenodd\" fill-opacity=\"1\" stroke=\"#000000\" stroke-opacity=\"1\" stroke-width=\"3.2\"/>\n",
       "<circle clip-path=\"url(#clip1002)\" cx=\"1265.2\" cy=\"737.984\" r=\"14\" fill=\"#009af9\" fill-rule=\"evenodd\" fill-opacity=\"1\" stroke=\"#000000\" stroke-opacity=\"1\" stroke-width=\"3.2\"/>\n",
       "<circle clip-path=\"url(#clip1002)\" cx=\"1268.47\" cy=\"771.649\" r=\"14\" fill=\"#009af9\" fill-rule=\"evenodd\" fill-opacity=\"1\" stroke=\"#000000\" stroke-opacity=\"1\" stroke-width=\"3.2\"/>\n",
       "<circle clip-path=\"url(#clip1002)\" cx=\"1249.72\" cy=\"752.61\" r=\"14\" fill=\"#009af9\" fill-rule=\"evenodd\" fill-opacity=\"1\" stroke=\"#000000\" stroke-opacity=\"1\" stroke-width=\"3.2\"/>\n",
       "<circle clip-path=\"url(#clip1002)\" cx=\"1264.9\" cy=\"770.494\" r=\"14\" fill=\"#009af9\" fill-rule=\"evenodd\" fill-opacity=\"1\" stroke=\"#000000\" stroke-opacity=\"1\" stroke-width=\"3.2\"/>\n",
       "<circle clip-path=\"url(#clip1002)\" cx=\"1245.92\" cy=\"757.791\" r=\"14\" fill=\"#009af9\" fill-rule=\"evenodd\" fill-opacity=\"1\" stroke=\"#000000\" stroke-opacity=\"1\" stroke-width=\"3.2\"/>\n",
       "<circle clip-path=\"url(#clip1002)\" cx=\"1204.06\" cy=\"800.171\" r=\"14\" fill=\"#009af9\" fill-rule=\"evenodd\" fill-opacity=\"1\" stroke=\"#000000\" stroke-opacity=\"1\" stroke-width=\"3.2\"/>\n",
       "<circle clip-path=\"url(#clip1002)\" cx=\"1276.87\" cy=\"753.768\" r=\"14\" fill=\"#009af9\" fill-rule=\"evenodd\" fill-opacity=\"1\" stroke=\"#000000\" stroke-opacity=\"1\" stroke-width=\"3.2\"/>\n",
       "<circle clip-path=\"url(#clip1002)\" cx=\"1340.19\" cy=\"696.57\" r=\"14\" fill=\"#009af9\" fill-rule=\"evenodd\" fill-opacity=\"1\" stroke=\"#000000\" stroke-opacity=\"1\" stroke-width=\"3.2\"/>\n",
       "<circle clip-path=\"url(#clip1002)\" cx=\"1248.9\" cy=\"768.037\" r=\"14\" fill=\"#009af9\" fill-rule=\"evenodd\" fill-opacity=\"1\" stroke=\"#000000\" stroke-opacity=\"1\" stroke-width=\"3.2\"/>\n",
       "<circle clip-path=\"url(#clip1002)\" cx=\"1189.82\" cy=\"788.401\" r=\"14\" fill=\"#009af9\" fill-rule=\"evenodd\" fill-opacity=\"1\" stroke=\"#000000\" stroke-opacity=\"1\" stroke-width=\"3.2\"/>\n",
       "<circle clip-path=\"url(#clip1002)\" cx=\"1259.44\" cy=\"769.435\" r=\"14\" fill=\"#009af9\" fill-rule=\"evenodd\" fill-opacity=\"1\" stroke=\"#000000\" stroke-opacity=\"1\" stroke-width=\"3.2\"/>\n",
       "<circle clip-path=\"url(#clip1002)\" cx=\"1244.56\" cy=\"730.869\" r=\"14\" fill=\"#009af9\" fill-rule=\"evenodd\" fill-opacity=\"1\" stroke=\"#000000\" stroke-opacity=\"1\" stroke-width=\"3.2\"/>\n",
       "<circle clip-path=\"url(#clip1002)\" cx=\"1298.45\" cy=\"762.159\" r=\"14\" fill=\"#009af9\" fill-rule=\"evenodd\" fill-opacity=\"1\" stroke=\"#000000\" stroke-opacity=\"1\" stroke-width=\"3.2\"/>\n",
       "<circle clip-path=\"url(#clip1002)\" cx=\"1284.24\" cy=\"750.779\" r=\"14\" fill=\"#009af9\" fill-rule=\"evenodd\" fill-opacity=\"1\" stroke=\"#000000\" stroke-opacity=\"1\" stroke-width=\"3.2\"/>\n",
       "<circle clip-path=\"url(#clip1002)\" cx=\"1280.1\" cy=\"756.033\" r=\"14\" fill=\"#009af9\" fill-rule=\"evenodd\" fill-opacity=\"1\" stroke=\"#000000\" stroke-opacity=\"1\" stroke-width=\"3.2\"/>\n",
       "<circle clip-path=\"url(#clip1002)\" cx=\"1277.67\" cy=\"794.086\" r=\"14\" fill=\"#009af9\" fill-rule=\"evenodd\" fill-opacity=\"1\" stroke=\"#000000\" stroke-opacity=\"1\" stroke-width=\"3.2\"/>\n",
       "<circle clip-path=\"url(#clip1002)\" cx=\"1240.46\" cy=\"780.343\" r=\"14\" fill=\"#009af9\" fill-rule=\"evenodd\" fill-opacity=\"1\" stroke=\"#000000\" stroke-opacity=\"1\" stroke-width=\"3.2\"/>\n",
       "<circle clip-path=\"url(#clip1002)\" cx=\"1220.65\" cy=\"780.496\" r=\"14\" fill=\"#009af9\" fill-rule=\"evenodd\" fill-opacity=\"1\" stroke=\"#000000\" stroke-opacity=\"1\" stroke-width=\"3.2\"/>\n",
       "<circle clip-path=\"url(#clip1002)\" cx=\"1220.26\" cy=\"784.12\" r=\"14\" fill=\"#009af9\" fill-rule=\"evenodd\" fill-opacity=\"1\" stroke=\"#000000\" stroke-opacity=\"1\" stroke-width=\"3.2\"/>\n",
       "<circle clip-path=\"url(#clip1002)\" cx=\"1195.98\" cy=\"790.18\" r=\"14\" fill=\"#009af9\" fill-rule=\"evenodd\" fill-opacity=\"1\" stroke=\"#000000\" stroke-opacity=\"1\" stroke-width=\"3.2\"/>\n",
       "<circle clip-path=\"url(#clip1002)\" cx=\"1180.35\" cy=\"820.428\" r=\"14\" fill=\"#009af9\" fill-rule=\"evenodd\" fill-opacity=\"1\" stroke=\"#000000\" stroke-opacity=\"1\" stroke-width=\"3.2\"/>\n",
       "<circle clip-path=\"url(#clip1002)\" cx=\"1194.98\" cy=\"821.742\" r=\"14\" fill=\"#009af9\" fill-rule=\"evenodd\" fill-opacity=\"1\" stroke=\"#000000\" stroke-opacity=\"1\" stroke-width=\"3.2\"/>\n",
       "<circle clip-path=\"url(#clip1002)\" cx=\"1340.19\" cy=\"696.57\" r=\"14\" fill=\"#009af9\" fill-rule=\"evenodd\" fill-opacity=\"1\" stroke=\"#000000\" stroke-opacity=\"1\" stroke-width=\"3.2\"/>\n",
       "<circle clip-path=\"url(#clip1002)\" cx=\"1304.47\" cy=\"722.9\" r=\"14\" fill=\"#009af9\" fill-rule=\"evenodd\" fill-opacity=\"1\" stroke=\"#000000\" stroke-opacity=\"1\" stroke-width=\"3.2\"/>\n",
       "<circle clip-path=\"url(#clip1002)\" cx=\"1290.89\" cy=\"741.267\" r=\"14\" fill=\"#009af9\" fill-rule=\"evenodd\" fill-opacity=\"1\" stroke=\"#000000\" stroke-opacity=\"1\" stroke-width=\"3.2\"/>\n",
       "<circle clip-path=\"url(#clip1002)\" cx=\"1281.6\" cy=\"732.063\" r=\"14\" fill=\"#009af9\" fill-rule=\"evenodd\" fill-opacity=\"1\" stroke=\"#000000\" stroke-opacity=\"1\" stroke-width=\"3.2\"/>\n",
       "<circle clip-path=\"url(#clip1002)\" cx=\"1303.35\" cy=\"753.41\" r=\"14\" fill=\"#009af9\" fill-rule=\"evenodd\" fill-opacity=\"1\" stroke=\"#000000\" stroke-opacity=\"1\" stroke-width=\"3.2\"/>\n",
       "<circle clip-path=\"url(#clip1002)\" cx=\"1244.56\" cy=\"730.869\" r=\"14\" fill=\"#009af9\" fill-rule=\"evenodd\" fill-opacity=\"1\" stroke=\"#000000\" stroke-opacity=\"1\" stroke-width=\"3.2\"/>\n",
       "<circle clip-path=\"url(#clip1002)\" cx=\"1290.89\" cy=\"741.267\" r=\"14\" fill=\"#009af9\" fill-rule=\"evenodd\" fill-opacity=\"1\" stroke=\"#000000\" stroke-opacity=\"1\" stroke-width=\"3.2\"/>\n",
       "<circle clip-path=\"url(#clip1002)\" cx=\"1269.73\" cy=\"765.915\" r=\"14\" fill=\"#009af9\" fill-rule=\"evenodd\" fill-opacity=\"1\" stroke=\"#000000\" stroke-opacity=\"1\" stroke-width=\"3.2\"/>\n",
       "<circle clip-path=\"url(#clip1002)\" cx=\"1283.12\" cy=\"768.771\" r=\"14\" fill=\"#009af9\" fill-rule=\"evenodd\" fill-opacity=\"1\" stroke=\"#000000\" stroke-opacity=\"1\" stroke-width=\"3.2\"/>\n",
       "<circle clip-path=\"url(#clip1002)\" cx=\"1247.73\" cy=\"740.288\" r=\"14\" fill=\"#009af9\" fill-rule=\"evenodd\" fill-opacity=\"1\" stroke=\"#000000\" stroke-opacity=\"1\" stroke-width=\"3.2\"/>\n",
       "<circle clip-path=\"url(#clip1002)\" cx=\"1253.09\" cy=\"753.863\" r=\"14\" fill=\"#009af9\" fill-rule=\"evenodd\" fill-opacity=\"1\" stroke=\"#000000\" stroke-opacity=\"1\" stroke-width=\"3.2\"/>\n",
       "<circle clip-path=\"url(#clip1002)\" cx=\"1273.05\" cy=\"770.179\" r=\"14\" fill=\"#009af9\" fill-rule=\"evenodd\" fill-opacity=\"1\" stroke=\"#000000\" stroke-opacity=\"1\" stroke-width=\"3.2\"/>\n",
       "<circle clip-path=\"url(#clip1002)\" cx=\"1248.9\" cy=\"768.037\" r=\"14\" fill=\"#009af9\" fill-rule=\"evenodd\" fill-opacity=\"1\" stroke=\"#000000\" stroke-opacity=\"1\" stroke-width=\"3.2\"/>\n",
       "<circle clip-path=\"url(#clip1002)\" cx=\"1273.05\" cy=\"770.179\" r=\"14\" fill=\"#009af9\" fill-rule=\"evenodd\" fill-opacity=\"1\" stroke=\"#000000\" stroke-opacity=\"1\" stroke-width=\"3.2\"/>\n",
       "<circle clip-path=\"url(#clip1002)\" cx=\"1245.92\" cy=\"757.791\" r=\"14\" fill=\"#009af9\" fill-rule=\"evenodd\" fill-opacity=\"1\" stroke=\"#000000\" stroke-opacity=\"1\" stroke-width=\"3.2\"/>\n",
       "<circle clip-path=\"url(#clip1002)\" cx=\"1272.9\" cy=\"772.714\" r=\"14\" fill=\"#009af9\" fill-rule=\"evenodd\" fill-opacity=\"1\" stroke=\"#000000\" stroke-opacity=\"1\" stroke-width=\"3.2\"/>\n",
       "<circle clip-path=\"url(#clip1002)\" cx=\"1267.52\" cy=\"777.461\" r=\"14\" fill=\"#009af9\" fill-rule=\"evenodd\" fill-opacity=\"1\" stroke=\"#000000\" stroke-opacity=\"1\" stroke-width=\"3.2\"/>\n",
       "<circle clip-path=\"url(#clip1002)\" cx=\"1257.69\" cy=\"774.064\" r=\"14\" fill=\"#009af9\" fill-rule=\"evenodd\" fill-opacity=\"1\" stroke=\"#000000\" stroke-opacity=\"1\" stroke-width=\"3.2\"/>\n",
       "<circle clip-path=\"url(#clip1002)\" cx=\"1219.61\" cy=\"779.285\" r=\"14\" fill=\"#009af9\" fill-rule=\"evenodd\" fill-opacity=\"1\" stroke=\"#000000\" stroke-opacity=\"1\" stroke-width=\"3.2\"/>\n",
       "<circle clip-path=\"url(#clip1002)\" cx=\"1245.46\" cy=\"792.854\" r=\"14\" fill=\"#009af9\" fill-rule=\"evenodd\" fill-opacity=\"1\" stroke=\"#000000\" stroke-opacity=\"1\" stroke-width=\"3.2\"/>\n",
       "<circle clip-path=\"url(#clip1002)\" cx=\"1191.7\" cy=\"776.563\" r=\"14\" fill=\"#009af9\" fill-rule=\"evenodd\" fill-opacity=\"1\" stroke=\"#000000\" stroke-opacity=\"1\" stroke-width=\"3.2\"/>\n",
       "<circle clip-path=\"url(#clip1002)\" cx=\"1244.23\" cy=\"795.007\" r=\"14\" fill=\"#009af9\" fill-rule=\"evenodd\" fill-opacity=\"1\" stroke=\"#000000\" stroke-opacity=\"1\" stroke-width=\"3.2\"/>\n",
       "<circle clip-path=\"url(#clip1002)\" cx=\"1208.94\" cy=\"781.679\" r=\"14\" fill=\"#009af9\" fill-rule=\"evenodd\" fill-opacity=\"1\" stroke=\"#000000\" stroke-opacity=\"1\" stroke-width=\"3.2\"/>\n",
       "<circle clip-path=\"url(#clip1002)\" cx=\"1237.61\" cy=\"808.428\" r=\"14\" fill=\"#009af9\" fill-rule=\"evenodd\" fill-opacity=\"1\" stroke=\"#000000\" stroke-opacity=\"1\" stroke-width=\"3.2\"/>\n",
       "<circle clip-path=\"url(#clip1002)\" cx=\"1197.88\" cy=\"805.233\" r=\"14\" fill=\"#009af9\" fill-rule=\"evenodd\" fill-opacity=\"1\" stroke=\"#000000\" stroke-opacity=\"1\" stroke-width=\"3.2\"/>\n",
       "<circle clip-path=\"url(#clip1002)\" cx=\"1139.69\" cy=\"816.236\" r=\"14\" fill=\"#009af9\" fill-rule=\"evenodd\" fill-opacity=\"1\" stroke=\"#000000\" stroke-opacity=\"1\" stroke-width=\"3.2\"/>\n",
       "<circle clip-path=\"url(#clip1002)\" cx=\"1303.35\" cy=\"753.41\" r=\"14\" fill=\"#009af9\" fill-rule=\"evenodd\" fill-opacity=\"1\" stroke=\"#000000\" stroke-opacity=\"1\" stroke-width=\"3.2\"/>\n",
       "<circle clip-path=\"url(#clip1002)\" cx=\"1302.85\" cy=\"731.192\" r=\"14\" fill=\"#009af9\" fill-rule=\"evenodd\" fill-opacity=\"1\" stroke=\"#000000\" stroke-opacity=\"1\" stroke-width=\"3.2\"/>\n",
       "<circle clip-path=\"url(#clip1002)\" cx=\"1251.27\" cy=\"767.618\" r=\"14\" fill=\"#009af9\" fill-rule=\"evenodd\" fill-opacity=\"1\" stroke=\"#000000\" stroke-opacity=\"1\" stroke-width=\"3.2\"/>\n",
       "<circle clip-path=\"url(#clip1002)\" cx=\"1241.33\" cy=\"775.279\" r=\"14\" fill=\"#009af9\" fill-rule=\"evenodd\" fill-opacity=\"1\" stroke=\"#000000\" stroke-opacity=\"1\" stroke-width=\"3.2\"/>\n",
       "<circle clip-path=\"url(#clip1002)\" cx=\"1218.56\" cy=\"781.696\" r=\"14\" fill=\"#009af9\" fill-rule=\"evenodd\" fill-opacity=\"1\" stroke=\"#000000\" stroke-opacity=\"1\" stroke-width=\"3.2\"/>\n",
       "<circle clip-path=\"url(#clip1002)\" cx=\"1218.56\" cy=\"781.696\" r=\"14\" fill=\"#009af9\" fill-rule=\"evenodd\" fill-opacity=\"1\" stroke=\"#000000\" stroke-opacity=\"1\" stroke-width=\"3.2\"/>\n",
       "<circle clip-path=\"url(#clip1002)\" cx=\"1220.26\" cy=\"784.12\" r=\"14\" fill=\"#009af9\" fill-rule=\"evenodd\" fill-opacity=\"1\" stroke=\"#000000\" stroke-opacity=\"1\" stroke-width=\"3.2\"/>\n",
       "<circle clip-path=\"url(#clip1002)\" cx=\"1302.85\" cy=\"731.192\" r=\"14\" fill=\"#009af9\" fill-rule=\"evenodd\" fill-opacity=\"1\" stroke=\"#000000\" stroke-opacity=\"1\" stroke-width=\"3.2\"/>\n",
       "<circle clip-path=\"url(#clip1002)\" cx=\"1284.58\" cy=\"734.126\" r=\"14\" fill=\"#009af9\" fill-rule=\"evenodd\" fill-opacity=\"1\" stroke=\"#000000\" stroke-opacity=\"1\" stroke-width=\"3.2\"/>\n",
       "<circle clip-path=\"url(#clip1002)\" cx=\"1291.85\" cy=\"758.413\" r=\"14\" fill=\"#009af9\" fill-rule=\"evenodd\" fill-opacity=\"1\" stroke=\"#000000\" stroke-opacity=\"1\" stroke-width=\"3.2\"/>\n",
       "<circle clip-path=\"url(#clip1002)\" cx=\"1287.42\" cy=\"754.371\" r=\"14\" fill=\"#009af9\" fill-rule=\"evenodd\" fill-opacity=\"1\" stroke=\"#000000\" stroke-opacity=\"1\" stroke-width=\"3.2\"/>\n",
       "<circle clip-path=\"url(#clip1002)\" cx=\"1284.87\" cy=\"765.535\" r=\"14\" fill=\"#009af9\" fill-rule=\"evenodd\" fill-opacity=\"1\" stroke=\"#000000\" stroke-opacity=\"1\" stroke-width=\"3.2\"/>\n",
       "<circle clip-path=\"url(#clip1002)\" cx=\"1259.9\" cy=\"744.097\" r=\"14\" fill=\"#009af9\" fill-rule=\"evenodd\" fill-opacity=\"1\" stroke=\"#000000\" stroke-opacity=\"1\" stroke-width=\"3.2\"/>\n",
       "<circle clip-path=\"url(#clip1002)\" cx=\"1257.75\" cy=\"744.73\" r=\"14\" fill=\"#009af9\" fill-rule=\"evenodd\" fill-opacity=\"1\" stroke=\"#000000\" stroke-opacity=\"1\" stroke-width=\"3.2\"/>\n",
       "<circle clip-path=\"url(#clip1002)\" cx=\"1283.12\" cy=\"768.771\" r=\"14\" fill=\"#009af9\" fill-rule=\"evenodd\" fill-opacity=\"1\" stroke=\"#000000\" stroke-opacity=\"1\" stroke-width=\"3.2\"/>\n",
       "<circle clip-path=\"url(#clip1002)\" cx=\"1249.72\" cy=\"752.61\" r=\"14\" fill=\"#009af9\" fill-rule=\"evenodd\" fill-opacity=\"1\" stroke=\"#000000\" stroke-opacity=\"1\" stroke-width=\"3.2\"/>\n",
       "<circle clip-path=\"url(#clip1002)\" cx=\"1264.75\" cy=\"789.742\" r=\"14\" fill=\"#009af9\" fill-rule=\"evenodd\" fill-opacity=\"1\" stroke=\"#000000\" stroke-opacity=\"1\" stroke-width=\"3.2\"/>\n",
       "<circle clip-path=\"url(#clip1002)\" cx=\"1259.44\" cy=\"769.435\" r=\"14\" fill=\"#009af9\" fill-rule=\"evenodd\" fill-opacity=\"1\" stroke=\"#000000\" stroke-opacity=\"1\" stroke-width=\"3.2\"/>\n",
       "<circle clip-path=\"url(#clip1002)\" cx=\"1220.4\" cy=\"758.415\" r=\"14\" fill=\"#009af9\" fill-rule=\"evenodd\" fill-opacity=\"1\" stroke=\"#000000\" stroke-opacity=\"1\" stroke-width=\"3.2\"/>\n",
       "<circle clip-path=\"url(#clip1002)\" cx=\"1258.3\" cy=\"779.109\" r=\"14\" fill=\"#009af9\" fill-rule=\"evenodd\" fill-opacity=\"1\" stroke=\"#000000\" stroke-opacity=\"1\" stroke-width=\"3.2\"/>\n",
       "<circle clip-path=\"url(#clip1002)\" cx=\"1248.18\" cy=\"771.817\" r=\"14\" fill=\"#009af9\" fill-rule=\"evenodd\" fill-opacity=\"1\" stroke=\"#000000\" stroke-opacity=\"1\" stroke-width=\"3.2\"/>\n",
       "<circle clip-path=\"url(#clip1002)\" cx=\"1236.23\" cy=\"779.757\" r=\"14\" fill=\"#009af9\" fill-rule=\"evenodd\" fill-opacity=\"1\" stroke=\"#000000\" stroke-opacity=\"1\" stroke-width=\"3.2\"/>\n",
       "<circle clip-path=\"url(#clip1002)\" cx=\"1229\" cy=\"776.874\" r=\"14\" fill=\"#009af9\" fill-rule=\"evenodd\" fill-opacity=\"1\" stroke=\"#000000\" stroke-opacity=\"1\" stroke-width=\"3.2\"/>\n",
       "<circle clip-path=\"url(#clip1002)\" cx=\"1214.44\" cy=\"786.398\" r=\"14\" fill=\"#009af9\" fill-rule=\"evenodd\" fill-opacity=\"1\" stroke=\"#000000\" stroke-opacity=\"1\" stroke-width=\"3.2\"/>\n",
       "<circle clip-path=\"url(#clip1002)\" cx=\"1197.88\" cy=\"805.233\" r=\"14\" fill=\"#009af9\" fill-rule=\"evenodd\" fill-opacity=\"1\" stroke=\"#000000\" stroke-opacity=\"1\" stroke-width=\"3.2\"/>\n",
       "<circle clip-path=\"url(#clip1002)\" cx=\"1174.28\" cy=\"799.434\" r=\"14\" fill=\"#009af9\" fill-rule=\"evenodd\" fill-opacity=\"1\" stroke=\"#000000\" stroke-opacity=\"1\" stroke-width=\"3.2\"/>\n",
       "<circle clip-path=\"url(#clip1002)\" cx=\"1161.4\" cy=\"803.96\" r=\"14\" fill=\"#009af9\" fill-rule=\"evenodd\" fill-opacity=\"1\" stroke=\"#000000\" stroke-opacity=\"1\" stroke-width=\"3.2\"/>\n",
       "<circle clip-path=\"url(#clip1002)\" cx=\"1233.41\" cy=\"760.114\" r=\"14\" fill=\"#009af9\" fill-rule=\"evenodd\" fill-opacity=\"1\" stroke=\"#000000\" stroke-opacity=\"1\" stroke-width=\"3.2\"/>\n",
       "<circle clip-path=\"url(#clip1002)\" cx=\"1240.46\" cy=\"780.343\" r=\"14\" fill=\"#009af9\" fill-rule=\"evenodd\" fill-opacity=\"1\" stroke=\"#000000\" stroke-opacity=\"1\" stroke-width=\"3.2\"/>\n",
       "<circle clip-path=\"url(#clip1002)\" cx=\"1209.87\" cy=\"784.68\" r=\"14\" fill=\"#009af9\" fill-rule=\"evenodd\" fill-opacity=\"1\" stroke=\"#000000\" stroke-opacity=\"1\" stroke-width=\"3.2\"/>\n",
       "<circle clip-path=\"url(#clip1002)\" cx=\"1219.56\" cy=\"796.599\" r=\"14\" fill=\"#009af9\" fill-rule=\"evenodd\" fill-opacity=\"1\" stroke=\"#000000\" stroke-opacity=\"1\" stroke-width=\"3.2\"/>\n",
       "<circle clip-path=\"url(#clip1002)\" cx=\"1352.42\" cy=\"708.653\" r=\"14\" fill=\"#009af9\" fill-rule=\"evenodd\" fill-opacity=\"1\" stroke=\"#000000\" stroke-opacity=\"1\" stroke-width=\"3.2\"/>\n",
       "<circle clip-path=\"url(#clip1002)\" cx=\"1224.59\" cy=\"771.284\" r=\"14\" fill=\"#009af9\" fill-rule=\"evenodd\" fill-opacity=\"1\" stroke=\"#000000\" stroke-opacity=\"1\" stroke-width=\"3.2\"/>\n",
       "<circle clip-path=\"url(#clip1002)\" cx=\"1281.6\" cy=\"732.063\" r=\"14\" fill=\"#009af9\" fill-rule=\"evenodd\" fill-opacity=\"1\" stroke=\"#000000\" stroke-opacity=\"1\" stroke-width=\"3.2\"/>\n",
       "<circle clip-path=\"url(#clip1002)\" cx=\"1299.91\" cy=\"738.193\" r=\"14\" fill=\"#009af9\" fill-rule=\"evenodd\" fill-opacity=\"1\" stroke=\"#000000\" stroke-opacity=\"1\" stroke-width=\"3.2\"/>\n",
       "<circle clip-path=\"url(#clip1002)\" cx=\"1298.45\" cy=\"762.159\" r=\"14\" fill=\"#009af9\" fill-rule=\"evenodd\" fill-opacity=\"1\" stroke=\"#000000\" stroke-opacity=\"1\" stroke-width=\"3.2\"/>\n",
       "<circle clip-path=\"url(#clip1002)\" cx=\"1249.97\" cy=\"733.741\" r=\"14\" fill=\"#009af9\" fill-rule=\"evenodd\" fill-opacity=\"1\" stroke=\"#000000\" stroke-opacity=\"1\" stroke-width=\"3.2\"/>\n",
       "<circle clip-path=\"url(#clip1002)\" cx=\"1258.72\" cy=\"773.15\" r=\"14\" fill=\"#009af9\" fill-rule=\"evenodd\" fill-opacity=\"1\" stroke=\"#000000\" stroke-opacity=\"1\" stroke-width=\"3.2\"/>\n",
       "<circle clip-path=\"url(#clip1002)\" cx=\"1214.44\" cy=\"786.398\" r=\"14\" fill=\"#009af9\" fill-rule=\"evenodd\" fill-opacity=\"1\" stroke=\"#000000\" stroke-opacity=\"1\" stroke-width=\"3.2\"/>\n",
       "<circle clip-path=\"url(#clip1002)\" cx=\"1244.23\" cy=\"795.007\" r=\"14\" fill=\"#009af9\" fill-rule=\"evenodd\" fill-opacity=\"1\" stroke=\"#000000\" stroke-opacity=\"1\" stroke-width=\"3.2\"/>\n",
       "<circle clip-path=\"url(#clip1002)\" cx=\"1222.58\" cy=\"769.557\" r=\"14\" fill=\"#009af9\" fill-rule=\"evenodd\" fill-opacity=\"1\" stroke=\"#000000\" stroke-opacity=\"1\" stroke-width=\"3.2\"/>\n",
       "<circle clip-path=\"url(#clip1002)\" cx=\"1284.24\" cy=\"750.779\" r=\"14\" fill=\"#009af9\" fill-rule=\"evenodd\" fill-opacity=\"1\" stroke=\"#000000\" stroke-opacity=\"1\" stroke-width=\"3.2\"/>\n",
       "<circle clip-path=\"url(#clip1002)\" cx=\"1248.59\" cy=\"783.071\" r=\"14\" fill=\"#009af9\" fill-rule=\"evenodd\" fill-opacity=\"1\" stroke=\"#000000\" stroke-opacity=\"1\" stroke-width=\"3.2\"/>\n",
       "<circle clip-path=\"url(#clip1002)\" cx=\"1272.51\" cy=\"796.677\" r=\"14\" fill=\"#e26f46\" fill-rule=\"evenodd\" fill-opacity=\"1\" stroke=\"#000000\" stroke-opacity=\"1\" stroke-width=\"3.2\"/>\n",
       "</svg>\n"
      ]
     },
     "metadata": {},
     "output_type": "display_data"
    }
   ],
   "source": [
    "function plot_pop(P)\n",
    "    scatter([i.y[1] for i in P], [i.y[2] for i in P], xlims=(0.0, 1.0), ylims=(0.0, 1.0), legend=:none)\n",
    "    ND = filter(indiv -> indiv.rank == 1, P)\n",
    "    scatter!([i.y[1] for i in ND], [i.y[2] for i in ND], legend=:none)\n",
    "end\n",
    "\n",
    "nsga_max(popsize, nbgen, objective, init, fCV=constraint, fplot=plot_pop, plotevery=1, showprogress=false);"
   ]
  },
  {
   "cell_type": "markdown",
   "metadata": {
    "slideshow": {
     "slide_type": "slide"
    }
   },
   "source": [
    "This type of visualization, plotting one objective function as X and another as Y, allows us to see the Pareto front for 2 dimensions easily. However, once we increase the number of objectives, this plot is much less useful as we'll always be constrained to looking at 2 dimensions, or at best 3."
   ]
  },
  {
   "cell_type": "markdown",
   "metadata": {
    "slideshow": {
     "slide_type": "fragment"
    }
   },
   "source": [
    "<div class=\"alert alert-success\">\n",
    "    <b>Exercise 3</b>\n",
    "    <br/>\n",
    "    Change the number of objectives to 3. Then use a <tt>scatter3d</tt> plot instead of a <tt>scatter</tt> plot to plot the evolution over 3 objectives.\n",
    "    <br/>\n",
    "    <ul>\n",
    "        <li>Can you still observe the Pareto front?</li>\n",
    "        <li>Can you identify non-dominated individuals easily</li>\n",
    "        <li>Do you see the performance for each objective</li>\n",
    "    </ul>\n",
    "    <br/>\n",
    "</div>"
   ]
  },
  {
   "cell_type": "markdown",
   "metadata": {
    "slideshow": {
     "slide_type": "slide"
    }
   },
   "source": [
    "Another way to look at the different objectives is to plot the different objectives on the `x` axis and the fitness values on the `y` axis. Each individual in a population is then represented as a line. Let's try this method, increasing the number of objectives to 10."
   ]
  },
  {
   "cell_type": "code",
   "execution_count": 132,
   "metadata": {
    "slideshow": {
     "slide_type": "fragment"
    }
   },
   "outputs": [
    {
     "data": {
      "text/plain": [
       "init (generic function with 1 method)"
      ]
     },
     "execution_count": 132,
     "metadata": {},
     "output_type": "execute_result"
    }
   ],
   "source": [
    "n = 100\n",
    "n_objectives = 10\n",
    "values = rand(n, n_objectives)\n",
    "values = values ./ sum(values, dims=1)\n",
    "weights = rand(n)\n",
    "weights = weights ./ sum(weights)\n",
    "max_weight = 0.5\n",
    "popsize = 100\n",
    "nbgen = 50\n",
    "init() = bitrand(n)"
   ]
  },
  {
   "cell_type": "code",
   "execution_count": 133,
   "metadata": {
    "slideshow": {
     "slide_type": "slide"
    }
   },
   "outputs": [
    {
     "data": {
      "image/svg+xml": [
       "<?xml version=\"1.0\" encoding=\"utf-8\"?>\n",
       "<svg xmlns=\"http://www.w3.org/2000/svg\" xmlns:xlink=\"http://www.w3.org/1999/xlink\" width=\"600\" height=\"400\" viewBox=\"0 0 2400 1600\">\n",
       "<defs>\n",
       "  <clipPath id=\"clip3400\">\n",
       "    <rect x=\"0\" y=\"0\" width=\"2400\" height=\"1600\"/>\n",
       "  </clipPath>\n",
       "</defs>\n",
       "<path clip-path=\"url(#clip3400)\" d=\"\n",
       "M0 1600 L2400 1600 L2400 0 L0 0  Z\n",
       "  \" fill=\"#ffffff\" fill-rule=\"evenodd\" fill-opacity=\"1\"/>\n",
       "<defs>\n",
       "  <clipPath id=\"clip3401\">\n",
       "    <rect x=\"480\" y=\"0\" width=\"1681\" height=\"1600\"/>\n",
       "  </clipPath>\n",
       "</defs>\n",
       "<path clip-path=\"url(#clip3400)\" d=\"\n",
       "M175.024 1486.45 L2352.76 1486.45 L2352.76 47.2441 L175.024 47.2441  Z\n",
       "  \" fill=\"#ffffff\" fill-rule=\"evenodd\" fill-opacity=\"1\"/>\n",
       "<defs>\n",
       "  <clipPath id=\"clip3402\">\n",
       "    <rect x=\"175\" y=\"47\" width=\"2179\" height=\"1440\"/>\n",
       "  </clipPath>\n",
       "</defs>\n",
       "<polyline clip-path=\"url(#clip3402)\" style=\"stroke:#000000; stroke-width:2; stroke-opacity:0.1; fill:none\" points=\"\n",
       "  416.994,1486.45 416.994,47.2441 \n",
       "  \"/>\n",
       "<polyline clip-path=\"url(#clip3402)\" style=\"stroke:#000000; stroke-width:2; stroke-opacity:0.1; fill:none\" points=\"\n",
       "  900.935,1486.45 900.935,47.2441 \n",
       "  \"/>\n",
       "<polyline clip-path=\"url(#clip3402)\" style=\"stroke:#000000; stroke-width:2; stroke-opacity:0.1; fill:none\" points=\"\n",
       "  1384.88,1486.45 1384.88,47.2441 \n",
       "  \"/>\n",
       "<polyline clip-path=\"url(#clip3402)\" style=\"stroke:#000000; stroke-width:2; stroke-opacity:0.1; fill:none\" points=\"\n",
       "  1868.82,1486.45 1868.82,47.2441 \n",
       "  \"/>\n",
       "<polyline clip-path=\"url(#clip3402)\" style=\"stroke:#000000; stroke-width:2; stroke-opacity:0.1; fill:none\" points=\"\n",
       "  2352.76,1486.45 2352.76,47.2441 \n",
       "  \"/>\n",
       "<polyline clip-path=\"url(#clip3402)\" style=\"stroke:#000000; stroke-width:2; stroke-opacity:0.1; fill:none\" points=\"\n",
       "  175.024,1319.54 2352.76,1319.54 \n",
       "  \"/>\n",
       "<polyline clip-path=\"url(#clip3402)\" style=\"stroke:#000000; stroke-width:2; stroke-opacity:0.1; fill:none\" points=\"\n",
       "  175.024,1129.66 2352.76,1129.66 \n",
       "  \"/>\n",
       "<polyline clip-path=\"url(#clip3402)\" style=\"stroke:#000000; stroke-width:2; stroke-opacity:0.1; fill:none\" points=\"\n",
       "  175.024,939.785 2352.76,939.785 \n",
       "  \"/>\n",
       "<polyline clip-path=\"url(#clip3402)\" style=\"stroke:#000000; stroke-width:2; stroke-opacity:0.1; fill:none\" points=\"\n",
       "  175.024,749.91 2352.76,749.91 \n",
       "  \"/>\n",
       "<polyline clip-path=\"url(#clip3402)\" style=\"stroke:#000000; stroke-width:2; stroke-opacity:0.1; fill:none\" points=\"\n",
       "  175.024,560.035 2352.76,560.035 \n",
       "  \"/>\n",
       "<polyline clip-path=\"url(#clip3402)\" style=\"stroke:#000000; stroke-width:2; stroke-opacity:0.1; fill:none\" points=\"\n",
       "  175.024,370.159 2352.76,370.159 \n",
       "  \"/>\n",
       "<polyline clip-path=\"url(#clip3402)\" style=\"stroke:#000000; stroke-width:2; stroke-opacity:0.1; fill:none\" points=\"\n",
       "  175.024,180.284 2352.76,180.284 \n",
       "  \"/>\n",
       "<polyline clip-path=\"url(#clip3400)\" style=\"stroke:#000000; stroke-width:4; stroke-opacity:1; fill:none\" points=\"\n",
       "  175.024,1486.45 2352.76,1486.45 \n",
       "  \"/>\n",
       "<polyline clip-path=\"url(#clip3400)\" style=\"stroke:#000000; stroke-width:4; stroke-opacity:1; fill:none\" points=\"\n",
       "  175.024,1486.45 175.024,47.2441 \n",
       "  \"/>\n",
       "<polyline clip-path=\"url(#clip3400)\" style=\"stroke:#000000; stroke-width:4; stroke-opacity:1; fill:none\" points=\"\n",
       "  416.994,1486.45 416.994,1469.18 \n",
       "  \"/>\n",
       "<polyline clip-path=\"url(#clip3400)\" style=\"stroke:#000000; stroke-width:4; stroke-opacity:1; fill:none\" points=\"\n",
       "  900.935,1486.45 900.935,1469.18 \n",
       "  \"/>\n",
       "<polyline clip-path=\"url(#clip3400)\" style=\"stroke:#000000; stroke-width:4; stroke-opacity:1; fill:none\" points=\"\n",
       "  1384.88,1486.45 1384.88,1469.18 \n",
       "  \"/>\n",
       "<polyline clip-path=\"url(#clip3400)\" style=\"stroke:#000000; stroke-width:4; stroke-opacity:1; fill:none\" points=\"\n",
       "  1868.82,1486.45 1868.82,1469.18 \n",
       "  \"/>\n",
       "<polyline clip-path=\"url(#clip3400)\" style=\"stroke:#000000; stroke-width:4; stroke-opacity:1; fill:none\" points=\"\n",
       "  2352.76,1486.45 2352.76,1469.18 \n",
       "  \"/>\n",
       "<polyline clip-path=\"url(#clip3400)\" style=\"stroke:#000000; stroke-width:4; stroke-opacity:1; fill:none\" points=\"\n",
       "  175.024,1319.54 201.157,1319.54 \n",
       "  \"/>\n",
       "<polyline clip-path=\"url(#clip3400)\" style=\"stroke:#000000; stroke-width:4; stroke-opacity:1; fill:none\" points=\"\n",
       "  175.024,1129.66 201.157,1129.66 \n",
       "  \"/>\n",
       "<polyline clip-path=\"url(#clip3400)\" style=\"stroke:#000000; stroke-width:4; stroke-opacity:1; fill:none\" points=\"\n",
       "  175.024,939.785 201.157,939.785 \n",
       "  \"/>\n",
       "<polyline clip-path=\"url(#clip3400)\" style=\"stroke:#000000; stroke-width:4; stroke-opacity:1; fill:none\" points=\"\n",
       "  175.024,749.91 201.157,749.91 \n",
       "  \"/>\n",
       "<polyline clip-path=\"url(#clip3400)\" style=\"stroke:#000000; stroke-width:4; stroke-opacity:1; fill:none\" points=\"\n",
       "  175.024,560.035 201.157,560.035 \n",
       "  \"/>\n",
       "<polyline clip-path=\"url(#clip3400)\" style=\"stroke:#000000; stroke-width:4; stroke-opacity:1; fill:none\" points=\"\n",
       "  175.024,370.159 201.157,370.159 \n",
       "  \"/>\n",
       "<polyline clip-path=\"url(#clip3400)\" style=\"stroke:#000000; stroke-width:4; stroke-opacity:1; fill:none\" points=\"\n",
       "  175.024,180.284 201.157,180.284 \n",
       "  \"/>\n",
       "<path clip-path=\"url(#clip3400)\" d=\"M 0 0 M411.647 1535.98 L427.966 1535.98 L427.966 1539.92 L406.022 1539.92 L406.022 1535.98 Q408.684 1533.23 413.267 1528.6 Q417.874 1523.95 419.054 1522.61 Q421.3 1520.08 422.179 1518.35 Q423.082 1516.59 423.082 1514.9 Q423.082 1512.14 421.138 1510.41 Q419.216 1508.67 416.115 1508.67 Q413.916 1508.67 411.462 1509.43 Q409.031 1510.2 406.254 1511.75 L406.254 1507.03 Q409.078 1505.89 411.531 1505.31 Q413.985 1504.73 416.022 1504.73 Q421.392 1504.73 424.587 1507.42 Q427.781 1510.11 427.781 1514.6 Q427.781 1516.73 426.971 1518.65 Q426.184 1520.54 424.078 1523.14 Q423.499 1523.81 420.397 1527.03 Q417.295 1530.22 411.647 1535.98 Z\" fill=\"#000000\" fill-rule=\"evenodd\" fill-opacity=\"1\" /><path clip-path=\"url(#clip3400)\" d=\"M 0 0 M903.944 1509.43 L892.138 1527.88 L903.944 1527.88 L903.944 1509.43 M902.717 1505.36 L908.597 1505.36 L908.597 1527.88 L913.527 1527.88 L913.527 1531.77 L908.597 1531.77 L908.597 1539.92 L903.944 1539.92 L903.944 1531.77 L888.342 1531.77 L888.342 1527.26 L902.717 1505.36 Z\" fill=\"#000000\" fill-rule=\"evenodd\" fill-opacity=\"1\" /><path clip-path=\"url(#clip3400)\" d=\"M 0 0 M1385.28 1520.78 Q1382.13 1520.78 1380.28 1522.93 Q1378.45 1525.08 1378.45 1528.83 Q1378.45 1532.56 1380.28 1534.73 Q1382.13 1536.89 1385.28 1536.89 Q1388.43 1536.89 1390.26 1534.73 Q1392.11 1532.56 1392.11 1528.83 Q1392.11 1525.08 1390.26 1522.93 Q1388.43 1520.78 1385.28 1520.78 M1394.56 1506.12 L1394.56 1510.38 Q1392.8 1509.55 1391 1509.11 Q1389.22 1508.67 1387.46 1508.67 Q1382.83 1508.67 1380.37 1511.8 Q1377.94 1514.92 1377.6 1521.24 Q1378.96 1519.23 1381.02 1518.16 Q1383.08 1517.07 1385.56 1517.07 Q1390.77 1517.07 1393.78 1520.24 Q1396.81 1523.39 1396.81 1528.83 Q1396.81 1534.16 1393.66 1537.37 Q1390.51 1540.59 1385.28 1540.59 Q1379.28 1540.59 1376.11 1536.01 Q1372.94 1531.4 1372.94 1522.67 Q1372.94 1514.48 1376.83 1509.62 Q1380.72 1504.73 1387.27 1504.73 Q1389.03 1504.73 1390.81 1505.08 Q1392.62 1505.43 1394.56 1506.12 Z\" fill=\"#000000\" fill-rule=\"evenodd\" fill-opacity=\"1\" /><path clip-path=\"url(#clip3400)\" d=\"M 0 0 M1868.82 1523.51 Q1865.48 1523.51 1863.56 1525.29 Q1861.66 1527.07 1861.66 1530.2 Q1861.66 1533.32 1863.56 1535.11 Q1865.48 1536.89 1868.82 1536.89 Q1872.15 1536.89 1874.07 1535.11 Q1875.99 1533.3 1875.99 1530.2 Q1875.99 1527.07 1874.07 1525.29 Q1872.17 1523.51 1868.82 1523.51 M1864.14 1521.52 Q1861.13 1520.78 1859.44 1518.72 Q1857.77 1516.66 1857.77 1513.69 Q1857.77 1509.55 1860.71 1507.14 Q1863.68 1504.73 1868.82 1504.73 Q1873.98 1504.73 1876.92 1507.14 Q1879.86 1509.55 1879.86 1513.69 Q1879.86 1516.66 1878.17 1518.72 Q1876.5 1520.78 1873.51 1521.52 Q1876.89 1522.3 1878.77 1524.6 Q1880.67 1526.89 1880.67 1530.2 Q1880.67 1535.22 1877.59 1537.91 Q1874.53 1540.59 1868.82 1540.59 Q1863.1 1540.59 1860.02 1537.91 Q1856.96 1535.22 1856.96 1530.2 Q1856.96 1526.89 1858.86 1524.6 Q1860.76 1522.3 1864.14 1521.52 M1862.43 1514.13 Q1862.43 1516.82 1864.09 1518.32 Q1865.78 1519.83 1868.82 1519.83 Q1871.82 1519.83 1873.51 1518.32 Q1875.23 1516.82 1875.23 1514.13 Q1875.23 1511.45 1873.51 1509.94 Q1871.82 1508.44 1868.82 1508.44 Q1865.78 1508.44 1864.09 1509.94 Q1862.43 1511.45 1862.43 1514.13 Z\" fill=\"#000000\" fill-rule=\"evenodd\" fill-opacity=\"1\" /><path clip-path=\"url(#clip3400)\" d=\"M 0 0 M2329.63 1535.98 L2337.27 1535.98 L2337.27 1509.62 L2328.96 1511.29 L2328.96 1507.03 L2337.22 1505.36 L2341.9 1505.36 L2341.9 1535.98 L2349.54 1535.98 L2349.54 1539.92 L2329.63 1539.92 L2329.63 1535.98 Z\" fill=\"#000000\" fill-rule=\"evenodd\" fill-opacity=\"1\" /><path clip-path=\"url(#clip3400)\" d=\"M 0 0 M2364.61 1508.44 Q2361 1508.44 2359.17 1512 Q2357.36 1515.55 2357.36 1522.67 Q2357.36 1529.78 2359.17 1533.35 Q2361 1536.89 2364.61 1536.89 Q2368.24 1536.89 2370.05 1533.35 Q2371.88 1529.78 2371.88 1522.67 Q2371.88 1515.55 2370.05 1512 Q2368.24 1508.44 2364.61 1508.44 M2364.61 1504.73 Q2370.42 1504.73 2373.47 1509.34 Q2376.55 1513.92 2376.55 1522.67 Q2376.55 1531.4 2373.47 1536.01 Q2370.42 1540.59 2364.61 1540.59 Q2358.8 1540.59 2355.72 1536.01 Q2352.66 1531.4 2352.66 1522.67 Q2352.66 1513.92 2355.72 1509.34 Q2358.8 1504.73 2364.61 1504.73 Z\" fill=\"#000000\" fill-rule=\"evenodd\" fill-opacity=\"1\" /><path clip-path=\"url(#clip3400)\" d=\"M 0 0 M75.6078 1305.33 Q71.9967 1305.33 70.168 1308.9 Q68.3625 1312.44 68.3625 1319.57 Q68.3625 1326.68 70.168 1330.24 Q71.9967 1333.78 75.6078 1333.78 Q79.242 1333.78 81.0476 1330.24 Q82.8763 1326.68 82.8763 1319.57 Q82.8763 1312.44 81.0476 1308.9 Q79.242 1305.33 75.6078 1305.33 M75.6078 1301.63 Q81.418 1301.63 84.4735 1306.24 Q87.5522 1310.82 87.5522 1319.57 Q87.5522 1328.3 84.4735 1332.9 Q81.418 1337.49 75.6078 1337.49 Q69.7976 1337.49 66.719 1332.9 Q63.6634 1328.3 63.6634 1319.57 Q63.6634 1310.82 66.719 1306.24 Q69.7976 1301.63 75.6078 1301.63 Z\" fill=\"#000000\" fill-rule=\"evenodd\" fill-opacity=\"1\" /><path clip-path=\"url(#clip3400)\" d=\"M 0 0 M92.6216 1330.94 L97.5058 1330.94 L97.5058 1336.82 L92.6216 1336.82 L92.6216 1330.94 Z\" fill=\"#000000\" fill-rule=\"evenodd\" fill-opacity=\"1\" /><path clip-path=\"url(#clip3400)\" d=\"M 0 0 M115.422 1306.33 L103.617 1324.78 L115.422 1324.78 L115.422 1306.33 M114.196 1302.26 L120.075 1302.26 L120.075 1324.78 L125.006 1324.78 L125.006 1328.67 L120.075 1328.67 L120.075 1336.82 L115.422 1336.82 L115.422 1328.67 L99.8206 1328.67 L99.8206 1324.15 L114.196 1302.26 Z\" fill=\"#000000\" fill-rule=\"evenodd\" fill-opacity=\"1\" /><path clip-path=\"url(#clip3400)\" d=\"M 0 0 M130.121 1302.26 L148.478 1302.26 L148.478 1306.19 L134.404 1306.19 L134.404 1314.66 Q135.422 1314.32 136.441 1314.15 Q137.459 1313.97 138.478 1313.97 Q144.265 1313.97 147.644 1317.14 Q151.024 1320.31 151.024 1325.73 Q151.024 1331.31 147.552 1334.41 Q144.08 1337.49 137.76 1337.49 Q135.584 1337.49 133.316 1337.12 Q131.07 1336.75 128.663 1336.01 L128.663 1331.31 Q130.746 1332.44 132.969 1333 Q135.191 1333.55 137.668 1333.55 Q141.672 1333.55 144.01 1331.45 Q146.348 1329.34 146.348 1325.73 Q146.348 1322.12 144.01 1320.01 Q141.672 1317.9 137.668 1317.9 Q135.793 1317.9 133.918 1318.32 Q132.066 1318.74 130.121 1319.62 L130.121 1302.26 Z\" fill=\"#000000\" fill-rule=\"evenodd\" fill-opacity=\"1\" /><path clip-path=\"url(#clip3400)\" d=\"M 0 0 M76.0939 1115.46 Q72.4828 1115.46 70.6541 1119.02 Q68.8486 1122.57 68.8486 1129.7 Q68.8486 1136.8 70.6541 1140.37 Q72.4828 1143.91 76.0939 1143.91 Q79.7281 1143.91 81.5337 1140.37 Q83.3624 1136.8 83.3624 1129.7 Q83.3624 1122.57 81.5337 1119.02 Q79.7281 1115.46 76.0939 1115.46 M76.0939 1111.76 Q81.9041 1111.76 84.9596 1116.36 Q88.0383 1120.95 88.0383 1129.7 Q88.0383 1138.42 84.9596 1143.03 Q81.9041 1147.61 76.0939 1147.61 Q70.2838 1147.61 67.2051 1143.03 Q64.1495 1138.42 64.1495 1129.7 Q64.1495 1120.95 67.2051 1116.36 Q70.2838 1111.76 76.0939 1111.76 Z\" fill=\"#000000\" fill-rule=\"evenodd\" fill-opacity=\"1\" /><path clip-path=\"url(#clip3400)\" d=\"M 0 0 M93.1077 1141.06 L97.9919 1141.06 L97.9919 1146.94 L93.1077 1146.94 L93.1077 1141.06 Z\" fill=\"#000000\" fill-rule=\"evenodd\" fill-opacity=\"1\" /><path clip-path=\"url(#clip3400)\" d=\"M 0 0 M103.108 1112.38 L121.464 1112.38 L121.464 1116.32 L107.39 1116.32 L107.39 1124.79 Q108.409 1124.44 109.427 1124.28 Q110.446 1124.09 111.464 1124.09 Q117.251 1124.09 120.631 1127.26 Q124.01 1130.44 124.01 1135.85 Q124.01 1141.43 120.538 1144.53 Q117.066 1147.61 110.746 1147.61 Q108.571 1147.61 106.302 1147.24 Q104.057 1146.87 101.649 1146.13 L101.649 1141.43 Q103.733 1142.57 105.955 1143.12 Q108.177 1143.68 110.654 1143.68 Q114.659 1143.68 116.996 1141.57 Q119.334 1139.46 119.334 1135.85 Q119.334 1132.24 116.996 1130.13 Q114.659 1128.03 110.654 1128.03 Q108.779 1128.03 106.904 1128.45 Q105.052 1128.86 103.108 1129.74 L103.108 1112.38 Z\" fill=\"#000000\" fill-rule=\"evenodd\" fill-opacity=\"1\" /><path clip-path=\"url(#clip3400)\" d=\"M 0 0 M139.08 1115.46 Q135.469 1115.46 133.64 1119.02 Q131.834 1122.57 131.834 1129.7 Q131.834 1136.8 133.64 1140.37 Q135.469 1143.91 139.08 1143.91 Q142.714 1143.91 144.519 1140.37 Q146.348 1136.8 146.348 1129.7 Q146.348 1122.57 144.519 1119.02 Q142.714 1115.46 139.08 1115.46 M139.08 1111.76 Q144.89 1111.76 147.945 1116.36 Q151.024 1120.95 151.024 1129.7 Q151.024 1138.42 147.945 1143.03 Q144.89 1147.61 139.08 1147.61 Q133.27 1147.61 130.191 1143.03 Q127.135 1138.42 127.135 1129.7 Q127.135 1120.95 130.191 1116.36 Q133.27 1111.76 139.08 1111.76 Z\" fill=\"#000000\" fill-rule=\"evenodd\" fill-opacity=\"1\" /><path clip-path=\"url(#clip3400)\" d=\"M 0 0 M77.0893 925.584 Q73.4782 925.584 71.6495 929.149 Q69.8439 932.69 69.8439 939.82 Q69.8439 946.926 71.6495 950.491 Q73.4782 954.033 77.0893 954.033 Q80.7235 954.033 82.5291 950.491 Q84.3578 946.926 84.3578 939.82 Q84.3578 932.69 82.5291 929.149 Q80.7235 925.584 77.0893 925.584 M77.0893 921.88 Q82.8994 921.88 85.955 926.487 Q89.0337 931.07 89.0337 939.82 Q89.0337 948.547 85.955 953.153 Q82.8994 957.736 77.0893 957.736 Q71.2791 957.736 68.2004 953.153 Q65.1449 948.547 65.1449 939.82 Q65.1449 931.07 68.2004 926.487 Q71.2791 921.88 77.0893 921.88 Z\" fill=\"#000000\" fill-rule=\"evenodd\" fill-opacity=\"1\" /><path clip-path=\"url(#clip3400)\" d=\"M 0 0 M94.1031 951.185 L98.9873 951.185 L98.9873 957.065 L94.1031 957.065 L94.1031 951.185 Z\" fill=\"#000000\" fill-rule=\"evenodd\" fill-opacity=\"1\" /><path clip-path=\"url(#clip3400)\" d=\"M 0 0 M104.103 922.505 L122.459 922.505 L122.459 926.44 L108.385 926.44 L108.385 934.912 Q109.404 934.565 110.422 934.403 Q111.441 934.218 112.459 934.218 Q118.246 934.218 121.626 937.389 Q125.006 940.561 125.006 945.977 Q125.006 951.556 121.533 954.658 Q118.061 957.736 111.742 957.736 Q109.566 957.736 107.297 957.366 Q105.052 956.996 102.645 956.255 L102.645 951.556 Q104.728 952.69 106.95 953.246 Q109.172 953.801 111.649 953.801 Q115.654 953.801 117.992 951.695 Q120.33 949.588 120.33 945.977 Q120.33 942.366 117.992 940.26 Q115.654 938.153 111.649 938.153 Q109.774 938.153 107.899 938.57 Q106.047 938.986 104.103 939.866 L104.103 922.505 Z\" fill=\"#000000\" fill-rule=\"evenodd\" fill-opacity=\"1\" /><path clip-path=\"url(#clip3400)\" d=\"M 0 0 M130.121 922.505 L148.478 922.505 L148.478 926.44 L134.404 926.44 L134.404 934.912 Q135.422 934.565 136.441 934.403 Q137.459 934.218 138.478 934.218 Q144.265 934.218 147.644 937.389 Q151.024 940.561 151.024 945.977 Q151.024 951.556 147.552 954.658 Q144.08 957.736 137.76 957.736 Q135.584 957.736 133.316 957.366 Q131.07 956.996 128.663 956.255 L128.663 951.556 Q130.746 952.69 132.969 953.246 Q135.191 953.801 137.668 953.801 Q141.672 953.801 144.01 951.695 Q146.348 949.588 146.348 945.977 Q146.348 942.366 144.01 940.26 Q141.672 938.153 137.668 938.153 Q135.793 938.153 133.918 938.57 Q132.066 938.986 130.121 939.866 L130.121 922.505 Z\" fill=\"#000000\" fill-rule=\"evenodd\" fill-opacity=\"1\" /><path clip-path=\"url(#clip3400)\" d=\"M 0 0 M74.9365 735.708 Q71.3254 735.708 69.4967 739.273 Q67.6912 742.815 67.6912 749.945 Q67.6912 757.051 69.4967 760.616 Q71.3254 764.157 74.9365 764.157 Q78.5707 764.157 80.3763 760.616 Q82.205 757.051 82.205 749.945 Q82.205 742.815 80.3763 739.273 Q78.5707 735.708 74.9365 735.708 M74.9365 732.005 Q80.7467 732.005 83.8022 736.611 Q86.8809 741.195 86.8809 749.945 Q86.8809 758.671 83.8022 763.278 Q80.7467 767.861 74.9365 767.861 Q69.1264 767.861 66.0477 763.278 Q62.9921 758.671 62.9921 749.945 Q62.9921 741.195 66.0477 736.611 Q69.1264 732.005 74.9365 732.005 Z\" fill=\"#000000\" fill-rule=\"evenodd\" fill-opacity=\"1\" /><path clip-path=\"url(#clip3400)\" d=\"M 0 0 M91.9503 761.31 L96.8345 761.31 L96.8345 767.19 L91.9503 767.19 L91.9503 761.31 Z\" fill=\"#000000\" fill-rule=\"evenodd\" fill-opacity=\"1\" /><path clip-path=\"url(#clip3400)\" d=\"M 0 0 M112.483 748.046 Q109.334 748.046 107.483 750.199 Q105.654 752.352 105.654 756.102 Q105.654 759.829 107.483 762.005 Q109.334 764.157 112.483 764.157 Q115.631 764.157 117.459 762.005 Q119.311 759.829 119.311 756.102 Q119.311 752.352 117.459 750.199 Q115.631 748.046 112.483 748.046 M121.765 733.394 L121.765 737.653 Q120.006 736.82 118.2 736.38 Q116.418 735.94 114.659 735.94 Q110.029 735.94 107.575 739.065 Q105.145 742.19 104.797 748.509 Q106.163 746.495 108.223 745.431 Q110.284 744.343 112.76 744.343 Q117.969 744.343 120.978 747.514 Q124.01 750.662 124.01 756.102 Q124.01 761.426 120.862 764.644 Q117.714 767.861 112.483 767.861 Q106.487 767.861 103.316 763.278 Q100.145 758.671 100.145 749.945 Q100.145 741.75 104.034 736.889 Q107.922 732.005 114.473 732.005 Q116.233 732.005 118.015 732.352 Q119.821 732.699 121.765 733.394 Z\" fill=\"#000000\" fill-rule=\"evenodd\" fill-opacity=\"1\" /><path clip-path=\"url(#clip3400)\" d=\"M 0 0 M139.08 735.708 Q135.469 735.708 133.64 739.273 Q131.834 742.815 131.834 749.945 Q131.834 757.051 133.64 760.616 Q135.469 764.157 139.08 764.157 Q142.714 764.157 144.519 760.616 Q146.348 757.051 146.348 749.945 Q146.348 742.815 144.519 739.273 Q142.714 735.708 139.08 735.708 M139.08 732.005 Q144.89 732.005 147.945 736.611 Q151.024 741.195 151.024 749.945 Q151.024 758.671 147.945 763.278 Q144.89 767.861 139.08 767.861 Q133.27 767.861 130.191 763.278 Q127.135 758.671 127.135 749.945 Q127.135 741.195 130.191 736.611 Q133.27 732.005 139.08 732.005 Z\" fill=\"#000000\" fill-rule=\"evenodd\" fill-opacity=\"1\" /><path clip-path=\"url(#clip3400)\" d=\"M 0 0 M75.9319 545.833 Q72.3208 545.833 70.4921 549.398 Q68.6865 552.94 68.6865 560.069 Q68.6865 567.176 70.4921 570.74 Q72.3208 574.282 75.9319 574.282 Q79.5661 574.282 81.3717 570.74 Q83.2004 567.176 83.2004 560.069 Q83.2004 552.94 81.3717 549.398 Q79.5661 545.833 75.9319 545.833 M75.9319 542.13 Q81.742 542.13 84.7976 546.736 Q87.8763 551.319 87.8763 560.069 Q87.8763 568.796 84.7976 573.402 Q81.742 577.986 75.9319 577.986 Q70.1217 577.986 67.043 573.402 Q63.9875 568.796 63.9875 560.069 Q63.9875 551.319 67.043 546.736 Q70.1217 542.13 75.9319 542.13 Z\" fill=\"#000000\" fill-rule=\"evenodd\" fill-opacity=\"1\" /><path clip-path=\"url(#clip3400)\" d=\"M 0 0 M92.9457 571.435 L97.8299 571.435 L97.8299 577.315 L92.9457 577.315 L92.9457 571.435 Z\" fill=\"#000000\" fill-rule=\"evenodd\" fill-opacity=\"1\" /><path clip-path=\"url(#clip3400)\" d=\"M 0 0 M113.478 558.171 Q110.33 558.171 108.478 560.324 Q106.649 562.477 106.649 566.227 Q106.649 569.953 108.478 572.129 Q110.33 574.282 113.478 574.282 Q116.626 574.282 118.455 572.129 Q120.307 569.953 120.307 566.227 Q120.307 562.477 118.455 560.324 Q116.626 558.171 113.478 558.171 M122.76 543.518 L122.76 547.778 Q121.001 546.944 119.196 546.504 Q117.413 546.065 115.654 546.065 Q111.024 546.065 108.571 549.19 Q106.14 552.315 105.793 558.634 Q107.159 556.62 109.219 555.555 Q111.279 554.467 113.756 554.467 Q118.964 554.467 121.973 557.639 Q125.006 560.787 125.006 566.227 Q125.006 571.551 121.858 574.768 Q118.709 577.986 113.478 577.986 Q107.483 577.986 104.311 573.402 Q101.14 568.796 101.14 560.069 Q101.14 551.875 105.029 547.014 Q108.918 542.13 115.469 542.13 Q117.228 542.13 119.01 542.477 Q120.816 542.824 122.76 543.518 Z\" fill=\"#000000\" fill-rule=\"evenodd\" fill-opacity=\"1\" /><path clip-path=\"url(#clip3400)\" d=\"M 0 0 M130.121 542.755 L148.478 542.755 L148.478 546.69 L134.404 546.69 L134.404 555.162 Q135.422 554.815 136.441 554.653 Q137.459 554.467 138.478 554.467 Q144.265 554.467 147.644 557.639 Q151.024 560.81 151.024 566.227 Q151.024 571.805 147.552 574.907 Q144.08 577.986 137.76 577.986 Q135.584 577.986 133.316 577.615 Q131.07 577.245 128.663 576.504 L128.663 571.805 Q130.746 572.94 132.969 573.495 Q135.191 574.051 137.668 574.051 Q141.672 574.051 144.01 571.944 Q146.348 569.838 146.348 566.227 Q146.348 562.616 144.01 560.509 Q141.672 558.403 137.668 558.403 Q135.793 558.403 133.918 558.819 Q132.066 559.236 130.121 560.116 L130.121 542.755 Z\" fill=\"#000000\" fill-rule=\"evenodd\" fill-opacity=\"1\" /><path clip-path=\"url(#clip3400)\" d=\"M 0 0 M76.0013 355.958 Q72.3902 355.958 70.5615 359.523 Q68.756 363.064 68.756 370.194 Q68.756 377.3 70.5615 380.865 Q72.3902 384.407 76.0013 384.407 Q79.6356 384.407 81.4411 380.865 Q83.2698 377.3 83.2698 370.194 Q83.2698 363.064 81.4411 359.523 Q79.6356 355.958 76.0013 355.958 M76.0013 352.254 Q81.8115 352.254 84.867 356.861 Q87.9457 361.444 87.9457 370.194 Q87.9457 378.921 84.867 383.527 Q81.8115 388.111 76.0013 388.111 Q70.1912 388.111 67.1125 383.527 Q64.0569 378.921 64.0569 370.194 Q64.0569 361.444 67.1125 356.861 Q70.1912 352.254 76.0013 352.254 Z\" fill=\"#000000\" fill-rule=\"evenodd\" fill-opacity=\"1\" /><path clip-path=\"url(#clip3400)\" d=\"M 0 0 M93.0151 381.56 L97.8993 381.56 L97.8993 387.439 L93.0151 387.439 L93.0151 381.56 Z\" fill=\"#000000\" fill-rule=\"evenodd\" fill-opacity=\"1\" /><path clip-path=\"url(#clip3400)\" d=\"M 0 0 M101.788 352.879 L124.01 352.879 L124.01 354.87 L111.464 387.439 L106.58 387.439 L118.385 356.814 L101.788 356.814 L101.788 352.879 Z\" fill=\"#000000\" fill-rule=\"evenodd\" fill-opacity=\"1\" /><path clip-path=\"url(#clip3400)\" d=\"M 0 0 M139.08 355.958 Q135.469 355.958 133.64 359.523 Q131.834 363.064 131.834 370.194 Q131.834 377.3 133.64 380.865 Q135.469 384.407 139.08 384.407 Q142.714 384.407 144.519 380.865 Q146.348 377.3 146.348 370.194 Q146.348 363.064 144.519 359.523 Q142.714 355.958 139.08 355.958 M139.08 352.254 Q144.89 352.254 147.945 356.861 Q151.024 361.444 151.024 370.194 Q151.024 378.921 147.945 383.527 Q144.89 388.111 139.08 388.111 Q133.27 388.111 130.191 383.527 Q127.135 378.921 127.135 370.194 Q127.135 361.444 130.191 356.861 Q133.27 352.254 139.08 352.254 Z\" fill=\"#000000\" fill-rule=\"evenodd\" fill-opacity=\"1\" /><path clip-path=\"url(#clip3400)\" d=\"M 0 0 M76.9967 166.083 Q73.3856 166.083 71.5569 169.647 Q69.7513 173.189 69.7513 180.319 Q69.7513 187.425 71.5569 190.99 Q73.3856 194.532 76.9967 194.532 Q80.6309 194.532 82.4365 190.99 Q84.2652 187.425 84.2652 180.319 Q84.2652 173.189 82.4365 169.647 Q80.6309 166.083 76.9967 166.083 M76.9967 162.379 Q82.8068 162.379 85.8624 166.985 Q88.9411 171.569 88.9411 180.319 Q88.9411 189.045 85.8624 193.652 Q82.8068 198.235 76.9967 198.235 Q71.1865 198.235 68.1078 193.652 Q65.0523 189.045 65.0523 180.319 Q65.0523 171.569 68.1078 166.985 Q71.1865 162.379 76.9967 162.379 Z\" fill=\"#000000\" fill-rule=\"evenodd\" fill-opacity=\"1\" /><path clip-path=\"url(#clip3400)\" d=\"M 0 0 M94.0105 191.684 L98.8947 191.684 L98.8947 197.564 L94.0105 197.564 L94.0105 191.684 Z\" fill=\"#000000\" fill-rule=\"evenodd\" fill-opacity=\"1\" /><path clip-path=\"url(#clip3400)\" d=\"M 0 0 M102.784 163.004 L125.006 163.004 L125.006 164.995 L112.459 197.564 L107.575 197.564 L119.381 166.939 L102.784 166.939 L102.784 163.004 Z\" fill=\"#000000\" fill-rule=\"evenodd\" fill-opacity=\"1\" /><path clip-path=\"url(#clip3400)\" d=\"M 0 0 M130.121 163.004 L148.478 163.004 L148.478 166.939 L134.404 166.939 L134.404 175.411 Q135.422 175.064 136.441 174.902 Q137.459 174.717 138.478 174.717 Q144.265 174.717 147.644 177.888 Q151.024 181.059 151.024 186.476 Q151.024 192.055 147.552 195.157 Q144.08 198.235 137.76 198.235 Q135.584 198.235 133.316 197.865 Q131.07 197.494 128.663 196.754 L128.663 192.055 Q130.746 193.189 132.969 193.745 Q135.191 194.3 137.668 194.3 Q141.672 194.3 144.01 192.194 Q146.348 190.087 146.348 186.476 Q146.348 182.865 144.01 180.758 Q141.672 178.652 137.668 178.652 Q135.793 178.652 133.918 179.069 Q132.066 179.485 130.121 180.365 L130.121 163.004 Z\" fill=\"#000000\" fill-rule=\"evenodd\" fill-opacity=\"1\" /><polyline clip-path=\"url(#clip3402)\" style=\"stroke:#0000ff; stroke-width:4; stroke-opacity:1; fill:none\" points=\"\n",
       "  175.024,440.353 416.994,623.818 658.964,681.771 900.935,542.324 1142.9,611.775 1384.88,791.91 1626.85,562.846 1868.82,748.928 2110.79,476.373 2352.76,688.806 \n",
       "  \n",
       "  \"/>\n",
       "<polyline clip-path=\"url(#clip3402)\" style=\"stroke:#0000ff; stroke-width:4; stroke-opacity:1; fill:none\" points=\"\n",
       "  175.024,646.332 416.994,148.963 658.964,659.032 900.935,662.942 1142.9,548.704 1384.88,705.943 1626.85,331.954 1868.82,603.152 2110.79,522.756 2352.76,608.882 \n",
       "  \n",
       "  \"/>\n",
       "<polyline clip-path=\"url(#clip3402)\" style=\"stroke:#0000ff; stroke-width:4; stroke-opacity:1; fill:none\" points=\"\n",
       "  175.024,642.933 416.994,481.329 658.964,689.972 900.935,542.391 1142.9,619.107 1384.88,567.184 1626.85,511.9 1868.82,555.182 2110.79,392.675 2352.76,551.184 \n",
       "  \n",
       "  \"/>\n",
       "<polyline clip-path=\"url(#clip3402)\" style=\"stroke:#0000ff; stroke-width:4; stroke-opacity:1; fill:none\" points=\"\n",
       "  175.024,546.074 416.994,613.189 658.964,660.418 900.935,599.318 1142.9,438.98 1384.88,636.599 1626.85,490.711 1868.82,468.887 2110.79,435.552 2352.76,700.686 \n",
       "  \n",
       "  \"/>\n",
       "<polyline clip-path=\"url(#clip3402)\" style=\"stroke:#0000ff; stroke-width:4; stroke-opacity:1; fill:none\" points=\"\n",
       "  175.024,739.303 416.994,454.431 658.964,446.907 900.935,720.681 1142.9,611.103 1384.88,779.396 1626.85,510.623 1868.82,973.686 2110.79,549.314 2352.76,603.093 \n",
       "  \n",
       "  \"/>\n",
       "<polyline clip-path=\"url(#clip3402)\" style=\"stroke:#0000ff; stroke-width:4; stroke-opacity:1; fill:none\" points=\"\n",
       "  175.024,718.683 416.994,367.152 658.964,609.939 900.935,549.165 1142.9,539.576 1384.88,553.322 1626.85,331.18 1868.82,719.172 2110.79,548.832 2352.76,547.128 \n",
       "  \n",
       "  \"/>\n",
       "<polyline clip-path=\"url(#clip3402)\" style=\"stroke:#0000ff; stroke-width:4; stroke-opacity:1; fill:none\" points=\"\n",
       "  175.024,582.212 416.994,402.512 658.964,610.065 900.935,534.07 1142.9,514.394 1384.88,768.719 1626.85,446.693 1868.82,720.424 2110.79,405.309 2352.76,579.297 \n",
       "  \n",
       "  \"/>\n",
       "<polyline clip-path=\"url(#clip3402)\" style=\"stroke:#0000ff; stroke-width:4; stroke-opacity:1; fill:none\" points=\"\n",
       "  175.024,728.923 416.994,291.724 658.964,642.659 900.935,796.759 1142.9,516.102 1384.88,439.542 1626.85,446.517 1868.82,426.41 2110.79,544.373 2352.76,654.525 \n",
       "  \n",
       "  \"/>\n",
       "<polyline clip-path=\"url(#clip3402)\" style=\"stroke:#0000ff; stroke-width:4; stroke-opacity:1; fill:none\" points=\"\n",
       "  175.024,711.066 416.994,271.148 658.964,788.982 900.935,569.637 1142.9,626.729 1384.88,711.361 1626.85,330.842 1868.82,612.243 2110.79,497.602 2352.76,477.2 \n",
       "  \n",
       "  \"/>\n",
       "<polyline clip-path=\"url(#clip3402)\" style=\"stroke:#0000ff; stroke-width:4; stroke-opacity:1; fill:none\" points=\"\n",
       "  175.024,800.781 416.994,516.247 658.964,705.044 900.935,598.338 1142.9,557.618 1384.88,568.039 1626.85,392.048 1868.82,476.25 2110.79,592.973 2352.76,464.749 \n",
       "  \n",
       "  \"/>\n",
       "<polyline clip-path=\"url(#clip3402)\" style=\"stroke:#0000ff; stroke-width:4; stroke-opacity:1; fill:none\" points=\"\n",
       "  175.024,700.899 416.994,285.577 658.964,790.262 900.935,577.707 1142.9,580.55 1384.88,737.903 1626.85,437.591 1868.82,387.85 2110.79,665.166 2352.76,718.821 \n",
       "  \n",
       "  \"/>\n",
       "<polyline clip-path=\"url(#clip3402)\" style=\"stroke:#0000ff; stroke-width:4; stroke-opacity:1; fill:none\" points=\"\n",
       "  175.024,666.542 416.994,374.64 658.964,786.934 900.935,414.411 1142.9,583.867 1384.88,720.947 1626.85,443.033 1868.82,522.574 2110.79,485.925 2352.76,595.85 \n",
       "  \n",
       "  \"/>\n",
       "<polyline clip-path=\"url(#clip3402)\" style=\"stroke:#0000ff; stroke-width:4; stroke-opacity:1; fill:none\" points=\"\n",
       "  175.024,562.75 416.994,409.45 658.964,763.406 900.935,500.293 1142.9,522.376 1384.88,684.22 1626.85,590.209 1868.82,256.809 2110.79,381.446 2352.76,767.064 \n",
       "  \n",
       "  \"/>\n",
       "<polyline clip-path=\"url(#clip3402)\" style=\"stroke:#0000ff; stroke-width:4; stroke-opacity:1; fill:none\" points=\"\n",
       "  175.024,562.75 416.994,409.45 658.964,763.406 900.935,500.293 1142.9,522.376 1384.88,684.22 1626.85,590.209 1868.82,256.809 2110.79,381.446 2352.76,767.064 \n",
       "  \n",
       "  \"/>\n",
       "<polyline clip-path=\"url(#clip3402)\" style=\"stroke:#0000ff; stroke-width:4; stroke-opacity:1; fill:none\" points=\"\n",
       "  175.024,738.193 416.994,165.809 658.964,646.899 900.935,783.712 1142.9,552.911 1384.88,504.607 1626.85,499.691 1868.82,753.374 2110.79,430.01 2352.76,486.945 \n",
       "  \n",
       "  \"/>\n",
       "<polyline clip-path=\"url(#clip3402)\" style=\"stroke:#0000ff; stroke-width:4; stroke-opacity:1; fill:none\" points=\"\n",
       "  175.024,706.926 416.994,343.548 658.964,752.507 900.935,582.038 1142.9,643.792 1384.88,632.869 1626.85,428.85 1868.82,583.045 2110.79,570.725 2352.76,554.551 \n",
       "  \n",
       "  \"/>\n",
       "<polyline clip-path=\"url(#clip3402)\" style=\"stroke:#0000ff; stroke-width:4; stroke-opacity:1; fill:none\" points=\"\n",
       "  175.024,662.3 416.994,456.055 658.964,690.193 900.935,486.502 1142.9,613.513 1384.88,575.991 1626.85,582.363 1868.82,643.89 2110.79,312.119 2352.76,615.38 \n",
       "  \n",
       "  \"/>\n",
       "<polyline clip-path=\"url(#clip3402)\" style=\"stroke:#0000ff; stroke-width:4; stroke-opacity:1; fill:none\" points=\"\n",
       "  175.024,562.75 416.994,409.45 658.964,763.406 900.935,500.293 1142.9,522.376 1384.88,684.22 1626.85,590.209 1868.82,256.809 2110.79,381.446 2352.76,767.064 \n",
       "  \n",
       "  \"/>\n",
       "<polyline clip-path=\"url(#clip3402)\" style=\"stroke:#0000ff; stroke-width:4; stroke-opacity:1; fill:none\" points=\"\n",
       "  175.024,666.706 416.994,466.222 658.964,844.644 900.935,548.076 1142.9,653.548 1384.88,764.199 1626.85,625.88 1868.82,355.273 2110.79,582.887 2352.76,739.122 \n",
       "  \n",
       "  \"/>\n",
       "<polyline clip-path=\"url(#clip3402)\" style=\"stroke:#0000ff; stroke-width:4; stroke-opacity:1; fill:none\" points=\"\n",
       "  175.024,721.762 416.994,320.77 658.964,773.005 900.935,519.434 1142.9,597.744 1384.88,529.032 1626.85,412.285 1868.82,494.59 2110.79,475.061 2352.76,360.213 \n",
       "  \n",
       "  \"/>\n",
       "<polyline clip-path=\"url(#clip3402)\" style=\"stroke:#0000ff; stroke-width:4; stroke-opacity:1; fill:none\" points=\"\n",
       "  175.024,577.911 416.994,284.983 658.964,663.358 900.935,485.481 1142.9,499.898 1384.88,693.073 1626.85,397.871 1868.82,714.5 2110.79,421.377 2352.76,762.673 \n",
       "  \n",
       "  \"/>\n",
       "<polyline clip-path=\"url(#clip3402)\" style=\"stroke:#0000ff; stroke-width:4; stroke-opacity:1; fill:none\" points=\"\n",
       "  175.024,724.671 416.994,350.222 658.964,767.655 900.935,619.065 1142.9,629.25 1384.88,578.045 1626.85,394.288 1868.82,576.705 2110.79,539.518 2352.76,339.947 \n",
       "  \n",
       "  \"/>\n",
       "<polyline clip-path=\"url(#clip3402)\" style=\"stroke:#0000ff; stroke-width:4; stroke-opacity:1; fill:none\" points=\"\n",
       "  175.024,611.108 416.994,414.362 658.964,823.299 900.935,629.343 1142.9,582.675 1384.88,846.213 1626.85,506.639 1868.82,571.812 2110.79,648.533 2352.76,853.214 \n",
       "  \n",
       "  \"/>\n",
       "<polyline clip-path=\"url(#clip3402)\" style=\"stroke:#0000ff; stroke-width:4; stroke-opacity:1; fill:none\" points=\"\n",
       "  175.024,682.127 416.994,317.079 658.964,620.541 900.935,674.282 1142.9,662.419 1384.88,900.9 1626.85,503.682 1868.82,877.612 2110.79,660.747 2352.76,497.431 \n",
       "  \n",
       "  \"/>\n",
       "<polyline clip-path=\"url(#clip3402)\" style=\"stroke:#0000ff; stroke-width:4; stroke-opacity:1; fill:none\" points=\"\n",
       "  175.024,802.697 416.994,261.286 658.964,832.735 900.935,692.526 1142.9,770.504 1384.88,664.657 1626.85,383.292 1868.82,739.011 2110.79,629.324 2352.76,403.09 \n",
       "  \n",
       "  \"/>\n",
       "<polyline clip-path=\"url(#clip3402)\" style=\"stroke:#0000ff; stroke-width:4; stroke-opacity:1; fill:none\" points=\"\n",
       "  175.024,926.249 416.994,294.98 658.964,826.226 900.935,773.884 1142.9,823.955 1384.88,503.493 1626.85,463.276 1868.82,565.926 2110.79,751.225 2352.76,427.26 \n",
       "  \n",
       "  \"/>\n",
       "<polyline clip-path=\"url(#clip3402)\" style=\"stroke:#0000ff; stroke-width:4; stroke-opacity:1; fill:none\" points=\"\n",
       "  175.024,660.13 416.994,343.117 658.964,661.635 900.935,483.875 1142.9,539.992 1384.88,483.318 1626.85,432.02 1868.82,479.981 2110.79,451.502 2352.76,486.934 \n",
       "  \n",
       "  \"/>\n",
       "<polyline clip-path=\"url(#clip3402)\" style=\"stroke:#0000ff; stroke-width:4; stroke-opacity:1; fill:none\" points=\"\n",
       "  175.024,818.594 416.994,316.313 658.964,781.87 900.935,518.834 1142.9,684.691 1384.88,696.398 1626.85,376.356 1868.82,684.265 2110.79,557.596 2352.76,450.025 \n",
       "  \n",
       "  \"/>\n",
       "<polyline clip-path=\"url(#clip3402)\" style=\"stroke:#0000ff; stroke-width:4; stroke-opacity:1; fill:none\" points=\"\n",
       "  175.024,718.01 416.994,368.766 658.964,455.792 900.935,751.738 1142.9,502.593 1384.88,769.286 1626.85,416.297 1868.82,775.935 2110.79,509.286 2352.76,706.352 \n",
       "  \n",
       "  \"/>\n",
       "<polyline clip-path=\"url(#clip3402)\" style=\"stroke:#0000ff; stroke-width:4; stroke-opacity:1; fill:none\" points=\"\n",
       "  175.024,553.667 416.994,508.242 658.964,664.483 900.935,372.695 1142.9,492.983 1384.88,851.131 1626.85,598.358 1868.82,669.101 2110.79,359.209 2352.76,749.325 \n",
       "  \n",
       "  \"/>\n",
       "<polyline clip-path=\"url(#clip3402)\" style=\"stroke:#0000ff; stroke-width:4; stroke-opacity:1; fill:none\" points=\"\n",
       "  175.024,470.159 416.994,389.21 658.964,756.676 900.935,306.841 1142.9,442.969 1384.88,689.399 1626.85,522.607 1868.82,508.382 2110.79,236.104 2352.76,782.844 \n",
       "  \n",
       "  \"/>\n",
       "<polyline clip-path=\"url(#clip3402)\" style=\"stroke:#0000ff; stroke-width:4; stroke-opacity:1; fill:none\" points=\"\n",
       "  175.024,486.169 416.994,612.332 658.964,681.644 900.935,488.604 1142.9,578.86 1384.88,859.578 1626.85,575.273 1868.82,797.453 2110.79,409.47 2352.76,768.29 \n",
       "  \n",
       "  \"/>\n",
       "<polyline clip-path=\"url(#clip3402)\" style=\"stroke:#0000ff; stroke-width:4; stroke-opacity:1; fill:none\" points=\"\n",
       "  175.024,870.551 416.994,480.865 658.964,847.51 900.935,663.069 1142.9,755.076 1384.88,603.035 1626.85,382.675 1868.82,710.989 2110.79,719.47 2352.76,369.483 \n",
       "  \n",
       "  \"/>\n",
       "<polyline clip-path=\"url(#clip3402)\" style=\"stroke:#0000ff; stroke-width:4; stroke-opacity:1; fill:none\" points=\"\n",
       "  175.024,720.121 416.994,439.599 658.964,618.245 900.935,736.801 1142.9,667.249 1384.88,995.224 1626.85,541.458 1868.82,981.517 2110.79,772.032 2352.76,775.546 \n",
       "  \n",
       "  \"/>\n",
       "<polyline clip-path=\"url(#clip3402)\" style=\"stroke:#0000ff; stroke-width:4; stroke-opacity:1; fill:none\" points=\"\n",
       "  175.024,662.182 416.994,429.873 658.964,715.202 900.935,616.883 1142.9,662.507 1384.88,1066.47 1626.85,647.782 1868.82,751.03 2110.79,673.437 2352.76,814.964 \n",
       "  \n",
       "  \"/>\n",
       "<polyline clip-path=\"url(#clip3402)\" style=\"stroke:#0000ff; stroke-width:4; stroke-opacity:1; fill:none\" points=\"\n",
       "  175.024,495.328 416.994,627.671 658.964,691.573 900.935,610.067 1142.9,628.679 1384.88,828.701 1626.85,587.153 1868.82,758.473 2110.79,521.95 2352.76,692.74 \n",
       "  \n",
       "  \"/>\n",
       "<polyline clip-path=\"url(#clip3402)\" style=\"stroke:#0000ff; stroke-width:4; stroke-opacity:1; fill:none\" points=\"\n",
       "  175.024,814.242 416.994,485.033 658.964,890.472 900.935,766.554 1142.9,767.363 1384.88,738.528 1626.85,565.298 1868.82,539.688 2110.79,822.066 2352.76,679.662 \n",
       "  \n",
       "  \"/>\n",
       "<polyline clip-path=\"url(#clip3402)\" style=\"stroke:#0000ff; stroke-width:4; stroke-opacity:1; fill:none\" points=\"\n",
       "  175.024,607.202 416.994,419.942 658.964,702.177 900.935,685.561 1142.9,604.059 1384.88,841.238 1626.85,467.242 1868.82,898.889 2110.79,624.152 2352.76,611.798 \n",
       "  \n",
       "  \"/>\n",
       "<polyline clip-path=\"url(#clip3402)\" style=\"stroke:#0000ff; stroke-width:4; stroke-opacity:1; fill:none\" points=\"\n",
       "  175.024,665.896 416.994,618.504 658.964,833.225 900.935,517.627 1142.9,625.792 1384.88,842.655 1626.85,681.864 1868.82,622.045 2110.79,524.537 2352.76,895.528 \n",
       "  \n",
       "  \"/>\n",
       "<polyline clip-path=\"url(#clip3402)\" style=\"stroke:#0000ff; stroke-width:4; stroke-opacity:1; fill:none\" points=\"\n",
       "  175.024,561.962 416.994,459.728 658.964,664.964 900.935,524.092 1142.9,506.446 1384.88,525.238 1626.85,472.196 1868.82,404.242 2110.79,384.546 2352.76,522.108 \n",
       "  \n",
       "  \"/>\n",
       "<polyline clip-path=\"url(#clip3402)\" style=\"stroke:#0000ff; stroke-width:4; stroke-opacity:1; fill:none\" points=\"\n",
       "  175.024,599.116 416.994,180.855 658.964,644.716 900.935,590.314 1142.9,529.481 1384.88,857.362 1626.85,406.238 1868.82,684.392 2110.79,438.551 2352.76,760.965 \n",
       "  \n",
       "  \"/>\n",
       "<polyline clip-path=\"url(#clip3402)\" style=\"stroke:#0000ff; stroke-width:4; stroke-opacity:1; fill:none\" points=\"\n",
       "  175.024,497.32 416.994,386.414 658.964,700.023 900.935,309.899 1142.9,456.821 1384.88,704.438 1626.85,528.025 1868.82,516.215 2110.79,210.863 2352.76,758.442 \n",
       "  \n",
       "  \"/>\n",
       "<polyline clip-path=\"url(#clip3402)\" style=\"stroke:#0000ff; stroke-width:4; stroke-opacity:1; fill:none\" points=\"\n",
       "  175.024,583.427 416.994,480.904 658.964,707.127 900.935,498.51 1142.9,564.954 1384.88,521.153 1626.85,515.965 1868.82,451.282 2110.79,413.959 2352.76,557.713 \n",
       "  \n",
       "  \"/>\n",
       "<polyline clip-path=\"url(#clip3402)\" style=\"stroke:#0000ff; stroke-width:4; stroke-opacity:1; fill:none\" points=\"\n",
       "  175.024,702.864 416.994,416.996 658.964,757.608 900.935,591.837 1142.9,559.895 1384.88,761.561 1626.85,444.275 1868.82,388.228 2110.79,707.018 2352.76,824 \n",
       "  \n",
       "  \"/>\n",
       "<polyline clip-path=\"url(#clip3402)\" style=\"stroke:#0000ff; stroke-width:4; stroke-opacity:1; fill:none\" points=\"\n",
       "  175.024,747.916 416.994,414.274 658.964,556.361 900.935,650.916 1142.9,589.319 1384.88,415.781 1626.85,472.531 1868.82,611.369 2110.79,411.628 2352.76,490.454 \n",
       "  \n",
       "  \"/>\n",
       "<polyline clip-path=\"url(#clip3402)\" style=\"stroke:#0000ff; stroke-width:4; stroke-opacity:1; fill:none\" points=\"\n",
       "  175.024,638.06 416.994,222.025 658.964,570.223 900.935,567.399 1142.9,483.516 1384.88,650.368 1626.85,333.052 1868.82,470.394 2110.79,458.763 2352.76,535.602 \n",
       "  \n",
       "  \"/>\n",
       "<polyline clip-path=\"url(#clip3402)\" style=\"stroke:#0000ff; stroke-width:4; stroke-opacity:1; fill:none\" points=\"\n",
       "  175.024,543.252 416.994,365.147 658.964,776.541 900.935,530.717 1142.9,545.818 1384.88,888.457 1626.85,499.901 1868.82,675.677 2110.79,407.625 2352.76,901.734 \n",
       "  \n",
       "  \"/>\n",
       "<polyline clip-path=\"url(#clip3402)\" style=\"stroke:#0000ff; stroke-width:4; stroke-opacity:1; fill:none\" points=\"\n",
       "  175.024,818.301 416.994,293.104 658.964,777.261 900.935,635.688 1142.9,740.08 1384.88,600.469 1626.85,473.155 1868.82,714.71 2110.79,635.214 2352.76,498.343 \n",
       "  \n",
       "  \"/>\n",
       "<polyline clip-path=\"url(#clip3402)\" style=\"stroke:#0000ff; stroke-width:4; stroke-opacity:1; fill:none\" points=\"\n",
       "  175.024,614.06 416.994,413.735 658.964,737.6 900.935,572.105 1142.9,613.784 1384.88,586.187 1626.85,571.861 1868.82,537.01 2110.79,341.726 2352.76,502.36 \n",
       "  \n",
       "  \"/>\n",
       "<polyline clip-path=\"url(#clip3402)\" style=\"stroke:#0000ff; stroke-width:4; stroke-opacity:1; fill:none\" points=\"\n",
       "  175.024,505.411 416.994,452.811 658.964,765.161 900.935,286.367 1142.9,498.777 1384.88,704.183 1626.85,541.885 1868.82,452.741 2110.79,249.621 2352.76,734.61 \n",
       "  \n",
       "  \"/>\n",
       "<polyline clip-path=\"url(#clip3402)\" style=\"stroke:#0000ff; stroke-width:4; stroke-opacity:1; fill:none\" points=\"\n",
       "  175.024,582.241 416.994,483.414 658.964,519.834 900.935,511.676 1142.9,500.515 1384.88,691.102 1626.85,528.618 1868.82,631.022 2110.79,489.291 2352.76,581.865 \n",
       "  \n",
       "  \"/>\n",
       "<polyline clip-path=\"url(#clip3402)\" style=\"stroke:#0000ff; stroke-width:4; stroke-opacity:1; fill:none\" points=\"\n",
       "  175.024,557.977 416.994,73.5408 658.964,619.928 900.935,548.271 1142.9,456.118 1384.88,757.223 1626.85,251.303 1868.82,675.072 2110.79,401.189 2352.76,654.283 \n",
       "  \n",
       "  \"/>\n",
       "<polyline clip-path=\"url(#clip3402)\" style=\"stroke:#0000ff; stroke-width:4; stroke-opacity:1; fill:none\" points=\"\n",
       "  175.024,873.176 416.994,413.113 658.964,750.761 900.935,575.185 1142.9,670.957 1384.88,456.049 1626.85,451.231 1868.82,619.939 2110.79,515.043 2352.76,355.398 \n",
       "  \n",
       "  \"/>\n",
       "<polyline clip-path=\"url(#clip3402)\" style=\"stroke:#0000ff; stroke-width:4; stroke-opacity:1; fill:none\" points=\"\n",
       "  175.024,464.609 416.994,619.106 658.964,757.392 900.935,495.337 1142.9,567.726 1384.88,915.948 1626.85,580.082 1868.82,636.625 2110.79,442.687 2352.76,764.361 \n",
       "  \n",
       "  \"/>\n",
       "<polyline clip-path=\"url(#clip3402)\" style=\"stroke:#0000ff; stroke-width:4; stroke-opacity:1; fill:none\" points=\"\n",
       "  175.024,693.305 416.994,289.051 658.964,720.709 900.935,655.885 1142.9,675.95 1384.88,649.063 1626.85,375.426 1868.82,564.817 2110.79,615.878 2352.76,563.487 \n",
       "  \n",
       "  \"/>\n",
       "<polyline clip-path=\"url(#clip3402)\" style=\"stroke:#0000ff; stroke-width:4; stroke-opacity:1; fill:none\" points=\"\n",
       "  175.024,539.407 416.994,310.187 658.964,581.711 900.935,415.815 1142.9,397.719 1384.88,574.134 1626.85,223.442 1868.82,507.838 2110.79,410.563 2352.76,471.349 \n",
       "  \n",
       "  \"/>\n",
       "<polyline clip-path=\"url(#clip3402)\" style=\"stroke:#0000ff; stroke-width:4; stroke-opacity:1; fill:none\" points=\"\n",
       "  175.024,716.6 416.994,611.727 658.964,818.302 900.935,818.912 1142.9,733.388 1384.88,977.787 1626.85,738.748 1868.82,670.492 2110.79,579.312 2352.76,878.338 \n",
       "  \n",
       "  \"/>\n",
       "<polyline clip-path=\"url(#clip3402)\" style=\"stroke:#0000ff; stroke-width:4; stroke-opacity:1; fill:none\" points=\"\n",
       "  175.024,492.387 416.994,540.865 658.964,520.895 900.935,711.394 1142.9,529.95 1384.88,738.529 1626.85,482.241 1868.82,688.807 2110.79,490.335 2352.76,733.259 \n",
       "  \n",
       "  \"/>\n",
       "<polyline clip-path=\"url(#clip3402)\" style=\"stroke:#0000ff; stroke-width:4; stroke-opacity:1; fill:none\" points=\"\n",
       "  175.024,545.808 416.994,454.608 658.964,704.285 900.935,441.487 1142.9,542.096 1384.88,486.306 1626.85,510.466 1868.82,388.027 2110.79,348.338 2352.76,490.72 \n",
       "  \n",
       "  \"/>\n",
       "<polyline clip-path=\"url(#clip3402)\" style=\"stroke:#0000ff; stroke-width:4; stroke-opacity:1; fill:none\" points=\"\n",
       "  175.024,598.02 416.994,330.863 658.964,692.182 900.935,397.917 1142.9,587.609 1384.88,622.701 1626.85,530.545 1868.82,646.146 2110.79,437.001 2352.76,524.266 \n",
       "  \n",
       "  \"/>\n",
       "<polyline clip-path=\"url(#clip3402)\" style=\"stroke:#0000ff; stroke-width:4; stroke-opacity:1; fill:none\" points=\"\n",
       "  175.024,515.911 416.994,388.873 658.964,753.219 900.935,399.236 1142.9,449.018 1384.88,680.874 1626.85,492.998 1868.82,492.988 2110.79,405.601 2352.76,765.992 \n",
       "  \n",
       "  \"/>\n",
       "<polyline clip-path=\"url(#clip3402)\" style=\"stroke:#0000ff; stroke-width:4; stroke-opacity:1; fill:none\" points=\"\n",
       "  175.024,580.248 416.994,583.152 658.964,532.245 900.935,413.39 1142.9,390.821 1384.88,669.146 1626.85,467.233 1868.82,689.98 2110.79,307.018 2352.76,627.305 \n",
       "  \n",
       "  \"/>\n",
       "<polyline clip-path=\"url(#clip3402)\" style=\"stroke:#0000ff; stroke-width:4; stroke-opacity:1; fill:none\" points=\"\n",
       "  175.024,544.336 416.994,147.323 658.964,534.042 900.935,508.786 1142.9,475.253 1384.88,683.673 1626.85,402.151 1868.82,585.962 2110.79,340.961 2352.76,514.838 \n",
       "  \n",
       "  \"/>\n",
       "<polyline clip-path=\"url(#clip3402)\" style=\"stroke:#0000ff; stroke-width:4; stroke-opacity:1; fill:none\" points=\"\n",
       "  175.024,679.568 416.994,253.057 658.964,682.869 900.935,693.43 1142.9,556.077 1384.88,559.211 1626.85,360.585 1868.82,530.937 2110.79,567.751 2352.76,474.036 \n",
       "  \n",
       "  \"/>\n",
       "<polyline clip-path=\"url(#clip3402)\" style=\"stroke:#0000ff; stroke-width:4; stroke-opacity:1; fill:none\" points=\"\n",
       "  175.024,493.169 416.994,188.827 658.964,590.133 900.935,343.853 1142.9,354.889 1384.88,582.554 1626.85,272.857 1868.82,563.509 2110.79,335.544 2352.76,623.937 \n",
       "  \n",
       "  \"/>\n",
       "<polyline clip-path=\"url(#clip3402)\" style=\"stroke:#0000ff; stroke-width:4; stroke-opacity:1; fill:none\" points=\"\n",
       "  175.024,597.438 416.994,375.208 658.964,799.679 900.935,651.059 1142.9,558.302 1384.88,720.212 1626.85,659.738 1868.82,381.085 2110.79,403.291 2352.76,854.372 \n",
       "  \n",
       "  \"/>\n",
       "<polyline clip-path=\"url(#clip3402)\" style=\"stroke:#0000ff; stroke-width:4; stroke-opacity:1; fill:none\" points=\"\n",
       "  175.024,534.023 416.994,171.772 658.964,603.432 900.935,508.274 1142.9,392.259 1384.88,698.782 1626.85,350.896 1868.82,543.546 2110.79,454.268 2352.76,740.427 \n",
       "  \n",
       "  \"/>\n",
       "<polyline clip-path=\"url(#clip3402)\" style=\"stroke:#ffa500; stroke-width:4; stroke-opacity:1; fill:none\" points=\"\n",
       "  175.024,464.996 416.994,113.014 658.964,599.633 900.935,441.247 1142.9,343.206 1384.88,669.941 1626.85,302.224 1868.82,494.893 2110.79,316.678 2352.76,712.667 \n",
       "  \n",
       "  \"/>\n",
       "<polyline clip-path=\"url(#clip3402)\" style=\"stroke:#ffa500; stroke-width:4; stroke-opacity:1; fill:none\" points=\"\n",
       "  175.024,764.917 416.994,399.556 658.964,819.252 900.935,536.736 1142.9,677.474 1384.88,609.14 1626.85,282.904 1868.82,678.661 2110.79,650.808 2352.76,366.877 \n",
       "  \n",
       "  \"/>\n",
       "<polyline clip-path=\"url(#clip3402)\" style=\"stroke:#ffa500; stroke-width:4; stroke-opacity:1; fill:none\" points=\"\n",
       "  175.024,899.574 416.994,346.619 658.964,786.936 900.935,781.767 1142.9,795.887 1384.88,452.657 1626.85,429.795 1868.82,527.593 2110.79,736.346 2352.76,477.245 \n",
       "  \n",
       "  \"/>\n",
       "<polyline clip-path=\"url(#clip3402)\" style=\"stroke:#ffa500; stroke-width:4; stroke-opacity:1; fill:none\" points=\"\n",
       "  175.024,821.461 416.994,357.77 658.964,594.892 900.935,572.146 1142.9,558.277 1384.88,327.118 1626.85,447.879 1868.82,519.239 2110.79,486.317 2352.76,483.586 \n",
       "  \n",
       "  \"/>\n",
       "<polyline clip-path=\"url(#clip3402)\" style=\"stroke:#ffa500; stroke-width:4; stroke-opacity:1; fill:none\" points=\"\n",
       "  175.024,532.556 416.994,142.291 658.964,575.221 900.935,509.124 1142.9,460.047 1384.88,600.469 1626.85,179.033 1868.82,661.537 2110.79,538.209 2352.76,498.181 \n",
       "  \n",
       "  \"/>\n",
       "<polyline clip-path=\"url(#clip3402)\" style=\"stroke:#ffa500; stroke-width:4; stroke-opacity:1; fill:none\" points=\"\n",
       "  175.024,650.866 416.994,311.269 658.964,472.175 900.935,591.639 1142.9,531.38 1384.88,809.273 1626.85,439.341 1868.82,923.869 2110.79,475.025 2352.76,530.933 \n",
       "  \n",
       "  \"/>\n",
       "<polyline clip-path=\"url(#clip3402)\" style=\"stroke:#ffa500; stroke-width:4; stroke-opacity:1; fill:none\" points=\"\n",
       "  175.024,668.925 416.994,371.118 658.964,685.101 900.935,630.144 1142.9,528.705 1384.88,376.391 1626.85,607.348 1868.82,480.337 2110.79,399.286 2352.76,534.65 \n",
       "  \n",
       "  \"/>\n",
       "<polyline clip-path=\"url(#clip3402)\" style=\"stroke:#ffa500; stroke-width:4; stroke-opacity:1; fill:none\" points=\"\n",
       "  175.024,626.491 416.994,247.551 658.964,497.883 900.935,573.487 1142.9,568.563 1384.88,849.605 1626.85,491.312 1868.82,821.016 2110.79,519.647 2352.76,539.615 \n",
       "  \n",
       "  \"/>\n",
       "<polyline clip-path=\"url(#clip3402)\" style=\"stroke:#ffa500; stroke-width:4; stroke-opacity:1; fill:none\" points=\"\n",
       "  175.024,609.237 416.994,484.272 658.964,805.533 900.935,541.175 1142.9,573.612 1384.88,759.848 1626.85,563.786 1868.82,318.378 2110.79,587.125 2352.76,887.1 \n",
       "  \n",
       "  \"/>\n",
       "<polyline clip-path=\"url(#clip3402)\" style=\"stroke:#ffa500; stroke-width:4; stroke-opacity:1; fill:none\" points=\"\n",
       "  175.024,520.359 416.994,47.2441 658.964,617.085 900.935,491.248 1142.9,433.26 1384.88,722.376 1626.85,245.803 1868.82,611.817 2110.79,335.567 2352.76,587.291 \n",
       "  \n",
       "  \"/>\n",
       "<polyline clip-path=\"url(#clip3402)\" style=\"stroke:#ffa500; stroke-width:4; stroke-opacity:1; fill:none\" points=\"\n",
       "  175.024,535.199 416.994,333.763 658.964,382.442 900.935,561.366 1142.9,459.948 1384.88,704.207 1626.85,393.811 1868.82,673.892 2110.79,569.972 2352.76,596.287 \n",
       "  \n",
       "  \"/>\n",
       "<polyline clip-path=\"url(#clip3402)\" style=\"stroke:#ffa500; stroke-width:4; stroke-opacity:1; fill:none\" points=\"\n",
       "  175.024,398.145 416.994,454.517 658.964,711.413 900.935,369.789 1142.9,480.661 1384.88,606.228 1626.85,469.78 1868.82,438.269 2110.79,344.863 2352.76,634.113 \n",
       "  \n",
       "  \"/>\n",
       "<polyline clip-path=\"url(#clip3402)\" style=\"stroke:#ffa500; stroke-width:4; stroke-opacity:1; fill:none\" points=\"\n",
       "  175.024,412.671 416.994,602.597 658.964,480.963 900.935,496.435 1142.9,501.297 1384.88,734.795 1626.85,486.292 1868.82,711.929 2110.79,370.854 2352.76,645.749 \n",
       "  \n",
       "  \"/>\n",
       "<polyline clip-path=\"url(#clip3402)\" style=\"stroke:#ffa500; stroke-width:4; stroke-opacity:1; fill:none\" points=\"\n",
       "  175.024,462.316 416.994,329.178 658.964,653.457 900.935,290.65 1142.9,392.551 1384.88,639.315 1626.85,458.378 1868.82,456.782 2110.79,170.119 2352.76,701.677 \n",
       "  \n",
       "  \"/>\n",
       "<polyline clip-path=\"url(#clip3402)\" style=\"stroke:#ffa500; stroke-width:4; stroke-opacity:1; fill:none\" points=\"\n",
       "  175.024,466.337 416.994,452.802 658.964,755.708 900.935,208.523 1142.9,434.395 1384.88,678.038 1626.85,493.515 1868.82,381.88 2110.79,258.5 2352.76,705.111 \n",
       "  \n",
       "  \"/>\n",
       "<polyline clip-path=\"url(#clip3402)\" style=\"stroke:#ffa500; stroke-width:4; stroke-opacity:1; fill:none\" points=\"\n",
       "  175.024,597.043 416.994,172.284 658.964,665.7 900.935,558.263 1142.9,548.763 1384.88,519.332 1626.85,292.425 1868.82,605.484 2110.79,396.813 2352.76,272.637 \n",
       "  \n",
       "  \"/>\n",
       "<polyline clip-path=\"url(#clip3402)\" style=\"stroke:#ffa500; stroke-width:4; stroke-opacity:1; fill:none\" points=\"\n",
       "  175.024,507.775 416.994,405.597 658.964,753.603 900.935,432.55 1142.9,505.472 1384.88,647.429 1626.85,565.902 1868.82,247.264 2110.79,335.869 2352.76,763.13 \n",
       "  \n",
       "  \"/>\n",
       "<polyline clip-path=\"url(#clip3402)\" style=\"stroke:#ffa500; stroke-width:4; stroke-opacity:1; fill:none\" points=\"\n",
       "  175.024,852.849 416.994,259.998 658.964,754.497 900.935,710.661 1142.9,729.873 1384.88,380.173 1626.85,442.805 1868.82,505.19 2110.79,658.217 2352.76,404.278 \n",
       "  \n",
       "  \"/>\n",
       "<polyline clip-path=\"url(#clip3402)\" style=\"stroke:#ffa500; stroke-width:4; stroke-opacity:1; fill:none\" points=\"\n",
       "  175.024,550.821 416.994,306.628 658.964,519.909 900.935,645.665 1142.9,524.178 1384.88,832.583 1626.85,345.971 1868.82,861.916 2110.79,637.196 2352.76,520.822 \n",
       "  \n",
       "  \"/>\n",
       "<polyline clip-path=\"url(#clip3402)\" style=\"stroke:#ffa500; stroke-width:4; stroke-opacity:1; fill:none\" points=\"\n",
       "  175.024,622.763 416.994,484.364 658.964,795.467 900.935,560.618 1142.9,590.017 1384.88,743.946 1626.85,557.147 1868.82,307.763 2110.79,569.789 2352.76,855.947 \n",
       "  \n",
       "  \"/>\n",
       "<polyline clip-path=\"url(#clip3402)\" style=\"stroke:#ffa500; stroke-width:4; stroke-opacity:1; fill:none\" points=\"\n",
       "  175.024,862.326 416.994,270.213 658.964,740.262 900.935,705.487 1142.9,760.062 1384.88,407.235 1626.85,447.798 1868.82,561.013 2110.79,678.724 2352.76,423.848 \n",
       "  \n",
       "  \"/>\n",
       "<polyline clip-path=\"url(#clip3402)\" style=\"stroke:#ffa500; stroke-width:4; stroke-opacity:1; fill:none\" points=\"\n",
       "  175.024,793.885 416.994,147.74 658.964,734.679 900.935,646.918 1142.9,702.1 1384.88,544.371 1626.85,329.532 1868.82,561.26 2110.79,568.002 2352.76,388.955 \n",
       "  \n",
       "  \"/>\n",
       "<polyline clip-path=\"url(#clip3402)\" style=\"stroke:#ffa500; stroke-width:4; stroke-opacity:1; fill:none\" points=\"\n",
       "  175.024,828.008 416.994,343.692 658.964,661.426 900.935,699.493 1142.9,683.848 1384.88,444.989 1626.85,443.828 1868.82,594.258 2110.79,595.339 2352.76,450.194 \n",
       "  \n",
       "  \"/>\n",
       "<polyline clip-path=\"url(#clip3402)\" style=\"stroke:#ffa500; stroke-width:4; stroke-opacity:1; fill:none\" points=\"\n",
       "  175.024,686.662 416.994,410.599 658.964,693.993 900.935,578.386 1142.9,513.83 1384.88,722.722 1626.85,409.944 1868.82,323.024 2110.79,668.668 2352.76,797.787 \n",
       "  \n",
       "  \"/>\n",
       "<polyline clip-path=\"url(#clip3402)\" style=\"stroke:#ffa500; stroke-width:4; stroke-opacity:1; fill:none\" points=\"\n",
       "  175.024,747.351 416.994,328.135 658.964,775.277 900.935,553.664 1142.9,645.011 1384.88,615.522 1626.85,271.22 1868.82,669.381 2110.79,533 2352.76,351.784 \n",
       "  \n",
       "  \"/>\n",
       "<polyline clip-path=\"url(#clip3402)\" style=\"stroke:#ffa500; stroke-width:4; stroke-opacity:1; fill:none\" points=\"\n",
       "  175.024,730.022 416.994,396.827 658.964,648.28 900.935,419.239 1142.9,604.059 1384.88,510.425 1626.85,515.371 1868.82,775.346 2110.79,413.514 2352.76,448.977 \n",
       "  \n",
       "  \"/>\n",
       "<polyline clip-path=\"url(#clip3402)\" style=\"stroke:#ffa500; stroke-width:4; stroke-opacity:1; fill:none\" points=\"\n",
       "  175.024,572.227 416.994,419.665 658.964,749.17 900.935,495.118 1142.9,552.565 1384.88,711.283 1626.85,595.202 1868.82,312.632 2110.79,401.953 2352.76,786.634 \n",
       "  \n",
       "  \"/>\n",
       "<polyline clip-path=\"url(#clip3402)\" style=\"stroke:#ffa500; stroke-width:4; stroke-opacity:1; fill:none\" points=\"\n",
       "  175.024,670.36 416.994,524.411 658.964,688.089 900.935,421.685 1142.9,553.264 1384.88,397.917 1626.85,535.934 1868.82,471.97 2110.79,347.219 2352.76,518.813 \n",
       "  \n",
       "  \"/>\n",
       "<polyline clip-path=\"url(#clip3402)\" style=\"stroke:#ffa500; stroke-width:4; stroke-opacity:1; fill:none\" points=\"\n",
       "  175.024,459.375 416.994,349.256 658.964,593.393 900.935,325.057 1142.9,433.278 1384.88,567.427 1626.85,462.835 1868.82,520.348 2110.79,215.173 2352.76,606.68 \n",
       "  \n",
       "  \"/>\n",
       "<polyline clip-path=\"url(#clip3402)\" style=\"stroke:#ffa500; stroke-width:4; stroke-opacity:1; fill:none\" points=\"\n",
       "  175.024,710.78 416.994,330.628 658.964,743.012 900.935,609.915 1142.9,592.217 1384.88,529.731 1626.85,375.355 1868.82,555.703 2110.79,469.389 2352.76,319.593 \n",
       "  \n",
       "  \"/>\n",
       "<polyline clip-path=\"url(#clip3402)\" style=\"stroke:#ffa500; stroke-width:4; stroke-opacity:1; fill:none\" points=\"\n",
       "  175.024,747.785 416.994,450.737 658.964,576.549 900.935,458.897 1142.9,493.482 1384.88,360.79 1626.85,382.092 1868.82,476.615 2110.79,428.762 2352.76,429.501 \n",
       "  \n",
       "  \"/>\n",
       "<polyline clip-path=\"url(#clip3402)\" style=\"stroke:#ffa500; stroke-width:4; stroke-opacity:1; fill:none\" points=\"\n",
       "  175.024,580.248 416.994,583.152 658.964,532.245 900.935,413.39 1142.9,390.821 1384.88,669.146 1626.85,467.233 1868.82,689.98 2110.79,307.018 2352.76,627.305 \n",
       "  \n",
       "  \"/>\n",
       "<polyline clip-path=\"url(#clip3402)\" style=\"stroke:#ffa500; stroke-width:4; stroke-opacity:1; fill:none\" points=\"\n",
       "  175.024,580.265 416.994,389.132 658.964,419.469 900.935,524.629 1142.9,457.024 1384.88,705.554 1626.85,404.456 1868.82,849.436 2110.79,465.84 2352.76,536.806 \n",
       "  \n",
       "  \"/>\n",
       "<polyline clip-path=\"url(#clip3402)\" style=\"stroke:#ffa500; stroke-width:4; stroke-opacity:1; fill:none\" points=\"\n",
       "  175.024,817.819 416.994,371.982 658.964,532.698 900.935,553.355 1142.9,563.826 1384.88,425.433 1626.85,368.39 1868.82,482.159 2110.79,461.023 2352.76,431.453 \n",
       "  \n",
       "  \"/>\n",
       "<polyline clip-path=\"url(#clip3402)\" style=\"stroke:#ffa500; stroke-width:4; stroke-opacity:1; fill:none\" points=\"\n",
       "  175.024,660.607 416.994,312.691 658.964,725.071 900.935,498.465 1142.9,547.633 1384.88,468.628 1626.85,352.516 1868.82,460.023 2110.79,472.14 2352.76,279.043 \n",
       "  \n",
       "  \"/>\n",
       "<polyline clip-path=\"url(#clip3402)\" style=\"stroke:#ffa500; stroke-width:4; stroke-opacity:1; fill:none\" points=\"\n",
       "  175.024,601.805 416.994,91.6732 658.964,591.92 900.935,545.473 1142.9,468.008 1384.88,750.44 1626.85,287.471 1868.82,613.315 2110.79,431.673 2352.76,645.192 \n",
       "  \n",
       "  \"/>\n",
       "<polyline clip-path=\"url(#clip3402)\" style=\"stroke:#ffa500; stroke-width:4; stroke-opacity:1; fill:none\" points=\"\n",
       "  175.024,514.004 416.994,507.515 658.964,565.929 900.935,439.22 1142.9,402.724 1384.88,674.445 1626.85,457.516 1868.82,523.623 2110.79,339.052 2352.76,675.113 \n",
       "  \n",
       "  \"/>\n",
       "<polyline clip-path=\"url(#clip3402)\" style=\"stroke:#ffa500; stroke-width:4; stroke-opacity:1; fill:none\" points=\"\n",
       "  175.024,738.51 416.994,366.043 658.964,741.745 900.935,652.305 1142.9,597.389 1384.88,581.056 1626.85,434.561 1868.82,288.546 2110.79,719.895 2352.76,724.622 \n",
       "  \n",
       "  \"/>\n",
       "<polyline clip-path=\"url(#clip3402)\" style=\"stroke:#ffa500; stroke-width:4; stroke-opacity:1; fill:none\" points=\"\n",
       "  175.024,552.74 416.994,162.876 658.964,554.03 900.935,526.528 1142.9,476.191 1384.88,526.267 1626.85,195.585 1868.82,554.38 2110.79,540.794 2352.76,433.201 \n",
       "  \n",
       "  \"/>\n",
       "<polyline clip-path=\"url(#clip3402)\" style=\"stroke:#ffa500; stroke-width:4; stroke-opacity:1; fill:none\" points=\"\n",
       "  175.024,501.547 416.994,555.899 658.964,593.306 900.935,481.848 1142.9,358.284 1384.88,681.095 1626.85,446.228 1868.82,479.051 2110.79,344.469 2352.76,736.996 \n",
       "  \n",
       "  \"/>\n",
       "<polyline clip-path=\"url(#clip3402)\" style=\"stroke:#ffa500; stroke-width:4; stroke-opacity:1; fill:none\" points=\"\n",
       "  175.024,549.644 416.994,358.57 658.964,508.772 900.935,395.809 1142.9,367.348 1384.88,477.64 1626.85,310.688 1868.82,402.475 2110.79,448.261 2352.76,554.193 \n",
       "  \n",
       "  \"/>\n",
       "<polyline clip-path=\"url(#clip3402)\" style=\"stroke:#ffa500; stroke-width:4; stroke-opacity:1; fill:none\" points=\"\n",
       "  175.024,443.961 416.994,443.031 658.964,711.286 900.935,316.069 1142.9,447.746 1384.88,673.896 1626.85,482.207 1868.82,486.795 2110.79,277.96 2352.76,713.596 \n",
       "  \n",
       "  \"/>\n",
       "<polyline clip-path=\"url(#clip3402)\" style=\"stroke:#ffa500; stroke-width:4; stroke-opacity:1; fill:none\" points=\"\n",
       "  175.024,646.045 416.994,227.475 658.964,750.963 900.935,540.696 1142.9,565.116 1384.88,785.03 1626.85,400.141 1868.82,494.121 2110.79,591.23 2352.76,711.718 \n",
       "  \n",
       "  \"/>\n",
       "<polyline clip-path=\"url(#clip3402)\" style=\"stroke:#ffa500; stroke-width:4; stroke-opacity:1; fill:none\" points=\"\n",
       "  175.024,650.866 416.994,311.269 658.964,472.175 900.935,591.639 1142.9,531.38 1384.88,809.273 1626.85,439.341 1868.82,923.869 2110.79,475.025 2352.76,530.933 \n",
       "  \n",
       "  \"/>\n",
       "<polyline clip-path=\"url(#clip3402)\" style=\"stroke:#ffa500; stroke-width:4; stroke-opacity:1; fill:none\" points=\"\n",
       "  175.024,597.21 416.994,339.941 658.964,716.294 900.935,565.577 1142.9,513.318 1384.88,617.827 1626.85,358.23 1868.82,339.143 2110.79,617.297 2352.76,692.295 \n",
       "  \n",
       "  \"/>\n",
       "<polyline clip-path=\"url(#clip3402)\" style=\"stroke:#ffa500; stroke-width:4; stroke-opacity:1; fill:none\" points=\"\n",
       "  175.024,505.411 416.994,452.811 658.964,765.161 900.935,286.367 1142.9,498.777 1384.88,704.183 1626.85,541.885 1868.82,452.741 2110.79,249.621 2352.76,734.61 \n",
       "  \n",
       "  \"/>\n",
       "<polyline clip-path=\"url(#clip3402)\" style=\"stroke:#ffa500; stroke-width:4; stroke-opacity:1; fill:none\" points=\"\n",
       "  175.024,583.255 416.994,214.89 658.964,616.281 900.935,629.161 1142.9,515.459 1384.88,584.319 1626.85,244.32 1868.82,512.573 2110.79,546.077 2352.76,469.911 \n",
       "  \n",
       "  \"/>\n",
       "<polyline clip-path=\"url(#clip3402)\" style=\"stroke:#ffa500; stroke-width:4; stroke-opacity:1; fill:none\" points=\"\n",
       "  175.024,862.326 416.994,270.213 658.964,740.262 900.935,705.487 1142.9,760.062 1384.88,407.235 1626.85,447.798 1868.82,561.013 2110.79,678.724 2352.76,423.848 \n",
       "  \n",
       "  \"/>\n",
       "<polyline clip-path=\"url(#clip3402)\" style=\"stroke:#ffa500; stroke-width:4; stroke-opacity:1; fill:none\" points=\"\n",
       "  175.024,677.276 416.994,219.715 658.964,611.802 900.935,733.862 1142.9,462.396 1384.88,434.47 1626.85,406.563 1868.82,387.645 2110.79,477.468 2352.76,652.289 \n",
       "  \n",
       "  \"/>\n",
       "<polyline clip-path=\"url(#clip3402)\" style=\"stroke:#ffa500; stroke-width:4; stroke-opacity:1; fill:none\" points=\"\n",
       "  175.024,703.11 416.994,209.403 658.964,646.108 900.935,672.382 1142.9,656.725 1384.88,563.265 1626.85,327.534 1868.82,495.679 2110.79,577.323 2352.76,547.128 \n",
       "  \n",
       "  \"/>\n",
       "<polyline clip-path=\"url(#clip3402)\" style=\"stroke:#ffa500; stroke-width:4; stroke-opacity:1; fill:none\" points=\"\n",
       "  175.024,450.329 416.994,421.367 658.964,661.831 900.935,238.482 1142.9,445.258 1384.88,582.785 1626.85,470.367 1868.82,444.141 2110.79,307.163 2352.76,681.001 \n",
       "  \n",
       "  \"/>\n",
       "<polyline clip-path=\"url(#clip3402)\" style=\"stroke:#ffa500; stroke-width:4; stroke-opacity:1; fill:none\" points=\"\n",
       "  175.024,621.254 416.994,122.83 658.964,545.989 900.935,685.286 1142.9,495.356 1384.88,467.575 1626.85,322.41 1868.82,382.848 2110.79,516.985 2352.76,606.233 \n",
       "  \n",
       "  \"/>\n",
       "<polyline clip-path=\"url(#clip3402)\" style=\"stroke:#ffa500; stroke-width:4; stroke-opacity:1; fill:none\" points=\"\n",
       "  175.024,420.982 416.994,376.349 658.964,768.958 900.935,247.115 1142.9,438.468 1384.88,609.97 1626.85,499.759 1868.82,415.635 2110.79,266.15 2352.76,640.728 \n",
       "  \n",
       "  \"/>\n",
       "<polyline clip-path=\"url(#clip3402)\" style=\"stroke:#ffa500; stroke-width:4; stroke-opacity:1; fill:none\" points=\"\n",
       "  175.024,645.107 416.994,86.2903 658.964,623.613 900.935,567.401 1142.9,582.386 1384.88,714.434 1626.85,334.942 1868.82,660.632 2110.79,420.044 2352.76,460.896 \n",
       "  \n",
       "  \"/>\n",
       "<polyline clip-path=\"url(#clip3402)\" style=\"stroke:#ffa500; stroke-width:4; stroke-opacity:1; fill:none\" points=\"\n",
       "  175.024,745.782 416.994,343.596 658.964,709.06 900.935,517.208 1142.9,581.595 1384.88,476.404 1626.85,341.051 1868.82,614.481 2110.79,565.904 2352.76,338.902 \n",
       "  \n",
       "  \"/>\n",
       "<polyline clip-path=\"url(#clip3402)\" style=\"stroke:#ffa500; stroke-width:4; stroke-opacity:1; fill:none\" points=\"\n",
       "  175.024,665.197 416.994,104.687 658.964,595.166 900.935,672.744 1142.9,558.887 1384.88,487.828 1626.85,391.143 1868.82,430.358 2110.79,530.083 2352.76,489.408 \n",
       "  \n",
       "  \"/>\n",
       "<polyline clip-path=\"url(#clip3402)\" style=\"stroke:#ffa500; stroke-width:4; stroke-opacity:1; fill:none\" points=\"\n",
       "  175.024,775.707 416.994,412.712 658.964,637.014 900.935,492.173 1142.9,568.862 1384.88,582.323 1626.85,336.186 1868.82,589.135 2110.79,529.846 2352.76,438.413 \n",
       "  \n",
       "  \"/>\n",
       "<polyline clip-path=\"url(#clip3402)\" style=\"stroke:#ffa500; stroke-width:4; stroke-opacity:1; fill:none\" points=\"\n",
       "  175.024,544.792 416.994,363.11 658.964,704.587 900.935,426.484 1142.9,524.035 1384.88,440.854 1626.85,394.482 1868.82,418.077 2110.79,327.149 2352.76,387.934 \n",
       "  \n",
       "  \"/>\n",
       "<polyline clip-path=\"url(#clip3402)\" style=\"stroke:#ffa500; stroke-width:4; stroke-opacity:1; fill:none\" points=\"\n",
       "  175.024,560.86 416.994,309.273 658.964,671.889 900.935,275.972 1142.9,453.061 1384.88,705.039 1626.85,338.781 1868.82,498.171 2110.79,391.922 2352.76,550.99 \n",
       "  \n",
       "  \"/>\n",
       "<polyline clip-path=\"url(#clip3402)\" style=\"stroke:#ffa500; stroke-width:4; stroke-opacity:1; fill:none\" points=\"\n",
       "  175.024,549.193 416.994,189.525 658.964,452.389 900.935,567.492 1142.9,475.145 1384.88,848.132 1626.85,385.561 1868.82,808.391 2110.79,452.594 2352.76,589.334 \n",
       "  \n",
       "  \"/>\n",
       "<polyline clip-path=\"url(#clip3402)\" style=\"stroke:#ffa500; stroke-width:4; stroke-opacity:1; fill:none\" points=\"\n",
       "  175.024,563.954 416.994,126.524 658.964,525.017 900.935,481.046 1142.9,457.916 1384.88,575.087 1626.85,230.223 1868.82,565.815 2110.79,496.556 2352.76,514.32 \n",
       "  \n",
       "  \"/>\n",
       "<polyline clip-path=\"url(#clip3402)\" style=\"stroke:#ffa500; stroke-width:4; stroke-opacity:1; fill:none\" points=\"\n",
       "  175.024,677.038 416.994,157.73 658.964,598.966 900.935,762.742 1142.9,502.8 1384.88,444.203 1626.85,439.922 1868.82,718.807 2110.79,427.09 2352.76,405.775 \n",
       "  \n",
       "  \"/>\n",
       "<polyline clip-path=\"url(#clip3402)\" style=\"stroke:#ffa500; stroke-width:4; stroke-opacity:1; fill:none\" points=\"\n",
       "  175.024,623.564 416.994,429.903 658.964,605.504 900.935,385.429 1142.9,532.578 1384.88,511.374 1626.85,502.819 1868.82,550.165 2110.79,244.26 2352.76,490.489 \n",
       "  \n",
       "  \"/>\n",
       "<polyline clip-path=\"url(#clip3402)\" style=\"stroke:#ffa500; stroke-width:4; stroke-opacity:1; fill:none\" points=\"\n",
       "  175.024,729.99 416.994,474.414 658.964,639.489 900.935,483.169 1142.9,650.931 1384.88,441.785 1626.85,552.008 1868.82,498.563 2110.79,379.955 2352.76,513.98 \n",
       "  \n",
       "  \"/>\n",
       "<polyline clip-path=\"url(#clip3402)\" style=\"stroke:#ffa500; stroke-width:4; stroke-opacity:1; fill:none\" points=\"\n",
       "  175.024,451.88 416.994,601.222 658.964,568.801 900.935,566.536 1142.9,593.654 1384.88,704.212 1626.85,520.411 1868.82,777.186 2110.79,419.378 2352.76,619.004 \n",
       "  \n",
       "  \"/>\n",
       "<polyline clip-path=\"url(#clip3402)\" style=\"stroke:#ffa500; stroke-width:4; stroke-opacity:1; fill:none\" points=\"\n",
       "  175.024,738.51 416.994,366.043 658.964,741.745 900.935,652.305 1142.9,597.389 1384.88,581.056 1626.85,434.561 1868.82,288.546 2110.79,719.895 2352.76,724.622 \n",
       "  \n",
       "  \"/>\n",
       "<polyline clip-path=\"url(#clip3402)\" style=\"stroke:#ffa500; stroke-width:4; stroke-opacity:1; fill:none\" points=\"\n",
       "  175.024,513.194 416.994,400.124 658.964,703.28 900.935,398.803 1142.9,511.931 1384.88,541.909 1626.85,508.934 1868.82,461.219 2110.79,273.616 2352.76,580.931 \n",
       "  \n",
       "  \"/>\n",
       "<polyline clip-path=\"url(#clip3402)\" style=\"stroke:#ffa500; stroke-width:4; stroke-opacity:1; fill:none\" points=\"\n",
       "  175.024,654.015 416.994,420.954 658.964,410.696 900.935,612.866 1142.9,522.899 1384.88,706.347 1626.85,461.829 1868.82,854.54 2110.79,473.833 2352.76,527.676 \n",
       "  \n",
       "  \"/>\n",
       "<polyline clip-path=\"url(#clip3402)\" style=\"stroke:#ffa500; stroke-width:4; stroke-opacity:1; fill:none\" points=\"\n",
       "  175.024,462.316 416.994,329.178 658.964,653.457 900.935,290.65 1142.9,392.551 1384.88,639.315 1626.85,458.378 1868.82,456.782 2110.79,170.119 2352.76,701.677 \n",
       "  \n",
       "  \"/>\n",
       "<polyline clip-path=\"url(#clip3402)\" style=\"stroke:#ffa500; stroke-width:4; stroke-opacity:1; fill:none\" points=\"\n",
       "  175.024,499.869 416.994,330.425 658.964,444.749 900.935,439.629 1142.9,412.566 1384.88,722.943 1626.85,408.204 1868.82,554.772 2110.79,401.021 2352.76,657.793 \n",
       "  \n",
       "  \"/>\n",
       "<polyline clip-path=\"url(#clip3402)\" style=\"stroke:#ffa500; stroke-width:4; stroke-opacity:1; fill:none\" points=\"\n",
       "  175.024,464.809 416.994,394.482 658.964,740.95 900.935,244.317 1142.9,450.358 1384.88,603.187 1626.85,535.928 1868.82,353.879 2110.79,296.633 2352.76,631.637 \n",
       "  \n",
       "  \"/>\n",
       "<polyline clip-path=\"url(#clip3402)\" style=\"stroke:#ffa500; stroke-width:4; stroke-opacity:1; fill:none\" points=\"\n",
       "  175.024,480.222 416.994,441.028 658.964,680.956 900.935,467.86 1142.9,474.621 1384.88,586.088 1626.85,502.413 1868.82,325.738 2110.79,376.295 2352.76,738.5 \n",
       "  \n",
       "  \"/>\n",
       "<polyline clip-path=\"url(#clip3402)\" style=\"stroke:#ffa500; stroke-width:4; stroke-opacity:1; fill:none\" points=\"\n",
       "  175.024,573.252 416.994,337.311 658.964,540.429 900.935,362.981 1142.9,382.288 1384.88,475.699 1626.85,354.606 1868.82,358.832 2110.79,393.118 2352.76,505.255 \n",
       "  \n",
       "  \"/>\n",
       "<polyline clip-path=\"url(#clip3402)\" style=\"stroke:#ffa500; stroke-width:4; stroke-opacity:1; fill:none\" points=\"\n",
       "  175.024,470.668 416.994,357.681 658.964,692.788 900.935,306.299 1142.9,446.219 1384.88,531.5 1626.85,495.387 1868.82,336.344 2110.79,268.749 2352.76,589.475 \n",
       "  \n",
       "  \"/>\n",
       "<polyline clip-path=\"url(#clip3402)\" style=\"stroke:#ffa500; stroke-width:4; stroke-opacity:1; fill:none\" points=\"\n",
       "  175.024,470.268 416.994,330.473 658.964,624.905 900.935,470.372 1142.9,446.632 1384.88,687.922 1626.85,483.639 1868.82,803.921 2110.79,396.832 2352.76,611.079 \n",
       "  \n",
       "  \"/>\n",
       "<polyline clip-path=\"url(#clip3402)\" style=\"stroke:#ffa500; stroke-width:4; stroke-opacity:1; fill:none\" points=\"\n",
       "  175.024,659.65 416.994,195.284 658.964,639.714 900.935,572.417 1142.9,512.353 1384.88,718.364 1626.85,305.082 1868.82,790.549 2110.79,423.62 2352.76,595.882 \n",
       "  \n",
       "  \"/>\n",
       "<polyline clip-path=\"url(#clip3402)\" style=\"stroke:#ffa500; stroke-width:4; stroke-opacity:1; fill:none\" points=\"\n",
       "  175.024,594.029 416.994,107.356 658.964,513.126 900.935,649.34 1142.9,435.834 1384.88,641.277 1626.85,258.615 1868.82,462.083 2110.79,470.877 2352.76,664.772 \n",
       "  \n",
       "  \"/>\n",
       "<polyline clip-path=\"url(#clip3402)\" style=\"stroke:#ffa500; stroke-width:4; stroke-opacity:1; fill:none\" points=\"\n",
       "  175.024,618.433 416.994,137.929 658.964,584.323 900.935,575.285 1142.9,554.318 1384.88,663.597 1626.85,301.461 1868.82,622.299 2110.79,405.165 2352.76,510.881 \n",
       "  \n",
       "  \"/>\n",
       "<polyline clip-path=\"url(#clip3402)\" style=\"stroke:#ffa500; stroke-width:4; stroke-opacity:1; fill:none\" points=\"\n",
       "  175.024,629.978 416.994,167.486 658.964,582.42 900.935,448.079 1142.9,479.691 1384.88,663.054 1626.85,258.104 1868.82,681.931 2110.79,450.539 2352.76,556.461 \n",
       "  \n",
       "  \"/>\n",
       "<polyline clip-path=\"url(#clip3402)\" style=\"stroke:#ffa500; stroke-width:4; stroke-opacity:1; fill:none\" points=\"\n",
       "  175.024,477.101 416.994,575.717 658.964,523.527 900.935,616.081 1142.9,578.855 1384.88,655.785 1626.85,514.776 1868.82,733.473 2110.79,403.962 2352.76,584.261 \n",
       "  \n",
       "  \"/>\n",
       "<polyline clip-path=\"url(#clip3402)\" style=\"stroke:#ffa500; stroke-width:4; stroke-opacity:1; fill:none\" points=\"\n",
       "  175.024,487.992 416.994,390.803 658.964,387.157 900.935,533.379 1142.9,351.234 1384.88,631.277 1626.85,308.526 1868.82,532.972 2110.79,461.241 2352.76,645.339 \n",
       "  \n",
       "  \"/>\n",
       "<polyline clip-path=\"url(#clip3402)\" style=\"stroke:#ffa500; stroke-width:4; stroke-opacity:1; fill:none\" points=\"\n",
       "  175.024,572.756 416.994,90.744 658.964,604.446 900.935,520.684 1142.9,504.52 1384.88,635.403 1626.85,205.874 1868.82,689.255 2110.79,535.752 2352.76,417.043 \n",
       "  \n",
       "  \"/>\n",
       "<polyline clip-path=\"url(#clip3402)\" style=\"stroke:#ffa500; stroke-width:4; stroke-opacity:1; fill:none\" points=\"\n",
       "  175.024,567.391 416.994,208.285 658.964,650.12 900.935,597.761 1142.9,484.816 1384.88,677.315 1626.85,406.415 1868.82,515.579 2110.79,532.111 2352.76,583.835 \n",
       "  \n",
       "  \"/>\n",
       "<polyline clip-path=\"url(#clip3402)\" style=\"stroke:#ffa500; stroke-width:4; stroke-opacity:1; fill:none\" points=\"\n",
       "  175.024,529.142 416.994,433.679 658.964,675.64 900.935,447.344 1142.9,544.057 1384.88,508.128 1626.85,479.715 1868.82,457.616 2110.79,292.613 2352.76,475.411 \n",
       "  \n",
       "  \"/>\n",
       "<polyline clip-path=\"url(#clip3402)\" style=\"stroke:#ffa500; stroke-width:4; stroke-opacity:1; fill:none\" points=\"\n",
       "  175.024,595.82 416.994,363.251 658.964,459.455 900.935,365.62 1142.9,379.883 1384.88,452.999 1626.85,340.08 1868.82,464.548 2110.79,380.774 2352.76,539.038 \n",
       "  \n",
       "  \"/>\n",
       "<polyline clip-path=\"url(#clip3402)\" style=\"stroke:#ffa500; stroke-width:4; stroke-opacity:1; fill:none\" points=\"\n",
       "  175.024,544.148 416.994,242.999 658.964,568.763 900.935,376.042 1142.9,422.901 1384.88,461.866 1626.85,318.022 1868.82,454.913 2110.79,319.013 2352.76,460.964 \n",
       "  \n",
       "  \"/>\n",
       "<polyline clip-path=\"url(#clip3402)\" style=\"stroke:#ffa500; stroke-width:4; stroke-opacity:1; fill:none\" points=\"\n",
       "  175.024,715.229 416.994,109.861 658.964,656.486 900.935,731.99 1142.9,585.747 1384.88,535.771 1626.85,387.689 1868.82,414.268 2110.79,532.455 2352.76,472.466 \n",
       "  \n",
       "  \"/>\n",
       "<polyline clip-path=\"url(#clip3402)\" style=\"stroke:#ffa500; stroke-width:4; stroke-opacity:1; fill:none\" points=\"\n",
       "  175.024,538.335 416.994,255.79 658.964,770.208 900.935,338.976 1142.9,502.143 1384.88,648.912 1626.85,287.579 1868.82,544.347 2110.79,351.866 2352.76,504.938 \n",
       "  \n",
       "  \"/>\n",
       "<polyline clip-path=\"url(#clip3402)\" style=\"stroke:#ffa500; stroke-width:4; stroke-opacity:1; fill:none\" points=\"\n",
       "  175.024,713.512 416.994,314.458 658.964,691.185 900.935,706.373 1142.9,584.827 1384.88,494.226 1626.85,383.178 1868.82,575.366 2110.79,579.468 2352.76,394.153 \n",
       "  \n",
       "  \"/>\n",
       "<polyline clip-path=\"url(#clip3402)\" style=\"stroke:#ffa500; stroke-width:4; stroke-opacity:1; fill:none\" points=\"\n",
       "  175.024,477.101 416.994,575.717 658.964,523.527 900.935,616.081 1142.9,578.855 1384.88,655.785 1626.85,514.776 1868.82,733.473 2110.79,403.962 2352.76,584.261 \n",
       "  \n",
       "  \"/>\n",
       "<polyline clip-path=\"url(#clip3402)\" style=\"stroke:#ffa500; stroke-width:4; stroke-opacity:1; fill:none\" points=\"\n",
       "  175.024,566.075 416.994,425.178 658.964,662.544 900.935,519.662 1142.9,431.899 1384.88,557.919 1626.85,343.972 1868.82,494.935 2110.79,361.355 2352.76,446.984 \n",
       "  \n",
       "  \"/>\n",
       "<polyline clip-path=\"url(#clip3402)\" style=\"stroke:#ffa500; stroke-width:4; stroke-opacity:1; fill:none\" points=\"\n",
       "  175.024,532.499 416.994,239.473 658.964,607.013 900.935,443.866 1142.9,419.677 1384.88,637.413 1626.85,305.615 1868.82,374.337 2110.79,405.396 2352.76,671.646 \n",
       "  \n",
       "  \"/>\n",
       "<polyline clip-path=\"url(#clip3402)\" style=\"stroke:#ffa500; stroke-width:4; stroke-opacity:1; fill:none\" points=\"\n",
       "  175.024,506.616 416.994,318.303 658.964,571.148 900.935,450.985 1142.9,591.916 1384.88,630.713 1626.85,477.13 1868.82,512.977 2110.79,303.733 2352.76,566.077 \n",
       "  \n",
       "  \"/>\n",
       "<polyline clip-path=\"url(#clip3402)\" style=\"stroke:#ffa500; stroke-width:4; stroke-opacity:1; fill:none\" points=\"\n",
       "  175.024,545.826 416.994,400.939 658.964,481.124 900.935,521.265 1142.9,412.453 1384.88,761.981 1626.85,490.847 1868.82,579.643 2110.79,458.807 2352.76,697.314 \n",
       "  \n",
       "  \"/>\n",
       "<polyline clip-path=\"url(#clip3402)\" style=\"stroke:#ffa500; stroke-width:4; stroke-opacity:1; fill:none\" points=\"\n",
       "  175.024,527.519 416.994,140.003 658.964,635.014 900.935,457.324 1142.9,410.286 1384.88,678.118 1626.85,346.723 1868.82,552.777 2110.79,302.299 2352.76,722.185 \n",
       "  \n",
       "  \"/>\n",
       "<polyline clip-path=\"url(#clip3402)\" style=\"stroke:#ffa500; stroke-width:4; stroke-opacity:1; fill:none\" points=\"\n",
       "  175.024,643.918 416.994,132.839 658.964,683.819 900.935,580.274 1142.9,522.111 1384.88,707.395 1626.85,361.202 1868.82,526.736 2110.79,492.982 2352.76,607.092 \n",
       "  \n",
       "  \"/>\n",
       "<polyline clip-path=\"url(#clip3402)\" style=\"stroke:#ffa500; stroke-width:4; stroke-opacity:1; fill:none\" points=\"\n",
       "  175.024,454.888 416.994,333.365 658.964,537.21 900.935,486.762 1142.9,427.371 1384.88,551.62 1626.85,430.956 1868.82,657.737 2110.79,348.599 2352.76,512.468 \n",
       "  \n",
       "  \"/>\n",
       "<polyline clip-path=\"url(#clip3402)\" style=\"stroke:#ffa500; stroke-width:4; stroke-opacity:1; fill:none\" points=\"\n",
       "  175.024,538.702 416.994,286.357 658.964,575.521 900.935,415.379 1142.9,407.54 1384.88,723.656 1626.85,363.751 1868.82,649.243 2110.79,372.853 2352.76,789.419 \n",
       "  \n",
       "  \"/>\n",
       "<polyline clip-path=\"url(#clip3402)\" style=\"stroke:#ffa500; stroke-width:4; stroke-opacity:1; fill:none\" points=\"\n",
       "  175.024,582.353 416.994,227.14 658.964,474.566 900.935,591.421 1142.9,462.766 1384.88,673.735 1626.85,311.912 1868.82,644.053 2110.79,469.841 2352.76,625.896 \n",
       "  \n",
       "  \"/>\n",
       "<polyline clip-path=\"url(#clip3402)\" style=\"stroke:#ffa500; stroke-width:4; stroke-opacity:1; fill:none\" points=\"\n",
       "  175.024,651.766 416.994,293.129 658.964,489.476 900.935,777.568 1142.9,514.496 1384.88,774.585 1626.85,406.581 1868.82,609.578 2110.79,541.321 2352.76,754.16 \n",
       "  \n",
       "  \"/>\n",
       "<polyline clip-path=\"url(#clip3402)\" style=\"stroke:#ffa500; stroke-width:4; stroke-opacity:1; fill:none\" points=\"\n",
       "  175.024,466.337 416.994,452.802 658.964,755.708 900.935,208.523 1142.9,434.395 1384.88,678.038 1626.85,493.515 1868.82,381.88 2110.79,258.5 2352.76,705.111 \n",
       "  \n",
       "  \"/>\n",
       "<polyline clip-path=\"url(#clip3402)\" style=\"stroke:#ffa500; stroke-width:4; stroke-opacity:1; fill:none\" points=\"\n",
       "  175.024,592.941 416.994,111.329 658.964,583.254 900.935,538.087 1142.9,520.664 1384.88,561.201 1626.85,222.427 1868.82,582.098 2110.79,538.338 2352.76,352.064 \n",
       "  \n",
       "  \"/>\n",
       "<polyline clip-path=\"url(#clip3402)\" style=\"stroke:#ffa500; stroke-width:4; stroke-opacity:1; fill:none\" points=\"\n",
       "  175.024,762.021 416.994,325.716 658.964,672.819 900.935,458.217 1142.9,560.202 1384.88,375.971 1626.85,409.738 1868.82,541.441 2110.79,425.26 2352.76,350.534 \n",
       "  \n",
       "  \"/>\n",
       "<polyline clip-path=\"url(#clip3402)\" style=\"stroke:#ffa500; stroke-width:4; stroke-opacity:1; fill:none\" points=\"\n",
       "  175.024,623.171 416.994,238.019 658.964,638.62 900.935,513.1 1142.9,534.094 1384.88,570.624 1626.85,236.461 1868.82,713.195 2110.79,466.305 2352.76,418.748 \n",
       "  \n",
       "  \"/>\n",
       "<polyline clip-path=\"url(#clip3402)\" style=\"stroke:#ffa500; stroke-width:4; stroke-opacity:1; fill:none\" points=\"\n",
       "  175.024,639.503 416.994,344.707 658.964,677.987 900.935,591.95 1142.9,511.931 1384.88,493.469 1626.85,288.143 1868.82,543.454 2110.79,514.671 2352.76,360.106 \n",
       "  \n",
       "  \"/>\n",
       "<polyline clip-path=\"url(#clip3402)\" style=\"stroke:#ffa500; stroke-width:4; stroke-opacity:1; fill:none\" points=\"\n",
       "  175.024,530.622 416.994,242.908 658.964,578.829 900.935,356.599 1142.9,406.496 1384.88,477.768 1626.85,324.661 1868.82,465.529 2110.79,336.349 2352.76,492.117 \n",
       "  \n",
       "  \"/>\n",
       "<polyline clip-path=\"url(#clip3402)\" style=\"stroke:#ffa500; stroke-width:4; stroke-opacity:1; fill:none\" points=\"\n",
       "  175.024,651.766 416.994,293.129 658.964,489.476 900.935,777.568 1142.9,514.496 1384.88,774.585 1626.85,406.581 1868.82,609.578 2110.79,541.321 2352.76,754.16 \n",
       "  \n",
       "  \"/>\n",
       "<polyline clip-path=\"url(#clip3402)\" style=\"stroke:#ffa500; stroke-width:4; stroke-opacity:1; fill:none\" points=\"\n",
       "  175.024,702.445 416.994,181.094 658.964,641.84 900.935,749.025 1142.9,594.712 1384.88,533.249 1626.85,373.14 1868.82,396.937 2110.79,587.705 2352.76,542.805 \n",
       "  \n",
       "  \"/>\n",
       "<polyline clip-path=\"url(#clip3402)\" style=\"stroke:#ffa500; stroke-width:4; stroke-opacity:1; fill:none\" points=\"\n",
       "  175.024,702.445 416.994,181.094 658.964,641.84 900.935,749.025 1142.9,594.712 1384.88,533.249 1626.85,373.14 1868.82,396.937 2110.79,587.705 2352.76,542.805 \n",
       "  \n",
       "  \"/>\n",
       "<polyline clip-path=\"url(#clip3402)\" style=\"stroke:#ffa500; stroke-width:4; stroke-opacity:1; fill:none\" points=\"\n",
       "  175.024,447.089 416.994,347.457 658.964,596.751 900.935,471.266 1142.9,402.86 1384.88,559.841 1626.85,460.443 1868.82,623.726 2110.79,386.308 2352.76,544.288 \n",
       "  \n",
       "  \"/>\n",
       "<polyline clip-path=\"url(#clip3402)\" style=\"stroke:#ffa500; stroke-width:4; stroke-opacity:1; fill:none\" points=\"\n",
       "  175.024,581.957 416.994,143.113 658.964,556.862 900.935,506.509 1142.9,459.168 1384.88,623.984 1626.85,220.371 1868.82,636.291 2110.79,512.183 2352.76,571.093 \n",
       "  \n",
       "  \"/>\n",
       "<polyline clip-path=\"url(#clip3402)\" style=\"stroke:#ffa500; stroke-width:4; stroke-opacity:1; fill:none\" points=\"\n",
       "  175.024,581.957 416.994,143.113 658.964,556.862 900.935,506.509 1142.9,459.168 1384.88,623.984 1626.85,220.371 1868.82,636.291 2110.79,512.183 2352.76,571.093 \n",
       "  \n",
       "  \"/>\n",
       "<polyline clip-path=\"url(#clip3402)\" style=\"stroke:#ffa500; stroke-width:4; stroke-opacity:1; fill:none\" points=\"\n",
       "  175.024,539.162 416.994,334.842 658.964,556.251 900.935,613.748 1142.9,497.671 1384.88,605.998 1626.85,419.104 1868.82,653.295 2110.79,463.124 2352.76,583.364 \n",
       "  \n",
       "  \"/>\n",
       "<polyline clip-path=\"url(#clip3402)\" style=\"stroke:#ffa500; stroke-width:4; stroke-opacity:1; fill:none\" points=\"\n",
       "  175.024,651.546 416.994,141.734 658.964,684.252 900.935,731.858 1142.9,494.731 1384.88,548.958 1626.85,339.476 1868.82,414.986 2110.79,502.007 2352.76,599.735 \n",
       "  \n",
       "  \"/>\n",
       "<polyline clip-path=\"url(#clip3402)\" style=\"stroke:#ffa500; stroke-width:4; stroke-opacity:1; fill:none\" points=\"\n",
       "  175.024,604.571 416.994,309.648 658.964,468.046 900.935,518.736 1142.9,406.63 1384.88,512.778 1626.85,240.026 1868.82,394.719 2110.79,573.994 2352.76,600.39 \n",
       "  \n",
       "  \"/>\n",
       "<polyline clip-path=\"url(#clip3402)\" style=\"stroke:#ffa500; stroke-width:4; stroke-opacity:1; fill:none\" points=\"\n",
       "  175.024,633.638 416.994,352.175 658.964,597.495 900.935,511.673 1142.9,454.991 1384.88,469.954 1626.85,326.848 1868.82,371.623 2110.79,429.406 2352.76,408.193 \n",
       "  \n",
       "  \"/>\n",
       "<polyline clip-path=\"url(#clip3402)\" style=\"stroke:#ffa500; stroke-width:4; stroke-opacity:1; fill:none\" points=\"\n",
       "  175.024,515.911 416.994,323.079 658.964,749.771 900.935,339.91 1142.9,473.444 1384.88,623.124 1626.85,502.625 1868.82,486.095 2110.79,398.631 2352.76,618.521 \n",
       "  \n",
       "  \"/>\n",
       "<polyline clip-path=\"url(#clip3402)\" style=\"stroke:#ffa500; stroke-width:4; stroke-opacity:1; fill:none\" points=\"\n",
       "  175.024,526.512 416.994,178.83 658.964,596.138 900.935,519.472 1142.9,445.863 1384.88,701.672 1626.85,344.914 1868.82,567.856 2110.79,350.522 2352.76,640.43 \n",
       "  \n",
       "  \"/>\n",
       "<polyline clip-path=\"url(#clip3402)\" style=\"stroke:#ffa500; stroke-width:4; stroke-opacity:1; fill:none\" points=\"\n",
       "  175.024,487.992 416.994,390.803 658.964,387.157 900.935,533.379 1142.9,351.234 1384.88,631.277 1626.85,308.526 1868.82,532.972 2110.79,461.241 2352.76,645.339 \n",
       "  \n",
       "  \"/>\n",
       "<polyline clip-path=\"url(#clip3402)\" style=\"stroke:#ffa500; stroke-width:4; stroke-opacity:1; fill:none\" points=\"\n",
       "  175.024,544.121 416.994,367.263 658.964,579.481 900.935,485.628 1142.9,398.434 1384.88,564.864 1626.85,355.211 1868.82,340.999 2110.79,475.173 2352.76,680.341 \n",
       "  \n",
       "  \"/>\n",
       "<polyline clip-path=\"url(#clip3402)\" style=\"stroke:#ffa500; stroke-width:4; stroke-opacity:1; fill:none\" points=\"\n",
       "  175.024,633.765 416.994,400.409 658.964,566.085 900.935,350.462 1142.9,403.426 1384.88,590.01 1626.85,405.271 1868.82,460.415 2110.79,376.463 2352.76,690.8 \n",
       "  \n",
       "  \"/>\n",
       "<polyline clip-path=\"url(#clip3402)\" style=\"stroke:#ffa500; stroke-width:4; stroke-opacity:1; fill:none\" points=\"\n",
       "  175.024,638.925 416.994,283.985 658.964,640.998 900.935,541.605 1142.9,538.03 1384.88,567.825 1626.85,354.803 1868.82,322.736 2110.79,541.092 2352.76,695.137 \n",
       "  \n",
       "  \"/>\n",
       "<polyline clip-path=\"url(#clip3402)\" style=\"stroke:#ffa500; stroke-width:4; stroke-opacity:1; fill:none\" points=\"\n",
       "  175.024,606.475 416.994,319.683 658.964,447.467 900.935,579.331 1142.9,540.234 1384.88,740.468 1626.85,481.023 1868.82,686.141 2110.79,524.689 2352.76,555.774 \n",
       "  \n",
       "  \"/>\n",
       "<polyline clip-path=\"url(#clip3402)\" style=\"stroke:#ffa500; stroke-width:4; stroke-opacity:1; fill:none\" points=\"\n",
       "  175.024,464.996 416.994,113.014 658.964,599.633 900.935,441.247 1142.9,343.206 1384.88,669.941 1626.85,302.224 1868.82,494.893 2110.79,316.678 2352.76,712.667 \n",
       "  \n",
       "  \"/>\n",
       "<polyline clip-path=\"url(#clip3402)\" style=\"stroke:#ffa500; stroke-width:4; stroke-opacity:1; fill:none\" points=\"\n",
       "  175.024,731.545 416.994,468.618 658.964,612.791 900.935,517.887 1142.9,514.875 1384.88,461.223 1626.85,313.404 1868.82,549.655 2110.79,569.406 2352.76,417.869 \n",
       "  \n",
       "  \"/>\n",
       "<polyline clip-path=\"url(#clip3402)\" style=\"stroke:#ffa500; stroke-width:4; stroke-opacity:1; fill:none\" points=\"\n",
       "  175.024,731.545 416.994,468.618 658.964,612.791 900.935,517.887 1142.9,514.875 1384.88,461.223 1626.85,313.404 1868.82,549.655 2110.79,569.406 2352.76,417.869 \n",
       "  \n",
       "  \"/>\n",
       "<polyline clip-path=\"url(#clip3402)\" style=\"stroke:#ffa500; stroke-width:4; stroke-opacity:1; fill:none\" points=\"\n",
       "  175.024,753.622 416.994,285.423 658.964,736.331 900.935,614.847 1142.9,602.431 1384.88,501.397 1626.85,293.453 1868.82,578.253 2110.79,469.028 2352.76,349.244 \n",
       "  \n",
       "  \"/>\n",
       "<polyline clip-path=\"url(#clip3402)\" style=\"stroke:#ffa500; stroke-width:4; stroke-opacity:1; fill:none\" points=\"\n",
       "  175.024,753.622 416.994,285.423 658.964,736.331 900.935,614.847 1142.9,602.431 1384.88,501.397 1626.85,293.453 1868.82,578.253 2110.79,469.028 2352.76,349.244 \n",
       "  \n",
       "  \"/>\n",
       "<polyline clip-path=\"url(#clip3402)\" style=\"stroke:#ffa500; stroke-width:4; stroke-opacity:1; fill:none\" points=\"\n",
       "  175.024,420.982 416.994,376.349 658.964,768.958 900.935,247.115 1142.9,438.468 1384.88,609.97 1626.85,499.759 1868.82,415.635 2110.79,266.15 2352.76,640.728 \n",
       "  \n",
       "  \"/>\n",
       "<polyline clip-path=\"url(#clip3402)\" style=\"stroke:#ffa500; stroke-width:4; stroke-opacity:1; fill:none\" points=\"\n",
       "  175.024,420.982 416.994,376.349 658.964,768.958 900.935,247.115 1142.9,438.468 1384.88,609.97 1626.85,499.759 1868.82,415.635 2110.79,266.15 2352.76,640.728 \n",
       "  \n",
       "  \"/>\n",
       "<polyline clip-path=\"url(#clip3402)\" style=\"stroke:#ffa500; stroke-width:4; stroke-opacity:1; fill:none\" points=\"\n",
       "  175.024,462.316 416.994,329.178 658.964,653.457 900.935,290.65 1142.9,392.551 1384.88,639.315 1626.85,458.378 1868.82,456.782 2110.79,170.119 2352.76,701.677 \n",
       "  \n",
       "  \"/>\n",
       "<polyline clip-path=\"url(#clip3402)\" style=\"stroke:#ffa500; stroke-width:4; stroke-opacity:1; fill:none\" points=\"\n",
       "  175.024,597.043 416.994,172.284 658.964,665.7 900.935,558.263 1142.9,548.763 1384.88,519.332 1626.85,292.425 1868.82,605.484 2110.79,396.813 2352.76,272.637 \n",
       "  \n",
       "  \"/>\n",
       "<polyline clip-path=\"url(#clip3402)\" style=\"stroke:#ffa500; stroke-width:4; stroke-opacity:1; fill:none\" points=\"\n",
       "  175.024,582.294 416.994,363.159 658.964,469.521 900.935,346.177 1142.9,363.479 1384.88,468.902 1626.85,346.72 1868.82,475.163 2110.79,398.109 2352.76,570.191 \n",
       "  \n",
       "  \"/>\n",
       "</svg>\n"
      ]
     },
     "metadata": {},
     "output_type": "display_data"
    }
   ],
   "source": [
    "ymin = Inf\n",
    "ymax = -Inf\n",
    "function plot_pop(P)\n",
    "    global ymin = min(ymin, minimum([minimum(i.y) for i in P]))\n",
    "    global ymax = max(ymax, maximum([maximum(i.y) for i in P]))\n",
    "    plot(xlims=(1, n_objectives), ylims=(ymin, ymax))\n",
    "    ND = filter(indiv -> indiv.rank == 1, P)\n",
    "    dominated = filter(indiv->indiv.rank != 1, P)\n",
    "    for i in dominated\n",
    "        plot!(1:n_objectives, collect(i.y), legend=:none, color=:blue)\n",
    "    end\n",
    "    for i in ND\n",
    "        plot!(1:n_objectives, collect(i.y), legend=:none, color=:orange)\n",
    "    end\n",
    "    sleep(2.0)\n",
    "end\n",
    "\n",
    "non_dominated = nsga_max(popsize, 50, objective, init, fCV=constraint,\n",
    "    fplot=plot_pop, plotevery=10, showprogress=false);"
   ]
  },
  {
   "cell_type": "markdown",
   "metadata": {
    "slideshow": {
     "slide_type": "slide"
    }
   },
   "source": [
    "<div class=\"alert alert-success\">\n",
    "    <b>Exercise 4</b>\n",
    "    <br/>\n",
    "Gradually increase $K$, the number of objectives, and watch the number of non-dominated individuals in the population over evolution. What do you notice as $K$ increases?\n",
    "    <br/>\n",
    "</div>"
   ]
  }
 ],
 "metadata": {
  "celltoolbar": "Slideshow",
  "kernelspec": {
   "display_name": "Julia 1.0.5",
   "language": "julia",
   "name": "julia-1.0"
  },
  "language_info": {
   "file_extension": ".jl",
   "mimetype": "application/julia",
   "name": "julia",
   "version": "1.0.5"
  }
 },
 "nbformat": 4,
 "nbformat_minor": 2
}
